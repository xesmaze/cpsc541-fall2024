{
  "cells": [
    {
      "cell_type": "markdown",
      "metadata": {
        "id": "view-in-github",
        "colab_type": "text"
      },
      "source": [
        "<a href=\"https://colab.research.google.com/github/xesmaze/cpsc541-fall2024/blob/main/lab_1/Lab_1_Exercises.ipynb\" target=\"_parent\"><img src=\"https://colab.research.google.com/assets/colab-badge.svg\" alt=\"Open In Colab\"/></a>"
      ]
    },
    {
      "metadata": {
        "id": "4ff511425ff3757a"
      },
      "cell_type": "markdown",
      "source": [
        "1. Load the abalone dataset. What are the names of the variables in the dataset? What are the datatypes of these variables?\n",
        "\n",
        "2. Make three plots.\n",
        "    * a) A histogram of the number of Rings on each shell.\n",
        "    * b) A scatterplot with Length of the shell on the x-axis and Height of the shell on the y-axis.\n",
        "    * c) A density plot of the Whole Weight of the shell.        \n",
        "\n",
        "3. Perform a linear regression of Height by Length (Height as the dependent variable).\n",
        "    * a) Plot the regression line, with confidence interval, over a scatterplot of Length and Height.\n",
        "    * b) What is the slope, intercept, and R^2 of the regression line?\n",
        "    * c) From the R^2 value, do you think this model is a good fit for the data?\n",
        "\n",
        "4. Get the residuals of the model and plot their distribution with a Q-Q plot.\n",
        "    * a) Does the error appear to be normally distributed?\n",
        "    * b) Run a Shapiro-Wilk test to confirm your assumption. Are the residuals normally distributed?\n",
        "    * c) What does this imply about the fitness of your model?\n",
        "\n",
        "5. You have a standard deck of 52 playing cards and draw from it ten times, replacing the card each time you draw. You draw Hearts six times. Using a binomial distribution, find the following:\n",
        "    * a) What the chances of pulling Hearts six times or more?\n",
        "    * b) What the chances of pulling Hearts exactly six times?\n",
        "    * c) How many Hearts would you expect to pull in ten draws?\n",
        "     "
      ],
      "id": "4ff511425ff3757a"
    }
  ],
  "metadata": {
    "kernelspec": {
      "display_name": "Python 3",
      "language": "python",
      "name": "python3"
    },
    "language_info": {
      "codemirror_mode": {
        "name": "ipython",
        "version": 2
      },
      "file_extension": ".py",
      "mimetype": "text/x-python",
      "name": "python",
      "nbconvert_exporter": "python",
      "pygments_lexer": "ipython2",
      "version": "2.7.6"
    },
    "colab": {
      "provenance": [],
      "include_colab_link": true
    }
  },
  "nbformat": 4,
  "nbformat_minor": 5
}