{
  "cells": [
    {
      "cell_type": "markdown",
      "metadata": {
        "id": "view-in-github",
        "colab_type": "text"
      },
      "source": [
        "<a href=\"https://colab.research.google.com/github/xesmaze/cpsc541-fall2024/blob/main/lab_1/Lab_1_Python.ipynb\" target=\"_parent\"><img src=\"https://colab.research.google.com/assets/colab-badge.svg\" alt=\"Open In Colab\"/></a>"
      ]
    },
    {
      "cell_type": "markdown",
      "id": "cb54f2240690566d",
      "metadata": {
        "id": "cb54f2240690566d"
      },
      "source": [
        "# Lab One (Python version)\n",
        "\n",
        "## Setting Up\n",
        "###Using Google Colab (recommended)\n",
        " Google Colab allows you to execute Python and R code on your web browser.\n",
        " To get your own copy of this lab exercise, simply click on the link \"Open in Colab\" and sign in with your personal Gmail (your school email may not work!). After you see this lab on Colab, go to **File -> Save a copy in Drive** to save it in your personal Google Drive. Alternatively, you can save a copy in your own github repo created for this course.\n",
        "\n",
        " When you execute code on your Python notebook, make sure you execute code in order, or there might be issues.\n",
        "\n",
        "\n",
        "\n",
        "###Testing your code on your local computer\n",
        "#### Downloading Python\n",
        "Go to https://www.python.org/downloads/ and download the latest version of python.\n",
        "Open the installer. If you're on Windows, check the box that says \"Add Python 3.x to PATH\". Step through the installer until the newest version of Python is downloaded.\n",
        "#### Downloading PyCharm\n",
        "Go to https://www.jetbrains.com/pycharm/ and click the teal Download button. Scroll down to where it says \"PyCharm Community Edition\" and download the free version of PyCharm.\n",
        "#### Installing packages\n",
        "For this lab, we will need the `pandas` package. In the terminal window, paste the following:\n",
        "\n",
        "```\n",
        "python3 -m pip install pandas\n",
        "\n",
        "```\n",
        "Alternatively, you can use the Python Packages window, search for the `pandas` package, and install it through there. This process can be followed to download any of the necessary packages for this lab. If you attempt to import a package without having it installed, PyCharm will raise an error, indicated by a exclamation point within a red circle. You can click this to view a dropdown box where you can choose to download the missing package directly."
      ]
    },
    {
      "cell_type": "markdown",
      "id": "294bd75194b42b33",
      "metadata": {
        "id": "294bd75194b42b33"
      },
      "source": [
        "\n",
        "## Simulating Regression Data\n",
        "\n",
        "For linear regression, we can look at a statistical model as being made from two components:\n",
        "1. A functional relationship between two variables.\n",
        "\n",
        "\n",
        "$$ y_i = f(x_i)$$\n",
        "This component is deterministic. That means that there's no randomness, for every $x_i$ we produce only 1 value for $y_i$.\n",
        "\n",
        "2. A probability distribution to describe error. We'll use the normal distribution to start.\n",
        "\n",
        "\n",
        "$$\\epsilon_i \\sim \\mathcal{N}(0,\\sigma^2)$$\n",
        "The component is stochastic. That means it's random.\n",
        "\n",
        "The true statistical model is:\n",
        "$$ y_i \\sim f(x_i) +\\epsilon_i $$\n",
        "or, for simple linear regression\n",
        "$$\\underbrace{y_i}_{DV} \\sim \\underbrace{\\beta_0}_{Intercept} + \\underbrace{\\beta_1}_{slope}\\underbrace{x_i}_{IV}+\\underbrace{\\epsilon_i}_{error}$$\n",
        "\n",
        "where DV is dependent variable, and IV is independent variable.\n",
        "\n",
        "### Create a functional relationship\n",
        "\n",
        "Let's create a data frame of $x$ and $y$ values linked by a functional relationship.\n",
        "We'll say that the slope is 5, and the intercept is 2."
      ]
    },
    {
      "cell_type": "code",
      "id": "adfacef275e27708",
      "metadata": {
        "ExecuteTime": {
          "end_time": "2024-08-26T18:47:35.654068Z",
          "start_time": "2024-08-26T18:47:35.645741Z"
        },
        "id": "adfacef275e27708"
      },
      "source": [
        "# Load the pandas Python package, which we can use for data manipulation.\n",
        "import pandas as pd\n",
        "\n",
        "# Create a DataFrame with 50 rows and 1 column (xvar).\n",
        "# The values of xvar are sequential integers from 1 to 50. They are stored as \"numeric\" (integers in this case).\n",
        "df = pd.DataFrame({'xvar': range(1, 51)})\n",
        "\n",
        "# Check the DataFrame to make sure it is what we think it is."
      ],
      "outputs": [],
      "execution_count": null
    },
    {
      "cell_type": "code",
      "id": "b0a2aa5e0d3cdc59",
      "metadata": {
        "ExecuteTime": {
          "end_time": "2024-08-26T18:47:35.691660Z",
          "start_time": "2024-08-26T18:47:35.671451Z"
        },
        "id": "b0a2aa5e0d3cdc59",
        "colab": {
          "base_uri": "https://localhost:8080/"
        },
        "outputId": "eadefb31-7165-4546-83a0-02c5275aa0ed"
      },
      "source": [
        "# Check the data structure (is it a DataFrame?) and the variable types (integers?)\n",
        "print(df.info())"
      ],
      "outputs": [
        {
          "output_type": "stream",
          "name": "stdout",
          "text": [
            "<class 'pandas.core.frame.DataFrame'>\n",
            "RangeIndex: 50 entries, 0 to 49\n",
            "Data columns (total 1 columns):\n",
            " #   Column  Non-Null Count  Dtype\n",
            "---  ------  --------------  -----\n",
            " 0   xvar    50 non-null     int64\n",
            "dtypes: int64(1)\n",
            "memory usage: 528.0 bytes\n",
            "None\n"
          ]
        }
      ],
      "execution_count": null
    },
    {
      "cell_type": "code",
      "id": "a803fa04ea6399d",
      "metadata": {
        "ExecuteTime": {
          "end_time": "2024-08-26T18:47:36.807184Z",
          "start_time": "2024-08-26T18:47:36.795760Z"
        },
        "id": "a803fa04ea6399d",
        "colab": {
          "base_uri": "https://localhost:8080/"
        },
        "outputId": "b75cb2aa-b3a7-4ed9-f603-242c7321d017"
      },
      "source": [
        "# How do the first rows look?\n",
        "print(df.head())"
      ],
      "outputs": [
        {
          "output_type": "stream",
          "name": "stdout",
          "text": [
            "   xvar\n",
            "0     1\n",
            "1     2\n",
            "2     3\n",
            "3     4\n",
            "4     5\n"
          ]
        }
      ],
      "execution_count": null
    },
    {
      "cell_type": "code",
      "id": "ccaf49ef449f414d",
      "metadata": {
        "ExecuteTime": {
          "end_time": "2024-08-26T18:47:36.921724Z",
          "start_time": "2024-08-26T18:47:36.897138Z"
        },
        "id": "ccaf49ef449f414d",
        "colab": {
          "base_uri": "https://localhost:8080/"
        },
        "outputId": "a01914b6-bebf-42c8-c518-b3234c133d2f"
      },
      "source": [
        "# Great!\n",
        "# Let's modify our data frame to create a new variable.\n",
        "\n",
        "df['yvar'] = 5 + 2 * df['xvar']\n",
        "\n",
        "# Inspect the new DataFrame\n",
        "# Are the variables still both integers?\n",
        "# Is it still a DataFrame?\n",
        "print(df.info())"
      ],
      "outputs": [
        {
          "output_type": "stream",
          "name": "stdout",
          "text": [
            "<class 'pandas.core.frame.DataFrame'>\n",
            "RangeIndex: 50 entries, 0 to 49\n",
            "Data columns (total 2 columns):\n",
            " #   Column  Non-Null Count  Dtype\n",
            "---  ------  --------------  -----\n",
            " 0   xvar    50 non-null     int64\n",
            " 1   yvar    50 non-null     int64\n",
            "dtypes: int64(2)\n",
            "memory usage: 928.0 bytes\n",
            "None\n"
          ]
        }
      ],
      "execution_count": null
    },
    {
      "cell_type": "code",
      "id": "e8cbeeb84bd14e9f",
      "metadata": {
        "ExecuteTime": {
          "end_time": "2024-08-26T18:47:37.123122Z",
          "start_time": "2024-08-26T18:47:37.109687Z"
        },
        "id": "e8cbeeb84bd14e9f",
        "colab": {
          "base_uri": "https://localhost:8080/"
        },
        "outputId": "eca98382-ac4b-46d4-a74b-23720d354196"
      },
      "source": [
        "# Check the head of the DataFrame.\n",
        "print(df.head())"
      ],
      "outputs": [
        {
          "output_type": "stream",
          "name": "stdout",
          "text": [
            "   xvar  yvar\n",
            "0     1     7\n",
            "1     2     9\n",
            "2     3    11\n",
            "3     4    13\n",
            "4     5    15\n"
          ]
        }
      ],
      "execution_count": null
    },
    {
      "cell_type": "markdown",
      "id": "4dcabfc7f271d866",
      "metadata": {
        "id": "4dcabfc7f271d866"
      },
      "source": [
        "### Plot the functional relationship\n"
      ]
    },
    {
      "cell_type": "code",
      "id": "a7a08b2ec0429b05",
      "metadata": {
        "ExecuteTime": {
          "end_time": "2024-08-26T18:47:37.778779Z",
          "start_time": "2024-08-26T18:47:37.279692Z"
        },
        "id": "a7a08b2ec0429b05",
        "colab": {
          "base_uri": "https://localhost:8080/",
          "height": 430
        },
        "outputId": "49d68374-462b-4918-cfd2-cc76c5d53a2a"
      },
      "source": [
        "import matplotlib.pyplot as plt\n",
        "import seaborn as sns\n",
        "\n",
        "plt.scatter(df['xvar'], df['yvar'])\n",
        "plt.show()"
      ],
      "outputs": [
        {
          "output_type": "display_data",
          "data": {
            "text/plain": [
              "<Figure size 640x480 with 1 Axes>"
            ],
            "image/png": "[encoded data removed]"
          },
          "metadata": {}
        }
      ],
      "execution_count": null
    },
    {
      "cell_type": "markdown",
      "id": "ff6c7a92d4eebe81",
      "metadata": {
        "id": "ff6c7a92d4eebe81"
      },
      "source": [
        "### Create the error\n",
        "\n",
        "We need to generate error if we want to mimic a real statistical relationship.\n",
        "We can do that using the random number generators in Python."
      ]
    },
    {
      "cell_type": "code",
      "id": "541bc0cf241d3424",
      "metadata": {
        "ExecuteTime": {
          "end_time": "2024-08-26T18:47:37.816738Z",
          "start_time": "2024-08-26T18:47:37.806430Z"
        },
        "id": "541bc0cf241d3424"
      },
      "source": [
        "import numpy as np\n",
        "\n",
        "np.random.seed(90210)\n",
        "e = pd.DataFrame({'error': np.random.normal(loc=0, scale=10, size=50)})"
      ],
      "outputs": [],
      "execution_count": null
    },
    {
      "cell_type": "markdown",
      "id": "d042a3f8c799fdf0",
      "metadata": {
        "id": "d042a3f8c799fdf0"
      },
      "source": [
        "A quick and dirty way to make histograms is to use the `hist()` function.\n",
        "Let's do that now to confirm that our data are normal-ish.\n",
        "\n",
        "### Plot the error\n",
        "We can visualize the error we have created using a few different kinds of plots."
      ]
    },
    {
      "cell_type": "code",
      "id": "6c9a931ec96e0cd0",
      "metadata": {
        "ExecuteTime": {
          "end_time": "2024-08-26T18:47:38.268768Z",
          "start_time": "2024-08-26T18:47:37.883291Z"
        },
        "id": "6c9a931ec96e0cd0",
        "colab": {
          "base_uri": "https://localhost:8080/",
          "height": 430
        },
        "outputId": "8f8b6fc2-75ec-4747-e28a-d330be65d641"
      },
      "source": [
        "# Histogram\n",
        "\n",
        "plt.hist(e)\n",
        "plt.show()"
      ],
      "outputs": [
        {
          "output_type": "display_data",
          "data": {
            "text/plain": [
              "<Figure size 640x480 with 1 Axes>"
            ],
            "image/png": "[encoded data removed]"
          },
          "metadata": {}
        }
      ],
      "execution_count": null
    },
    {
      "cell_type": "code",
      "id": "b2c25116bb571024",
      "metadata": {
        "ExecuteTime": {
          "end_time": "2024-08-26T18:47:38.815526Z",
          "start_time": "2024-08-26T18:47:38.304178Z"
        },
        "id": "b2c25116bb571024"
      },
      "source": [
        "# Density plot\n",
        "\n",
        "sns.kdeplot(e)\n",
        "plt.show()"
      ],
      "outputs": [],
      "execution_count": null
    },
    {
      "cell_type": "code",
      "id": "4968f028ff7fc13c",
      "metadata": {
        "ExecuteTime": {
          "end_time": "2024-08-26T18:47:39.198711Z",
          "start_time": "2024-08-26T18:47:38.855473Z"
        },
        "id": "4968f028ff7fc13c"
      },
      "source": [
        "# Boxplot\n",
        "\n",
        "plt.boxplot(e)\n",
        "plt.show()"
      ],
      "outputs": [],
      "execution_count": null
    },
    {
      "cell_type": "markdown",
      "id": "fbf69b24f99dfe47",
      "metadata": {
        "id": "fbf69b24f99dfe47"
      },
      "source": [
        "We generated our error from a normal distribution, and, as we'd expect, it appears to be normally distributed. This meets our assumptions for fitting a linear regression model.\n",
        "\n",
        "### Create the statistical relationship\n",
        "\n",
        "OK!\n",
        "Let's combine these components to simulate some regression data."
      ]
    },
    {
      "cell_type": "code",
      "id": "dc208f5c97672741",
      "metadata": {
        "ExecuteTime": {
          "end_time": "2024-08-26T18:47:39.260606Z",
          "start_time": "2024-08-26T18:47:39.241637Z"
        },
        "id": "dc208f5c97672741"
      },
      "source": [
        "np.random.seed(90210)\n",
        "\n",
        "# Create the data frame\n",
        "df = pd.DataFrame({\n",
        "    'xvar': np.arange(1, 51),  # Equivalent to 1:50 in R\n",
        "    'e': np.random.normal(loc=0, scale=10, size=50)  # rnorm(n = 50, mean = 0, sd = 10)\n",
        "})\n",
        "\n",
        "df['yvar'] = 5 + 2*df['xvar'] + df['e']"
      ],
      "outputs": [],
      "execution_count": null
    },
    {
      "cell_type": "markdown",
      "id": "e894e8d2520a589d",
      "metadata": {
        "id": "e894e8d2520a589d"
      },
      "source": [
        "### Plot the statistical relationship"
      ]
    },
    {
      "cell_type": "code",
      "id": "a7361ca8965c0b26",
      "metadata": {
        "ExecuteTime": {
          "end_time": "2024-08-26T18:47:39.949669Z",
          "start_time": "2024-08-26T18:47:39.353385Z"
        },
        "id": "a7361ca8965c0b26"
      },
      "source": [
        "# Create the plot\n",
        "plt.figure(figsize=(10, 6))\n",
        "p2 = sns.regplot(x='xvar', y='yvar', data=df, ci=95, scatter_kws={'s': 25, \"color\":\"black\"}, line_kws={\"color\":\"blue\"})\n",
        "\n",
        "# Add labels and title\n",
        "p2.set_xlabel('xvar')\n",
        "p2.set_ylabel('yvar')\n",
        "p2.set_title('Scatter plot with linear regression line')\n",
        "\n",
        "# Show the plot\n",
        "plt.show()\n"
      ],
      "outputs": [],
      "execution_count": null
    },
    {
      "metadata": {
        "id": "6cd50c4583881b0f"
      },
      "cell_type": "markdown",
      "source": [
        "Looks like regression data!"
      ],
      "id": "6cd50c4583881b0f"
    },
    {
      "cell_type": "markdown",
      "id": "6a06f5c4f7e16426",
      "metadata": {
        "id": "6a06f5c4f7e16426"
      },
      "source": [
        "## Regression with Example Data\n",
        "\n",
        "In the real world, you won't be performing regression from data that you generated yourself.\n",
        "With a regression model we're trying to estimate 3 parameters:\n",
        "\n",
        "1. Intercept\n",
        "1. Slope\n",
        "1. Error variance\n",
        "\n",
        "Essentially, the statistical puzzle we're faced with in the real world is:\n",
        "\n",
        "$$y_i \\sim \\underbrace{?}_{Int} + \\underbrace{?}_{slope}\\cdot x_i + \\epsilon_i$$\n",
        "where\n",
        "$$\\epsilon_i\\sim \\mathcal{N}(0,\\underbrace{?}_{Var})$$"
      ]
    },
    {
      "cell_type": "markdown",
      "source": [
        "### Uploading Files to Google Colab\n",
        "\n",
        "#### Directly from your local machine\n",
        "You can upload data files from your local machine. Simply follow the code below and there will be a button pop up for you to select files. Files uploaded will be stored under this notebook environment. Click on the file icon on the left of your screen to view the environment.\n",
        "\n",
        "####From GitHub link\n",
        "If your file has been uploaded on a public GitHub repository, you can permanent link to the raw data file to upload the data. Go to where the file is on GitHub (for example, https://github.com/xesmaze/cpsc541-fall2024/blob/main/lab_1/Iris.csv) and click the \"Raw\" button to access the raw data file. You can read the data in from the address of this page.\n",
        "\n",
        "### Run the Regression"
      ],
      "metadata": {
        "id": "yVk2BvvGXwUW"
      },
      "id": "yVk2BvvGXwUW"
    },
    {
      "cell_type": "code",
      "id": "4fb422f7b9f9f508",
      "metadata": {
        "ExecuteTime": {
          "end_time": "2024-08-26T18:47:40.029439Z",
          "start_time": "2024-08-26T18:47:40.000202Z"
        },
        "id": "4fb422f7b9f9f508"
      },
      "source": [
        "# Load the pandas Python package, which we can use for data manipulation.\n",
        "import pandas as pd\n",
        "#from google.colab import files\n",
        "#uploaded = files.upload()\n",
        "# pd.read_csv() can be used to read a .csv file from a path.\n",
        "#df2 = pd.read_csv(\"Iris.csv\")\n",
        "\n",
        "Iris_url = 'https://raw.githubusercontent.com/xesmaze/cpsc541-fall2024/main/Iris.csv'\n",
        "df2 = pd.read_csv(Iris_url)\n",
        "\n",
        "\n",
        "# df.head() can be used to glance at the first few rows of the DataFrame, to make sure our data looks as we expect.\n",
        "df2.head()"
      ],
      "outputs": [],
      "execution_count": null
    },
    {
      "cell_type": "code",
      "id": "e4e3f665cd34c04e",
      "metadata": {
        "ExecuteTime": {
          "end_time": "2024-08-26T18:47:40.171919Z",
          "start_time": "2024-08-26T18:47:40.156804Z"
        },
        "id": "e4e3f665cd34c04e"
      },
      "source": [
        "# df.columns.tolist() will give the names of the columns,\n",
        "df2.columns.tolist()"
      ],
      "outputs": [],
      "execution_count": null
    },
    {
      "cell_type": "code",
      "id": "73fd421cfe194a08",
      "metadata": {
        "ExecuteTime": {
          "end_time": "2024-08-26T18:47:40.257351Z",
          "start_time": "2024-08-26T18:47:40.213876Z"
        },
        "id": "73fd421cfe194a08"
      },
      "source": [
        "#df.describe() is a helpful function to return summary statistics of our columns.\n",
        "df2.describe()"
      ],
      "outputs": [],
      "execution_count": null
    },
    {
      "cell_type": "code",
      "id": "9413111e40d8f304",
      "metadata": {
        "ExecuteTime": {
          "end_time": "2024-08-26T18:47:42.478921Z",
          "start_time": "2024-08-26T18:47:40.422754Z"
        },
        "id": "9413111e40d8f304"
      },
      "source": [
        "# Create the plot\n",
        "plt.figure(figsize=(10, 6))\n",
        "p2 = sns.regplot(x='SepalLengthCm', y='PetalLengthCm', data=df2, ci=95, scatter_kws={'s': 25, \"color\":\"black\"}, line_kws={\"color\":\"blue\"})\n",
        "\n",
        "# Add labels and title\n",
        "p2.set_xlabel('SepalLengthCm')\n",
        "p2.set_ylabel('PetalLengthCm')\n",
        "p2.set_title('Scatter plot with linear regression line')\n",
        "\n",
        "# Show the plot\n",
        "plt.show()"
      ],
      "outputs": [],
      "execution_count": null
    },
    {
      "metadata": {
        "ExecuteTime": {
          "end_time": "2024-08-26T18:47:46.148336Z",
          "start_time": "2024-08-26T18:47:42.733105Z"
        },
        "id": "8ad90eaa423a6299"
      },
      "cell_type": "code",
      "source": [
        "import statsmodels.api as sm\n",
        "\n",
        "X = df2['SepalLengthCm']\n",
        "y = df2['PetalLengthCm']\n",
        "\n",
        "# Add a constant (intercept term) to the independent variable\n",
        "X = sm.add_constant(X)\n",
        "\n",
        "# Fit the linear regression model (Ordinary Least Squares)\n",
        "model = sm.OLS(y, X).fit()\n",
        "\n",
        "# Print the summary\n",
        "print(model.summary())\n"
      ],
      "id": "8ad90eaa423a6299",
      "outputs": [],
      "execution_count": null
    },
    {
      "metadata": {
        "id": "24065339a8eaaed4"
      },
      "cell_type": "markdown",
      "source": [
        "From this summary, we can pull our slope, intercept, and R-squared values. Our slope is the coefficient (`coef`) of `SepalLengthCm`, 1.8575; our intercept is the coefficient of `const`, -7.0954; and the R-squared value is 0.760.\n",
        "\n",
        "This summary shows that our slope estimate is significantly different from zero. This is important, this is a major point of simple linear regression. It means that there is a positive relationship between `SepalLengthCm` and `PetalLengthCm`. From our graphs, we suspect that it's a linear relationship.\n",
        "If you see the $R^2$ value, you'll may also be able to recognize that it's a strong relationship. We hope to get to that later in the course.\n",
        "\n",
        "The summary output also shows that the intercept is not significantly different from zero. We often don't care too much about the intercept, it just helps the model fit nicely. There are cases where the intercept will matter, however a lot of the time the value $x=0$ isn't within our inference space.\n",
        "\n",
        "Now, let's check if the errors from the model are normally distributed. One way to do this, as we saw before, is with a box plot."
      ],
      "id": "24065339a8eaaed4"
    },
    {
      "cell_type": "code",
      "id": "1f18c0fe7b53bca6",
      "metadata": {
        "ExecuteTime": {
          "end_time": "2024-08-26T18:47:46.733797Z",
          "start_time": "2024-08-26T18:47:46.425765Z"
        },
        "id": "1f18c0fe7b53bca6"
      },
      "source": [
        "error = model.resid\n",
        "\n",
        "plt.boxplot(error)\n",
        "plt.show()"
      ],
      "outputs": [],
      "execution_count": null
    },
    {
      "metadata": {
        "id": "f98d295f4a367d34"
      },
      "cell_type": "markdown",
      "source": [
        "Another way to do this, however, is with a Q-Q plot. Q-Q, or quantile-quantile plots, are used to assess the normality of a distribution: the closer the data fits to the straight diagonal line, the closer it follows a normal distribution."
      ],
      "id": "f98d295f4a367d34"
    },
    {
      "metadata": {
        "ExecuteTime": {
          "end_time": "2024-08-26T18:47:47.600866Z",
          "start_time": "2024-08-26T18:47:46.802588Z"
        },
        "id": "757762d1d47b437a"
      },
      "cell_type": "code",
      "source": [
        "import matplotlib.pyplot as plt\n",
        "import scipy.stats as stats\n",
        "\n",
        "plt.figure(figsize=(8, 6))\n",
        "stats.probplot(error, dist=\"norm\", plot=plt)\n",
        "\n",
        "plt.xlabel('Theoretical Quantiles')\n",
        "plt.ylabel('Sample Quantiles')\n",
        "plt.title('Q-Q Plot of Residuals')\n",
        "\n",
        "plt.show()\n"
      ],
      "id": "757762d1d47b437a",
      "outputs": [],
      "execution_count": null
    },
    {
      "metadata": {
        "id": "64b5ac46f3ce5c4a"
      },
      "cell_type": "markdown",
      "source": [
        "Well, the residuals certainly look normally distributed, but how can we tell for sure? The answer is to run the Shapiro-Wilk test, which is a statistical test for normality."
      ],
      "id": "64b5ac46f3ce5c4a"
    },
    {
      "metadata": {
        "ExecuteTime": {
          "end_time": "2024-08-26T18:47:47.683696Z",
          "start_time": "2024-08-26T18:47:47.667698Z"
        },
        "id": "8002fffef535c458"
      },
      "cell_type": "code",
      "source": [
        "shapiro_test = stats.shapiro(error)\n",
        "print(f\"Shapiro-Wilk Test Statistic: {shapiro_test.statistic}\")\n",
        "print(f\"p-value: {shapiro_test.pvalue}\")\n",
        "\n",
        "# If the p-value of the test are > 0.05, the residuals appear to be normally distributed."
      ],
      "id": "8002fffef535c458",
      "outputs": [],
      "execution_count": null
    },
    {
      "metadata": {
        "id": "8e2edef00b8d223b"
      },
      "cell_type": "markdown",
      "source": [
        "Because we have a p-value of 0.835, which is higher than our alpha value of 0.05, we can say for sure that our residuals are normally distributed, and regression model meets our assumptions."
      ],
      "id": "8e2edef00b8d223b"
    },
    {
      "cell_type": "markdown",
      "id": "3df103e2f0ca1e1a",
      "metadata": {
        "id": "3df103e2f0ca1e1a"
      },
      "source": [
        "\n",
        "## Distribution Functions in Python\n",
        "\n",
        "The scipy package contains many distributions and functions for working with them. We will go over these in more detail in future lectures."
      ]
    },
    {
      "metadata": {
        "ExecuteTime": {
          "end_time": "2024-08-26T18:47:47.796950Z",
          "start_time": "2024-08-26T18:47:47.781494Z"
        },
        "id": "85943aa511203bd8"
      },
      "cell_type": "code",
      "source": [
        "import scipy.stats as stats\n",
        "\n",
        "# Continuous distributions\n",
        "stats.expon # Exponential distribution\n",
        "stats.lognorm # Log-Normal distribution\n",
        "stats.weibull_min # Weibull distribution\n",
        "stats.gamma # Gamma distribution\n",
        "stats.beta # Beta distribution\n",
        "stats.cauchy # Cauchy distribution\n",
        "stats.triang # Triangular distribution\n",
        "\n",
        "# Discrete distributions\n",
        "stats.binom # Binomial distribution\n",
        "stats.hypergeom # Hyper-geometric distribution\n",
        "stats.geom # Geometric distribution\n",
        "stats.poisson # Poisson distribution\n",
        "stats.bernoulli # Bernoulli distribution\n",
        "stats.norm # Normal distribution"
      ],
      "id": "85943aa511203bd8",
      "outputs": [],
      "execution_count": null
    },
    {
      "metadata": {
        "id": "c33410bf68550121"
      },
      "cell_type": "markdown",
      "source": [
        "We can use these functions to generate probability distributions. For example, let's generate a probability distribution for the number of heads you would get after flipping ten coins."
      ],
      "id": "c33410bf68550121"
    },
    {
      "metadata": {
        "ExecuteTime": {
          "end_time": "2024-08-26T18:47:47.937035Z",
          "start_time": "2024-08-26T18:47:47.919986Z"
        },
        "id": "28b5dac973b1633f"
      },
      "cell_type": "code",
      "source": [
        "coin = stats.binom(n = 10, p= 0.5)   # Binomial Distribution with p=0.5"
      ],
      "id": "28b5dac973b1633f",
      "outputs": [],
      "execution_count": null
    },
    {
      "metadata": {
        "id": "799c2d09e6f41fde"
      },
      "cell_type": "markdown",
      "source": [
        "#### Expected Value (EV)\n",
        "`.expect()`: the expected value, or mean, of the distribution."
      ],
      "id": "799c2d09e6f41fde"
    },
    {
      "metadata": {
        "ExecuteTime": {
          "end_time": "2024-08-26T18:47:48.053162Z",
          "start_time": "2024-08-26T18:47:48.032743Z"
        },
        "id": "3826ddc2726c708c"
      },
      "cell_type": "code",
      "source": [
        "print(coin.expect()) # What is the number of heads you would expect from flipping ten coins?"
      ],
      "id": "3826ddc2726c708c",
      "outputs": [],
      "execution_count": null
    },
    {
      "cell_type": "markdown",
      "id": "2d80579e1687cd06",
      "metadata": {
        "id": "2d80579e1687cd06"
      },
      "source": [
        "#### Cumulative Distribution Function (CDF)\n",
        "`.cdf()`: get the probability of all outcomes less than or equal to a given value x. When creating a density plot for the probability distribution, this is the total area of everything less than or equal to x.\n",
        "\n",
        "\n",
        "This is equivalent to using a *z-score* to find a probability. Be careful with discrete distributions."
      ]
    },
    {
      "cell_type": "code",
      "id": "e311e1c6ea842fdc",
      "metadata": {
        "ExecuteTime": {
          "end_time": "2024-08-26T18:47:48.296266Z",
          "start_time": "2024-08-26T18:47:48.268739Z"
        },
        "id": "e311e1c6ea842fdc"
      },
      "source": [
        "print(coin.cdf(3)) # What percentage of results have 3 or fewer heads?\n",
        "print(1-coin.cdf(5)) # What percentage of results have 6 or more heads?\n",
        "print(coin.cdf(0.2)) # What percentage of results have 0.2 or fewer heads?"
      ],
      "outputs": [],
      "execution_count": null
    },
    {
      "cell_type": "markdown",
      "id": "f2cf219519633976",
      "metadata": {
        "id": "f2cf219519633976"
      },
      "source": [
        "Even though you can receive a value for that last function, it doesn't actually make any sense.\n",
        "\n",
        "#### Probability Point Function (PPF)\n",
        "\n",
        "`.ppf()`: the exact point where the probability of everything to left is equal to y, also known as the percentile function."
      ]
    },
    {
      "cell_type": "code",
      "id": "f8747f232511332",
      "metadata": {
        "ExecuteTime": {
          "end_time": "2024-08-26T18:47:48.430816Z",
          "start_time": "2024-08-26T18:47:48.403816Z"
        },
        "id": "f8747f232511332"
      },
      "source": [
        "print(coin.ppf(0.2)) # What is the 20%-tile of heads?\n",
        "print(coin.ppf(0.5)) # What is the 50%-tile of heads?\n",
        "print(coin.ppf(0.99)) # What is the 99%-tile of heads?"
      ],
      "outputs": [],
      "execution_count": null
    },
    {
      "metadata": {
        "id": "ec9b172d87e1bb8a"
      },
      "cell_type": "markdown",
      "source": [
        "#### Probability Mass Function (PMF)\n",
        "\n",
        "`.pmf()`: the percentage chance of *exactly* x successes occuring."
      ],
      "id": "ec9b172d87e1bb8a"
    },
    {
      "cell_type": "code",
      "id": "ddaedae04306e667",
      "metadata": {
        "ExecuteTime": {
          "end_time": "2024-08-26T18:47:48.593678Z",
          "start_time": "2024-08-26T18:47:48.572039Z"
        },
        "id": "ddaedae04306e667"
      },
      "source": [
        "print(coin.pmf(5))  # What percentage of results have exactly five coins land on heads?\n",
        "print(coin.pmf(1))  # What is the chance that exactly one coin lands on heads?"
      ],
      "outputs": [],
      "execution_count": null
    }
  ],
  "metadata": {
    "kernelspec": {
      "display_name": "Python 3 (ipykernel)",
      "language": "python",
      "name": "python3"
    },
    "language_info": {
      "codemirror_mode": {
        "name": "ipython",
        "version": 3
      },
      "file_extension": ".py",
      "mimetype": "text/x-python",
      "name": "python",
      "nbconvert_exporter": "python",
      "pygments_lexer": "ipython3",
      "version": "3.12.5"
    },
    "colab": {
      "provenance": [],
      "include_colab_link": true
    }
  },
  "nbformat": 4,
  "nbformat_minor": 5
}