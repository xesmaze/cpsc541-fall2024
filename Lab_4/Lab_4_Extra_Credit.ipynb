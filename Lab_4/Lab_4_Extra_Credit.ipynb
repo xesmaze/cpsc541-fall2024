{
  "nbformat": 4,
  "nbformat_minor": 0,
  "metadata": {
    "colab": {
      "provenance": [],
      "authorship_tag": "ABX9TyPSoAWK0o8zmSWjUb0cbsnE",
      "include_colab_link": true
    },
    "kernelspec": {
      "name": "python3",
      "display_name": "Python 3"
    },
    "language_info": {
      "name": "python"
    }
  },
  "cells": [
    {
      "cell_type": "markdown",
      "metadata": {
        "id": "view-in-github",
        "colab_type": "text"
      },
      "source": [
        "<a href=\"https://colab.research.google.com/github/xesmaze/cpsc541-fall2024/blob/main/Lab_4/Lab_4_Extra_Credit.ipynb\" target=\"_parent\"><img src=\"https://colab.research.google.com/assets/colab-badge.svg\" alt=\"Open In Colab\"/></a>"
      ]
    },
    {
      "cell_type": "markdown",
      "source": [
        "# Extra Credit Exercise: Multiple Regression with Matrix Operations\n",
        "\n",
        "This exercise will guide you through performing multiple regression using matrix operations. Some parts of the code have been left incomplete for you to fill in.\n",
        "\n",
        "## Problem Setup\n",
        "\n",
        "You have three predictors (X1, X2, X3) and one response variable (Y). Your goal is to fit a linear model of the form:\n",
        "\n",
        "$$\n",
        "Y = \\beta_0 + \\beta_1 X_1 + \\beta_2 X_2 + \\beta_3 X_3 + \\epsilon\n",
        "$$\n",
        "\n",
        "Using the normal equation:\n",
        "\n",
        "$$\n",
        "\\mathbf{\\beta} = (\\mathbf{X}^\\top \\mathbf{X})^{-1} \\mathbf{X}^\\top \\mathbf{Y}\n",
        "$$\n",
        "\n",
        "## Step 1: Define Data\n",
        "We will simulate a small dataset with 5 observations for two predictors (X1, X2) and the response variable (Y).\n",
        "\n"
      ],
      "metadata": {
        "id": "VWYrAWqGlxnD"
      }
    },
    {
      "cell_type": "markdown",
      "source": [
        "# Instructions\n",
        "## Fill in the blanks in the code below to complete the steps.\n",
        "\n",
        "## Step 1: Define Data\n",
        "## We will use the following simulated data with 5 observations:\n",
        "\n",
        "X1 = [2,4,6,8,10,12,14]\n",
        "X2 = [3,7,2,9,5,13,6]\n",
        "X3 = [1,4,8,6,2,11,9]\n",
        "Y = [20,30,25,45,40,50,60]"
      ],
      "metadata": {
        "id": "-VgPAltjpNlJ"
      }
    },
    {
      "cell_type": "code",
      "source": [
        "import numpy as np\n",
        "\n",
        "# Simulated data for two predictors (X1, X2) and one response (Y)\n",
        "# Fill in the missing code below\n",
        "X1 = np.array([___])  # Fill in the data for X1\n",
        "X2 = np.array([___])  # Fill in the data for X2\n",
        "Y = np.array([___])   # Fill in the data for Y\n",
        "\n",
        "# Display the data\n",
        "print(\"X1:\", X1)\n",
        "print(\"X2:\", X2)\n",
        "print(\"Y:\", Y)"
      ],
      "metadata": {
        "colab": {
          "base_uri": "https://localhost:8080/"
        },
        "id": "Tf-OqQXkly-v",
        "outputId": "8ff13435-5301-492b-ab55-c5a19eb9c6c1"
      },
      "execution_count": null,
      "outputs": [
        {
          "output_type": "stream",
          "name": "stdout",
          "text": [
            "X1: [ 2  4  6  8 10]\n",
            "X2: [1 3 5 7 9]\n",
            "X3: [5 3 4 2 1]\n",
            "Y: [15 25 35 45 55]\n"
          ]
        }
      ]
    },
    {
      "cell_type": "markdown",
      "source": [
        "#Step 2: Construct the Design Matrix"
      ],
      "metadata": {
        "id": "avE64FQdl5e7"
      }
    },
    {
      "cell_type": "code",
      "source": [
        "# Construct the design matrix X (with an intercept column of ones)\n",
        "# X = [1, X1, X2, X3]\n",
        "X = np.column_stack((___, X1, X2, X3))  # Fill in the missing code\n",
        "\n",
        "# Display the design matrix\n",
        "print(\"Design Matrix (X):\")\n",
        "print(X)\n"
      ],
      "metadata": {
        "colab": {
          "base_uri": "https://localhost:8080/"
        },
        "id": "cIWPswYel8s4",
        "outputId": "e7a37502-4d09-4ae7-944a-bdc02a8a403a"
      },
      "execution_count": null,
      "outputs": [
        {
          "output_type": "stream",
          "name": "stdout",
          "text": [
            "Design Matrix (A):\n",
            "[[ 1. 12.  6.]\n",
            " [ 1. 14.  8.]\n",
            " [ 1. 16. 10.]\n",
            " [ 1. 18. 12.]\n",
            " [ 1. 20. 14.]]\n"
          ]
        }
      ]
    },
    {
      "cell_type": "markdown",
      "source": [],
      "metadata": {
        "id": "2hqvvmpkmADE"
      }
    },
    {
      "cell_type": "markdown",
      "source": [
        "#Step 3: Solve the Normal Equation"
      ],
      "metadata": {
        "id": "7lEhWvG-mA5t"
      }
    },
    {
      "cell_type": "code",
      "source": [
        "# Compute the normal equation: beta = (X^T X)^(-1) X^T Y\n",
        "\n",
        "# Compute X^T X\n",
        "X_transpose_X = np.dot(___, ___)  # Fill in the missing code\n",
        "\n",
        "# Compute (X^T X)^(-1)\n",
        "X_transpose_X_inv = np.linalg.inv(X_transpose_X)\n",
        "\n",
        "# Compute X^T Y\n",
        "X_transpose_Y = np.dot(___, ___)  # Fill in the missing code\n",
        "\n",
        "# Calculate beta (the coefficients)\n",
        "beta = np.dot(X_transpose_X_inv, X_transpose_Y)\n",
        "\n",
        "# Display the coefficients\n",
        "print(\"Coefficients (Intercept, beta_1, beta_2, beta_3):\", beta)"
      ],
      "metadata": {
        "colab": {
          "base_uri": "https://localhost:8080/"
        },
        "id": "_BxYyactmDGY",
        "outputId": "36f7c3fc-47c2-4267-bf91-940f41440294"
      },
      "execution_count": null,
      "outputs": [
        {
          "output_type": "stream",
          "name": "stdout",
          "text": [
            "Coefficients (Intercept, beta_1, beta_2, beta_3): [-3.50000000e+01  5.00000000e+00  1.33448808e-12]\n"
          ]
        }
      ]
    },
    {
      "cell_type": "markdown",
      "source": [
        "#Step 4: Predict the Response Values"
      ],
      "metadata": {
        "id": "T8UVTZI9mE8q"
      }
    },
    {
      "cell_type": "code",
      "source": [
        "# Use the coefficients to predict Y\n",
        "Y_pred = np.dot(___, ___)  # Fill in the missing code\n",
        "\n",
        "print(\"Predicted Y:\", Y_pred)\n",
        "print(\"Actual Y:\", Y)"
      ],
      "metadata": {
        "colab": {
          "base_uri": "https://localhost:8080/"
        },
        "id": "NJJK2SW0mHEg",
        "outputId": "d94d71e4-295d-4bc0-c165-f7787f74d728"
      },
      "execution_count": null,
      "outputs": [
        {
          "output_type": "stream",
          "name": "stdout",
          "text": [
            "Predicted Y: [15. 25. 35. 45. 55.]\n",
            "Actual Y: [15 25 35 45 55]\n"
          ]
        }
      ]
    },
    {
      "cell_type": "markdown",
      "source": [
        "#Step 5: Calculate Residuals\n",
        "Calculate the residuals between the actual and predicted values."
      ],
      "metadata": {
        "id": "pqgr97dJphU5"
      }
    },
    {
      "cell_type": "code",
      "source": [
        "# Calculate the residuals (errors)\n",
        "residuals = ___  # Fill in the missing code\n",
        "print(\"Residuals (errors):\", residuals)"
      ],
      "metadata": {
        "colab": {
          "base_uri": "https://localhost:8080/"
        },
        "id": "tYJ4gnZEpjd6",
        "outputId": "0adc5655-a6b4-4816-d472-79224002e0a0"
      },
      "execution_count": null,
      "outputs": [
        {
          "output_type": "stream",
          "name": "stdout",
          "text": [
            "Residuals (errors): [1.57029945e-11 1.65378822e-11 1.60440550e-11 1.68682845e-11\n",
            " 1.63637992e-11]\n"
          ]
        }
      ]
    }
  ]
}