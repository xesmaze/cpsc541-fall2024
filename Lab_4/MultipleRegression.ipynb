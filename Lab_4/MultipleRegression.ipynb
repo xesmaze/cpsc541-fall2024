{
  "nbformat": 4,
  "nbformat_minor": 0,
  "metadata": {
    "colab": {
      "provenance": [],
      "mount_file_id": "1SNWNIid5vUfsXT-hIrajZvXzSNVf2ZtA",
      "authorship_tag": "ABX9TyN3B1zO2gMzr5Wc35RTDPoE",
      "include_colab_link": true
    },
    "kernelspec": {
      "name": "python3",
      "display_name": "Python 3"
    },
    "language_info": {
      "name": "python"
    }
  },
  "cells": [
    {
      "cell_type": "markdown",
      "metadata": {
        "id": "view-in-github",
        "colab_type": "text"
      },
      "source": [
        "<a href=\"https://colab.research.google.com/github/xesmaze/cpsc541-fall2024/blob/main/Lab_4/MultipleRegression.ipynb\" target=\"_parent\"><img src=\"https://colab.research.google.com/assets/colab-badge.svg\" alt=\"Open In Colab\"/></a>"
      ]
    },
    {
      "cell_type": "markdown",
      "source": [
        "# **Matrix Solution for Multiple Regression**\n",
        "This notebook demonstrates how to solve a multiple regression problem using matrix operations in Python. We will manually implement the normal equation to find the coefficients for a regression model with two predictors.\n",
        "\n",
        "## Problem Setup\n",
        "We have two predictors (X1, X2) and one response variable (Y). The goal is to fit a linear model of the form:\n",
        "\n",
        "$$\n",
        "Y = \\beta_0 + \\beta_1 X_1 + \\beta_2 X_2 + \\epsilon\n",
        "$$\n",
        "\n",
        "Using the normal equation:\n",
        "\n",
        "$$\n",
        "\\mathbf{\\beta} = (\\mathbf{X}^\\top \\mathbf{X})^{-1} \\mathbf{X}^\\top \\mathbf{Y}\n",
        "$$\n",
        "\n",
        "## Step 1: Define Data\n",
        "We will simulate a small dataset with 5 observations for two predictors (X1, X2) and the response variable (Y).\n",
        "\n",
        "\n"
      ],
      "metadata": {
        "id": "TuWt1Oll1Z0Y"
      }
    },
    {
      "cell_type": "code",
      "source": [
        "import numpy as np\n",
        "\n",
        "# Simulated data for two predictors (X1, X2) and one response (Y)\n",
        "# We will have 5 observations\n",
        "X1 = np.array([10, 12, 14, 16, 18])\n",
        "X2 = np.array([5, 7, 10, 12, 15])\n",
        "Y = np.array([40, 50, 60, 70, 80])\n",
        "\n",
        "# Display the data\n",
        "print(\"X1:\", X1)\n",
        "print(\"X2:\", X2)\n",
        "print(\"Y:\", Y)"
      ],
      "metadata": {
        "colab": {
          "base_uri": "https://localhost:8080/"
        },
        "id": "zLxujvPM10mf",
        "outputId": "fbf368f9-543f-4d26-c4a9-89aadfe05623"
      },
      "execution_count": 22,
      "outputs": [
        {
          "output_type": "stream",
          "name": "stdout",
          "text": [
            "X1: [10 12 14 16 18]\n",
            "X2: [ 5  7 10 12 15]\n",
            "Y: [40 50 60 70 80]\n"
          ]
        }
      ]
    },
    {
      "cell_type": "markdown",
      "source": [
        "## Step 2: Construct the Design Matrix\n",
        "We add a column of ones to account for the intercept term."
      ],
      "metadata": {
        "id": "Hl2_kjR513bR"
      }
    },
    {
      "cell_type": "code",
      "source": [
        "# Step 1: Construct the design matrix X (with an intercept column of ones)\n",
        "# X = [1  X1  X2]\n",
        "X = np.column_stack((np.ones(len(X1)), X1, X2))\n",
        "\n",
        "# Display the design matrix\n",
        "print(\"Design Matrix (X):\")\n",
        "print(X)\n"
      ],
      "metadata": {
        "colab": {
          "base_uri": "https://localhost:8080/"
        },
        "id": "pX1eIviC2EMO",
        "outputId": "7034ae73-ad1a-4d70-e558-42342abb5db9"
      },
      "execution_count": 21,
      "outputs": [
        {
          "output_type": "stream",
          "name": "stdout",
          "text": [
            "Design Matrix (X):\n",
            "[[ 1. 10.  5.]\n",
            " [ 1. 12.  7.]\n",
            " [ 1. 14. 10.]\n",
            " [ 1. 16. 12.]\n",
            " [ 1. 18. 15.]]\n"
          ]
        }
      ]
    },
    {
      "cell_type": "markdown",
      "source": [
        "## Step 3: Solve the Normal Equation\n",
        "We use the normal equation to solve for the regression coefficients\n",
        "\n",
        "$$\n",
        "\\mathbf{\\beta} = (\\mathbf{X}^\\top \\mathbf{X})^{-1} \\mathbf{X}^\\top \\mathbf{Y}\n",
        "$$"
      ],
      "metadata": {
        "id": "Srq_Evoi2HJq"
      }
    },
    {
      "cell_type": "code",
      "source": [
        "# Step 2: Compute the normal equation: beta = (X^T X)^(-1) X^T Y\n",
        "\n",
        "# X^T X\n",
        "X_transpose_X = np.dot(X.T, X)\n",
        "\n",
        "# (X^T X)^(-1)\n",
        "X_transpose_X_inv = np.linalg.inv(X_transpose_X)\n",
        "\n",
        "# X^T Y\n",
        "X_transpose_Y = np.dot(X.T, Y)\n",
        "\n",
        "# Calculate beta (the coefficients)\n",
        "beta = np.dot(X_transpose_X_inv, X_transpose_Y)\n",
        "\n",
        "# Display the coefficients\n",
        "print(\"Coefficients (Intercept, beta_1, beta_2):\", beta)\n"
      ],
      "metadata": {
        "colab": {
          "base_uri": "https://localhost:8080/"
        },
        "id": "s_Fla2OK2giY",
        "outputId": "1fc63f51-455c-463e-f57c-8c38b7c4b77b"
      },
      "execution_count": 20,
      "outputs": [
        {
          "output_type": "stream",
          "name": "stdout",
          "text": [
            "Coefficients (Intercept, beta_1, beta_2): [-1.00000000e+01  5.00000000e+00  4.24460467e-12]\n"
          ]
        }
      ]
    },
    {
      "cell_type": "markdown",
      "source": [
        "## Step 4: Predict the Response Values\n",
        "Using the calculated coefficients, we predict the response values $\\hat(Y) $\n"
      ],
      "metadata": {
        "id": "Uc1kA3P42nUQ"
      }
    },
    {
      "cell_type": "code",
      "source": [
        "# Step 4: Use the coefficients to predict Y\n",
        "Y_pred = np.dot(X, beta)\n",
        "\n",
        "print(\"Predicted Y:\", Y_pred)\n",
        "print(\"Actual Y:\", Y)\n"
      ],
      "metadata": {
        "colab": {
          "base_uri": "https://localhost:8080/"
        },
        "id": "O9QFMtKw3Oh7",
        "outputId": "522403df-8cd6-4712-d2a3-2cd18201ca46"
      },
      "execution_count": 19,
      "outputs": [
        {
          "output_type": "stream",
          "name": "stdout",
          "text": [
            "Predicted Y: [40. 50. 60. 70. 80.]\n",
            "Actual Y: [40 50 60 70 80]\n"
          ]
        }
      ]
    },
    {
      "cell_type": "markdown",
      "source": [
        "## Step 5: Calculate Residuals\n",
        "The residuals are the differences between the actual and predicted values of 𝑌\n"
      ],
      "metadata": {
        "id": "ENUzNUqH3aV_"
      }
    },
    {
      "cell_type": "code",
      "source": [
        "# Calculate the residuals (errors)\n",
        "residuals = Y - Y_pred\n",
        "print(\"Residuals (errors):\", residuals)\n"
      ],
      "metadata": {
        "colab": {
          "base_uri": "https://localhost:8080/"
        },
        "id": "476UxPdr3jWG",
        "outputId": "dec57324-8a71-4a20-a85b-d02762df6b21"
      },
      "execution_count": 23,
      "outputs": [
        {
          "output_type": "stream",
          "name": "stdout",
          "text": [
            "Residuals (errors): [-1.79056769e-12 -3.07665005e-12 -8.60467253e-12 -9.89075488e-12\n",
            " -1.54045665e-11]\n"
          ]
        }
      ]
    },
    {
      "cell_type": "markdown",
      "source": [
        "All the code in a single code block below:"
      ],
      "metadata": {
        "id": "GRBCeQHM3pbj"
      }
    },
    {
      "cell_type": "code",
      "source": [
        "import numpy as np\n",
        "\n",
        "# Simulated data for two predictors (X1, X2) and one response (Y)\n",
        "# We will have 5 observations\n",
        "X1 = np.array([10, 12, 14, 16, 18])\n",
        "X2 = np.array([5, 7, 10, 12, 15])\n",
        "Y = np.array([40, 50, 60, 70, 80])\n",
        "\n",
        "# Step 1: Construct the design matrix X (with an intercept column of ones)\n",
        "# X = [1  X1  X2]\n",
        "X = np.column_stack((np.ones(len(X1)), X1, X2))\n",
        "\n",
        "# Display the design matrix\n",
        "print(\"Design Matrix (X):\")\n",
        "print(X)\n",
        "\n",
        "# Step 2: Compute the normal equation: beta = (X^T X)^(-1) X^T Y\n",
        "# X^T X\n",
        "X_transpose_X = np.dot(X.T, X)\n",
        "\n",
        "# (X^T X)^(-1)\n",
        "X_transpose_X_inv = np.linalg.inv(X_transpose_X)\n",
        "\n",
        "# X^T Y\n",
        "X_transpose_Y = np.dot(X.T, Y)\n",
        "\n",
        "# Calculate beta (the coefficients)\n",
        "beta = np.dot(X_transpose_X_inv, X_transpose_Y)\n",
        "\n",
        "# Display the coefficients\n",
        "print(\"Coefficients (Intercept, beta_1, beta_2):\", beta)\n",
        "\n",
        "# Step 3: Use the coefficients to predict Y\n",
        "Y_pred = np.dot(X, beta)\n",
        "\n",
        "print(\"Predicted Y:\", Y_pred)\n",
        "print(\"Actual Y:\", Y)\n",
        "\n",
        "# Step 4: Calculate the residuals (errors)\n",
        "residuals = Y - Y_pred\n",
        "print(\"Residuals (errors):\", residuals)\n"
      ],
      "metadata": {
        "colab": {
          "base_uri": "https://localhost:8080/"
        },
        "id": "lLiy0g254GLP",
        "outputId": "c2163b39-f93e-405f-fd67-26433443743d"
      },
      "execution_count": 24,
      "outputs": [
        {
          "output_type": "stream",
          "name": "stdout",
          "text": [
            "Design Matrix (X):\n",
            "[[ 1. 10.  5.]\n",
            " [ 1. 12.  7.]\n",
            " [ 1. 14. 10.]\n",
            " [ 1. 16. 12.]\n",
            " [ 1. 18. 15.]]\n",
            "Coefficients (Intercept, beta_1, beta_2): [-1.00000000e+01  5.00000000e+00  4.24460467e-12]\n",
            "Predicted Y: [40. 50. 60. 70. 80.]\n",
            "Actual Y: [40 50 60 70 80]\n",
            "Residuals (errors): [-1.79056769e-12 -3.07665005e-12 -8.60467253e-12 -9.89075488e-12\n",
            " -1.54045665e-11]\n"
          ]
        }
      ]
    },
    {
      "cell_type": "markdown",
      "source": [
        "### **Lets try a real data set to see if this code works...**\n",
        "And compare results to scikit-learn LinearRegression results"
      ],
      "metadata": {
        "id": "BsjhLYkK4zvN"
      }
    },
    {
      "cell_type": "code",
      "execution_count": 35,
      "metadata": {
        "colab": {
          "base_uri": "https://localhost:8080/",
          "height": 1000
        },
        "id": "B1DFcPYNjw7v",
        "outputId": "467d3527-b57c-4f4a-a847-6c156a1e0c2d"
      },
      "outputs": [
        {
          "output_type": "stream",
          "name": "stdout",
          "text": [
            "Residuals (errors): 0        -41043.299531\n",
            "1        -41253.678804\n",
            "2        -30747.043599\n",
            "3       -107338.274737\n",
            "4        -61667.847208\n",
            "             ...      \n",
            "16995    -33155.182877\n",
            "16996    -71522.458196\n",
            "16997    -68373.999403\n",
            "16998    -41801.497880\n",
            "16999    -77888.964369\n",
            "Name: median_house_value, Length: 17000, dtype: float64\n",
            "Coefficients (Intercept, beta_1, beta_2): [-1.00000000e+01  5.00000000e+00  4.24460467e-12]\n",
            "Predicted Y: [107943.2995309  121353.67880374 116447.04359923 ... 171973.99940287\n",
            " 127601.49787975 172488.96436867]\n",
            "Actual Y: 0         66900.0\n",
            "1         80100.0\n",
            "2         85700.0\n",
            "3         73400.0\n",
            "4         65500.0\n",
            "           ...   \n",
            "16995    111400.0\n",
            "16996     79000.0\n",
            "16997    103600.0\n",
            "16998     85800.0\n",
            "16999     94600.0\n",
            "Name: median_house_value, Length: 17000, dtype: float64\n",
            "R-squared (R^2): 0.4794361807142098\n"
          ]
        },
        {
          "output_type": "execute_result",
          "data": {
            "text/plain": [
              "<matplotlib.collections.PathCollection at 0x7b7f552cb520>"
            ]
          },
          "metadata": {},
          "execution_count": 35
        },
        {
          "output_type": "display_data",
          "data": {
            "text/plain": [
              "<Figure size 1000x700 with 1 Axes>"
            ],
            "image/png": "[encoded data removed]"
          },
          "metadata": {}
        }
      ],
      "source": [
        "import numpy as np\n",
        "import pandas as pd\n",
        "import matplotlib.pyplot as plt\n",
        "from sklearn.linear_model import LinearRegression\n",
        "from mpl_toolkits.mplot3d import Axes3D\n",
        "\n",
        "# Get the adult.csv from GitHub repo\n",
        "# URL to the raw CSV file in the GitHub repo\n",
        "file_path = \"/content/sample_data/california_housing_train.csv\"\n",
        "# Load the CSV file into a DataFrame\n",
        "df = pd.read_csv(file_path)\n",
        "\n",
        "## Lets assess how the data provided help explain median_house_value\n",
        "\n",
        "# Display the first few rows of the DataFrame\n",
        "df.head()\n",
        "\n",
        "# df = pd.DataFrame(data)\n",
        "df.replace('?', np.nan, inplace=True)\n",
        "\n",
        "np.random.seed(42)  # For reproducibility\n",
        "\n",
        "\n",
        "# Independent variables (predictors)\n",
        "X = df[['population', 'median_income']]\n",
        "\n",
        "# Dependent variable (response)\n",
        "y = df['median_house_value']\n",
        "\n",
        "# Step 1. Fit a multiple linear regression model\n",
        "model = LinearRegression()\n",
        "model.fit(X, y)\n",
        "\n",
        "# Step 2. Display the coefficients and intercept\n",
        "intercept = model.intercept_\n",
        "coefficients = model.coef_\n",
        "\n",
        "# Step 3. Predict the response\n",
        "y_pred = model.predict(X)\n",
        "\n",
        "# Step 4: Calculate the residuals (errors)\n",
        "residuals = y - y_pred\n",
        "print(\"Residuals (errors):\", residuals)\n",
        "\n",
        "\n",
        "# Step 6: Calculate Residual Sum of Squares (RSS)\n",
        "RSS = np.sum((y - y_pred)**2)\n",
        "\n",
        "# Step 7: Calculate Total Sum of Squares (TSS)\n",
        "y_mean = np.mean(y)\n",
        "TSS = np.sum((y - y_mean)**2)\n",
        "\n",
        "# Step 8: Calculate R-squared (R^2)\n",
        "R_squared = 1 - (RSS / TSS)\n",
        "\n",
        "# Output the results\n",
        "print(\"Coefficients (Intercept, beta_1, beta_2):\", beta)\n",
        "print(\"Predicted Y:\", y_pred)\n",
        "print(\"Actual Y:\", y)\n",
        "print(\"R-squared (R^2):\", R_squared)\n",
        "\n",
        "# Plot Actual vs Predicted Y\n",
        "fig = plt.figure(figsize=(10, 7))\n",
        "ax = fig.add_subplot(111)\n",
        "\n",
        "# Plot the actual data points\n",
        "ax.scatter(y, y_pred,color='blue', label='Observed vs Predicted Response')\n"
      ]
    },
    {
      "cell_type": "markdown",
      "source": [
        " ### **Now our code**"
      ],
      "metadata": {
        "id": "KuLGjWbB-IHw"
      }
    },
    {
      "cell_type": "code",
      "source": [
        "# Step 1: Construct the design matrix X (with an intercept column of ones)\n",
        "# X = [1  X1  X2]\n",
        "X1 = np.column_stack((np.ones(len(X)), X))\n",
        "y1 = y\n",
        "# Display the design matrix\n",
        "print(\"Design Matrix (X):\")\n",
        "print(X1)\n",
        "\n",
        "# Step 2: Compute the normal equation: beta = (X^T X)^(-1) X^T Y\n",
        "# X^T X\n",
        "X_transpose_X = np.dot(X1.T, X1)\n",
        "\n",
        "# (X^T X)^(-1)\n",
        "X_transpose_X_inv = np.linalg.inv(X_transpose_X)\n",
        "\n",
        "# X^T Y\n",
        "X_transpose_Y = np.dot(X1.T, y)\n",
        "\n",
        "# Calculate beta (the coefficients)\n",
        "beta = np.dot(X_transpose_X_inv, X_transpose_Y)\n",
        "\n",
        "# Display the coefficients\n",
        "print(\"Coefficients (Intercept, beta_1, beta_2):\", beta)\n",
        "\n",
        "# Step 3: Use the coefficients to predict Y\n",
        "y1_pred = np.dot(X1, beta)\n",
        "\n",
        "print(\"Predicted Y:\", y1_pred)\n",
        "print(\"Actual Y:\", y1)\n",
        "\n",
        "# Step 4: Calculate the residuals (errors)\n",
        "residuals = y1 - y1_pred\n",
        "print(\"Residuals (errors):\", residuals)\n",
        "\n",
        "# Step 5: Calculate Residual Sum of Squares (RSS)\n",
        "RSS = np.sum((y1 - y1_pred)**2)\n",
        "\n",
        "# Step 7: Calculate Total Sum of Squares (TSS)\n",
        "y1_mean = np.mean(y1)\n",
        "TSS = np.sum((y1 - y1_mean)**2)\n",
        "\n",
        "# Step 8: Calculate R-squared (R^2)\n",
        "R_squared = 1 - (RSS / TSS)\n",
        "\n",
        "# Output the results\n",
        "print(\"Coefficients (Intercept, beta_1, beta_2):\", beta)\n",
        "print(\"Predicted Y:\", y1_pred)\n",
        "print(\"Actual Y:\", y1)\n",
        "print(\"R-squared (R^2):\", R_squared)"
      ],
      "metadata": {
        "colab": {
          "base_uri": "https://localhost:8080/"
        },
        "id": "q4Cfo6Lj-Jsu",
        "outputId": "5b659268-0c08-4ab7-ee3e-03ceebb6fda9"
      },
      "execution_count": 39,
      "outputs": [
        {
          "output_type": "stream",
          "name": "stdout",
          "text": [
            "Design Matrix (X):\n",
            "[[1.0000e+00 1.0150e+03 1.4936e+00]\n",
            " [1.0000e+00 1.1290e+03 1.8200e+00]\n",
            " [1.0000e+00 3.3300e+02 1.6509e+00]\n",
            " ...\n",
            " [1.0000e+00 1.2440e+03 3.0313e+00]\n",
            " [1.0000e+00 1.2980e+03 1.9797e+00]\n",
            " [1.0000e+00 8.0600e+02 3.0147e+00]]\n",
            "Coefficients (Intercept, beta_1, beta_2): [ 4.79439716e+04 -2.76950907e+00  4.20530126e+04]\n",
            "Predicted Y: [107943.2995309  121353.67880374 116447.04359923 ... 171973.99940287\n",
            " 127601.49787975 172488.96436867]\n",
            "Actual Y: 0         66900.0\n",
            "1         80100.0\n",
            "2         85700.0\n",
            "3         73400.0\n",
            "4         65500.0\n",
            "           ...   \n",
            "16995    111400.0\n",
            "16996     79000.0\n",
            "16997    103600.0\n",
            "16998     85800.0\n",
            "16999     94600.0\n",
            "Name: median_house_value, Length: 17000, dtype: float64\n",
            "Residuals (errors): 0        -41043.299531\n",
            "1        -41253.678804\n",
            "2        -30747.043599\n",
            "3       -107338.274737\n",
            "4        -61667.847208\n",
            "             ...      \n",
            "16995    -33155.182877\n",
            "16996    -71522.458196\n",
            "16997    -68373.999403\n",
            "16998    -41801.497880\n",
            "16999    -77888.964369\n",
            "Name: median_house_value, Length: 17000, dtype: float64\n",
            "Coefficients (Intercept, beta_1, beta_2): [ 4.79439716e+04 -2.76950907e+00  4.20530126e+04]\n",
            "Predicted Y: [107943.2995309  121353.67880374 116447.04359923 ... 171973.99940287\n",
            " 127601.49787975 172488.96436867]\n",
            "Actual Y: 0         66900.0\n",
            "1         80100.0\n",
            "2         85700.0\n",
            "3         73400.0\n",
            "4         65500.0\n",
            "           ...   \n",
            "16995    111400.0\n",
            "16996     79000.0\n",
            "16997    103600.0\n",
            "16998     85800.0\n",
            "16999     94600.0\n",
            "Name: median_house_value, Length: 17000, dtype: float64\n",
            "R-squared (R^2): 0.4794361807142098\n"
          ]
        }
      ]
    },
    {
      "cell_type": "markdown",
      "source": [
        "### **Looks like we get the exact same results...**"
      ],
      "metadata": {
        "id": "s8Etq18S_7LH"
      }
    },
    {
      "cell_type": "markdown",
      "source": [
        "### **Visualizations**"
      ],
      "metadata": {
        "id": "X-LCYmHu5gXM"
      }
    },
    {
      "cell_type": "code",
      "source": [
        "\n",
        "# Prepare the figure and 3D axis\n",
        "fig = plt.figure(figsize=(10, 7))\n",
        "ax = fig.add_subplot(111, projection='3d')\n",
        "\n",
        "# Plot the actual data points\n",
        "ax.scatter(df['educational-num'], df['age'], df['numeric_income'], color='blue', label='Observed data')\n",
        "\n",
        "# Plot the predicted plane from the regression model\n",
        "# Create a meshgrid of the predictors for a smooth plane\n",
        "education_grid, age_grid = np.meshgrid(np.linspace(df['educational-num'].min(), df['educational-num'].max(), 10),\n",
        "                                              np.linspace(df['age'].min(), df['age'].max(), 10))\n",
        "\n",
        "# Calculate the predicted income using the regression model\n",
        "predicted_income_grid = model.intercept_ + model.coef_[0] * education_grid + model.coef_[1] * age_grid\n",
        "\n",
        "# Plot the regression plane\n",
        "ax.plot_surface(education_grid, age_grid, predicted_income_grid, color='orange', alpha=0.5, label='Regression plane')\n",
        "\n",
        "# Add projections from the observed data to the regression plane\n",
        "for i in range(len(df)):\n",
        "    ax.plot([df['educational-num'][i], df['educational-num'][i]],\n",
        "            [df['age'][i], df['age'][i]],\n",
        "            [df['numeric_income'][i], y_pred[i]],\n",
        "            color='red', linestyle='--', label='Projection' if i == 0 else \"\")  # Only add label for the first projection\n",
        "\n",
        "# Labels\n",
        "ax.set_xlabel('Education (years)')\n",
        "ax.set_ylabel('Age (years)')\n",
        "ax.set_zlabel('Income (thousands)')\n",
        "ax.set_title('3D Visualization of Multiple Regression with Projections')\n",
        "\n",
        "# Show the plot\n",
        "plt.show()\n"
      ],
      "metadata": {
        "id": "WdNTRbLo5d4r"
      },
      "execution_count": null,
      "outputs": []
    }
  ]
}
