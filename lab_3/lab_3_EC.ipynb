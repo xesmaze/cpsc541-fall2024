{
  "nbformat": 4,
  "nbformat_minor": 0,
  "metadata": {
    "colab": {
      "provenance": [],
      "authorship_tag": "ABX9TyM5b/VEW77loB85eQLbHtn7",
      "include_colab_link": true
    },
    "kernelspec": {
      "name": "python3",
      "display_name": "Python 3"
    },
    "language_info": {
      "name": "python"
    }
  },
  "cells": [
    {
      "cell_type": "markdown",
      "metadata": {
        "id": "view-in-github",
        "colab_type": "text"
      },
      "source": [
        "<a href=\"https://colab.research.google.com/github/xesmaze/cpsc541-fall2024/blob/main/lab_3/lab_3_EC.ipynb\" target=\"_parent\"><img src=\"https://colab.research.google.com/assets/colab-badge.svg\" alt=\"Open In Colab\"/></a>"
      ]
    },
    {
      "cell_type": "markdown",
      "source": [
        "#Objective#\n",
        "\n",
        "Building upon the photosynthesis lab, where you explored how environmental factors affect photosynthesis rates, this exercise will have you compare the performance of two statistical models—a simple linear regression model and a polynomial regression model—in predicting photosynthesis rates.\n",
        "\n",
        "##introduction\n",
        "\n",
        "In the photosynthesis lab, you generated synthetic datasets to model how environmental factors like light intensity, CO₂ concentration, and temperature affect photosynthesis rates using multiple linear regression. Now, we'll extend that work by investigating whether incorporating non-linear relationships improves our model's predictive capabilities."
      ],
      "metadata": {
        "id": "m2cLj_vDbx_Z"
      }
    },
    {
      "cell_type": "markdown",
      "source": [
        "###Step 1: Generate Synthetic Data\n",
        "We'll generate a dataset similar to what you did in the photosynthesis lab. This synthetic dataset will simulate environmental variables and calculate the photosynthesis rate based on given coefficients."
      ],
      "metadata": {
        "id": "evHio6HFb3aC"
      }
    },
    {
      "cell_type": "code",
      "source": [
        "import numpy as np\n",
        "\n",
        "# Generate synthetic data\n",
        "np.random.seed(50)\n",
        "n_samples = 100\n",
        "\n",
        "# Environmental variables (similar to the lab)\n",
        "light = np.random.uniform(50, 200, n_samples)       # Light intensity (µmol photons m⁻² s⁻¹)\n",
        "CO2 = np.random.uniform(300, 800, n_samples)        # CO₂ concentration (ppm)\n",
        "temperature = np.random.uniform(15, 35, n_samples)  # Temperature (°C)\n",
        "\n",
        "# Coefficients based on the lab's realistic values\n",
        "intercept = 1.0\n",
        "beta_light = 0.01\n",
        "beta_CO2 = 0.03\n",
        "beta_temp = 0.04\n",
        "\n",
        "# Simulate photosynthesis rate with added noise (as in the lab)\n",
        "photosynthesis_rate = (\n",
        "    intercept\n",
        "    + beta_light * light\n",
        "    + beta_CO2 * CO2\n",
        "    + beta_temp * temperature\n",
        "    + np.random.normal(0, 0.5, n_samples)\n",
        ")"
      ],
      "metadata": {
        "id": "N1B8qV0eb55a"
      },
      "execution_count": null,
      "outputs": []
    },
    {
      "cell_type": "markdown",
      "source": [
        "###Step 2: Fit Two Different Models\n",
        "Just like in the lab, we'll fit a simple linear regression model. We'll also fit a polynomial regression model that includes a squared term for temperature to capture any non-linear effects."
      ],
      "metadata": {
        "id": "4ywhJyhNcCjg"
      }
    },
    {
      "cell_type": "code",
      "source": [
        "from sklearn.linear_model import LinearRegression\n",
        "from sklearn.preprocessing import PolynomialFeatures\n",
        "\n",
        "# Prepare the data for modeling\n",
        "X = np.column_stack((light, CO2, temperature))\n",
        "\n",
        "# Simple Linear Regression Model (as in the lab)\n",
        "model_linear = LinearRegression()\n",
        "# Fit the model (fill in the blanks)\n",
        "# model_linear.____(____, ____)\n",
        "\n",
        "\n",
        "# Make predictions\n",
        "# y_pred_linear = model_linear.____(____)\n",
        "\n",
        "\n",
        "# Polynomial Regression Model (including squared terms)\n",
        "poly_features = PolynomialFeatures(degree=2, include_bias=False)\n",
        "# Transform the features (fill in the blanks)\n",
        "# X_poly = poly_features.____(____)\n",
        "\n",
        "\n",
        "# Fit the polynomial regression model\n",
        "model_poly = LinearRegression()\n",
        "# model_poly.____(____, ____)\n",
        "\n",
        "\n",
        "# Make predictions with the polynomial model\n",
        "# y_pred_poly = model_poly.____(____)\n",
        "\n"
      ],
      "metadata": {
        "id": "kYOFpTPTcDfL"
      },
      "execution_count": null,
      "outputs": []
    },
    {
      "cell_type": "markdown",
      "source": [
        "###Step 3: Evaluate the Models\n",
        "We'll evaluate both models using Mean Squared Error (MSE) and R², as we did in the lab."
      ],
      "metadata": {
        "id": "320Q0X1FcWRV"
      }
    },
    {
      "cell_type": "code",
      "source": [
        "from sklearn.metrics import mean_squared_error, r2_score\n",
        "\n",
        "# Evaluate Simple Linear Regression Model\n",
        "# mse_linear = mean_squared_error(____, ____)\n",
        "\n",
        "# r2_linear = r2_score(____, ____)\n",
        "\n",
        "# Evaluate Polynomial Regression Model\n",
        "# mse_poly = mean_squared_error(____, ____)\n",
        "# r2_poly = r2_score(____, ____)\n",
        "\n",
        "\n",
        "print(f\"Linear Model - MSE: {mse_linear:.4f}, R²: {r2_linear:.4f}\")\n",
        "print(f\"Polynomial Model - MSE: {mse_poly:.4f}, R²: {r2_poly:.4f}\")\n"
      ],
      "metadata": {
        "id": "loR1sRGTcWmd"
      },
      "execution_count": null,
      "outputs": []
    },
    {
      "cell_type": "markdown",
      "source": [
        "###Step 4: Discussion Questions\n",
        "1. Why did the polynomial model perform slightly better than the linear model?\n",
        "\n",
        "Your Answer:\n",
        "\n",
        "Hint: Consider how non-linear terms capture additional patterns in the data.\n",
        "\n",
        "2. How does adding non-linear relationships (e.g., temperature squared) improve the model?\n",
        "\n",
        "Your Answer:\n",
        "\n",
        "Hint: Think about modeling curvature and interactions between variables.\n",
        "\n",
        "3. Based on the results, should we prefer the linear or the polynomial model? Why?\n",
        "\n",
        "Your Answer:\n",
        "\n",
        "Hint: Weigh the trade-off between model complexity and performance improvement."
      ],
      "metadata": {
        "id": "G1YMzOs_cl5f"
      }
    }
  ]
}