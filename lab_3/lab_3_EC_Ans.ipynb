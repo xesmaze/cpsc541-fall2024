{
  "nbformat": 4,
  "nbformat_minor": 0,
  "metadata": {
    "colab": {
      "provenance": [],
      "authorship_tag": "ABX9TyMpvjCSmEPE9hNkrbCPELuO",
      "include_colab_link": true
    },
    "kernelspec": {
      "name": "python3",
      "display_name": "Python 3"
    },
    "language_info": {
      "name": "python"
    }
  },
  "cells": [
    {
      "cell_type": "markdown",
      "metadata": {
        "id": "view-in-github",
        "colab_type": "text"
      },
      "source": [
        "<a href=\"https://colab.research.google.com/github/xesmaze/cpsc541-fall2024/blob/main/lab_3/lab_3_EC_Ans.ipynb\" target=\"_parent\"><img src=\"https://colab.research.google.com/assets/colab-badge.svg\" alt=\"Open In Colab\"/></a>"
      ]
    },
    {
      "cell_type": "markdown",
      "source": [
        "#Objective\n",
        "\n",
        "Building upon the photosynthesis lab, where you explored how environmental factors affect photosynthesis rates, this exercise will have you compare the performance of two statistical models—a simple linear regression model and a polynomial regression model—in predicting photosynthesis rates.\n",
        "\n",
        "##introduction\n",
        "\n",
        "In the photosynthesis lab, you generated synthetic datasets to model how environmental factors like light intensity, CO₂ concentration, and temperature affect photosynthesis rates using multiple linear regression. Now, we'll extend that work by investigating whether incorporating non-linear relationships improves our model's predictive capabilities."
      ],
      "metadata": {
        "id": "8vraSy0SY8TS"
      }
    },
    {
      "cell_type": "markdown",
      "source": [
        "###Step 1: Generate Synthetic Data\n",
        "We'll generate a dataset similar to what you did in the photosynthesis lab. This synthetic dataset will simulate environmental variables and calculate the photosynthesis rate based on given coefficients."
      ],
      "metadata": {
        "id": "28bz9h4SZyH1"
      }
    },
    {
      "cell_type": "code",
      "source": [
        "import numpy as np\n",
        "\n",
        "# Generate synthetic data\n",
        "np.random.seed(50)\n",
        "n_samples = 100\n",
        "\n",
        "# Environmental variables (similar to the lab)\n",
        "light = np.random.uniform(50, 200, n_samples)       # Light intensity (µmol photons m⁻² s⁻¹)\n",
        "CO2 = np.random.uniform(300, 800, n_samples)        # CO₂ concentration (ppm)\n",
        "temperature = np.random.uniform(15, 35, n_samples)  # Temperature (°C)\n",
        "\n",
        "# Coefficients based on the lab's realistic values\n",
        "intercept = 1.0\n",
        "beta_light = 0.01\n",
        "beta_CO2 = 0.03\n",
        "beta_temp = 0.04\n",
        "\n",
        "# Simulate photosynthesis rate with added noise\n",
        "photosynthesis_rate = (\n",
        "    intercept\n",
        "    + beta_light * light\n",
        "    + beta_CO2 * CO2\n",
        "    + beta_temp * temperature\n",
        "    + np.random.normal(0, 0.5, n_samples)  # Adding random noise as in the lab\n",
        ")\n"
      ],
      "metadata": {
        "id": "zve5qyDFZ6K5"
      },
      "execution_count": null,
      "outputs": []
    },
    {
      "cell_type": "markdown",
      "source": [
        "###Step 2: Fit Two Different Models\n",
        "Just like in the lab, we'll fit a simple linear regression model. We'll also fit a polynomial regression model that includes a squared term for temperature to capture any non-linear effects."
      ],
      "metadata": {
        "id": "M975OdZeaQ6Q"
      }
    },
    {
      "cell_type": "code",
      "source": [
        "from sklearn.linear_model import LinearRegression\n",
        "from sklearn.preprocessing import PolynomialFeatures\n",
        "\n",
        "# Prepare the data for modeling\n",
        "X = np.column_stack((light, CO2, temperature))\n",
        "\n",
        "# Simple Linear Regression Model (as in the lab)\n",
        "model_linear = LinearRegression()\n",
        "model_linear.fit(X, photosynthesis_rate)\n",
        "y_pred_linear = model_linear.predict(X)\n",
        "\n",
        "# Polynomial Regression Model (including temperature squared)\n",
        "poly_features = PolynomialFeatures(degree=2, include_bias=False)\n",
        "X_poly = poly_features.fit_transform(X)\n",
        "# This will add interaction terms and squared terms for each feature\n",
        "\n",
        "# Fit the polynomial regression model\n",
        "model_poly = LinearRegression()\n",
        "model_poly.fit(X_poly, photosynthesis_rate)\n",
        "y_pred_poly = model_poly.predict(X_poly)\n"
      ],
      "metadata": {
        "id": "MityGDP2aWZc"
      },
      "execution_count": null,
      "outputs": []
    },
    {
      "cell_type": "markdown",
      "source": [
        "###Step 3: Evaluate the Models\n",
        "We'll evaluate both models using Mean Squared Error (MSE) and R², as we did in the lab."
      ],
      "metadata": {
        "id": "ggV3cSVvabh3"
      }
    },
    {
      "cell_type": "code",
      "source": [
        "from sklearn.metrics import mean_squared_error, r2_score\n",
        "\n",
        "# Evaluate Simple Linear Regression Model\n",
        "mse_linear = mean_squared_error(photosynthesis_rate, y_pred_linear)\n",
        "r2_linear = r2_score(photosynthesis_rate, y_pred_linear)\n",
        "\n",
        "# Evaluate Polynomial Regression Model\n",
        "mse_poly = mean_squared_error(photosynthesis_rate, y_pred_poly)\n",
        "r2_poly = r2_score(photosynthesis_rate, y_pred_poly)\n",
        "\n",
        "print(f\"Linear Model - MSE: {mse_linear:.4f}, R²: {r2_linear:.4f}\")\n",
        "print(f\"Polynomial Model - MSE: {mse_poly:.4f}, R²: {r2_poly:.4f}\")\n"
      ],
      "metadata": {
        "colab": {
          "base_uri": "https://localhost:8080/"
        },
        "id": "667PzPOvadD6",
        "outputId": "d1db386e-edf3-4a20-f2ab-cc5eb690c953"
      },
      "execution_count": null,
      "outputs": [
        {
          "output_type": "stream",
          "name": "stdout",
          "text": [
            "Linear Model - MSE: 0.1997, R²: 0.9902\n",
            "Polynomial Model - MSE: 0.1915, R²: 0.9906\n"
          ]
        }
      ]
    },
    {
      "cell_type": "markdown",
      "source": [
        "###Step 4: Discussion Questions\n",
        "1. Why did the polynomial model perform slightly better than the linear model?\n",
        "\n",
        "Answer:\n",
        "\n",
        "The polynomial model includes additional terms that capture non-linear relationships and interactions between variables, such as temperature squared and interaction terms like light × CO₂. This allows the model to fit the data slightly better by accounting for curvature and interactions that the linear model cannot capture. However, since the original data was generated using a linear relationship, the improvement is minimal.\n",
        "\n",
        "2. How does adding non-linear relationships (e.g., temperature squared) improve the model?\n",
        "\n",
        "Answer:\n",
        "\n",
        "Adding non-linear terms allows the model to capture more complex patterns in the data. For example, the effect of temperature on photosynthesis might not be strictly linear; photosynthesis rates could increase with temperature up to an optimal point and then decrease. The squared term for temperature helps model this curvature, providing a better fit if such a non-linear relationship exists.\n",
        "\n",
        "3. Based on the results, should we prefer the linear or the polynomial model? Why?\n",
        "\n",
        "Answer:\n",
        "\n",
        "In this case, the polynomial model shows a marginal improvement in MSE and R² values. However, the improvement is minimal, and the increased complexity of the polynomial model may not justify its use. If model simplicity and interpretability are important, the linear model may be preferred. If capturing potential non-linear relationships is crucial, and the slight performance gain is valuable, the polynomial model could be chosen."
      ],
      "metadata": {
        "id": "O-zZbv7QbcVh"
      }
    }
  ]
}