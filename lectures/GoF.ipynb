{
  "nbformat": 4,
  "nbformat_minor": 0,
  "metadata": {
    "colab": {
      "provenance": [],
      "collapsed_sections": [
        "kxgWJmA_4uWS"
      ],
      "authorship_tag": "ABX9TyPS5mEK9jNqOJDrRkm0M6LA",
      "include_colab_link": true
    },
    "kernelspec": {
      "name": "python3",
      "display_name": "Python 3"
    },
    "language_info": {
      "name": "python"
    }
  },
  "cells": [
    {
      "cell_type": "markdown",
      "metadata": {
        "id": "view-in-github",
        "colab_type": "text"
      },
      "source": [
        "<a href=\"https://colab.research.google.com/github/xesmaze/cpsc541-fall2024/blob/main/lectures/GoF.ipynb\" target=\"_parent\"><img src=\"https://colab.research.google.com/assets/colab-badge.svg\" alt=\"Open In Colab\"/></a>"
      ]
    },
    {
      "cell_type": "markdown",
      "source": [
        "# Analytical Metrics for Goodness of Fit (GoF)for Regression Models\n",
        "This section provides an overview of common Analytical Goodness of Fit (GoF) metrics for evaluating regression models.\n",
        "\n",
        "Goodness of Fit (GoF) metrics help quantify how well a model captures the underlying data patterns. While some metrics, such as R-squared and RMSE, focus on fit accuracy, others like AIC and BIC account for model complexity. By combining multiple GoF metrics, we can make more informed decisions about model performance and select models that generalize better to unseen data."
      ],
      "metadata": {
        "id": "kxgWJmA_4uWS"
      }
    },
    {
      "cell_type": "markdown",
      "source": [
        "## 1. R-squared (Coefficient of Determination)\n",
        "\n",
        "- **Definition**: R-squared measures the proportion of variance in the dependent variable explained by the independent variables.\n",
        "  \n",
        "  $$\n",
        "  R^2 = 1 - \\frac{\\text{SS}_{\\text{res}}}{\\text{SS}_{\\text{tot}}}\n",
        "  $$\n",
        "  \n",
        "  Where:\n",
        "  - $( \\text{SS}_{\\text{res}} )$: Residual sum of squares\n",
        "  - $( \\text{SS}_{\\text{tot}} )$: Total sum of squares\n",
        "\n",
        "- **Interpretation**:\n",
        "  - Ranges from 0 to 1. Higher values indicate a better fit.\n",
        "  - $ R^2 = 1 $: Perfect fit\n",
        "  - $ R^2 = 0 $: No fit (model explains none of the variance)"
      ],
      "metadata": {
        "id": "Vd2Z2ukV5Rze"
      }
    },
    {
      "cell_type": "markdown",
      "source": [
        "## 2. Adjusted R-squared\n",
        "\n",
        "- **Definition**: Adjusted R-squared modifies R-squared by accounting for the number of predictors in the model.\n",
        "  \n",
        "  $$\n",
        "  \\text{Adjusted } R^2 = 1 - \\left( \\frac{1 - R^2}{n - p - 1} \\right) (n - 1)\n",
        " $$\n",
        "\n",
        "  Where:\n",
        "  - $ n $: Number of observations\n",
        "  - $ p $: Number of predictors\n",
        "\n",
        "- **Interpretation**:\n",
        "  - Adjusted R-squared penalizes for adding non-informative variables.\n",
        "  - Useful for comparing models with different numbers of predictors.\n"
      ],
      "metadata": {
        "id": "pq7_d8PL5y_q"
      }
    },
    {
      "cell_type": "markdown",
      "source": [
        "## 3. Akaike Information Criterion (AIC)\n",
        "\n",
        "- **Definition**: AIC is a relative measure of model quality, balancing fit and complexity.\n",
        "  \n",
        "  $$\n",
        "  \\text{AIC} = 2k - 2\\ln(L)\n",
        "  $$\n",
        "  \n",
        "  Where:\n",
        "  - $ k $: Number of model parameters\n",
        "  - $ L $: Likelihood of the model\n",
        "\n",
        "- **Interpretation**:\n",
        "  - Lower AIC values indicate a better model.\n",
        "  - Use AIC for model comparison (lower AIC is better).\n",
        "  "
      ],
      "metadata": {
        "id": "93CD-WaX6Ev5"
      }
    },
    {
      "cell_type": "markdown",
      "source": [
        "## 4. Bayesian Information Criterion (BIC)\n",
        "\n",
        "- **Definition**: BIC is similar to AIC but applies a stronger penalty for model complexity.\n",
        "  \n",
        "  $$\n",
        "  \\text{BIC} = \\ln(n)k - 2\\ln(L)\n",
        "  $$\n",
        "  \n",
        "  Where:\n",
        "  - $ n $: Number of data points\n",
        "  - $ k $: Number of parameters\n",
        "\n",
        "- **Interpretation**:\n",
        "  - Like AIC, lower BIC values indicate better models.\n",
        "  - BIC is more conservative due to the heavier penalty for complexity."
      ],
      "metadata": {
        "id": "ztT2K2Ub6eAg"
      }
    },
    {
      "cell_type": "markdown",
      "source": [
        "## 5. Residual Sum of Squares (RSS)\n",
        "\n",
        "- **Definition**: RSS is the total squared difference between observed and predicted values.\n",
        "  \n",
        "  $$\n",
        "  \\text{RSS} = \\sum_{i=1}^{n} (y_i - \\hat{y}_i)^2\n",
        "  $$\n",
        "\n",
        "- **Interpretation**:\n",
        "  - Lower RSS indicates a better fit.\n",
        "  - Does not penalize for model complexity.\n"
      ],
      "metadata": {
        "id": "llwNWRcr7lwR"
      }
    },
    {
      "cell_type": "markdown",
      "source": [
        "## 6. Mean Squared Error (MSE)\n",
        "\n",
        "- **Definition**: MSE is the average of the squared differences between observed and predicted values.\n",
        "  \n",
        "  $$\n",
        "  \\text{MSE} = \\frac{1}{n} \\sum_{i=1}^{n} (y_i - \\hat{y}_i)^2\n",
        "  $$\n",
        "\n",
        "- **Interpretation**:\n",
        "  - Lower MSE means better performance.\n",
        "  - Commonly used in continuous outcome models."
      ],
      "metadata": {
        "id": "FWyeS5C57lkK"
      }
    },
    {
      "cell_type": "markdown",
      "source": [
        "## 7. Root Mean Squared Error (RMSE)\n",
        "\n",
        "- **Definition**: RMSE is the square root of the MSE, making it more interpretable as it is in the same units as the dependent variable.\n",
        "\n",
        "$$\n",
        " RMSE = \\sqrt[2] { \\frac{1}{n}\\sum_{i=1}^{n}(y_i - \\hat{y_i})^2}\n",
        "$$\n",
        "\n",
        "- **Interpretation**:\n",
        "  - Like MSE, lower RMSE values indicate a better fit.\n",
        "  - More interpretable than MSE because it’s in the same units as the data."
      ],
      "metadata": {
        "id": "xiR0VzCF7lXp"
      }
    },
    {
      "cell_type": "markdown",
      "source": [
        "## 8. Log-Likelihood\n",
        "\n",
        "- **Definition**: The log-likelihood measures how likely the model's parameters are to have generated the observed data.\n",
        "  \n",
        "  $$\n",
        "  \\log L(\\theta) = \\sum_{i=1}^{n} \\log P(y_i | X_i, \\theta)\n",
        "  $$\n",
        "\n",
        "- **Interpretation**:\n",
        "  - Higher log-likelihood values indicate a better fit.\n",
        "  - Used in logistic regression and generalized linear models."
      ],
      "metadata": {
        "id": "7EXPuv8l7lJ2"
      }
    },
    {
      "cell_type": "markdown",
      "source": [
        "## 9. G-Test (Likelihood Ratio Test)\n",
        "\n",
        "- **Definition**: The G-test (also known as the likelihood ratio test) is used to compare the fit of two nested models by assessing whether the likelihood of the more complex model is significantly better than the simpler model.\n",
        "  \n",
        "  $$\n",
        "  G = 2 \\times \\left( \\log L(\\text{model 1}) - \\log L(\\text{model 2}) \\right)\n",
        "  $$\n",
        "\n",
        "  Where:\n",
        "  - $ L(\\text{model 1}) $ is the likelihood of the simpler model.\n",
        "  - $ L(\\text{model 2}) $ is the likelihood of the more complex model.\n",
        "\n",
        "- **Interpretation**:\n",
        "  - If $ G $ is large and the corresponding p-value is small, this suggests that the more complex model fits significantly better than the simpler one.\n",
        "  - Used primarily in nested model comparisons.\n"
      ],
      "metadata": {
        "id": "x2PQutXk-ZM3"
      }
    },
    {
      "cell_type": "markdown",
      "source": [
        "## 10. Chi-Squared Goodness of Fit Test\n",
        "\n",
        "- **Definition**: This test compares the observed data to the expected data from the model, used for categorical data.\n",
        "  \n",
        "  $$\n",
        "  \\chi^2 = \\sum_{i=1}^{k} \\frac{(O_i - E_i)^2}{E_i}\n",
        "  $$\n",
        "\n",
        "- **Interpretation**:\n",
        "  - A significant $ \\chi^2 $ value suggests the model doesn't fit well.\n",
        "  - Often used with contingency tables."
      ],
      "metadata": {
        "id": "VNzcVBWh7k7g"
      }
    },
    {
      "cell_type": "markdown",
      "source": [
        "## 11. Hosmer-Lemeshow Test\n",
        "\n",
        "- **Definition**: Used in logistic regression to assess the fit by comparing observed and predicted event probabilities.\n",
        "  \n",
        "  $$\n",
        "  \\chi^2 = \\sum_{g=1}^{G} \\frac{(O_g - E_g)^2}{E_g}\n",
        "  $$\n",
        "\n",
        "- **Interpretation**:\n",
        "  - Non-significant results suggest a good fit.\n",
        "  - It groups data into deciles based on predicted probabilities and compares observed vs. expected event rates."
      ],
      "metadata": {
        "id": "SJPKOTQe7kqG"
      }
    },
    {
      "cell_type": "markdown",
      "source": [
        "# Cross validation Methods for GoF\n",
        "Cross-validation is a robust method to assess the goodness of fit (GoF) of a model by dividing the dataset into multiple subsets, training the model on some subsets (training sets), and validating it on the others (validation sets). This technique helps evaluate how well the model generalizes to unseen data, which is crucial for assessing its predictive performance and avoiding overfitting.\n",
        "\n",
        "Cross-validation-based methods are critical tools for assessing the goodness of fit of a model, particularly for evaluating how well the model generalizes to unseen data. These methods, including k-fold cross-validation, leave-one-out cross-validation, stratified cross-validation, nested cross-validation, and repeated k-fold cross-validation, provide a more robust and reliable measure of performance compared to using a simple train-test split."
      ],
      "metadata": {
        "id": "koNMmNcj_nq0"
      }
    },
    {
      "cell_type": "markdown",
      "source": [
        "## **1. K-Fold Cross-Validation**\n",
        "\n",
        "**Definition:**\n",
        "In k-fold cross-validation, the dataset is randomly divided into k equal-sized subsets (folds). The model is trained k times, each time using $k-1$ folds for training and the remaining fold for validation. The performance metrics are averaged over the $k$ iterations to give a robust estimate of model fit.\n",
        "\n",
        "**Process:**\n",
        "1. Split the dataset into k equally sized folds.\n",
        "2. Train the model on k-1 folds and validate it on the remaining fold.\n",
        "3. Repeat this process k times, each time using a different fold as the validation set.\n",
        "4. Calculate the average of the chosen performance metric over all k iterations.\n",
        "\n",
        "**Common Metrics:**\n",
        "- For regression models: Mean Squared Error (MSE), Root Mean Squared Error (RMSE), $R^2$.\n",
        "- For classification models: Accuracy, Precision, Recall, F1-Score, Area Under the ROC Curve (AUC-ROC).\n",
        "\n",
        "**Advantages:**\n",
        "- **Efficient use of data:** All data points are used for both training and validation.\n",
        "- **Less biased estimate:** Cross-validation provides a more stable and less biased estimate of model performance than a simple train-test split.\n",
        "\n",
        "**Disadvantages:**\n",
        "- **Computational cost:** Training and validating the model k times can be computationally expensive, especially for large datasets or complex models.\n",
        "- **Randomness:** Performance may vary depending on the random selection of folds, although this is reduced by using more folds (larger k).\n",
        "\n",
        "**When to Use:**\n",
        "\n",
        "When you have a moderate-sized dataset and want a robust evaluation of the model’s goodness of fit.\n",
        "It is widely used in both regression and classification models to test generalizability.\n"
      ],
      "metadata": {
        "id": "nrZ_YRMK_-Jx"
      }
    },
    {
      "cell_type": "code",
      "source": [
        "# K-Fold Cross-Validation\n",
        "kf = KFold(n_splits=5, shuffle=True, random_state=42)\n",
        "kf_mse = cross_val_score(model, X_train, y_train, scoring='neg_mean_squared_error', cv=kf)\n",
        "print(f\"K-Fold Cross-Validation MSE: {-kf_mse.mean():.4f}\")"
      ],
      "metadata": {
        "id": "AqThY1JkZ1QU"
      },
      "execution_count": null,
      "outputs": []
    },
    {
      "cell_type": "markdown",
      "source": [
        "## **2. Leave-One-Out Cross-Validation (LOO-CV)**\n",
        "\n",
        "**Definition:**\n",
        "\n",
        "In leave-one-out cross-validation (LOO-CV), a special case of k-fold cross-validation, each data point is used as a single validation set, and the model is trained on the rest of the dataset. This means n models are trained, where n is the number of data points.\n",
        "\n",
        "\n",
        "**Process:**\n",
        "1. For each data point in the dataset, train the model on all the remaining n-1 points.\n",
        "2. Validate the model on the held-out data point.\n",
        "3. Repeat this for all data points and calculate the average performance.\n",
        "\n",
        "**Common Metrics:**\n",
        "\n",
        "Same as k-fold cross-validation: MSE, RMSE, $R^2$\n",
        "for regression models, accuracy, precision, recall, etc., for classification models.\n",
        "\n",
        "**Advantages:**\n",
        "\n",
        "**Maximizes use of data:** Each data point is used once as a validation set.\n",
        "\n",
        "**Low bias:** Since each data point is validated individually, LOO-CV often produces unbiased performance estimates.\n",
        "\n",
        "**Disadvantages:**\n",
        "\n",
        "**High computational cost:** Running the model n times can be very computationally expensive, especially for large datasets.\n",
        "\n",
        "**High variance:** Since the training set only leaves out one observation, the validation score for each run may be highly variable, leading to noisy estimates of performance.\n",
        "\n",
        "**When to Use:**\n",
        "- For small datasets where maximizing the amount of training data in each iteration is critical.\n",
        "- For models where the computational cost of training multiple models is not prohibitive."
      ],
      "metadata": {
        "id": "hRwr_SiFCWWj"
      }
    },
    {
      "cell_type": "code",
      "source": [
        "# Leave-One-Out Cross-Validation (LOO-CV)\n",
        "loo = LeaveOneOut()\n",
        "loo_mse = cross_val_score(model, X_train, y_train, scoring='neg_mean_squared_error', cv=loo)\n",
        "print(f\"Leave-One-Out Cross-Validation MSE: {-loo_mse.mean():.4f}\")"
      ],
      "metadata": {
        "id": "XUYBJ-rOZ6lc"
      },
      "execution_count": null,
      "outputs": []
    },
    {
      "cell_type": "markdown",
      "source": [
        "## **3. Stratified K-fold Cross-Validation**\n",
        "\n",
        "**Definition:**\n",
        "\n",
        "In stratified k-fold cross-validation, the dataset is split into k folds while maintaining the proportion of classes in each fold, which is especially important for imbalanced classification problems. This ensures that each fold has the same proportion of classes as the original dataset.\n",
        "\n",
        "**Process:**\n",
        "\n",
        "1. Split the data into k folds while preserving the distribution of class labels.\n",
        "2. Perform k-fold cross-validation using these stratified folds.\n",
        "3. Average the performance metrics across all k folds.\n",
        "\n",
        "**Common Metrics:**\n",
        "\n",
        "Same as k-fold cross-validation but particularly effective for classification metrics such as accuracy, precision, recall, and Area Under the Curve - Receiver Operator Curve (AUC-ROC).\n",
        "\n",
        "**Advantages:**\n",
        "\n",
        "**Better for imbalanced datasets:** Preserves the class distribution, ensuring that each fold is representative of the overall class proportions.\n",
        "\n",
        "**Reduced variance:** More stable performance estimates compared to random k-fold cross-validation when dealing with imbalanced data.\n",
        "\n",
        "**Disadvantages:**\n",
        "\n",
        "**Computational cost:** Like k-fold cross-validation, it requires training the model k times.\n",
        "\n",
        "**Complexity:** More complex to implement than standard k-fold cross-validation, especially for multiclass problems.\n",
        "\n",
        "**When to Use:**\n",
        "\n",
        "- For imbalanced classification problems, where preserving the proportion of classes in each fold is important.\n",
        "- When evaluating models like logistic regression, decision trees, or any classification model on imbalanced data.\n"
      ],
      "metadata": {
        "id": "vpXguo3kDE3B"
      }
    },
    {
      "cell_type": "code",
      "source": [
        "strat_kf = StratifiedKFold(n_splits=5, shuffle=True, random_state=42)\n",
        "# Using accuracy here for illustration; MSE cannot be used with stratified splits for continuous y\n",
        "strat_kf_accuracy = cross_val_score(model, X_train, y_class, scoring='accuracy', cv=strat_kf)\n",
        "print(f\"Stratified K-Fold Cross-Validation Accuracy: {strat_kf_accuracy.mean():.4f}\")"
      ],
      "metadata": {
        "id": "qfJ_INfQZ9AB"
      },
      "execution_count": null,
      "outputs": []
    },
    {
      "cell_type": "markdown",
      "source": [
        "## **4. Nested Cross-Validation**\n",
        "\n",
        "**Definition:**\n",
        "\n",
        "Nested cross-validation is used when tuning hyperparameters in addition to assessing model performance. It consists of two loops: an inner loop for hyperparameter tuning and an outer loop for assessing the model's performance. This method ensures that hyperparameters are tuned without biasing the model's performance estimate.\n",
        "\n",
        "**Process:**\n",
        "\n",
        "1. In the outer loop, split the data into k folds for model evaluation.\n",
        "2. In the inner loop, use another cross-validation process (usually k-fold) to tune the hyperparameters on the training set of the outer fold.\n",
        "3. Train the model with the optimal hyperparameters on the inner loop and evaluate it on the validation fold in the outer loop.\n",
        "4. Repeat the outer loop k times, average the results.\n",
        "\n",
        "**Common Metrics:**\n",
        "- MSE, RMSE, and $ R^2 $  for regression models.\n",
        "- Accuracy, precision, recall, and AUC-ROC for classification models.\n",
        "\n",
        "**Advantages:**\n",
        "- **Unbiased hyperparameter tuning:** Ensures that the hyperparameters are selected in a way that generalizes well to unseen data.\n",
        "- **More realistic performance estimates:** Provides a more reliable measure of model performance after hyperparameter tuning.\n",
        "\n",
        "**Disadvantages:**\n",
        "\n",
        "- **Highly computationally expensive:** Since multiple models are trained for both the outer and inner loops, this approach is resource-intensive.\n",
        "- **Complexity:** Nested cross-validation is more complex to set up and execution compared to standard k-fold cross-validation.\n",
        "\n",
        "**When to Use:**\n",
        "\n",
        "- When performing hyperparameter tuning and you want to avoid biased performance estimates.\n",
        "- Useful for complex models where hyperparameters can significantly affect the model’s performance (e.g., Support Vector Machines, Random Forests, Neural Networks)."
      ],
      "metadata": {
        "id": "RTAa7TKED7VH"
      }
    },
    {
      "cell_type": "code",
      "source": [
        "# Nested Cross-Validation Example\n",
        "from sklearn.model_selection import GridSearchCV\n",
        "\n",
        "# Define a simple hyperparameter search space\n",
        "param_grid = {'fit_intercept': [True, False], 'normalize': [True, False]}\n",
        "\n",
        "# Inner loop: GridSearch for hyperparameter tuning\n",
        "inner_cv = KFold(n_splits=5, shuffle=True, random_state=42)\n",
        "grid_search = GridSearchCV(model, param_grid, cv=inner_cv, scoring='neg_mean_squared_error')\n",
        "\n",
        "# Outer loop: Cross-validation to assess generalization error\n",
        "outer_cv = KFold(n_splits=5, shuffle=True, random_state=42)\n",
        "nested_cv_scores = cross_val_score(grid_search, X_train, y_train, cv=outer_cv, scoring='neg_mean_squared_error')\n",
        "print(f\"Nested Cross-Validation MSE: {-nested_cv_scores.mean():.4f}\")"
      ],
      "metadata": {
        "id": "1fLSmP_Iaas9"
      },
      "execution_count": null,
      "outputs": []
    },
    {
      "cell_type": "markdown",
      "source": [
        "## **5. Repeated K-Fold Cross-Validation**\n",
        "\n",
        "**Definition:**\n",
        "\n",
        "In repeated k-fold cross-validation, the k-fold cross-validation process is repeated multiple times with different random splits of the data, and the performance metrics are averaged over all the iterations. This reduces the variability in performance estimates.\n",
        "\n",
        "**Process:**\n",
        "\n",
        "1. Perform k-fold cross-validation.\n",
        "2. Repeat the entire k-fold cross-validation process n times with different random splits.\n",
        "3. Average the performance metrics over all repetitions.\n",
        "\n",
        "**Common Metrics:**\n",
        "Same as k-fold cross-validation\n",
        "\n",
        "**Advantages:**\n",
        "\n",
        "- **Reduced variability:** By averaging the results over multiple repetitions, this approach provides more reliable performance estimates.\n",
        "- **More robust than single k-fold:** It reduces the risk of getting an overly optimistic or pessimistic performance estimate based on a single random split.\n",
        "\n",
        "**Disadvantages:**\n",
        "\n",
        "- **Increased computational cost:** Repeating k-fold cross-validation several times increases the computation needed to evaluate the model.\n",
        "- **May be overkill for large datasets:** If the dataset is large and the model is already well-tuned, repeated k-fold cross-validation may not provide much additional benefit.\n",
        "\n",
        "**When to Use:**\n",
        "\n",
        "- When you have a moderate sized dataset and want to ensure that the performance estimates are stable across different random data splits.\n",
        "- When your goal is to obtain the most reliable goodness-of-fit assessment possible."
      ],
      "metadata": {
        "id": "1URN9oq1D_NK"
      }
    },
    {
      "cell_type": "code",
      "source": [
        "# Repeated K-Fold Cross-Validation\n",
        "rkf = RepeatedKFold(n_splits=5, n_repeats=3, random_state=42)\n",
        "rkf_mse = cross_val_score(model, X_train, y_train, scoring='neg_mean_squared_error', cv=rkf)\n",
        "print(f\"Repeated K-Fold Cross-Validation MSE: {-rkf_mse.mean():.4f}\")"
      ],
      "metadata": {
        "id": "g8ouhXWuaLEZ"
      },
      "execution_count": null,
      "outputs": []
    },
    {
      "cell_type": "markdown",
      "source": [
        "### **Example Analysis for The Abalone Dataset**"
      ],
      "metadata": {
        "id": "CWQodpaWehNk"
      }
    },
    {
      "cell_type": "code",
      "source": [
        "# Import necessary libraries\n",
        "import numpy as np\n",
        "import pandas as pd\n",
        "from sklearn.datasets import make_regression\n",
        "from sklearn.model_selection import train_test_split, KFold, cross_val_score, StratifiedKFold, LeaveOneOut, RepeatedKFold, cross_validate\n",
        "from sklearn.linear_model import LinearRegression\n",
        "from sklearn.metrics import mean_squared_error, make_scorer\n",
        "\n",
        "# Generate a synthetic regression dataset\n",
        "# X, y = make_regression(n_samples=1000, n_features=10, noise=0.1, random_state=42)\n",
        "\n",
        "\n",
        "## oR use the abalone dataset\n",
        "url = 'https://archive.ics.uci.edu/ml/machine-learning-databases/abalone/abalone.data'\n",
        "column_names = ['Sex', 'Length', 'Diameter', 'Height', 'WholeWeight', 'ShuckedWeight', 'VisceraWeight', 'ShellWeight', 'Rings']\n",
        "df = pd.read_csv(url, header=None, names=column_names)\n",
        "df = pd.get_dummies(df, columns=['Sex'], drop_first=False)\n",
        "# Find the indices of rows where 'Height' is greater than 0.5\n",
        "indices_to_drop = df[df['Height'] > 0.5].index\n",
        "# Drop these rows from the DataFrame\n",
        "df_filtered = df.drop(indices_to_drop)\n",
        "# Print the rows of the data to be dropped\n",
        "rows_to_drop = df.loc[indices_to_drop]\n",
        "# Drop these rows from the DataFrame in place\n",
        "df.drop(indices_to_drop, inplace=True)\n",
        "# Define the feature matrix X and the target variable y (predicting 'Rings' as age)\n",
        "X = df.drop(columns='Rings').values\n",
        "y = df['Rings'].values\n",
        "\n",
        "\n",
        "# Split the dataset into training and testing sets\n",
        "X_train, X_test, y_train, y_test = train_test_split(X, y, test_size=0.2, random_state=42)\n",
        "\n",
        "# Initialize a simple Linear Regression model\n",
        "model = LinearRegression()\n",
        "\n",
        "# K-Fold Cross-Validation\n",
        "kf = KFold(n_splits=5, shuffle=True, random_state=42)\n",
        "kf_mse = cross_val_score(model, X_train, y_train, scoring='neg_mean_squared_error', cv=kf)\n",
        "print(f\"K-Fold Cross-Validation MSE: {-kf_mse.mean():.4f}\")\n",
        "\n",
        "# Leave-One-Out Cross-Validation (LOO-CV)\n",
        "loo = LeaveOneOut()\n",
        "loo_mse = cross_val_score(model, X_train, y_train, scoring='neg_mean_squared_error', cv=loo)\n",
        "print(f\"Leave-One-Out Cross-Validation MSE: {-loo_mse.mean():.4f}\")\n",
        "\n",
        "# Stratified K-Fold Cross-Validation (Note: Only applicable for classification; here for illustration)\n",
        "# We create artificial categorical labels for stratification purposes\n",
        "# y_class = pd.cut(y_train, bins=3, labels=[0, 1, 2])\n",
        "\n",
        "# strat_kf = StratifiedKFold(n_splits=5, shuffle=True, random_state=42)\n",
        "# Using accuracy here for illustration; MSE cannot be used with stratified splits for continuous y\n",
        "# strat_kf_accuracy = cross_val_score(model, X_train, y_class, scoring='accuracy', cv=strat_kf)\n",
        "# print(f\"Stratified K-Fold Cross-Validation Accuracy: {strat_kf_accuracy.mean():.4f}\")\n",
        "\n",
        "# Repeated K-Fold Cross-Validation\n",
        "rkf = RepeatedKFold(n_splits=5, n_repeats=3, random_state=42)\n",
        "rkf_mse = cross_val_score(model, X_train, y_train, scoring='neg_mean_squared_error', cv=rkf)\n",
        "print(f\"Repeated K-Fold Cross-Validation MSE: {-rkf_mse.mean():.4f}\")\n",
        "\n",
        "# # Nested Cross-Validation Example\n",
        "# from sklearn.model_selection import GridSearchCV\n",
        "\n",
        "# # Define a simple hyperparameter search space\n",
        "# param_grid = {'fit_intercept': [True, False], 'normalize': [True, False]}\n",
        "\n",
        "# # Inner loop: GridSearch for hyperparameter tuning\n",
        "# inner_cv = KFold(n_splits=5, shuffle=True, random_state=42)\n",
        "# grid_search = GridSearchCV(model, param_grid, cv=inner_cv, scoring='neg_mean_squared_error')\n",
        "\n",
        "# # Outer loop: Cross-validation to assess generalization error\n",
        "# outer_cv = KFold(n_splits=5, shuffle=True, random_state=42)\n",
        "# nested_cv_scores = cross_val_score(grid_search, X_train, y_train, cv=outer_cv, scoring='neg_mean_squared_error')\n",
        "# print(f\"Nested Cross-Validation MSE: {-nested_cv_scores.mean():.4f}\")\n",
        "\n",
        "# Train the model using all data and evaluate on the test set\n",
        "model.fit(X_train, y_train)\n",
        "y_pred = model.predict(X_test)\n",
        "test_mse = mean_squared_error(y_test, y_pred)\n",
        "print(f\"Test Set MSE: {test_mse:.4f}\")\n"
      ],
      "metadata": {
        "colab": {
          "base_uri": "https://localhost:8080/"
        },
        "id": "XKOszPDrEv8Z",
        "outputId": "abb6394b-160f-4d68-c473-0dfe901b594a"
      },
      "execution_count": null,
      "outputs": [
        {
          "output_type": "stream",
          "name": "stdout",
          "text": [
            "K-Fold Cross-Validation MSE: 4.8203\n",
            "Leave-One-Out Cross-Validation MSE: 4.8323\n",
            "Repeated K-Fold Cross-Validation MSE: 4.8369\n",
            "Test Set MSE: 4.5736\n"
          ]
        }
      ]
    },
    {
      "cell_type": "markdown",
      "source": [
        "# Bootstrap Methods for GoF\n",
        "\n",
        "Bootstrap methods for goodness of fit are used to assess how well a statistical model fits the data by simulating multiple datasets based on the observed data and evaluating the model’s performance across those simulated datasets. It is particularly useful when the theoretical distribution of test statistics is unknown or difficult to derive.\n",
        "\n",
        "Bootstrap is a resampling technique that repeatedly samples with replacement from the original dataset to create multiple bootstrap samples. These samples are used to estimate the sampling distribution of a statistic, such as the goodness-of-fit measure.\n",
        "\n",
        "Bootstrap goodness-of-fit methods can be applied in various modeling scenarios:\n",
        "\n",
        " **Linear regression:** Evaluate the fit of linear models by resampling data and assessing R² or mean squared error (MSE).\n",
        "\n",
        " **Logistic regression:** Check model performance using deviance, likelihood, or classification metrics.\n",
        "\n",
        " **Generalized Linear Models (GLMs):** Evaluate fits based on deviance or other appropriate statistics.\n",
        "\n",
        " **Nonlinear models:** When the model assumptions are difficult to verify, the bootstrap can help assess model accuracy.\n",
        "\n",
        "**Advantages:**\n",
        "\n",
        "- Does not rely on distributional assumptions for test statistics.\n",
        "- Provides a way to generate empirical confidence intervals.\n",
        "- Useful for small sample sizes where asymptotic results may not hold.\n",
        "\n",
        "**Limitations:**\n",
        "\n",
        "- Computationally intensive, especially with large datasets.\n",
        "- Bootstrap results can be sensitive to outliers or highly skewed data.\n",
        "\n",
        "Depending on the properties of the data being investigated, a variety of tests can be applied to asses model goodness-of-fit for any stastitic of the data.\n",
        "\n",
        "### **Steps for Bootstrap Goodness-of-Fit**\n",
        "\n",
        "1. Fit the Model to the Original Data\n",
        "\n",
        "Start by fitting your model to the original data and compute the goodness-of-fit statistic (e.g., residual sum of squares, R², deviance).\n",
        "\n",
        "2. Generate Bootstrap Samples\n",
        "\n",
        "Generate a large number (e.g., 1000 or 10,000) of bootstrap samples by sampling with replacement from the original dataset.\n",
        "\n",
        "3. Refit the Model to Each Bootstrap Sample\n",
        "\n",
        "For each bootstrap sample, refit the model and calculate the goodness-of-fit statistic for that sample. This results in a distribution of goodness-of-fit statistics based on the bootstrap samples.\n",
        "\n",
        "4. Compare the Original Statistic\n",
        "\n",
        "Compare the original goodness-of-fit statistic to the distribution of the statistics from the bootstrap samples. If the original statistic lies within the central part of the bootstrap distribution (typically within the 95% confidence interval), this indicates that the model fits well. If the original statistic lies in the tails of the distribution, the fit may be poor."
      ],
      "metadata": {
        "id": "vjmCrT8z__gk"
      }
    },
    {
      "cell_type": "markdown",
      "source": [
        "### **Types of Bootstrap Procedures**\n",
        "\n",
        "**1. Parametric Bootstrap**\n",
        "\n",
        "Assumes that the data are generated by a known parametric distribution (e.g., normal or binomial). After fitting the model, you generate new bootstrap samples from the fitted parametric model, not directly from the original data.\n",
        "\n",
        "**2. Nonparametric Bootstrap**\n",
        "\n",
        "Does not assume a parametric form for the data distribution. Instead, samples are drawn directly from the empirical distribution of the data. This is more flexible but may be less efficient if the data generating process is infact parametric.\n",
        "\n",
        "### **Alternate Uses**\n",
        "\n",
        "Bootstrap methods can also provide **bias-corrected estimates of goodness-of-fit statistics and confidence intervals.** For example, you can compute the bootstrap percentile or BCa (bias-corrected and accelerated) intervals for goodness-of-fit measures like the R² or likelihood ratio.\n",
        "\n",
        "**Bootstrap Residuals**\n",
        "In regression contexts, a common practice is to bootstrap the residuals to test goodness-of-fit\n",
        "\n",
        "Bootstrap residuals are used to test if the residuals from the fitted model are consistent with the assumptions of the model (e.g., homoscedasticity or normality).\n",
        "\n",
        "The residual bootstrap works by:\n",
        "\n",
        " 1. Fitting the model,\n",
        " 2. Calculating residuals,\n",
        " 3. Resampling the residuals, and\n",
        " 4. Generating new responses by adding the resampled residuals to the fitted values."
      ],
      "metadata": {
        "id": "v_lJDDNlgjpv"
      }
    },
    {
      "cell_type": "code",
      "source": [
        "# Import necessary libraries\n",
        "import numpy as np\n",
        "import pandas as pd\n",
        "import matplotlib.pyplot as plt\n",
        "from sklearn.linear_model import LinearRegression\n",
        "from sklearn.metrics import r2_score\n",
        "from sklearn.utils import resample\n",
        "from sklearn.model_selection import train_test_split\n",
        "import plotly.express as px\n",
        "import plotly.graph_objects as go\n",
        "\n",
        "## use the abalone dataset\n",
        "url = 'https://archive.ics.uci.edu/ml/machine-learning-databases/abalone/abalone.data'\n",
        "column_names = ['Sex', 'Length', 'Diameter', 'Height', 'WholeWeight', 'ShuckedWeight', 'VisceraWeight', 'ShellWeight', 'Rings']\n",
        "df = pd.read_csv(url, header=None, names=column_names)\n",
        "df = pd.get_dummies(df, columns=['Sex'], drop_first=False)\n",
        "# Find the indices of rows where 'Height' is greater than 0.5\n",
        "indices_to_drop = df[df['Height'] > 0.5].index\n",
        "# Drop these rows from the DataFrame\n",
        "df_filtered = df.drop(indices_to_drop)\n",
        "# Print the rows of the data to be dropped\n",
        "rows_to_drop = df.loc[indices_to_drop]\n",
        "# Drop these rows from the DataFrame in place\n",
        "df.drop(indices_to_drop, inplace=True)\n",
        "# Define the feature matrix X and the target variable y (predicting 'Rings' as age)\n",
        "# X = df.drop(columns='Rings').values\n",
        "# y = df['Rings'].values\n",
        "\n",
        "# Select relevant features for the regression model (for simplicity, we use Length to predict Rings)\n",
        "# X: predictor variable (Length), y: response variable (Rings)\n",
        "X = df[['Length']].values\n",
        "y = df['Rings'].values\n",
        "\n",
        "# Split data into training and test sets (use sklearn's train_test_split)\n",
        "from sklearn.model_selection import train_test_split\n",
        "X_train, X_test, y_train, y_test = train_test_split(X, y, test_size=0.2, random_state=42)\n",
        "\n",
        "# Fit a linear regression model\n",
        "model = LinearRegression()\n",
        "model.fit(X_train, y_train)\n",
        "\n",
        "# Predict on test data\n",
        "y_pred = model.predict(X_test)\n",
        "\n",
        "# Compute the goodness-of-fit statistic (R² for simplicity)\n",
        "r2_original = r2_score(y_test, y_pred)\n",
        "print(f'Original R²: {r2_original}')\n",
        "\n",
        "# Number of bootstrap samples\n",
        "n_bootstraps = 1000\n",
        "\n",
        "# Bootstrap function to calculate R² for each sample\n",
        "def bootstrap_r2(X_train, y_train, X_test, y_test, n_bootstraps=1000):\n",
        "    r2_scores = []\n",
        "\n",
        "    # Perform bootstrap resampling\n",
        "    for _ in range(n_bootstraps):\n",
        "        # Resample the training data (with replacement)\n",
        "        X_resampled, y_resampled = resample(X_train, y_train, replace=True)\n",
        "\n",
        "        # Refit the model on the resampled data\n",
        "        model = LinearRegression()\n",
        "        model.fit(X_resampled, y_resampled)\n",
        "\n",
        "        # Predict on the original test set\n",
        "        y_pred_bootstrap = model.predict(X_test)\n",
        "\n",
        "        # Calculate R² for the bootstrap sample\n",
        "        r2 = r2_score(y_test, y_pred_bootstrap)\n",
        "        r2_scores.append(r2)\n",
        "\n",
        "    return np.array(r2_scores)\n",
        "\n",
        "# Generate bootstrap samples and calculate R²\n",
        "r2_bootstrap = bootstrap_r2(X_train, y_train, X_test, y_test, n_bootstraps=n_bootstraps)\n",
        "\n",
        "# Can see how the value changes through the bootsrapping\n",
        "# print(f'Bootstrap R²: {r2_bootstrap}')\n",
        "\n",
        "# Calculate the 95% confidence interval for the R²\n",
        "conf_interval = np.percentile(r2_bootstrap, [2.5, 97.5])\n",
        "print(f'95% Confidence Interval for R²: {conf_interval}')\n",
        "\n",
        "# Plot the bootstrap distribution of R²\n",
        "plt.hist(r2_bootstrap, bins=30, edgecolor='k', alpha=0.7)\n",
        "plt.axvline(x=r2_original, color='r', linestyle='--', label=f'Original R² = {r2_original:.3f}')\n",
        "plt.title('Bootstrap Distribution of R²')\n",
        "plt.xlabel('R²')\n",
        "plt.ylabel('Frequency')\n",
        "plt.legend()\n",
        "plt.show()\n",
        "\n",
        "# Create an interactive Plotly histogram of bootstrap R² scores\n",
        "fig = px.histogram(r2_bootstrap, nbins=30, title=\"Bootstrap Distribution of R²\", labels={'value': 'R²'})\n",
        "fig.add_vline(x=r2_original, line_dash=\"dash\", line_color=\"red\", annotation_text=f\"Original R² = {r2_original:.3f}\")\n",
        "\n",
        "# Customize the layout\n",
        "fig.update_layout(\n",
        "    xaxis_title='R²',\n",
        "    yaxis_title='Frequency',\n",
        "    title_x=0.5,\n",
        "    showlegend=False\n",
        ")\n",
        "\n",
        "# Show the interactive plot\n",
        "fig.show()\n",
        "\n"
      ],
      "metadata": {
        "colab": {
          "base_uri": "https://localhost:8080/",
          "height": 1000
        },
        "id": "v15C5kVdkFsM",
        "outputId": "f8cc660d-556c-4be8-96d2-42f256e4ea5a"
      },
      "execution_count": null,
      "outputs": [
        {
          "output_type": "stream",
          "name": "stdout",
          "text": [
            "Original R²: 0.3229051670412728\n",
            "95% Confidence Interval for R²: [0.32139248 0.32299071]\n"
          ]
        },
        {
          "output_type": "display_data",
          "data": {
            "text/plain": [
              "<Figure size 640x480 with 1 Axes>"
            ],
            "image/png": "[encoded data removed]"
          },
          "metadata": {}
        },
        {
          "output_type": "display_data",
          "data": {
            "text/html": [
              "<html>\n",
              "<head><meta charset=\"utf-8\" /></head>\n",
              "<body>\n",
              "    <div>            <script src=\"https://cdnjs.cloudflare.com/ajax/libs/mathjax/2.7.5/MathJax.js?config=TeX-AMS-MML_SVG\"></script><script type=\"text/javascript\">if (window.MathJax && window.MathJax.Hub && window.MathJax.Hub.Config) {window.MathJax.Hub.Config({SVG: {font: \"STIX-Web\"}});}</script>                <script type=\"text/javascript\">window.PlotlyConfig = {MathJaxConfig: 'local'};</script>\n",
              "        <script charset=\"utf-8\" src=\"https://cdn.plot.ly/plotly-2.35.2.min.js\"></script>                <div id=\"06252e99-1aef-40ac-a336-454751e96c83\" class=\"plotly-graph-div\" style=\"height:525px; width:100%;\"></div>            <script type=\"text/javascript\">                                    window.PLOTLYENV=window.PLOTLYENV || {};                                    if (document.getElementById(\"06252e99-1aef-40ac-a336-454751e96c83\")) {                    Plotly.newPlot(                        \"06252e99-1aef-40ac-a336-454751e96c83\",                        [{\"alignmentgroup\":\"True\",\"bingroup\":\"x\",\"hovertemplate\":\"variable=0\\u003cbr\\u003eR\\u00b2=%{x}\\u003cbr\\u003ecount=%{y}\\u003cextra\\u003e\\u003c\\u002fextra\\u003e\",\"legendgroup\":\"0\",\"marker\":{\"color\":\"#636efa\",\"pattern\":{\"shape\":\"\"}},\"name\":\"0\",\"nbinsx\":30,\"offsetgroup\":\"0\",\"orientation\":\"v\",\"showlegend\":true,\"x\":[0.32299327084853036,0.3227056652541397,0.32242745855383415,0.3222029631076301,0.3229171153144218,0.3224473750036789,0.3229515705750029,0.3220530934770074,0.3227424197131985,0.3222793615581282,0.3226108456316773,0.322945661615037,0.32281479838198235,0.3229622268576069,0.3222150660378398,0.32295937959041776,0.32214597104301723,0.32238480428685146,0.32287568414436174,0.32148509572313955,0.3228649792265068,0.322813846932669,0.3230036316565418,0.3229234961890334,0.32286340844752925,0.32255182692853557,0.3218431355172451,0.32176975992650414,0.3229341839675899,0.32250135284191195,0.32200635345785655,0.3226288762391686,0.3222498717441383,0.3225356171367263,0.3228027978447102,0.322876255516076,0.3213124719059365,0.32297238937518,0.3222995826224976,0.3229199058481973,0.32268351327436395,0.32293840503676163,0.3227459142078024,0.3228394976449791,0.3228787153036853,0.3227956032684245,0.3220844775777061,0.32297177151798895,0.3229816579183402,0.3223122615956009,0.32279616609602546,0.32220318653864,0.322338702634724,0.3229529490509896,0.3224837574447409,0.32267582819879836,0.3226191087460101,0.3228033660660875,0.3229836935724607,0.3228393535877141,0.32231279261862256,0.32228969644844396,0.32197452077696354,0.3228682374668389,0.3225283738350092,0.32265603954709143,0.3222428027412335,0.3227182713148551,0.32265762588023694,0.32121247816160725,0.32270188625345964,0.32294473741741647,0.3229479429244354,0.3222834737800222,0.32289747691888415,0.32289819409468246,0.32271554105918354,0.32144850519135015,0.3226554657537849,0.3226431428397727,0.3228123262271646,0.32281347386643044,0.32252387484686185,0.3229848616892037,0.32236227886957536,0.3225099228920911,0.32279191920674377,0.3227389656905346,0.32288773332313103,0.3224350015975861,0.3226644595808339,0.3223090705864712,0.32279296601650487,0.32223604027682984,0.32228810920968987,0.3229949437747073,0.3216362734839132,0.3229941831145434,0.3223233526617991,0.3228083781144485,0.32205747866207,0.322505485162469,0.32227146082717495,0.32273235553935353,0.3225127898851242,0.3227520679902165,0.32192279740376484,0.3229121829567585,0.3229673715651674,0.32284602960765196,0.32129228652647923,0.32291401612658455,0.32164978859466975,0.32270742594118684,0.3218312561503872,0.32245511647528224,0.32296597337858834,0.3229281300820248,0.3222380613349417,0.32292886623028194,0.3229734639547368,0.32292592108157425,0.32230361466316393,0.3226915162084458,0.32284714880662824,0.3226835728106401,0.32291802218046073,0.3221740691595154,0.32255836052933307,0.3229415227405936,0.32149545548699365,0.32278579952583475,0.3226917948680169,0.32298489654673757,0.3229247619658675,0.3218739470749009,0.3227887733756811,0.3222598343995081,0.3217093224494576,0.3226748817900785,0.322767739891471,0.32298550797789627,0.32293798766390314,0.3222478113873761,0.3225994681403348,0.32272902457295327,0.3228721327554419,0.32223885315816225,0.32176351418537696,0.32221134735161094,0.322889927890595,0.3227158670824949,0.3226461190486052,0.3221641220599477,0.3228256815325863,0.32282471490501097,0.3229212685978208,0.32299900653365576,0.3227985219755616,0.3202272173661521,0.3229688846705592,0.3223529254359243,0.3218135045141495,0.32221542620768195,0.3225718432688581,0.3225153656656369,0.3227038947427119,0.32259484484637113,0.32269731597971685,0.3219771937765944,0.3224303787259125,0.3226013692714722,0.3222523159508799,0.3227030516260281,0.3223598430120701,0.32288535547862085,0.3228627124303062,0.3210118639198192,0.3226695623842649,0.32248884187230253,0.322988036102698,0.32252057790130717,0.3227815901077721,0.3228162587223439,0.32257060678002447,0.32153135902278773,0.32246876134440694,0.32232784655974744,0.32296664459484115,0.3226408059688035,0.32218594856511895,0.32227372375756835,0.3226555045077292,0.3229748552207058,0.3225715020841796,0.32299142378140244,0.32235945527625287,0.32296423700229326,0.32242129664581143,0.3229464056611385,0.3225444656032802,0.32246321679545054,0.3228695950421957,0.32237266030293976,0.3218932849175222,0.3229760687069382,0.3230013596812782,0.322939431538932,0.3226900158590229,0.32260192141394517,0.32273047752379413,0.32296808085001827,0.3227431633878679,0.3228598256111469,0.3222196819331531,0.3225277100980848,0.3219834900877715,0.3224443698639071,0.3227041260803378,0.3226906900693286,0.3229787265704598,0.32290460093172724,0.3226861729768391,0.32268766826961215,0.32259457580094686,0.32192602999012687,0.32283292409724995,0.3226494643792077,0.3228173865099292,0.3225960722782071,0.32278926268654373,0.322722120916607,0.32284417616651684,0.32300089773895846,0.3223537476886993,0.32297517912970997,0.32272063060863143,0.32291762297164217,0.3226448884767983,0.3219495895423753,0.32262688029674846,0.3224768685963415,0.3229827043828448,0.322908920004391,0.3214797602126481,0.3226081674460195,0.3230011737553822,0.3228129561222164,0.32283237290749467,0.3228085928136476,0.32206011742816676,0.32270244546521687,0.3229845997330646,0.3228129776810865,0.32256389492161996,0.32255439785864215,0.3228932084948447,0.32289144298227523,0.3226336423765914,0.32254047591799506,0.3220622321440172,0.32138198376659577,0.3222721783737432,0.3221640911653789,0.3228695435976223,0.32179593014505425,0.32292689022057697,0.3228780631619178,0.3225506231591757,0.3220025981835779,0.32299748615925805,0.32263910261557094,0.32193008982028715,0.3217175480475122,0.32147909609560266,0.3227056595264808,0.32248124694862346,0.32292237138577695,0.3220097266220381,0.3226275779151889,0.3229258600884706,0.3227500642493879,0.3228577000051386,0.32283003078484274,0.32298112637869225,0.3229973487198947,0.32151149863607065,0.32280888729678925,0.32298297745705207,0.32280668801566004,0.3229922333984828,0.32277346072692314,0.32257081416596733,0.32253137488757444,0.32294073437505144,0.3222140244677424,0.32269963545283364,0.32264834986239455,0.3224391230644671,0.3228357071284176,0.3229759835540468,0.32168126172881684,0.32263647815730834,0.32260640560617726,0.32296931287960295,0.32109341441781936,0.3220358677874986,0.3229386603533495,0.32235904480013566,0.3224759090931598,0.3229287291718115,0.3209030249111806,0.322423262186872,0.3229548907922418,0.32255648709443263,0.32271252875452994,0.3229166828760297,0.3228694346104979,0.3221510949625117,0.3229902922371394,0.32262305557156856,0.322094044877009,0.3222907478725423,0.322760433510334,0.3227947421884634,0.3208782499101287,0.3228617555068808,0.32208825820470066,0.32282085568352337,0.3222973307600394,0.32270695524158755,0.32273660889099065,0.32201838929174453,0.32266624241012776,0.32279980968128386,0.3218725641019218,0.3216961109243247,0.32271209315067617,0.3207881339324532,0.32225155575394837,0.32265252643649145,0.322306033407211,0.3227888508438137,0.32289812513245797,0.3228375796818159,0.32284873855732843,0.3228514738853847,0.32290865417916526,0.3229537040712228,0.32296796211541157,0.32282491105139655,0.3227591067515524,0.32264894450646653,0.32239984112694164,0.32264640198505246,0.3229492173830182,0.3225672751080193,0.3223098235492706,0.3221419781530319,0.32293726282967083,0.3228230875570034,0.32214477590777313,0.32215846144942495,0.32254314769923087,0.3227208703886778,0.3225899062751697,0.32265471335571294,0.3224275209345767,0.3222938943205974,0.32300052520252487,0.3227790368652741,0.32090997375600927,0.32282456873917176,0.3225787801451413,0.3227232845042508,0.3226697225977003,0.32284298068913186,0.3229112228095876,0.32242838766387916,0.3228635544477323,0.32261789095029747,0.3228958944672963,0.3229270993798461,0.32137148556650397,0.32231873974040903,0.3228477684484439,0.32254379801797384,0.3222204577346057,0.3228312193764694,0.3228393849063804,0.3218435859967652,0.3229615237019957,0.3227658821755893,0.3227807060934822,0.32270278341145897,0.32265135696361635,0.32298380203514687,0.3229340150274791,0.3223778116397452,0.3229613414809662,0.3225976868974786,0.32292115149492684,0.3224025042750708,0.3225582424070039,0.3228368742518761,0.32284988229332057,0.3229170300219497,0.32266642802051515,0.3228115973162461,0.3229528770368667,0.3228899689806517,0.3226750683373558,0.32294232128351374,0.32283908884446666,0.3224444587967129,0.3228046886860827,0.3222106692397615,0.32249882729513835,0.32293222024256996,0.3229894546730959,0.3227668669237246,0.3228839448807427,0.32276201948856287,0.3230007839406944,0.32244809664500507,0.3221044332933447,0.32267280250591446,0.32278624606590545,0.3224805914048847,0.3227782412619262,0.3227917443376145,0.32288766970129934,0.32292466393234054,0.32292318270340026,0.3225579721587374,0.32265004249506546,0.32289815517996157,0.3229908849158767,0.3223581223659401,0.32213981069318587,0.3223034487202946,0.32296704106468066,0.3225378456114849,0.3228187257689519,0.3222140813025124,0.3229287149279937,0.3225399877180095,0.32291353454560245,0.32295396913681973,0.32280041679142535,0.32260357168083875,0.3226845994819617,0.32276628889361003,0.3228550675048213,0.3216539914865528,0.32243431351450247,0.3221606645920646,0.32284961767436504,0.3226596013040829,0.3226893354370043,0.32245160475011936,0.32289375258240005,0.322859499909106,0.3229207308262815,0.3229069410546337,0.32290740440714194,0.3228651435283154,0.32294102787455703,0.32247575591405675,0.3229523874456547,0.3228050126720775,0.32225908005785553,0.32298112193457773,0.3227663760605204,0.32292398585820825,0.3227341723707261,0.32288498576687163,0.32209001126827275,0.32296780249293966,0.32260378917537014,0.3228671771764883,0.3226922352734336,0.32257495910107126,0.3229854928994875,0.3228656608466115,0.32244582942047095,0.32289765143898097,0.32185928536612074,0.32293841546833235,0.3229194011830596,0.32294102864286456,0.3227483620625098,0.32281876030478807,0.32294104641606014,0.32265379808052197,0.3214889360807801,0.32223604704844555,0.322902390952042,0.3226311081589309,0.32254430791955846,0.3229673086347893,0.32058851013636913,0.322913060266641,0.3224926876059968,0.32185387752694694,0.32292960998905007,0.32255820036818694,0.3226546042074572,0.322795192902274,0.32202430888957656,0.32266395101759837,0.3229217204053184,0.32239117255943817,0.3220743433842641,0.32171664477599815,0.3220096735367547,0.32282397910016325,0.3221351594420232,0.32277247187765357,0.3219958425920193,0.32296153133073646,0.3224028924307544,0.32241302693240026,0.3223763340868179,0.32201499352830887,0.32285756665940113,0.32227022594606236,0.3228303219581534,0.3228152120598049,0.322611474075006,0.32291397667640487,0.3225561362572108,0.3227798942464616,0.32262941745217344,0.3224184933000054,0.32139274873783474,0.3223934280068198,0.32251530102849846,0.32278188833282406,0.3227868628293218,0.32281087339229053,0.32234582937436307,0.32253427164030934,0.32293080611483715,0.32278190561996034,0.3227692312207947,0.32258076325006946,0.32256942143859435,0.3227288584008694,0.32228340859532756,0.32275542525956336,0.322836900631572,0.3218069290469331,0.32180726376602575,0.3224303901606608,0.32263579631435035,0.3229960906064159,0.32258282636329705,0.3227694614852997,0.32244021289218694,0.32218815168073434,0.32237022943041205,0.322327468531853,0.3213042120438835,0.3220588580763404,0.3227333648973941,0.3227621593616189,0.3227950770097864,0.3228251923648464,0.322967172749547,0.3229811086238452,0.3229982860794841,0.3227745369254137,0.32261498867811744,0.322352328731919,0.3228001491748562,0.3225506957187295,0.32293305689013674,0.3229972017298326,0.322940283999669,0.322904931525572,0.32265715820556495,0.3225298250744224,0.3222555174847038,0.32235624563239407,0.3225409162272228,0.3224317257907714,0.3223713312784494,0.3226335621242936,0.3223302645444669,0.32296009495687006,0.32221210031531256,0.3223966228826819,0.3228035438650836,0.3226260743442695,0.3218779929777331,0.3211986028405658,0.32244077737510024,0.3226659697778669,0.32205641003042607,0.3229172087049058,0.3220048261926135,0.32201890836005365,0.3228405352235587,0.3228213705469023,0.322989955002856,0.32258799422937734,0.32211574016259903,0.3225443741092161,0.32206802747943,0.3213186295993503,0.3228482234691151,0.3218139551155059,0.3225127212250416,0.32272285834356096,0.32271813115186043,0.32198124828969865,0.3229370732195307,0.32280582620231546,0.3229416656377174,0.32106458649617475,0.32152923002592415,0.3229082141887305,0.3225372742273217,0.32256363245027786,0.3227211300837035,0.32235960830838684,0.3228719254173734,0.32276714312395893,0.32290157538933095,0.32220768174280845,0.32195527794177625,0.32257109373525295,0.32296238512668674,0.3228331662166991,0.3220189258930981,0.32203046540184355,0.3225333964798761,0.32248578627328994,0.322760423772789,0.32238058691138516,0.32224132670156347,0.322732369732075,0.3212533998069319,0.3227047335397908,0.32280763841129456,0.32218703562749473,0.32293283999299427,0.3221266179603508,0.3228305337957641,0.32275698030983035,0.3227176362292169,0.3225416061408939,0.32192362758160253,0.32263831729010983,0.3228098641018434,0.3212287189161843,0.3226979833990954,0.322313619611855,0.32192169643475754,0.3226428299141232,0.322806961740023,0.32233885216538094,0.322890565010685,0.322648681190321,0.32230359950239795,0.3210179289808822,0.3228301649161075,0.32281935252430527,0.3226795193537223,0.3223457197005287,0.3226163920105112,0.3226297500766838,0.32270997271003155,0.3221415985873566,0.32276571457587,0.32269298455413686,0.32269599482307243,0.3226807962075038,0.32237825124846564,0.3227568730657313,0.32261360555274576,0.32268875076577186,0.32178980458303086,0.3222371824000013,0.3229869173825677,0.322159290107522,0.3223559102913993,0.3221176469214153,0.3229783143056546,0.3223475850406977,0.3229666599630573,0.3226685425935266,0.3228746853335963,0.3229405172611096,0.32287399598777156,0.3228008502834322,0.3218837678930814,0.3228843386746597,0.32246324075767885,0.32169683663494597,0.32280588689502954,0.3224356506701659,0.3229050096309747,0.32272359172725285,0.32298103323312977,0.3214451443587666,0.32237606097427374,0.32287319079088395,0.3229149123150685,0.32241111464704664,0.32228231992688916,0.3230004139639905,0.32209879570130484,0.32290063888111964,0.3223797081967772,0.3226659829989209,0.32283708751412454,0.32216992370589426,0.3229597488775383,0.32297496829824224,0.3227920115203555,0.3227952271092408,0.32247759714698365,0.32293110357195687,0.32220737201047256,0.322741567794984,0.32238938721795807,0.32249483600361595,0.3223109581213257,0.3223652505109662,0.321554506212961,0.32299125992100153,0.32276555772259263,0.3228474644757433,0.3229228234808763,0.32299140633215917,0.32293071958527164,0.3227211291298615,0.3220203714886858,0.3227272757392693,0.32259510089272436,0.3220931322504449,0.322815876690446,0.32270391371468066,0.32273784284810414,0.3227358426263215,0.3214302756567152,0.3228712989027588,0.3224161980098291,0.32247450669237765,0.32281018473450185,0.3221632533746127,0.32260928806638134,0.32258938594888353,0.3229869384295736,0.32251056696194713,0.3226069936890985,0.3219453422790114,0.3224927315185008,0.3225347990393167,0.3229306557986058,0.32160837829905875,0.3227464737150211,0.32282496987049103,0.322799734564577,0.32294605129955556,0.3229940130669664,0.3218746018547336,0.3223625723622,0.32204301713427674,0.32292217009577806,0.32285298163421794,0.3223263830313676,0.3221548782525243,0.32283524822132326,0.32228110691774947,0.3226865036707729,0.32212151911569054,0.322677425943275,0.32293748340887807,0.3227033349319647,0.32280327057266,0.3229986858130488,0.3229036496955172,0.3229670765951872,0.32297598319067944,0.32276266694991784,0.32299291972570654,0.3221544199996358,0.32293666695349443,0.32245480814780947,0.3222113485039032,0.3222424542621921,0.3228185963894993,0.3226883320823798,0.32253848362128046,0.3228173751080655,0.3224917062204732,0.32288522016210974,0.32284810287564836,0.3226267141150462,0.3228909463105636,0.3226296693153994,0.3228220888265352,0.3210799257608634,0.32235450826908696,0.32254643170275854,0.32190780824296195,0.3226600131421995,0.3226786946265917,0.32227793414237116,0.3226580100046008,0.322369438212347,0.32271649745583164,0.32286624510111284,0.3227788438011727,0.3226530311993193,0.3229618076936128,0.3221025037532682,0.3221004069854948,0.3227798183295961,0.322956269517502,0.3229565249188717,0.322919680057124,0.3226963886593276,0.3228694216449054,0.3229838264671713,0.3229691708169091,0.322876081984212,0.32254595419693133,0.3228454321714236,0.3229218194597966,0.3228732498026181,0.3222410983349636,0.3222956945418868,0.32277633678295825,0.3229680435961616,0.3229147867044404,0.32272324381533923,0.322730684713592,0.3229387690762878,0.32154343660814755,0.3227913048601114,0.3222510595129162,0.3221116632843538,0.3228938911767357,0.3229690604000123,0.322050051711805,0.3224173489383061,0.32297988177090353,0.3204359494067103,0.3221142912349617,0.32277359391544647,0.3226898729164236,0.3224336540291457,0.32298804575218565,0.32231617288154857,0.3223974034014425,0.3225936867523942,0.3229013033202156,0.3218982084557981,0.32262445824126373,0.3225184603496305,0.32278916413198133,0.3217289719163644,0.32253049250661847,0.32047079272512013,0.32254431325829036,0.3226949346837482,0.3222180300077715,0.32259915252621396,0.32229952746976887,0.32215193233168726,0.32248526294864077,0.3229709798978849,0.3226586352262327,0.3222998054539302,0.32279569278220366,0.3220733139134222,0.3225026108502149,0.32217722900296386,0.32292292839655456,0.3226472368844626,0.32293206239857875,0.32291172777474564,0.3217199779844391,0.32278004250287584,0.32277584885354116,0.3219123017355767,0.32273806361565716,0.3224602826347708,0.3226040785005082,0.321758044707636,0.3225557247206903,0.3223546836013125,0.3214989029629315,0.32245554226558504,0.3228274933387125,0.32272732024689077,0.322371336075317,0.32273358982649214,0.3228976092475925,0.32293314336680234,0.3226924526259305,0.3218822474235655,0.3229907082658049,0.3229475482913141,0.32290141079550205,0.32279707761533094,0.32179324814643384,0.32295269678727145,0.32286580370785567,0.32254079021600757,0.3217791405368824,0.32258407014790846,0.32212182243519083,0.32288743182667223,0.32241022492164473,0.3219286348311443,0.32275494321695875,0.3226983447502061,0.32292259520949296,0.32211272760010334,0.322728027807508,0.3225663526091034,0.32270778736384464,0.322226141399802,0.32289458232243706,0.32209933876468744,0.32262673927900976,0.3226015101178724,0.3226019841333,0.32261277201941396,0.3228710184637593,0.3229001247588522,0.3229262791444898,0.3227200173288709,0.322703908307969,0.3218333367704421,0.3226447468553524,0.32261996175455454,0.3228790365918287,0.32295154727951125,0.322976366198792,0.32292210514044895,0.32298265044337005,0.32200740347950985,0.3229950958319705,0.3217652291368551,0.3226504414996383,0.3226655761697802,0.32139692773155815,0.3226265486809974,0.322719529342809,0.322641127637152,0.32232076583902514,0.32268324551188443,0.3217548154357933,0.3222369105080246,0.3217721258514932,0.3227276950517054,0.3229371362215431,0.3225843994163198,0.3227739829790579,0.3229156377240705,0.32171944477829073,0.32280471820017664,0.3216975019502891,0.32212404692706587,0.32149385735341285,0.3225182684869764,0.3221126799945373,0.3221305639064711,0.3229703713739597,0.32264602329340153,0.32284541036193104,0.3226706953798866,0.3225300246140902,0.32229174202533906,0.32297271801236527,0.3223781532254333,0.32267584861275345,0.32046049128920917,0.3229505094619973,0.32147966334789746,0.32065959661622034,0.3226376008021371,0.3222691965854153,0.3226990798008612,0.32216999118362133,0.3229740995004945,0.32220986709611044,0.322904931269007,0.3225586449808511,0.3229166448090872,0.3214846995095285,0.3229337081343928,0.32229377923473046,0.32243328610943767],\"xaxis\":\"x\",\"yaxis\":\"y\",\"type\":\"histogram\"}],                        {\"template\":{\"data\":{\"histogram2dcontour\":[{\"type\":\"histogram2dcontour\",\"colorbar\":{\"outlinewidth\":0,\"ticks\":\"\"},\"colorscale\":[[0.0,\"#0d0887\"],[0.1111111111111111,\"#46039f\"],[0.2222222222222222,\"#7201a8\"],[0.3333333333333333,\"#9c179e\"],[0.4444444444444444,\"#bd3786\"],[0.5555555555555556,\"#d8576b\"],[0.6666666666666666,\"#ed7953\"],[0.7777777777777778,\"#fb9f3a\"],[0.8888888888888888,\"#fdca26\"],[1.0,\"#f0f921\"]]}],\"choropleth\":[{\"type\":\"choropleth\",\"colorbar\":{\"outlinewidth\":0,\"ticks\":\"\"}}],\"histogram2d\":[{\"type\":\"histogram2d\",\"colorbar\":{\"outlinewidth\":0,\"ticks\":\"\"},\"colorscale\":[[0.0,\"#0d0887\"],[0.1111111111111111,\"#46039f\"],[0.2222222222222222,\"#7201a8\"],[0.3333333333333333,\"#9c179e\"],[0.4444444444444444,\"#bd3786\"],[0.5555555555555556,\"#d8576b\"],[0.6666666666666666,\"#ed7953\"],[0.7777777777777778,\"#fb9f3a\"],[0.8888888888888888,\"#fdca26\"],[1.0,\"#f0f921\"]]}],\"heatmap\":[{\"type\":\"heatmap\",\"colorbar\":{\"outlinewidth\":0,\"ticks\":\"\"},\"colorscale\":[[0.0,\"#0d0887\"],[0.1111111111111111,\"#46039f\"],[0.2222222222222222,\"#7201a8\"],[0.3333333333333333,\"#9c179e\"],[0.4444444444444444,\"#bd3786\"],[0.5555555555555556,\"#d8576b\"],[0.6666666666666666,\"#ed7953\"],[0.7777777777777778,\"#fb9f3a\"],[0.8888888888888888,\"#fdca26\"],[1.0,\"#f0f921\"]]}],\"heatmapgl\":[{\"type\":\"heatmapgl\",\"colorbar\":{\"outlinewidth\":0,\"ticks\":\"\"},\"colorscale\":[[0.0,\"#0d0887\"],[0.1111111111111111,\"#46039f\"],[0.2222222222222222,\"#7201a8\"],[0.3333333333333333,\"#9c179e\"],[0.4444444444444444,\"#bd3786\"],[0.5555555555555556,\"#d8576b\"],[0.6666666666666666,\"#ed7953\"],[0.7777777777777778,\"#fb9f3a\"],[0.8888888888888888,\"#fdca26\"],[1.0,\"#f0f921\"]]}],\"contourcarpet\":[{\"type\":\"contourcarpet\",\"colorbar\":{\"outlinewidth\":0,\"ticks\":\"\"}}],\"contour\":[{\"type\":\"contour\",\"colorbar\":{\"outlinewidth\":0,\"ticks\":\"\"},\"colorscale\":[[0.0,\"#0d0887\"],[0.1111111111111111,\"#46039f\"],[0.2222222222222222,\"#7201a8\"],[0.3333333333333333,\"#9c179e\"],[0.4444444444444444,\"#bd3786\"],[0.5555555555555556,\"#d8576b\"],[0.6666666666666666,\"#ed7953\"],[0.7777777777777778,\"#fb9f3a\"],[0.8888888888888888,\"#fdca26\"],[1.0,\"#f0f921\"]]}],\"surface\":[{\"type\":\"surface\",\"colorbar\":{\"outlinewidth\":0,\"ticks\":\"\"},\"colorscale\":[[0.0,\"#0d0887\"],[0.1111111111111111,\"#46039f\"],[0.2222222222222222,\"#7201a8\"],[0.3333333333333333,\"#9c179e\"],[0.4444444444444444,\"#bd3786\"],[0.5555555555555556,\"#d8576b\"],[0.6666666666666666,\"#ed7953\"],[0.7777777777777778,\"#fb9f3a\"],[0.8888888888888888,\"#fdca26\"],[1.0,\"#f0f921\"]]}],\"mesh3d\":[{\"type\":\"mesh3d\",\"colorbar\":{\"outlinewidth\":0,\"ticks\":\"\"}}],\"scatter\":[{\"fillpattern\":{\"fillmode\":\"overlay\",\"size\":10,\"solidity\":0.2},\"type\":\"scatter\"}],\"parcoords\":[{\"type\":\"parcoords\",\"line\":{\"colorbar\":{\"outlinewidth\":0,\"ticks\":\"\"}}}],\"scatterpolargl\":[{\"type\":\"scatterpolargl\",\"marker\":{\"colorbar\":{\"outlinewidth\":0,\"ticks\":\"\"}}}],\"bar\":[{\"error_x\":{\"color\":\"#2a3f5f\"},\"error_y\":{\"color\":\"#2a3f5f\"},\"marker\":{\"line\":{\"color\":\"#E5ECF6\",\"width\":0.5},\"pattern\":{\"fillmode\":\"overlay\",\"size\":10,\"solidity\":0.2}},\"type\":\"bar\"}],\"scattergeo\":[{\"type\":\"scattergeo\",\"marker\":{\"colorbar\":{\"outlinewidth\":0,\"ticks\":\"\"}}}],\"scatterpolar\":[{\"type\":\"scatterpolar\",\"marker\":{\"colorbar\":{\"outlinewidth\":0,\"ticks\":\"\"}}}],\"histogram\":[{\"marker\":{\"pattern\":{\"fillmode\":\"overlay\",\"size\":10,\"solidity\":0.2}},\"type\":\"histogram\"}],\"scattergl\":[{\"type\":\"scattergl\",\"marker\":{\"colorbar\":{\"outlinewidth\":0,\"ticks\":\"\"}}}],\"scatter3d\":[{\"type\":\"scatter3d\",\"line\":{\"colorbar\":{\"outlinewidth\":0,\"ticks\":\"\"}},\"marker\":{\"colorbar\":{\"outlinewidth\":0,\"ticks\":\"\"}}}],\"scattermapbox\":[{\"type\":\"scattermapbox\",\"marker\":{\"colorbar\":{\"outlinewidth\":0,\"ticks\":\"\"}}}],\"scatterternary\":[{\"type\":\"scatterternary\",\"marker\":{\"colorbar\":{\"outlinewidth\":0,\"ticks\":\"\"}}}],\"scattercarpet\":[{\"type\":\"scattercarpet\",\"marker\":{\"colorbar\":{\"outlinewidth\":0,\"ticks\":\"\"}}}],\"carpet\":[{\"aaxis\":{\"endlinecolor\":\"#2a3f5f\",\"gridcolor\":\"white\",\"linecolor\":\"white\",\"minorgridcolor\":\"white\",\"startlinecolor\":\"#2a3f5f\"},\"baxis\":{\"endlinecolor\":\"#2a3f5f\",\"gridcolor\":\"white\",\"linecolor\":\"white\",\"minorgridcolor\":\"white\",\"startlinecolor\":\"#2a3f5f\"},\"type\":\"carpet\"}],\"table\":[{\"cells\":{\"fill\":{\"color\":\"#EBF0F8\"},\"line\":{\"color\":\"white\"}},\"header\":{\"fill\":{\"color\":\"#C8D4E3\"},\"line\":{\"color\":\"white\"}},\"type\":\"table\"}],\"barpolar\":[{\"marker\":{\"line\":{\"color\":\"#E5ECF6\",\"width\":0.5},\"pattern\":{\"fillmode\":\"overlay\",\"size\":10,\"solidity\":0.2}},\"type\":\"barpolar\"}],\"pie\":[{\"automargin\":true,\"type\":\"pie\"}]},\"layout\":{\"autotypenumbers\":\"strict\",\"colorway\":[\"#636efa\",\"#EF553B\",\"#00cc96\",\"#ab63fa\",\"#FFA15A\",\"#19d3f3\",\"#FF6692\",\"#B6E880\",\"#FF97FF\",\"#FECB52\"],\"font\":{\"color\":\"#2a3f5f\"},\"hovermode\":\"closest\",\"hoverlabel\":{\"align\":\"left\"},\"paper_bgcolor\":\"white\",\"plot_bgcolor\":\"#E5ECF6\",\"polar\":{\"bgcolor\":\"#E5ECF6\",\"angularaxis\":{\"gridcolor\":\"white\",\"linecolor\":\"white\",\"ticks\":\"\"},\"radialaxis\":{\"gridcolor\":\"white\",\"linecolor\":\"white\",\"ticks\":\"\"}},\"ternary\":{\"bgcolor\":\"#E5ECF6\",\"aaxis\":{\"gridcolor\":\"white\",\"linecolor\":\"white\",\"ticks\":\"\"},\"baxis\":{\"gridcolor\":\"white\",\"linecolor\":\"white\",\"ticks\":\"\"},\"caxis\":{\"gridcolor\":\"white\",\"linecolor\":\"white\",\"ticks\":\"\"}},\"coloraxis\":{\"colorbar\":{\"outlinewidth\":0,\"ticks\":\"\"}},\"colorscale\":{\"sequential\":[[0.0,\"#0d0887\"],[0.1111111111111111,\"#46039f\"],[0.2222222222222222,\"#7201a8\"],[0.3333333333333333,\"#9c179e\"],[0.4444444444444444,\"#bd3786\"],[0.5555555555555556,\"#d8576b\"],[0.6666666666666666,\"#ed7953\"],[0.7777777777777778,\"#fb9f3a\"],[0.8888888888888888,\"#fdca26\"],[1.0,\"#f0f921\"]],\"sequentialminus\":[[0.0,\"#0d0887\"],[0.1111111111111111,\"#46039f\"],[0.2222222222222222,\"#7201a8\"],[0.3333333333333333,\"#9c179e\"],[0.4444444444444444,\"#bd3786\"],[0.5555555555555556,\"#d8576b\"],[0.6666666666666666,\"#ed7953\"],[0.7777777777777778,\"#fb9f3a\"],[0.8888888888888888,\"#fdca26\"],[1.0,\"#f0f921\"]],\"diverging\":[[0,\"#8e0152\"],[0.1,\"#c51b7d\"],[0.2,\"#de77ae\"],[0.3,\"#f1b6da\"],[0.4,\"#fde0ef\"],[0.5,\"#f7f7f7\"],[0.6,\"#e6f5d0\"],[0.7,\"#b8e186\"],[0.8,\"#7fbc41\"],[0.9,\"#4d9221\"],[1,\"#276419\"]]},\"xaxis\":{\"gridcolor\":\"white\",\"linecolor\":\"white\",\"ticks\":\"\",\"title\":{\"standoff\":15},\"zerolinecolor\":\"white\",\"automargin\":true,\"zerolinewidth\":2},\"yaxis\":{\"gridcolor\":\"white\",\"linecolor\":\"white\",\"ticks\":\"\",\"title\":{\"standoff\":15},\"zerolinecolor\":\"white\",\"automargin\":true,\"zerolinewidth\":2},\"scene\":{\"xaxis\":{\"backgroundcolor\":\"#E5ECF6\",\"gridcolor\":\"white\",\"linecolor\":\"white\",\"showbackground\":true,\"ticks\":\"\",\"zerolinecolor\":\"white\",\"gridwidth\":2},\"yaxis\":{\"backgroundcolor\":\"#E5ECF6\",\"gridcolor\":\"white\",\"linecolor\":\"white\",\"showbackground\":true,\"ticks\":\"\",\"zerolinecolor\":\"white\",\"gridwidth\":2},\"zaxis\":{\"backgroundcolor\":\"#E5ECF6\",\"gridcolor\":\"white\",\"linecolor\":\"white\",\"showbackground\":true,\"ticks\":\"\",\"zerolinecolor\":\"white\",\"gridwidth\":2}},\"shapedefaults\":{\"line\":{\"color\":\"#2a3f5f\"}},\"annotationdefaults\":{\"arrowcolor\":\"#2a3f5f\",\"arrowhead\":0,\"arrowwidth\":1},\"geo\":{\"bgcolor\":\"white\",\"landcolor\":\"#E5ECF6\",\"subunitcolor\":\"white\",\"showland\":true,\"showlakes\":true,\"lakecolor\":\"white\"},\"title\":{\"x\":0.05},\"mapbox\":{\"style\":\"light\"}}},\"xaxis\":{\"anchor\":\"y\",\"domain\":[0.0,1.0],\"title\":{\"text\":\"R\\u00b2\"}},\"yaxis\":{\"anchor\":\"x\",\"domain\":[0.0,1.0],\"title\":{\"text\":\"Frequency\"}},\"legend\":{\"title\":{\"text\":\"variable\"},\"tracegroupgap\":0},\"title\":{\"text\":\"Bootstrap Distribution of R\\u00b2\",\"x\":0.5},\"barmode\":\"relative\",\"shapes\":[{\"line\":{\"color\":\"red\",\"dash\":\"dash\"},\"type\":\"line\",\"x0\":0.3229051670412728,\"x1\":0.3229051670412728,\"xref\":\"x\",\"y0\":0,\"y1\":1,\"yref\":\"y domain\"}],\"annotations\":[{\"showarrow\":false,\"text\":\"Original R\\u00b2 = 0.323\",\"x\":0.3229051670412728,\"xanchor\":\"left\",\"xref\":\"x\",\"y\":1,\"yanchor\":\"top\",\"yref\":\"y domain\"}],\"showlegend\":false},                        {\"responsive\": true}                    ).then(function(){\n",
              "                            \n",
              "var gd = document.getElementById('06252e99-1aef-40ac-a336-454751e96c83');\n",
              "var x = new MutationObserver(function (mutations, observer) {{\n",
              "        var display = window.getComputedStyle(gd).display;\n",
              "        if (!display || display === 'none') {{\n",
              "            console.log([gd, 'removed!']);\n",
              "            Plotly.purge(gd);\n",
              "            observer.disconnect();\n",
              "        }}\n",
              "}});\n",
              "\n",
              "// Listen for the removal of the full notebook cells\n",
              "var notebookContainer = gd.closest('#notebook-container');\n",
              "if (notebookContainer) {{\n",
              "    x.observe(notebookContainer, {childList: true});\n",
              "}}\n",
              "\n",
              "// Listen for the clearing of the current output cell\n",
              "var outputEl = gd.closest('.output');\n",
              "if (outputEl) {{\n",
              "    x.observe(outputEl, {childList: true});\n",
              "}}\n",
              "\n",
              "                        })                };                            </script>        </div>\n",
              "</body>\n",
              "</html>"
            ]
          },
          "metadata": {}
        }
      ]
    },
    {
      "cell_type": "markdown",
      "source": [
        "# Simulation Methods for GoF\n",
        "\n",
        "Simulation methods for goodness of fit involve generating synthetic datasets under the assumption that the model being tested is correct, and then comparing how well the model fits both the simulated and the observed data. This approach is especially useful when the theoretical distribution of a goodness-of-fit statistic is unknown or when traditional tests are not applicable.\n",
        "\n",
        "###**Steps in Simulation Methods for Goodness of Fit**\n",
        "\n",
        "**1. Fit the Model to the Observed Data**\n",
        "\n",
        "  Begin by fitting the model to the observed data and calculating the goodness-of-fit statistic for this model (e.g., residual sum of squares, likelihood ratio, deviance, R², etc.).\n",
        "\n",
        "**2. Simulate Datasets Based on the Model Assumptions**\n",
        "\n",
        "  Generate many synthetic datasets under the assumption that the fitted model is correct. This involves using the fitted model's parameters and the distributional assumptions of the data (e.g., normal distribution for errors in linear regression).\n",
        "\n",
        "**3. Recalculate the Goodness-of-Fit Statistic for Each Simulated Dataset**\n",
        "\n",
        "  For each simulated dataset, refit the model and compute the same goodness-of-fit statistic as was calculated for the original data.\n",
        "\n",
        "**4. Compare the Observed Goodness-of-Fit Statistic with the Simulated Distribution**\n",
        "\n",
        "  Compare the goodness-of-fit statistic from the observed data with the distribution of goodness-of-fit statistics from the simulated datasets. If the observed statistic is consistent with the values from the simulated data (i.e., it falls within a central region of the distribution), it suggests the model fits well. If the observed statistic lies far in the tails, this suggests poor fit.\n",
        "\n",
        "  Let's demonstrates the use of simulation methods for assessing goodness of fit using the same linear regression model from the Abalone dataset as in the previous bootstrap example. The goodness-of-fit statistic we’ll use is R², and we’ll compare the observed R² to the distribution of R² values generated by simulating datasets under the fitted model."
      ],
      "metadata": {
        "id": "XxVg3KUmAHOF"
      }
    },
    {
      "cell_type": "code",
      "source": [
        "import numpy as np\n",
        "import pandas as pd\n",
        "from sklearn.linear_model import LinearRegression\n",
        "from sklearn.metrics import r2_score\n",
        "import matplotlib.pyplot as plt\n",
        "\n",
        "## use the abalone dataset\n",
        "url = 'https://archive.ics.uci.edu/ml/machine-learning-databases/abalone/abalone.data'\n",
        "column_names = ['Sex', 'Length', 'Diameter', 'Height', 'WholeWeight', 'ShuckedWeight', 'VisceraWeight', 'ShellWeight', 'Rings']\n",
        "df = pd.read_csv(url, header=None, names=column_names)\n",
        "df = pd.get_dummies(df, columns=['Sex'], drop_first=False)\n",
        "# Find the indices of rows where 'Height' is greater than 0.5\n",
        "indices_to_drop = df[df['Height'] > 0.5].index\n",
        "# Drop these rows from the DataFrame\n",
        "df_filtered = df.drop(indices_to_drop)\n",
        "# Print the rows of the data to be dropped\n",
        "rows_to_drop = df.loc[indices_to_drop]\n",
        "# Drop these rows from the DataFrame in place\n",
        "df.drop(indices_to_drop, inplace=True)\n",
        "\n",
        "# Select relevant features for the regression model (for simplicity, we use Length to predict Rings)\n",
        "# X: predictor variable (Length), y: response variable (Rings)\n",
        "X = df[['Length']].values\n",
        "y = df['Rings'].values\n",
        "\n",
        "\n",
        "# Step 1: Generate synthetic data for demonstration\n",
        "np.random.seed(42)\n",
        "X = np.random.rand(100, 1) * 10  # Random values for predictor variable\n",
        "y = 2.5 * X.flatten() + np.random.normal(0, 2, 100)  # Linear relationship with noise\n",
        "\n",
        "# Step 2: Fit a linear regression model to the observed data\n",
        "model = LinearRegression()\n",
        "model.fit(X, y)\n",
        "y_pred = model.predict(X)\n",
        "r2_observed = r2_score(y, y_pred)  # R² as the goodness-of-fit measure\n",
        "print(f'Observed R²: {r2_observed:.3f}')\n",
        "\n",
        "# Step 3: Simulate new datasets under the fitted model\n",
        "n_simulations = 1000\n",
        "r2_simulated = []\n",
        "\n",
        "# Function to simulate new datasets\n",
        "def simulate_dataset(model, X, noise_std):\n",
        "    y_simulated = model.predict(X) + np.random.normal(0, noise_std, X.shape[0])\n",
        "    return y_simulated\n",
        "\n",
        "# Simulate datasets and refit the model\n",
        "for _ in range(n_simulations):\n",
        "    y_sim = simulate_dataset(model, X, noise_std=2)  # Same noise as in original data\n",
        "    model_sim = LinearRegression()\n",
        "    model_sim.fit(X, y_sim)\n",
        "    y_sim_pred = model_sim.predict(X)\n",
        "    r2_simulated.append(r2_score(y_sim, y_sim_pred))\n",
        "\n",
        "# Step 4: Compare the observed R² to the simulated R² distribution\n",
        "plt.hist(r2_simulated, bins=30, alpha=0.7, edgecolor='k')\n",
        "plt.axvline(r2_observed, color='red', linestyle='--', label=f'Observed R² = {r2_observed:.3f}')\n",
        "plt.title('Simulated Distribution of R² under the Fitted Model')\n",
        "plt.xlabel('R²')\n",
        "plt.ylabel('Frequency')\n",
        "plt.legend()\n",
        "plt.show()\n",
        "\n",
        "# Step 5: Compute the proportion of simulations with R² less than the observed value\n",
        "p_value = np.mean(np.array(r2_simulated) <= r2_observed)\n",
        "print(f'P-value: {p_value:.3f}')\n"
      ],
      "metadata": {
        "colab": {
          "base_uri": "https://localhost:8080/",
          "height": 507
        },
        "id": "zJ3MlX02AMtU",
        "outputId": "490b5a8d-c893-44cb-f207-2179747ee53f"
      },
      "execution_count": null,
      "outputs": [
        {
          "output_type": "stream",
          "name": "stdout",
          "text": [
            "Observed R²: 0.940\n"
          ]
        },
        {
          "output_type": "display_data",
          "data": {
            "text/plain": [
              "<Figure size 640x480 with 1 Axes>"
            ],
            "image/png": "[encoded data removed]"
          },
          "metadata": {}
        },
        {
          "output_type": "stream",
          "name": "stdout",
          "text": [
            "P-value: 0.892\n"
          ]
        }
      ]
    },
    {
      "cell_type": "code",
      "source": [
        "import numpy as np\n",
        "import pandas as pd\n",
        "from sklearn.linear_model import LinearRegression\n",
        "from sklearn.metrics import r2_score\n",
        "import plotly.express as px\n",
        "import plotly.graph_objects as go\n",
        "\n",
        "# Load the Abalone dataset\n",
        "url = 'https://archive.ics.uci.edu/ml/machine-learning-databases/abalone/abalone.data'\n",
        "column_names = ['Sex', 'Length', 'Diameter', 'Height', 'WholeWeight', 'ShuckedWeight', 'VisceraWeight', 'ShellWeight', 'Rings']\n",
        "df = pd.read_csv(url, header=None, names=column_names)\n",
        "\n",
        "# One-hot encode 'Sex' column\n",
        "df = pd.get_dummies(df, columns=['Sex'], drop_first=False)\n",
        "\n",
        "# Filter out rows where 'Height' is greater than 0.5\n",
        "indices_to_drop = df[df['Height'] > 0.5].index\n",
        "df.drop(indices_to_drop, inplace=True)\n",
        "\n",
        "# Select relevant features for the regression model (we use Length to predict Rings)\n",
        "X = df[['Length']].values\n",
        "y = df['Rings'].values\n",
        "\n",
        "# Step 1: Fit a linear regression model to the observed data\n",
        "model = LinearRegression()\n",
        "model.fit(X, y)\n",
        "y_pred = model.predict(X)\n",
        "r2_observed = r2_score(y, y_pred)  # R² as the goodness-of-fit measure\n",
        "print(f'Observed R²: {r2_observed:.3f}')\n",
        "\n",
        "# Step 2: Simulate new datasets under the fitted model\n",
        "n_simulations = 1000\n",
        "r2_simulated = []\n",
        "\n",
        "# Calculate the standard deviation of the residuals (noise in the data)\n",
        "residuals = y - y_pred\n",
        "noise_std = np.std(residuals)\n",
        "\n",
        "# Function to simulate new datasets based on the fitted model\n",
        "def simulate_dataset(model, X, noise_std):\n",
        "    y_simulated = model.predict(X) + np.random.normal(0, noise_std, X.shape[0])\n",
        "    return y_simulated\n",
        "\n",
        "# Simulate datasets and refit the model for each simulated dataset\n",
        "for _ in range(n_simulations):\n",
        "    y_sim = simulate_dataset(model, X, noise_std)\n",
        "    model_sim = LinearRegression()\n",
        "    model_sim.fit(X, y_sim)\n",
        "    y_sim_pred = model_sim.predict(X)\n",
        "    r2_simulated.append(r2_score(y_sim, y_sim_pred))\n",
        "\n",
        "# Step 3: Create an interactive Plotly histogram of simulated R² scores\n",
        "fig = px.histogram(r2_simulated, nbins=30, title=\"Simulated Distribution of R²\", labels={'value': 'R²'})\n",
        "fig.add_vline(x=r2_observed, line_dash=\"dash\", line_color=\"red\", annotation_text=f\"Observed R² = {r2_observed:.3f}\")\n",
        "\n",
        "# Customize the layout\n",
        "fig.update_layout(\n",
        "    xaxis_title='R²',\n",
        "    yaxis_title='Frequency',\n",
        "    title_x=0.5,\n",
        "    showlegend=False\n",
        ")\n",
        "\n",
        "# Show the interactive plot\n",
        "fig.show()\n",
        "\n",
        "# Step 4: Compute the proportion of simulations with R² less than or equal to the observed value\n",
        "p_value = np.mean(np.array(r2_simulated) <= r2_observed)\n",
        "print(f'P-value: {p_value:.3f}')"
      ],
      "metadata": {
        "colab": {
          "base_uri": "https://localhost:8080/",
          "height": 577
        },
        "id": "vEnoJoSxpgLA",
        "outputId": "e349fc2d-f300-4abb-bc0d-c01b2bfd54da"
      },
      "execution_count": null,
      "outputs": [
        {
          "output_type": "stream",
          "name": "stdout",
          "text": [
            "Observed R²: 0.310\n"
          ]
        },
        {
          "output_type": "display_data",
          "data": {
            "text/html": [
              "<html>\n",
              "<head><meta charset=\"utf-8\" /></head>\n",
              "<body>\n",
              "    <div>            <script src=\"https://cdnjs.cloudflare.com/ajax/libs/mathjax/2.7.5/MathJax.js?config=TeX-AMS-MML_SVG\"></script><script type=\"text/javascript\">if (window.MathJax && window.MathJax.Hub && window.MathJax.Hub.Config) {window.MathJax.Hub.Config({SVG: {font: \"STIX-Web\"}});}</script>                <script type=\"text/javascript\">window.PlotlyConfig = {MathJaxConfig: 'local'};</script>\n",
              "        <script charset=\"utf-8\" src=\"https://cdn.plot.ly/plotly-2.35.2.min.js\"></script>                <div id=\"1dc241e9-e311-4f07-82eb-630a59b9fe31\" class=\"plotly-graph-div\" style=\"height:525px; width:100%;\"></div>            <script type=\"text/javascript\">                                    window.PLOTLYENV=window.PLOTLYENV || {};                                    if (document.getElementById(\"1dc241e9-e311-4f07-82eb-630a59b9fe31\")) {                    Plotly.newPlot(                        \"1dc241e9-e311-4f07-82eb-630a59b9fe31\",                        [{\"alignmentgroup\":\"True\",\"bingroup\":\"x\",\"hovertemplate\":\"variable=0\\u003cbr\\u003eR\\u00b2=%{x}\\u003cbr\\u003ecount=%{y}\\u003cextra\\u003e\\u003c\\u002fextra\\u003e\",\"legendgroup\":\"0\",\"marker\":{\"color\":\"#636efa\",\"pattern\":{\"shape\":\"\"}},\"name\":\"0\",\"nbinsx\":30,\"offsetgroup\":\"0\",\"orientation\":\"v\",\"showlegend\":true,\"x\":[0.32495223103211657,0.3129243680371113,0.3107151286496115,0.2948339780550716,0.2955022113560093,0.3022748509130687,0.3187510615320316,0.30260951895978816,0.3099255191406407,0.31116858448624296,0.29844352301092747,0.31448409046497694,0.32987347110621934,0.3019425827675766,0.2926019803564389,0.3105268468920801,0.3262483431325265,0.30345083040327403,0.3048942955131283,0.3165888504302484,0.31683309019330974,0.31895662264273605,0.2990748611794791,0.303809158501786,0.30972011856509274,0.30993242547358446,0.296237675396112,0.2949040558420791,0.3068420312153527,0.296042058215389,0.3043013829314545,0.29637661386878567,0.3012901385224145,0.3123918573999692,0.3321305987135318,0.30223345221886244,0.2984908974184378,0.3135501952148251,0.3039472224332326,0.31178532377637247,0.30362588389139356,0.302358805073886,0.29936608043058477,0.2870301115613296,0.30584840298591043,0.3024255014444438,0.298015913006233,0.3075647970295058,0.3327802319991918,0.30623641869440066,0.30793110185885575,0.3138298325188389,0.31504636149122645,0.3125389357502636,0.31284798167553984,0.30218445325031607,0.30409866764534654,0.2937156093404505,0.30468526715676625,0.31154954468236573,0.2812903468251622,0.30148749882522174,0.2713906196616176,0.28851261932637595,0.31446099081157397,0.3136942014040289,0.3001489376073796,0.3243536123107078,0.30242957671806936,0.31339551685447764,0.3172990897738559,0.3147207736588189,0.29771043371503136,0.29469159924394706,0.29572834431790074,0.306768224585266,0.3258763141893546,0.30652619070609766,0.2943117300149085,0.31836426947132035,0.30620546739582155,0.3123606068813035,0.3241162628125044,0.30404902947479595,0.31862717327352474,0.2870097975181922,0.3099051947375203,0.310035800990182,0.29330553466249076,0.31076870334459494,0.3144534832174066,0.3161993807721801,0.3213870931333035,0.3053778815818503,0.2975286157564584,0.3023281012493536,0.32538705099086074,0.3192303266602864,0.2853883416691555,0.3107125209583985,0.3026397271253508,0.3323352963632227,0.3012156997135008,0.3236532723497526,0.2991856904960064,0.29689845429282535,0.311053433540721,0.31650148287003443,0.28981176497509564,0.2923870673468484,0.3143268630407978,0.29750120474674135,0.3135044695459204,0.3081318954404789,0.30948237068321205,0.3115001396499031,0.28858749041504506,0.33725728229104046,0.3073546806096601,0.3024872346000469,0.31067228854562,0.3140081213486572,0.32381435100786127,0.3101760986320915,0.3090256510299778,0.3092066854296134,0.31569636420331415,0.3254651916974325,0.3082583923747191,0.3148588684918735,0.31570393819166054,0.2982567403728098,0.3089665240805902,0.309469268826167,0.3163935967509913,0.31731212551257304,0.31335551498682035,0.3189317548011037,0.31298430213391426,0.3111126323201052,0.3000737017711196,0.29539496051658665,0.302717904238088,0.32460602042883324,0.2938340298760199,0.3114571630472256,0.30978464552817697,0.3126269344303332,0.31183846311717833,0.31487018589159177,0.30208952157943103,0.34118260552348123,0.31430777635962415,0.31620579562788087,0.30947218066253157,0.30529397093987376,0.3131881662336282,0.3058005343846003,0.3167252541245623,0.3115113419339608,0.31066067386418594,0.3234444194427146,0.30723613679641304,0.3153075335532739,0.2988694327807926,0.30705839180863226,0.32143245593296454,0.3167479492430417,0.3043153105455615,0.32237553065427627,0.3198713950036599,0.30132989640559427,0.2962941826318978,0.32148334028482906,0.3075006577431083,0.31764434924835994,0.30704562163933846,0.3048804520909614,0.30296410266499363,0.32426944089343124,0.31025273534148434,0.3157957672978078,0.31111917298058644,0.31412542774297625,0.29288669031552816,0.3070356169170262,0.3089680333670404,0.2980735703531082,0.3046543418601898,0.3118762697991184,0.31436369134384934,0.3119610850200544,0.2891771924788886,0.296346663385724,0.3072631566508638,0.28899702846247965,0.33713004347937403,0.3219867291723413,0.3233163530434897,0.31277487104127943,0.3297144402590537,0.31753981646965945,0.29788483050044734,0.29507097738957433,0.3184048499622484,0.3230392329461398,0.31815039848905746,0.3043448644061756,0.2991128812495668,0.3086918366368775,0.3259988271439873,0.31848302104200577,0.29550232235407226,0.3152052118562759,0.2908829783714457,0.310945041822451,0.325689529930141,0.3189378653788737,0.30055452506271585,0.29441360147793805,0.3247140586569115,0.327990382808521,0.31439945777536127,0.2992792814878559,0.29678090302680704,0.2831353828217933,0.3346617119461439,0.2960013000818412,0.30879316093578957,0.2989833463892805,0.3093747181672617,0.3009919765010557,0.31732417561111814,0.3172952360609601,0.32007228962266887,0.3195757874578633,0.31645721028049145,0.3039276623950756,0.31955261215312947,0.29716303223864815,0.2982087737072673,0.31121866163592216,0.29156670916649674,0.32087993570428563,0.3212767895029539,0.30870624129605495,0.2973430418617615,0.2974941012843946,0.296743537571192,0.3126473883213903,0.3004029328221296,0.31822080283072574,0.2996584529638686,0.3145024343732159,0.31249948062029886,0.3214473642353314,0.3294573470891876,0.306908456443189,0.32200127977185666,0.31070329553174736,0.3078135797598317,0.329231235870745,0.308285865829376,0.29674868729611414,0.30382442716450353,0.3077401226900801,0.2980822799660544,0.3129749431195732,0.2987767948479578,0.306129972686945,0.3136068373424792,0.297826625558655,0.3190850691421282,0.31638246427051864,0.31175563608262524,0.2988347415246657,0.3235262700875817,0.3173095868283792,0.3122433464071396,0.30755426821841936,0.3204404010425541,0.32630202136495867,0.31336167941902715,0.31075883034897167,0.29921603820356035,0.3193470133208527,0.3002097446272757,0.3061324910433074,0.3249002317498999,0.29934179187642607,0.3009656870333709,0.2919713605605462,0.3014479430406036,0.31955600499095915,0.29872847776327616,0.3095321789729981,0.3056060037454822,0.3140130797241837,0.2975416525461959,0.3137926330361215,0.30747569774757855,0.32582376399974855,0.3091985410100232,0.30917431717982036,0.29483634931282177,0.30129752101335994,0.30867985930271236,0.31717910132977944,0.3156708089764121,0.28921976971278707,0.29794242557588146,0.3198943585499766,0.31524099917144754,0.3382581483498306,0.31018639342853904,0.3168082281909993,0.30360311467648715,0.29132546220380207,0.328399737790783,0.3098129111631869,0.29899406955469643,0.3035264232691466,0.3245812071920299,0.30791821456305524,0.30465585958989383,0.30797863567651096,0.30370015562660135,0.31103381057071366,0.30719331656982685,0.2958376058999025,0.28159039713279654,0.3071447336923768,0.31058226918304666,0.3016025958440004,0.30570882253230125,0.3219883809854258,0.3008693232268679,0.3163258528768318,0.3032203736093627,0.30001608324381057,0.30451429555246257,0.32775262260064064,0.3034287146981287,0.3420511549708687,0.3227008466973682,0.2998297384081874,0.30561657253922236,0.2972203981924265,0.3186415840787846,0.30725896515203277,0.3131479656904391,0.30520247380886945,0.30715721316550515,0.29087214590023747,0.3038134796030746,0.318781242417411,0.3026388691052915,0.3180015430554093,0.312093703450555,0.3092950093341019,0.3043693670834534,0.3232501615962543,0.3317133328725739,0.31579898830430964,0.32331033789075114,0.3102216771307724,0.3248486357609002,0.3321813213234114,0.30508890956449375,0.3271834382579444,0.28502075851935893,0.30489906404802203,0.3305036756730282,0.31667710079305267,0.30683990184924503,0.3365050403149352,0.3030172442209924,0.3311854635683542,0.3281917645472743,0.30481628183021625,0.30712706053441474,0.2996446503853796,0.32587911353219645,0.31088449808409635,0.29646322450707385,0.3003248497828125,0.2987084070540139,0.31169145110543073,0.313885112489219,0.31265657117101486,0.3210302499026245,0.3204651373125984,0.31462197194226915,0.29639111572169385,0.28718121479063186,0.29531621426320454,0.3288961899398556,0.3037192961157634,0.3122902857843749,0.32088686828321955,0.3039857590285201,0.32565104113530474,0.29598277447707544,0.2937918801779116,0.3283627232089278,0.3137058844539943,0.31748012537844106,0.306570374323308,0.3103614758651658,0.29283359396277353,0.30410692983085585,0.3004128620022798,0.29406020283237067,0.3076323926191338,0.3030411678225545,0.31145896563638686,0.33111329739328244,0.30583129456125335,0.30694697639895396,0.3082717149903579,0.3087866686479416,0.30203769159833194,0.3139882263569973,0.3130207835249581,0.3210401619226879,0.3302275245278319,0.3006734942238106,0.30518396593832997,0.3208183426009187,0.325127654402541,0.2896776128903289,0.30606400094349706,0.32668653367911593,0.32474571490326065,0.3045259636635864,0.2977641516597097,0.3112921157109858,0.3230660773630275,0.31513564460313925,0.2950644670921564,0.30736052814329706,0.2974161045468803,0.3137713757080266,0.2991378489732127,0.3317983574198141,0.32467912604015403,0.3110164539364968,0.3144506833571752,0.30572643038195335,0.3179114021779502,0.31771661393693085,0.31040889999820376,0.317564407566191,0.3368405931910199,0.31465005047986927,0.3338258199692188,0.2933610885540753,0.3008094442924997,0.30232718032699957,0.3173970874336506,0.2923188214052591,0.3074718938358614,0.31789485156309827,0.31117474416048385,0.31227296124549875,0.30988684773268915,0.30381713374939856,0.29435004562887856,0.30464318867421347,0.30809139178812706,0.3157599742514864,0.29906916635249625,0.2976176858283077,0.3008132732610127,0.3130915969984386,0.31652075130619073,0.3087155428807732,0.3147425331366255,0.29541812375895016,0.3078644703805562,0.30390476929124943,0.31790383080920503,0.3166525965648599,0.31404625599839564,0.31432511445555567,0.30977078632700983,0.29565501900939695,0.3234577498255077,0.31141010696329285,0.29091476555881834,0.32620413195215014,0.30147092014886223,0.2974099019761389,0.3242455814662968,0.3229838369604431,0.31924425044786053,0.3289080324844067,0.30591691543541166,0.3003973355505545,0.3048217021483307,0.3279258508544579,0.3174396626799112,0.2907661822615838,0.3117847019749026,0.3149657256641011,0.29162400318188764,0.3202431183514367,0.30321193506361543,0.31079003726476906,0.31513757372923346,0.3323307910784177,0.31915538258400833,0.3048225039195588,0.3098729673897276,0.2992886082902739,0.288658595025315,0.30589666470385446,0.3354365707920064,0.2974006734761201,0.3059958982793365,0.3258743698433314,0.31222806637718115,0.3066944489124527,0.3138285235487174,0.3064608586033184,0.28007141929082613,0.3041640706389104,0.31458563893314717,0.3204532592978082,0.30744338801419924,0.3092259069955212,0.31681194223472064,0.3210914292991178,0.31876472594707483,0.3014369808292683,0.3012067895596937,0.3217529816405661,0.3151232353028822,0.3059090726102657,0.32724841958449,0.3136074813542137,0.3226253632102154,0.31062654430005865,0.30407520314541925,0.3132150884663458,0.3051499142098547,0.32568780465662095,0.3137435582327852,0.3099384220664586,0.32087140190722285,0.30719893065169734,0.3271836145743293,0.3110851158940069,0.30882045627942933,0.30827782278130933,0.3066830262807575,0.2941874929383166,0.3214593754164915,0.30446841348493303,0.313450569207408,0.334797481936293,0.32496053028255456,0.30495199543685947,0.2953976348252294,0.3126608857081965,0.32501859025369506,0.3078891643768563,0.2902822770753992,0.30501735568588517,0.2929516912425475,0.28965317667938917,0.29526440616227745,0.31603993800648633,0.3243373908413876,0.3272090515799464,0.31755156799465223,0.3022863630971865,0.2789087805978606,0.30183592362684986,0.31658262314693086,0.3191254235092289,0.3117331786298019,0.31139812247602805,0.32047730870463864,0.30299167476169453,0.30166621370377456,0.30478793361594125,0.3248940385898721,0.30256721368004147,0.29183982585945945,0.3221014886236251,0.3050536076318925,0.3186984321391205,0.30008829294635164,0.314399353571974,0.3179754003076568,0.30637880347658386,0.3100208565634719,0.32260799322564504,0.2970762732268908,0.3142076088188802,0.3109562809428069,0.30545816155771366,0.30713794556111074,0.30806075404963307,0.30857300920431385,0.3031055751979982,0.32559732085056237,0.2959089343816925,0.30494377326152433,0.31988852663759526,0.30787630195096316,0.31506966304772,0.30356491771540606,0.33241058648365596,0.30812916162545756,0.3086976225099761,0.3235972910089864,0.2965893022751711,0.3146243541040371,0.3196743655512325,0.29919650699826117,0.3220812048054037,0.31888670187163104,0.3075342935477625,0.3048896172165655,0.29526599998858083,0.2957720207500115,0.29716705574723534,0.2958214011024577,0.3179623242610491,0.3080710328894134,0.30711296885162087,0.31687532928801954,0.3142421829413654,0.30929391843902065,0.31552845902990634,0.2887475680870215,0.3195014076866677,0.31293308196019254,0.29306378630539076,0.2948463906162847,0.31802197437541735,0.29113204848519403,0.318532591853409,0.2891151161660741,0.3188992541037665,0.31641448707966546,0.3029881924055029,0.31793675643029096,0.3136312901662137,0.3208699824537603,0.3088404973406059,0.3124135659078897,0.31645655988030186,0.31094072822155294,0.32464151174114786,0.3082500386576489,0.32185820779237695,0.3081767971627126,0.2847103642332395,0.30697358892682025,0.2876291746714419,0.29585218412589165,0.31752507671526287,0.32355634637830444,0.31162784831351154,0.2995995186177627,0.32456432869521057,0.3028748940125757,0.30695668467956094,0.32192313677247064,0.3233942932007027,0.3376721547893169,0.30691616356301454,0.31037476607557,0.32724002264328667,0.3001661825986839,0.31701740038164195,0.3189086533332346,0.3086474600950079,0.30005668044196565,0.3138244667651844,0.3200580225318287,0.3045594135466976,0.33510887165916314,0.31348153686719304,0.3095885072247111,0.30430556175304,0.31311311296292343,0.2957521616835299,0.32665419698700615,0.31540426260906507,0.30142058610529554,0.32813551156279985,0.3064502654914538,0.3103521807745998,0.3121034501332821,0.3194831581721991,0.30487701215913265,0.3089221213519725,0.29425158418915376,0.3045476504475092,0.30143202860652507,0.30783574027268046,0.3194425583968096,0.3167944736884323,0.3018568100072694,0.3041394200899553,0.2921601900009906,0.33056588080298566,0.3298647927019507,0.3142189201484993,0.3162583582685562,0.3310811516431975,0.30192109283155033,0.3186588020631448,0.30020504765153955,0.32447367432831,0.3154551481888288,0.30064429456330843,0.319683579161809,0.3031619533537404,0.3120830543570303,0.3075670050751297,0.30706732511377477,0.3039010520134775,0.3010091313581881,0.3039348855657078,0.28812603926846436,0.31261251481839514,0.3093896394837534,0.29754351575625815,0.2930574312633638,0.3085942571684992,0.31516545733690327,0.2914714088274547,0.32132564536065966,0.33012836811406654,0.2878831739713932,0.31548692408408785,0.293736023533816,0.31427098174114976,0.3220769835665196,0.3011051985268147,0.32319056306895577,0.30901556322023416,0.31011021633909297,0.3029849826782849,0.29889695945903594,0.30305426416050074,0.3018661490520269,0.321765455331145,0.30541141852220843,0.2960953262160638,0.29984370085215983,0.2816215146410077,0.3094619320720161,0.3042477546715976,0.3094908392243809,0.303305881079452,0.295999567419584,0.309109098267056,0.3068742150735123,0.3235754817155029,0.31070839305292286,0.30925432694449473,0.3296157174131261,0.30251730246770525,0.2878006858037906,0.2921635054126337,0.30571076824618526,0.30457311044231017,0.3093150665903798,0.31818204585040144,0.31507879391210913,0.3067201480292545,0.3234910787929637,0.29837035512601295,0.30260054919364965,0.31640257623161694,0.3265154057774724,0.2874777722134061,0.28359397146062293,0.32185058483328843,0.30396112966293554,0.29793328097513927,0.3120088266650325,0.3098627049656938,0.3158376160854547,0.3088381827361303,0.31464650663181826,0.3104958497382805,0.3276056911837272,0.3045874594012573,0.31787275412450344,0.3259419522322182,0.31822102872325075,0.30308120790064097,0.30616982226896505,0.32484476999589884,0.32133094107183047,0.31024537460256696,0.32239295276815316,0.299852425424712,0.30076298580900573,0.3091841170248524,0.30493376772936476,0.3155571642323042,0.31974565100440877,0.3054364058817708,0.31777541426674805,0.2980857527218954,0.33041360463059033,0.31650014263754234,0.2899363874903682,0.30010301489432456,0.3005680574361077,0.3239286870123633,0.30879706871425205,0.3128998592185551,0.3169784469115968,0.30821919356180094,0.3111513568440456,0.3363497393148742,0.3232137480431527,0.3203076780810411,0.3047914695662073,0.31680650253725273,0.30642527434730127,0.30225996547420775,0.31083373961223626,0.3032738858932139,0.2934821426596612,0.30729049845886525,0.32265710690735283,0.3012362665660633,0.2983116398611819,0.29899226987842464,0.2984025322565067,0.2959017102021644,0.3178323058881979,0.3185081339356898,0.3217244681087593,0.2904706209888053,0.2969865884297507,0.30211698127136943,0.3152630926426532,0.32931114167187847,0.3111133970483799,0.31186036416939855,0.3205326810488667,0.3047582767459689,0.30280990985554135,0.30807364371544843,0.3131644798619,0.3126900475719605,0.3345846809957773,0.3262734977164835,0.29513761693962937,0.32649106528550054,0.32865697394015203,0.29829655010971623,0.2997108733885606,0.3177538241769131,0.3217443533869796,0.29632267766187215,0.30534258875669107,0.3272454312588229,0.31690627650012215,0.3102260401565682,0.3126765638516582,0.3198971094882377,0.32480995277131786,0.31389474857308375,0.3007582449051689,0.3089320400071176,0.31997092205323385,0.3107539807851686,0.31147529256060136,0.3124213013995595,0.3060152654622149,0.3099062365888695,0.31693338019739226,0.315760998412111,0.30205206556052844,0.30902648351592676,0.3020675576170282,0.3197382874151835,0.31793945503265264,0.31865855452588343,0.3097926681271155,0.31382212283974265,0.30795992923766013,0.3026266892674784,0.3130259075861084,0.3101802199077298,0.32901174575275227,0.32080442672630993,0.3176528626370695,0.30583036130068075,0.300852037774764,0.3078187774505854,0.31131658964284925,0.3248788999505705,0.31036465999508134,0.3124523908530247,0.2982921596609468,0.31172805565100803,0.313397207750994,0.3123142506868557,0.2970014349048955,0.3096625496028521,0.3310367135633039,0.308302748424256,0.3134401932981069,0.31784018495678157,0.2986748645548948,0.30905574668133706,0.32144833712965437,0.2981071471281441,0.3070805329441987,0.3095883621640476,0.32379849986878295,0.3058602370811545,0.32029051586827506,0.31361881658582,0.3092746391322637,0.30275730370802667,0.3085259925787386,0.2950830499758521,0.3019463522040984,0.30032384255536526,0.30776940500311,0.3031668763972035,0.3114663026372948,0.3276834209042153,0.30628771756040485,0.3008639274795478,0.3063136820676974,0.30100045861150704,0.3095852591157313,0.32321412552456075,0.324997702420339,0.30131343137728783,0.31514293494088164,0.31790518820051206,0.3067437505687217,0.3262100821414692,0.3150828214570862,0.3105994063067101,0.3144159828756269,0.3345972676889124,0.3189213771145064,0.2997092864245199,0.32724520355490316,0.3108979272225241,0.30988162375065087,0.33297723759656694,0.31058579938141606,0.31899751875227833,0.31734518364078323,0.3171069524463337,0.29909200416185044,0.2933134843110635,0.298718319652282,0.3036118709784966,0.31221815987333956,0.3111827740692037,0.31864831731011267,0.31154830508479714,0.3155608066541107,0.31416945335781266,0.31524916123846625,0.28919756967653176,0.3049913161764678,0.3036073962025285,0.29834761388869946,0.2973073913625014,0.3085386288186003,0.2954302381596122,0.29562682667292883,0.3188639614599409,0.31765091677627877,0.295156485881346,0.3110246484465483,0.31658153062396455,0.30456143843600136,0.30451891188508295,0.32867320225945373,0.2997455714599101,0.3038554475474077,0.3054937159771919,0.3013180693550225,0.3023478855265973,0.32821473054480443,0.31405261820300545,0.3028931162861599,0.3118847084017333,0.3034112911409874],\"xaxis\":\"x\",\"yaxis\":\"y\",\"type\":\"histogram\"}],                        {\"template\":{\"data\":{\"histogram2dcontour\":[{\"type\":\"histogram2dcontour\",\"colorbar\":{\"outlinewidth\":0,\"ticks\":\"\"},\"colorscale\":[[0.0,\"#0d0887\"],[0.1111111111111111,\"#46039f\"],[0.2222222222222222,\"#7201a8\"],[0.3333333333333333,\"#9c179e\"],[0.4444444444444444,\"#bd3786\"],[0.5555555555555556,\"#d8576b\"],[0.6666666666666666,\"#ed7953\"],[0.7777777777777778,\"#fb9f3a\"],[0.8888888888888888,\"#fdca26\"],[1.0,\"#f0f921\"]]}],\"choropleth\":[{\"type\":\"choropleth\",\"colorbar\":{\"outlinewidth\":0,\"ticks\":\"\"}}],\"histogram2d\":[{\"type\":\"histogram2d\",\"colorbar\":{\"outlinewidth\":0,\"ticks\":\"\"},\"colorscale\":[[0.0,\"#0d0887\"],[0.1111111111111111,\"#46039f\"],[0.2222222222222222,\"#7201a8\"],[0.3333333333333333,\"#9c179e\"],[0.4444444444444444,\"#bd3786\"],[0.5555555555555556,\"#d8576b\"],[0.6666666666666666,\"#ed7953\"],[0.7777777777777778,\"#fb9f3a\"],[0.8888888888888888,\"#fdca26\"],[1.0,\"#f0f921\"]]}],\"heatmap\":[{\"type\":\"heatmap\",\"colorbar\":{\"outlinewidth\":0,\"ticks\":\"\"},\"colorscale\":[[0.0,\"#0d0887\"],[0.1111111111111111,\"#46039f\"],[0.2222222222222222,\"#7201a8\"],[0.3333333333333333,\"#9c179e\"],[0.4444444444444444,\"#bd3786\"],[0.5555555555555556,\"#d8576b\"],[0.6666666666666666,\"#ed7953\"],[0.7777777777777778,\"#fb9f3a\"],[0.8888888888888888,\"#fdca26\"],[1.0,\"#f0f921\"]]}],\"heatmapgl\":[{\"type\":\"heatmapgl\",\"colorbar\":{\"outlinewidth\":0,\"ticks\":\"\"},\"colorscale\":[[0.0,\"#0d0887\"],[0.1111111111111111,\"#46039f\"],[0.2222222222222222,\"#7201a8\"],[0.3333333333333333,\"#9c179e\"],[0.4444444444444444,\"#bd3786\"],[0.5555555555555556,\"#d8576b\"],[0.6666666666666666,\"#ed7953\"],[0.7777777777777778,\"#fb9f3a\"],[0.8888888888888888,\"#fdca26\"],[1.0,\"#f0f921\"]]}],\"contourcarpet\":[{\"type\":\"contourcarpet\",\"colorbar\":{\"outlinewidth\":0,\"ticks\":\"\"}}],\"contour\":[{\"type\":\"contour\",\"colorbar\":{\"outlinewidth\":0,\"ticks\":\"\"},\"colorscale\":[[0.0,\"#0d0887\"],[0.1111111111111111,\"#46039f\"],[0.2222222222222222,\"#7201a8\"],[0.3333333333333333,\"#9c179e\"],[0.4444444444444444,\"#bd3786\"],[0.5555555555555556,\"#d8576b\"],[0.6666666666666666,\"#ed7953\"],[0.7777777777777778,\"#fb9f3a\"],[0.8888888888888888,\"#fdca26\"],[1.0,\"#f0f921\"]]}],\"surface\":[{\"type\":\"surface\",\"colorbar\":{\"outlinewidth\":0,\"ticks\":\"\"},\"colorscale\":[[0.0,\"#0d0887\"],[0.1111111111111111,\"#46039f\"],[0.2222222222222222,\"#7201a8\"],[0.3333333333333333,\"#9c179e\"],[0.4444444444444444,\"#bd3786\"],[0.5555555555555556,\"#d8576b\"],[0.6666666666666666,\"#ed7953\"],[0.7777777777777778,\"#fb9f3a\"],[0.8888888888888888,\"#fdca26\"],[1.0,\"#f0f921\"]]}],\"mesh3d\":[{\"type\":\"mesh3d\",\"colorbar\":{\"outlinewidth\":0,\"ticks\":\"\"}}],\"scatter\":[{\"fillpattern\":{\"fillmode\":\"overlay\",\"size\":10,\"solidity\":0.2},\"type\":\"scatter\"}],\"parcoords\":[{\"type\":\"parcoords\",\"line\":{\"colorbar\":{\"outlinewidth\":0,\"ticks\":\"\"}}}],\"scatterpolargl\":[{\"type\":\"scatterpolargl\",\"marker\":{\"colorbar\":{\"outlinewidth\":0,\"ticks\":\"\"}}}],\"bar\":[{\"error_x\":{\"color\":\"#2a3f5f\"},\"error_y\":{\"color\":\"#2a3f5f\"},\"marker\":{\"line\":{\"color\":\"#E5ECF6\",\"width\":0.5},\"pattern\":{\"fillmode\":\"overlay\",\"size\":10,\"solidity\":0.2}},\"type\":\"bar\"}],\"scattergeo\":[{\"type\":\"scattergeo\",\"marker\":{\"colorbar\":{\"outlinewidth\":0,\"ticks\":\"\"}}}],\"scatterpolar\":[{\"type\":\"scatterpolar\",\"marker\":{\"colorbar\":{\"outlinewidth\":0,\"ticks\":\"\"}}}],\"histogram\":[{\"marker\":{\"pattern\":{\"fillmode\":\"overlay\",\"size\":10,\"solidity\":0.2}},\"type\":\"histogram\"}],\"scattergl\":[{\"type\":\"scattergl\",\"marker\":{\"colorbar\":{\"outlinewidth\":0,\"ticks\":\"\"}}}],\"scatter3d\":[{\"type\":\"scatter3d\",\"line\":{\"colorbar\":{\"outlinewidth\":0,\"ticks\":\"\"}},\"marker\":{\"colorbar\":{\"outlinewidth\":0,\"ticks\":\"\"}}}],\"scattermapbox\":[{\"type\":\"scattermapbox\",\"marker\":{\"colorbar\":{\"outlinewidth\":0,\"ticks\":\"\"}}}],\"scatterternary\":[{\"type\":\"scatterternary\",\"marker\":{\"colorbar\":{\"outlinewidth\":0,\"ticks\":\"\"}}}],\"scattercarpet\":[{\"type\":\"scattercarpet\",\"marker\":{\"colorbar\":{\"outlinewidth\":0,\"ticks\":\"\"}}}],\"carpet\":[{\"aaxis\":{\"endlinecolor\":\"#2a3f5f\",\"gridcolor\":\"white\",\"linecolor\":\"white\",\"minorgridcolor\":\"white\",\"startlinecolor\":\"#2a3f5f\"},\"baxis\":{\"endlinecolor\":\"#2a3f5f\",\"gridcolor\":\"white\",\"linecolor\":\"white\",\"minorgridcolor\":\"white\",\"startlinecolor\":\"#2a3f5f\"},\"type\":\"carpet\"}],\"table\":[{\"cells\":{\"fill\":{\"color\":\"#EBF0F8\"},\"line\":{\"color\":\"white\"}},\"header\":{\"fill\":{\"color\":\"#C8D4E3\"},\"line\":{\"color\":\"white\"}},\"type\":\"table\"}],\"barpolar\":[{\"marker\":{\"line\":{\"color\":\"#E5ECF6\",\"width\":0.5},\"pattern\":{\"fillmode\":\"overlay\",\"size\":10,\"solidity\":0.2}},\"type\":\"barpolar\"}],\"pie\":[{\"automargin\":true,\"type\":\"pie\"}]},\"layout\":{\"autotypenumbers\":\"strict\",\"colorway\":[\"#636efa\",\"#EF553B\",\"#00cc96\",\"#ab63fa\",\"#FFA15A\",\"#19d3f3\",\"#FF6692\",\"#B6E880\",\"#FF97FF\",\"#FECB52\"],\"font\":{\"color\":\"#2a3f5f\"},\"hovermode\":\"closest\",\"hoverlabel\":{\"align\":\"left\"},\"paper_bgcolor\":\"white\",\"plot_bgcolor\":\"#E5ECF6\",\"polar\":{\"bgcolor\":\"#E5ECF6\",\"angularaxis\":{\"gridcolor\":\"white\",\"linecolor\":\"white\",\"ticks\":\"\"},\"radialaxis\":{\"gridcolor\":\"white\",\"linecolor\":\"white\",\"ticks\":\"\"}},\"ternary\":{\"bgcolor\":\"#E5ECF6\",\"aaxis\":{\"gridcolor\":\"white\",\"linecolor\":\"white\",\"ticks\":\"\"},\"baxis\":{\"gridcolor\":\"white\",\"linecolor\":\"white\",\"ticks\":\"\"},\"caxis\":{\"gridcolor\":\"white\",\"linecolor\":\"white\",\"ticks\":\"\"}},\"coloraxis\":{\"colorbar\":{\"outlinewidth\":0,\"ticks\":\"\"}},\"colorscale\":{\"sequential\":[[0.0,\"#0d0887\"],[0.1111111111111111,\"#46039f\"],[0.2222222222222222,\"#7201a8\"],[0.3333333333333333,\"#9c179e\"],[0.4444444444444444,\"#bd3786\"],[0.5555555555555556,\"#d8576b\"],[0.6666666666666666,\"#ed7953\"],[0.7777777777777778,\"#fb9f3a\"],[0.8888888888888888,\"#fdca26\"],[1.0,\"#f0f921\"]],\"sequentialminus\":[[0.0,\"#0d0887\"],[0.1111111111111111,\"#46039f\"],[0.2222222222222222,\"#7201a8\"],[0.3333333333333333,\"#9c179e\"],[0.4444444444444444,\"#bd3786\"],[0.5555555555555556,\"#d8576b\"],[0.6666666666666666,\"#ed7953\"],[0.7777777777777778,\"#fb9f3a\"],[0.8888888888888888,\"#fdca26\"],[1.0,\"#f0f921\"]],\"diverging\":[[0,\"#8e0152\"],[0.1,\"#c51b7d\"],[0.2,\"#de77ae\"],[0.3,\"#f1b6da\"],[0.4,\"#fde0ef\"],[0.5,\"#f7f7f7\"],[0.6,\"#e6f5d0\"],[0.7,\"#b8e186\"],[0.8,\"#7fbc41\"],[0.9,\"#4d9221\"],[1,\"#276419\"]]},\"xaxis\":{\"gridcolor\":\"white\",\"linecolor\":\"white\",\"ticks\":\"\",\"title\":{\"standoff\":15},\"zerolinecolor\":\"white\",\"automargin\":true,\"zerolinewidth\":2},\"yaxis\":{\"gridcolor\":\"white\",\"linecolor\":\"white\",\"ticks\":\"\",\"title\":{\"standoff\":15},\"zerolinecolor\":\"white\",\"automargin\":true,\"zerolinewidth\":2},\"scene\":{\"xaxis\":{\"backgroundcolor\":\"#E5ECF6\",\"gridcolor\":\"white\",\"linecolor\":\"white\",\"showbackground\":true,\"ticks\":\"\",\"zerolinecolor\":\"white\",\"gridwidth\":2},\"yaxis\":{\"backgroundcolor\":\"#E5ECF6\",\"gridcolor\":\"white\",\"linecolor\":\"white\",\"showbackground\":true,\"ticks\":\"\",\"zerolinecolor\":\"white\",\"gridwidth\":2},\"zaxis\":{\"backgroundcolor\":\"#E5ECF6\",\"gridcolor\":\"white\",\"linecolor\":\"white\",\"showbackground\":true,\"ticks\":\"\",\"zerolinecolor\":\"white\",\"gridwidth\":2}},\"shapedefaults\":{\"line\":{\"color\":\"#2a3f5f\"}},\"annotationdefaults\":{\"arrowcolor\":\"#2a3f5f\",\"arrowhead\":0,\"arrowwidth\":1},\"geo\":{\"bgcolor\":\"white\",\"landcolor\":\"#E5ECF6\",\"subunitcolor\":\"white\",\"showland\":true,\"showlakes\":true,\"lakecolor\":\"white\"},\"title\":{\"x\":0.05},\"mapbox\":{\"style\":\"light\"}}},\"xaxis\":{\"anchor\":\"y\",\"domain\":[0.0,1.0],\"title\":{\"text\":\"R\\u00b2\"}},\"yaxis\":{\"anchor\":\"x\",\"domain\":[0.0,1.0],\"title\":{\"text\":\"Frequency\"}},\"legend\":{\"title\":{\"text\":\"variable\"},\"tracegroupgap\":0},\"title\":{\"text\":\"Simulated Distribution of R\\u00b2\",\"x\":0.5},\"barmode\":\"relative\",\"shapes\":[{\"line\":{\"color\":\"red\",\"dash\":\"dash\"},\"type\":\"line\",\"x0\":0.310056516074379,\"x1\":0.310056516074379,\"xref\":\"x\",\"y0\":0,\"y1\":1,\"yref\":\"y domain\"}],\"annotations\":[{\"showarrow\":false,\"text\":\"Observed R\\u00b2 = 0.310\",\"x\":0.310056516074379,\"xanchor\":\"left\",\"xref\":\"x\",\"y\":1,\"yanchor\":\"top\",\"yref\":\"y domain\"}],\"showlegend\":false},                        {\"responsive\": true}                    ).then(function(){\n",
              "                            \n",
              "var gd = document.getElementById('1dc241e9-e311-4f07-82eb-630a59b9fe31');\n",
              "var x = new MutationObserver(function (mutations, observer) {{\n",
              "        var display = window.getComputedStyle(gd).display;\n",
              "        if (!display || display === 'none') {{\n",
              "            console.log([gd, 'removed!']);\n",
              "            Plotly.purge(gd);\n",
              "            observer.disconnect();\n",
              "        }}\n",
              "}});\n",
              "\n",
              "// Listen for the removal of the full notebook cells\n",
              "var notebookContainer = gd.closest('#notebook-container');\n",
              "if (notebookContainer) {{\n",
              "    x.observe(notebookContainer, {childList: true});\n",
              "}}\n",
              "\n",
              "// Listen for the clearing of the current output cell\n",
              "var outputEl = gd.closest('.output');\n",
              "if (outputEl) {{\n",
              "    x.observe(outputEl, {childList: true});\n",
              "}}\n",
              "\n",
              "                        })                };                            </script>        </div>\n",
              "</body>\n",
              "</html>"
            ]
          },
          "metadata": {}
        },
        {
          "output_type": "stream",
          "name": "stdout",
          "text": [
            "P-value: 0.515\n"
          ]
        }
      ]
    }
  ]
}