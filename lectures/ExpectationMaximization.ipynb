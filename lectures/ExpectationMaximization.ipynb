{
  "nbformat": 4,
  "nbformat_minor": 0,
  "metadata": {
    "colab": {
      "provenance": [],
      "authorship_tag": "ABX9TyOuncVhxS3ZAgyWp9CQKm5p",
      "include_colab_link": true
    },
    "kernelspec": {
      "name": "python3",
      "display_name": "Python 3"
    },
    "language_info": {
      "name": "python"
    }
  },
  "cells": [
    {
      "cell_type": "markdown",
      "metadata": {
        "id": "view-in-github",
        "colab_type": "text"
      },
      "source": [
        "<a href=\"https://colab.research.google.com/github/xesmaze/cpsc541-fall2024/blob/main/lectures/ExpectationMaximization.ipynb\" target=\"_parent\"><img src=\"https://colab.research.google.com/assets/colab-badge.svg\" alt=\"Open In Colab\"/></a>"
      ]
    },
    {
      "cell_type": "markdown",
      "source": [
        "The Expectation-Maximization (EM) algorithm is a powerful statistical technique used to estimate parameters in models with latent (unobserved) variables. It works iteratively by alternating between an E-step (Expectation) and an M-step (Maximization) until the estimates converge.\n",
        "\n",
        "The classic example for EM algorithm demo is often the coin toss by two trick coins example- however, I realized that this example is not really resonating with a life sciences audiance. So instead we will use a breeding pairs example.\n",
        "\n",
        "Let’s walk through the EM algorithm using a breeding-pairs mixed progeny record example, where we estimate the genetic contribution to traits using incomplete or hidden data, like unknown parentage or unknown genotypes of the progeny."
      ],
      "metadata": {
        "id": "wfsAXhUfUfdQ"
      }
    },
    {
      "cell_type": "markdown",
      "source": [
        "## **Problem Setup**\n",
        "\n",
        "Consider a scenario where we have a population of progeny (offspring) resulting from several breeding pairs.\n",
        "\n",
        "However, we don't fully know which progeny comes from which pair, or there are some unknowns about the genotypes or phenotypes of the parents.\n",
        "\n",
        "Imagine that for each breeding pair, the progeny population is influenced by a gender bias.\n",
        "\n",
        "This could mean that certain breeding pairs are more likely to produce male or female offspring. However, the specific assignment of progeny to each breeding pair is unknown, and the goal is to infer this assignment based on observed gender bias.\n",
        "\n",
        "### **Observed Data**\n",
        "- Gender (male/female) of each progeny.\n",
        "- Total number of progeny produced.\n",
        "- Gender bias probabilities for each breeding pair (e.g., breeding pair 1 produces 70% male offspring, pair 2 produces 40% male offspring, etc.).\n",
        "\n",
        "### **Latent (Unobserved) Data:**\n",
        "The assignment of progeny to breeding pairs.\n",
        "\n",
        "\n",
        "To solve the problem of identifying which progeny belongs to which breeding pair based on gender bias using the Expectation-Maximization (EM) algorithm, we can break down the steps programmatically.\n",
        "\n",
        "First- lets start by simplifying the problem"
      ],
      "metadata": {
        "id": "enwtyWWSU-Gy"
      }
    },
    {
      "cell_type": "markdown",
      "source": [
        "### **Assumptions & Process Steps**\n",
        "\n",
        "- We have 3 breeding pairs with known gender biases.\n",
        "- We know the gender of each progeny but not which pair they came from.\n",
        "- We also know that each mating pair have a different gender bias for producing progeny.\n",
        "- We will iterate the EM steps to update the probabilities of progeny assignments.\n",
        "\n",
        "1. Initialization\n",
        "\n",
        "  - Set initial probabilities for gender biases\n",
        "  - Randomly assign initial probabilities for progeny-pair assignments.\n",
        "\n",
        "2. Expectation Step\n",
        "\n",
        "  - Calculate the probability that each progeny belongs to each pair based on their gender and current gender bias estimates.\n",
        "  \n",
        "3. Maximization Step\n",
        "\n",
        "  - Update the gender bias estimates and the proportion of progeny assigned to each pair.\n",
        "\n",
        "4. Iteration\n",
        "\n",
        " - Repeat E-step and M-step until convergence to the values that was implied for the breeding pairs."
      ],
      "metadata": {
        "id": "EtE6l1wmWg-2"
      }
    },
    {
      "cell_type": "code",
      "execution_count": null,
      "metadata": {
        "colab": {
          "base_uri": "https://localhost:8080/"
        },
        "id": "amF7__r9Ua08",
        "outputId": "892c6b0d-b1ba-4628-bb7d-7289642c0a4b"
      },
      "outputs": [
        {
          "output_type": "stream",
          "name": "stdout",
          "text": [
            "Converged after 3 iterations\n",
            "Final Gender Bias Estimates:\n",
            "[[0.69699326 0.30300674]\n",
            " [0.39657842 0.60342158]\n",
            " [0.49643077 0.50356923]]\n"
          ]
        }
      ],
      "source": [
        "import numpy as np\n",
        "\n",
        "# Example data\n",
        "num_progeny = 100\n",
        "num_pairs = 3\n",
        "\n",
        "# Gender bias for each pair (initial known probabilities)\n",
        "# e.g., Pair 1: 70% male, Pair 2: 40% male, Pair 3: 50% male\n",
        "gender_bias = np.array([[0.7, 0.3],  # Pair 1: [P(male), P(female)]\n",
        "                        [0.4, 0.6],  # Pair 2: [P(male), P(female)]\n",
        "                        [0.5, 0.5]]) # Pair 3: [P(male), P(female)]\n",
        "\n",
        "# Gender of progeny: 1 for male, 0 for female\n",
        "progeny_gender = np.random.choice([1, 0], size=num_progeny, p=[0.5, 0.5])\n",
        "\n",
        "\n",
        "# Equal probability initialization: each progeny is equally likely to belong to any pair\n",
        "assignments = np.full((num_progeny, num_pairs), 1 / num_pairs)\n",
        "\n",
        "# Or alternatively- we can randomly assign probabilities to belong to any given pair\n",
        "# This is done with Dirichlet Distribution\n",
        "# assignments = np.random.dirichlet(np.ones(num_pairs), num_progeny)\n",
        "# The choice of initialization affects how the algorithm converges but shouldn't\n",
        "# drastically impact the final result as long as the algorithm runs enough iterations to stabilize.\n",
        "\n",
        "# E-step: Compute the probability that each progeny to belong to each pair\n",
        "def e_step(progeny_gender, assignments, gender_bias):\n",
        "    for i in range(num_progeny):\n",
        "        for k in range(num_pairs):\n",
        "            if progeny_gender[i] == 1:  # Male progeny\n",
        "                assignments[i, k] = gender_bias[k, 0]  # P(male | pair k)\n",
        "            else:  # Female progeny\n",
        "                assignments[i, k] = gender_bias[k, 1]  # P(female | pair k)\n",
        "        # Normalize to ensure the probabilities sum to 1\n",
        "        assignments[i, :] /= np.sum(assignments[i, :])\n",
        "    return assignments\n",
        "\n",
        "# M-step: Update the gender bias and proportion estimates based on assignments\n",
        "def m_step(assignments, progeny_gender):\n",
        "    updated_gender_bias = np.zeros_like(gender_bias)\n",
        "\n",
        "    # Update gender bias for each pair\n",
        "    for k in range(num_pairs):\n",
        "        total_male = np.sum(assignments[:, k] * (progeny_gender == 1))\n",
        "        total_female = np.sum(assignments[:, k] * (progeny_gender == 0))\n",
        "        total_progeny = total_male + total_female\n",
        "\n",
        "        updated_gender_bias[k, 0] = total_male / total_progeny  # P(male | pair k)\n",
        "        updated_gender_bias[k, 1] = total_female / total_progeny  # P(female | pair k)\n",
        "\n",
        "    return updated_gender_bias\n",
        "\n",
        "# EM Algorithm Loop\n",
        "def em_algorithm(progeny_gender, assignments, gender_bias, max_iter=100, tol=1e-6):\n",
        "    for iteration in range(max_iter):\n",
        "        # E-step: Calculate the expected assignment probabilities\n",
        "        assignments = e_step(progeny_gender, assignments, gender_bias)\n",
        "\n",
        "        # M-step: Update the gender bias estimates\n",
        "        new_gender_bias = m_step(assignments, progeny_gender)\n",
        "\n",
        "        # Check for convergence\n",
        "        if np.max(np.abs(gender_bias - new_gender_bias)) < tol:\n",
        "            print(f\"Converged after {iteration} iterations\")\n",
        "            break\n",
        "\n",
        "        gender_bias = new_gender_bias\n",
        "\n",
        "    return assignments, gender_bias\n",
        "\n",
        "# Run the EM algorithm\n",
        "final_assignments, final_gender_bias = em_algorithm(progeny_gender, assignments, gender_bias)\n",
        "\n",
        "# Results: Final assignment probabilities and gender biases\n",
        "print(\"Final Gender Bias Estimates:\")\n",
        "print(final_gender_bias)\n",
        "\n",
        "#print(\"Final Progeny Assignments (Probabilities):\")\n",
        "#print(final_assignments)\n"
      ]
    },
    {
      "cell_type": "markdown",
      "source": [
        "You can make the algorithm run longer for better estimates by lowering the tolerance threshold `tol`"
      ],
      "metadata": {
        "id": "B1nBoigodKQ2"
      }
    },
    {
      "cell_type": "code",
      "source": [
        "print(gender_bias)"
      ],
      "metadata": {
        "colab": {
          "base_uri": "https://localhost:8080/"
        },
        "id": "nJJY3-0Ic2LL",
        "outputId": "8d852f8e-252a-4770-d67f-a30e3f09328a"
      },
      "execution_count": null,
      "outputs": [
        {
          "output_type": "stream",
          "name": "stdout",
          "text": [
            "[[0.7 0.3]\n",
            " [0.4 0.6]\n",
            " [0.5 0.5]]\n"
          ]
        }
      ]
    },
    {
      "cell_type": "markdown",
      "source": [
        "## **Explanation of the Code:**\n",
        "**Initialization:**\n",
        "\n",
        "- The gender bias for each breeding pair is set initially ```(gender_bias)```.\n",
        "- Progeny genders are randomly generated ```(progeny_gender)```, where 1 represents male and 0 represents female.\n",
        "- The initial assignments ```(assignments)``` of progeny to each pair can be initialized one of two ways\n",
        "  - randomly assigning each progeny to a breeding pair, using a Dirichlet distribution to ensure they sum to 1 for each progeny, or\n",
        "  - assign equal probability for belonging to any breeding pair\n",
        "\n",
        "**E-step:**\n",
        "\n",
        "- The function e_step calculates the probability that each progeny belongs to each pair based on their gender and the current gender bias for each pair. These probabilities are normalized for each progeny to sum to 1 across all pairs.\n",
        "\n",
        "**M-step:**\n",
        "\n",
        "The function `m_step` updates the gender bias for each breeding pair based on the current assignments. It calculates the total expected number of male and female progeny assigned to each pair and uses that to update the gender bias estimates.\n",
        "\n",
        "**EM Loop:**\n",
        "\n",
        "The `em_algorithm` function iterates between the `E-step` and `M-step` until the change in gender bias estimates is **small enough (less than the tolerance `tol`)**, indicating convergence.\n",
        "\n",
        "After convergence, it returns the final assignments and updated gender bias estimates."
      ],
      "metadata": {
        "id": "jrnxdvOgbPjg"
      }
    },
    {
      "cell_type": "markdown",
      "source": [
        "Lets modify our scenario so that, we do not really know what the gender bias of each breeding pair is, but we know that there are 3 of them, and we have a collection of 60 progeny coming from these breeding pairs, organized in sets of 10.\n",
        "\n",
        "\n",
        "The goal is to estimate both the gender biases and the progeny assignments using the Expectation-Maximization (EM) algorithm."
      ],
      "metadata": {
        "id": "rGbFQaamd0ox"
      }
    },
    {
      "cell_type": "code",
      "source": [
        "import numpy as np\n",
        "\n",
        "# Parameters\n",
        "num_progeny = 60\n",
        "num_pairs = 3\n",
        "progeny_per_set = 10\n",
        "num_sets = num_progeny // progeny_per_set\n",
        "\n",
        "# Gender of progeny: 1 for male, 0 for female (simulated data: 60 progeny in sets of 10)\n",
        "progeny_gender = np.random.choice([1, 0], size=num_progeny, p=[0.5, 0.5])\n",
        "\n",
        "# Initial random assignment probabilities for each progeny to each pair\n",
        "#assignments = np.random.dirichlet(np.ones(num_pairs), num_progeny)\n",
        "\n",
        "# or initial assignment of equal chance to belong to any breeding pair\n",
        "assignments = np.full((num_progeny, num_pairs), 1 / num_pairs)\n",
        "\n",
        "# Initial random gender biases for each pair (P(male), P(female) for each pair)\n",
        "gender_bias = np.random.rand(num_pairs, 2)\n",
        "gender_bias[:, 1] = 1 - gender_bias[:, 0]  # Ensure P(male) + P(female) = 1\n",
        "\n",
        "# E-step: Compute the probability that each progeny belongs to each pair\n",
        "def e_step(progeny_gender, assignments, gender_bias):\n",
        "    for i in range(num_progeny):\n",
        "        for k in range(num_pairs):\n",
        "            if progeny_gender[i] == 1:  # Male progeny\n",
        "                assignments[i, k] = gender_bias[k, 0]  # P(male | pair k)\n",
        "            else:  # Female progeny\n",
        "                assignments[i, k] = gender_bias[k, 1]  # P(female | pair k)\n",
        "        # Normalize to ensure the probabilities sum to 1\n",
        "        assignments[i, :] /= np.sum(assignments[i, :])\n",
        "    return assignments\n",
        "\n",
        "# M-step: Update the gender bias and proportion estimates based on assignments\n",
        "def m_step(assignments, progeny_gender):\n",
        "    updated_gender_bias = np.zeros((num_pairs, 2))\n",
        "\n",
        "    # Update gender bias for each pair\n",
        "    for k in range(num_pairs):\n",
        "        total_male = np.sum(assignments[:, k] * (progeny_gender == 1))\n",
        "        total_female = np.sum(assignments[:, k] * (progeny_gender == 0))\n",
        "        total_progeny = total_male + total_female\n",
        "\n",
        "        updated_gender_bias[k, 0] = total_male / total_progeny  # P(male | pair k)\n",
        "        updated_gender_bias[k, 1] = total_female / total_progeny  # P(female | pair k)\n",
        "\n",
        "    return updated_gender_bias\n",
        "\n",
        "# EM Algorithm Loop\n",
        "def em_algorithm(progeny_gender, assignments, gender_bias, max_iter=100, tol=1e-6):\n",
        "    for iteration in range(max_iter):\n",
        "        # E-step: Calculate the expected assignment probabilities\n",
        "        assignments = e_step(progeny_gender, assignments, gender_bias)\n",
        "\n",
        "        # M-step: Update the gender bias estimates\n",
        "        new_gender_bias = m_step(assignments, progeny_gender)\n",
        "\n",
        "        # Check for convergence\n",
        "        if np.max(np.abs(gender_bias - new_gender_bias)) < tol:\n",
        "            print(f\"Converged after {iteration} iterations\")\n",
        "            break\n",
        "\n",
        "        gender_bias = new_gender_bias\n",
        "\n",
        "    return assignments, gender_bias\n",
        "\n",
        "# Run the EM algorithm\n",
        "final_assignments, final_gender_bias = em_algorithm(progeny_gender, assignments, gender_bias)\n",
        "\n",
        "# Results: Final assignment probabilities and gender biases\n",
        "print(\"Final Gender Bias Estimates:\")\n",
        "print(final_gender_bias)\n",
        "\n",
        "#print(\"Final Progeny Assignments (Probabilities):\")\n",
        "#print(final_assignments)\n"
      ],
      "metadata": {
        "colab": {
          "base_uri": "https://localhost:8080/"
        },
        "id": "YI5vi68peMnG",
        "outputId": "01864dbe-ebbf-4a97-e211-2d2155d6625c"
      },
      "execution_count": null,
      "outputs": [
        {
          "output_type": "stream",
          "name": "stdout",
          "text": [
            "Converged after 16 iterations\n",
            "Final Gender Bias Estimates:\n",
            "[[0.23729905 0.76270095]\n",
            " [0.94062469 0.05937531]\n",
            " [0.22207215 0.77792785]]\n"
          ]
        }
      ]
    },
    {
      "cell_type": "markdown",
      "source": [
        "To compare the real (true) probabilities against the estimated probabilities from the EM algorithm, you need to have two things:\n",
        "\n",
        "**Real/True Gender Bias and Progeny Assignments:** This represents the actual gender bias for each pair and the actual pair that produced each progeny. This information can be generated in the case of a simulation or available in real-life data.\n",
        "\n",
        "**Estimated Gender Bias and Progeny Assignments:** This is the output of the EM algorithm, which provides the estimated gender biases and the soft assignments of progeny to breeding pairs.\n",
        "\n",
        "Lets revise the code again to enable this comparison"
      ],
      "metadata": {
        "id": "dJWqz6IRf3o0"
      }
    },
    {
      "cell_type": "code",
      "source": [
        "import numpy as np\n",
        "\n",
        "# Parameters\n",
        "num_progeny = 60\n",
        "num_pairs = 3\n",
        "progeny_per_set = 10\n",
        "num_sets = num_progeny // progeny_per_set\n",
        "\n",
        "# Step 1: Generate real data for comparison\n",
        "# True gender biases for each pair (P(male), P(female) for each pair)\n",
        "true_gender_bias = np.array([[0.7, 0.3],  # Pair 1: 70% male\n",
        "                             [0.4, 0.6],  # Pair 2: 40% male\n",
        "                             [0.5, 0.5]]) # Pair 3: 50% male\n",
        "\n",
        "# True progeny assignments: Assign each progeny to a specific pair\n",
        "true_assignments = np.random.choice(num_pairs, size=num_progeny)\n",
        "\n",
        "# Generate the gender of progeny based on true assignment and gender bias\n",
        "progeny_gender = np.array([np.random.choice([1, 0], p=true_gender_bias[true_assignments[i]])\n",
        "                           for i in range(num_progeny)])\n",
        "\n",
        "# Step 2:\n",
        "# Initial random assignment probabilities for each progeny to each pair\n",
        "#assignments = np.random.dirichlet(np.ones(num_pairs), num_progeny)\n",
        "\n",
        "# or initial assignment of equal chance to belong to any breeding pair\n",
        "assignments = np.full((num_progeny, num_pairs), 1 / num_pairs)\n",
        "\n",
        "# Random initial gender biases\n",
        "gender_bias = np.random.rand(num_pairs, 2)\n",
        "gender_bias[:, 1] = 1 - gender_bias[:, 0]  # Ensure P(male) + P(female) = 1\n",
        "\n",
        "# E-step: Compute the probability that each progeny belongs to each pair\n",
        "def e_step(progeny_gender, assignments, gender_bias):\n",
        "    for i in range(num_progeny):\n",
        "        for k in range(num_pairs):\n",
        "            if progeny_gender[i] == 1:  # Male progeny\n",
        "                assignments[i, k] = gender_bias[k, 0]  # P(male | pair k)\n",
        "            else:  # Female progeny\n",
        "                assignments[i, k] = gender_bias[k, 1]  # P(female | pair k)\n",
        "        # Normalize to ensure the probabilities sum to 1\n",
        "        assignments[i, :] /= np.sum(assignments[i, :])\n",
        "    return assignments\n",
        "\n",
        "# M-step: Update the gender bias and proportion estimates based on assignments\n",
        "def m_step(assignments, progeny_gender):\n",
        "    updated_gender_bias = np.zeros((num_pairs, 2))\n",
        "\n",
        "    # Update gender bias for each pair\n",
        "    for k in range(num_pairs):\n",
        "        total_male = np.sum(assignments[:, k] * (progeny_gender == 1))\n",
        "        total_female = np.sum(assignments[:, k] * (progeny_gender == 0))\n",
        "        total_progeny = total_male + total_female\n",
        "\n",
        "        updated_gender_bias[k, 0] = total_male / total_progeny  # P(male | pair k)\n",
        "        updated_gender_bias[k, 1] = total_female / total_progeny  # P(female | pair k)\n",
        "\n",
        "    return updated_gender_bias\n",
        "\n",
        "# EM Algorithm Loop\n",
        "def em_algorithm(progeny_gender, assignments, gender_bias, max_iter=100, tol=1e-6):\n",
        "    for iteration in range(max_iter):\n",
        "        # E-step: Calculate the expected assignment probabilities\n",
        "        assignments = e_step(progeny_gender, assignments, gender_bias)\n",
        "\n",
        "        # M-step: Update the gender bias estimates\n",
        "        new_gender_bias = m_step(assignments, progeny_gender)\n",
        "\n",
        "        # Check for convergence\n",
        "        if np.max(np.abs(gender_bias - new_gender_bias)) < tol:\n",
        "            print(f\"Converged after {iteration} iterations\")\n",
        "            break\n",
        "\n",
        "        gender_bias = new_gender_bias\n",
        "\n",
        "    return assignments, gender_bias\n",
        "\n",
        "# Run the EM algorithm\n",
        "final_assignments, final_gender_bias = em_algorithm(progeny_gender, assignments, gender_bias)\n",
        "\n",
        "# Step 3: Compare Real vs. Estimated Gender Bias\n",
        "print(\"Real Gender Biases:\")\n",
        "print(true_gender_bias)\n",
        "\n",
        "print(\"Estimated Gender Biases:\")\n",
        "print(final_gender_bias)\n",
        "\n",
        "# Step 4: Compare Real vs. Estimated Progeny Assignments\n",
        "# For each progeny, we will take the most likely pair from the final assignments\n",
        "estimated_assignments = np.argmax(final_assignments, axis=1)\n",
        "\n",
        "# Print comparison\n",
        "# print(\"\\nReal Progeny Assignments vs Estimated Assignments (most probable):\")\n",
        "# for i in range(num_progeny):\n",
        "#     print(f\"Progeny {i+1}: Real Pair {true_assignments[i]}, Estimated Pair {estimated_assignments[i]}\")\n",
        "\n",
        "# Calculate accuracy of the estimated assignments\n",
        "accuracy = np.mean(true_assignments == estimated_assignments)\n",
        "print(f\"\\nAssignment Accuracy: {accuracy * 100:.2f}%\")\n"
      ],
      "metadata": {
        "colab": {
          "base_uri": "https://localhost:8080/"
        },
        "id": "H9OwODYvfI5N",
        "outputId": "8555ca34-5c9c-43a6-f669-f6b39b3529be"
      },
      "execution_count": null,
      "outputs": [
        {
          "output_type": "stream",
          "name": "stdout",
          "text": [
            "Converged after 9 iterations\n",
            "Real Gender Biases:\n",
            "[[0.7 0.3]\n",
            " [0.4 0.6]\n",
            " [0.5 0.5]]\n",
            "Estimated Gender Biases:\n",
            "[[0.68268766 0.31731234]\n",
            " [0.57401403 0.42598597]\n",
            " [0.09329691 0.90670309]]\n",
            "\n",
            "Assignment Accuracy: 33.33%\n"
          ]
        }
      ]
    },
    {
      "cell_type": "markdown",
      "source": [
        "That is not very accurate, is it?\n",
        "\n",
        "**How can we improve it? **"
      ],
      "metadata": {
        "id": "WjAFevrChEGj"
      }
    }
  ]
}