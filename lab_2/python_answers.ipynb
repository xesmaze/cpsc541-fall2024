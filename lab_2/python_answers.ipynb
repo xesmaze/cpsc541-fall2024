{
  "cells": [
    {
      "cell_type": "markdown",
      "metadata": {
        "id": "view-in-github",
        "colab_type": "text"
      },
      "source": [
        "<a href=\"https://colab.research.google.com/github/xesmaze/cpsc541-fall2024/blob/main/lab_2/python_answers.ipynb\" target=\"_parent\"><img src=\"https://colab.research.google.com/assets/colab-badge.svg\" alt=\"Open In Colab\"/></a>"
      ]
    },
    {
      "cell_type": "markdown",
      "metadata": {
        "id": "YTZHVp6HdJqP"
      },
      "source": [
        "## Practicing what we've learned\n",
        "\n",
        "Now that you have a helpful cheat sheet, it's time to test your knowledge!\n",
        "\n",
        "One of the biggest challenges when programming for data science is converting your thoughts into code.\n",
        "For most basic operations, you can easily import a module that solves your problem.\n",
        "Occasionally, we run into situations where one such module does not exist, or the version that exists does not suit your specific need.\n",
        "\n",
        "You, as experts on your field, may know which method to adopt for the analysis.\n",
        "\n",
        "**But what do you do when there is no pre-built module to help you run the analysis?**"
      ]
    },
    {
      "cell_type": "markdown",
      "metadata": {
        "id": "_ioUGgN4dJqQ"
      },
      "source": [
        "### Challenge\n",
        "\n",
        "The Z-score or Standard score is a statistical measurement that describes a value's relationship to the mean of a group of values.\n",
        "\n",
        "The Z-score is given by the formula below:\n",
        "\n",
        "$$Z_{x}=\\frac{x-\\bar{x}}{S}$$\n",
        "\n",
        "where the standard deviation, is given by:\n",
        "\n",
        "$$S_{N} = \\sqrt{\\frac{1}{N} {\\sum_{i=1}^{n} (x_i - \\bar{x})^2}}$$\n",
        "\n",
        "Without importing any new libraries, write a function below that takes as an input a list of values and returns a list of Z-scores for each of the values on the input list.\n",
        "\n",
        "When you are done, run the following code blocks to test your code"
      ]
    },
    {
      "cell_type": "code",
      "execution_count": null,
      "metadata": {
        "id": "78A3tWlwdJqQ"
      },
      "outputs": [],
      "source": [
        "from math import sqrt\n",
        "\n",
        "# hint: you can store temporary variables inside your function, but it isn't necessary!\n",
        "def z_scores(list_of_values:list) -> list:\n",
        "    return [(value-((sum(list_of_values)/len(list_of_values))))/(sqrt(sum((value - (sum(list_of_values)/len(list_of_values))) ** 2 for value in list_of_values) / len(list_of_values))) for value in list_of_values]"
      ]
    },
    {
      "cell_type": "code",
      "execution_count": null,
      "metadata": {
        "id": "rwvlSCg6dJqR",
        "outputId": "84c0216b-e301-4783-8086-f17cb9e15168"
      },
      "outputs": [
        {
          "name": "stdout",
          "output_type": "stream",
          "text": [
            "[1.3953794523874967, -0.27514524413274594, -1.9456699406529885, -1.3560729889399616, 1.198847135149821, -0.7664760372269349, 0.01965323172376749, -0.3734114027515837, 0.7075163420556321, -1.650871464796475, -0.8647421958457727, 0.2161855489614431, -0.6682098786080971, 1.0023148179121455, -0.9630083544646105, 0.9040486592933077, 1.0023148179121455, 0.9040486592933077, 0.7075163420556321, 0.8057825006744699]\n"
          ]
        }
      ],
      "source": [
        "dataset_1 = [34, 17, 0, 6, 32, 12, 20, 16, 27, 3, 11, 22, 13, 30, 10, 29, 30, 29, 27, 28]\n",
        "\n",
        "# Calculate z-scores using list comprehension\n",
        "results_1 = z_scores(dataset_1)\n",
        "print(results_1)"
      ]
    },
    {
      "cell_type": "code",
      "execution_count": null,
      "metadata": {
        "id": "_vNeQOFidJqR",
        "outputId": "0d1aab80-7fb9-41e7-f08d-3592e1f3a23e"
      },
      "outputs": [
        {
          "name": "stdout",
          "output_type": "stream",
          "text": [
            "[2.105459782055869, 0.274625188963809, -0.8696464317187286, 0.9611881613733315, 0.5034795131003165, -0.4119377834457136, 0.5034795131003165, -1.556209404128251, 0.5034795131003165, 1.4188968096463468, -0.4119377834457136, -1.3273550799917435, 0.04577086482730148, -0.8696464317187286, -0.8696464317187286]\n"
          ]
        }
      ],
      "source": [
        "dataset_2 = [34, 10, -5, 19, 13, 1, 13, -14, 13, 25, 1, -11, 7, -5, -5]\n",
        "\n",
        "# Calculate z-scores using list comprehension\n",
        "results_2 = z_scores(dataset_2)\n",
        "print(results_2)"
      ]
    }
  ],
  "metadata": {
    "kernelspec": {
      "display_name": "Python 3",
      "language": "python",
      "name": "python3"
    },
    "language_info": {
      "codemirror_mode": {
        "name": "ipython",
        "version": 3
      },
      "file_extension": ".py",
      "mimetype": "text/x-python",
      "name": "python",
      "nbconvert_exporter": "python",
      "pygments_lexer": "ipython3",
      "version": "3.7.1"
    },
    "colab": {
      "provenance": [],
      "include_colab_link": true
    }
  },
  "nbformat": 4,
  "nbformat_minor": 0
}