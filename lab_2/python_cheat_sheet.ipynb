{
  "cells": [
    {
      "cell_type": "markdown",
      "metadata": {
        "id": "view-in-github",
        "colab_type": "text"
      },
      "source": [
        "<a href=\"https://colab.research.google.com/github/xesmaze/cpsc541-fall2024/blob/main/lab_2/python_cheat_sheet.ipynb\" target=\"_parent\"><img src=\"https://colab.research.google.com/assets/colab-badge.svg\" alt=\"Open In Colab\"/></a>"
      ]
    },
    {
      "cell_type": "markdown",
      "metadata": {
        "id": "Rb_4_tbedZ5T"
      },
      "source": [
        "## Python Cheat Sheet\n",
        "\n",
        "### Top 5 things to remember\n",
        "\n",
        "1 - Python uses indentation to delimit code blocks\n",
        "\n",
        "2 - Python is a ZERO-INDEX language, and it is START-INCLUSIVE and END-EXCLUSIVE\n",
        "\n",
        "2 - Data types matter and dictate which kinds of operations you can perform\n",
        "\n",
        "3 - Native data structures (lists, tuples, sets, dictionaries) provide big versatility and performance\n",
        "\n",
        "4 - Well-built functions and control flow allow you to power-up your code without needing libraries"
      ]
    },
    {
      "cell_type": "markdown",
      "metadata": {
        "id": "Cd8pWXUUdZ5U"
      },
      "source": [
        "#### Output, variables, data types"
      ]
    },
    {
      "cell_type": "code",
      "execution_count": null,
      "metadata": {
        "id": "k2zY0ZAAdZ5U"
      },
      "outputs": [],
      "source": [
        "# Data types\n",
        "\n",
        "integer = 7 # int\n",
        "\n",
        "floatting_point = 3.141527 # float\n",
        "\n",
        "string = \"Word\"\n",
        "\n",
        "boolean = True # bool (can also be 1 for true and 0 for false)\n",
        "\n",
        "item_list = [1,2,2,3,\"avocado\"] # list – List items are ordered, indexed, changeable, and allow duplicate values.\n",
        "\n",
        "item_tuple = (3.5,4,4,5,\"potato\") # tupple – Tuple items are ordered, indexed, unchangeable, and allow duplicate values.\n",
        "\n",
        "item_set = {7,7.5,8, \"nine\"} # set – A set is a collection which is unordered, unindexed, and unchangeable (items are unchangeable, but you can remove or add items on a set).\n",
        "\n",
        "dictionary = {\"name\":\"Hans\", \"nationality\":\"Brazilian\", \"age\":35} # dict – Dictionary items are KEY:VALUE pairs which are changeable. Dictionaries allow duplicate VALUES but KEYS must be unique. (Ordered on Python 3.7+)"
      ]
    },
    {
      "cell_type": "code",
      "execution_count": null,
      "metadata": {
        "id": "h9_CNlUGdZ5V"
      },
      "outputs": [],
      "source": [
        "# Defining variables\n",
        "\n",
        "int_variable = 210\n",
        "\n",
        "string_variable = \"White\"\n",
        "\n",
        "# Assigning multiple variables\n",
        "\n",
        "var1, var2, var3 = \"First\", \"Second\", \"Third\""
      ]
    },
    {
      "cell_type": "code",
      "execution_count": null,
      "metadata": {
        "id": "FyoJ6RgLdZ5V",
        "outputId": "398e3e1a-063e-40fa-f07a-ded82504982c"
      },
      "outputs": [
        {
          "name": "stdout",
          "output_type": "stream",
          "text": [
            "Hello, World!\n"
          ]
        }
      ],
      "source": [
        "# Getting Outputs\n",
        "\n",
        "print(\"Hello, World!\")"
      ]
    },
    {
      "cell_type": "code",
      "execution_count": null,
      "metadata": {
        "id": "DSyl2D2EdZ5W",
        "outputId": "d62dcfaf-7e7c-4a7b-daa0-e95965dd575a"
      },
      "outputs": [
        {
          "name": "stdout",
          "output_type": "stream",
          "text": [
            "This is\n",
            "a multiple line\n",
            "printed output\n"
          ]
        }
      ],
      "source": [
        "# Advanced Outputs\n",
        "\n",
        "print('''This is\n",
        "a multiple line\n",
        "printed output''')"
      ]
    },
    {
      "cell_type": "code",
      "execution_count": null,
      "metadata": {
        "id": "PxeCRbhRdZ5W",
        "outputId": "8c574016-d57b-4cff-8d60-5ab3859d1e21"
      },
      "outputs": [
        {
          "name": "stdout",
          "output_type": "stream",
          "text": [
            "Jonah lived on 210 White st, on the block between Second and Third streets.\n"
          ]
        }
      ],
      "source": [
        "print(f\"Jonah lived on {int_variable} {string_variable} st, on the block between {var2} and {var3} streets.\")\n",
        "\n",
        "# Adding the f in front of the quotation mark enables you to use {} to directly call variables."
      ]
    },
    {
      "cell_type": "markdown",
      "metadata": {
        "id": "plaqmmqbdZ5W"
      },
      "source": [
        "### Control flow and functions"
      ]
    },
    {
      "cell_type": "code",
      "execution_count": null,
      "metadata": {
        "id": "rzZLDK9jdZ5W"
      },
      "outputs": [],
      "source": [
        "# Creating functions\n",
        "def is_positive(number):\n",
        "    output = '' # defines the output as a string\n",
        "    if number > 0:\n",
        "        output = f\"{number} is positive\"\n",
        "    elif number == 0:\n",
        "        output = f\"{number} is zero\"\n",
        "    else:\n",
        "        output = f\"{number} is negative\"\n",
        "    return output"
      ]
    },
    {
      "cell_type": "code",
      "execution_count": null,
      "metadata": {
        "id": "Xfeus_qrdZ5W",
        "outputId": "d04bd3f9-71ae-40f9-b9b5-b215cd79cb3b"
      },
      "outputs": [
        {
          "name": "stdout",
          "output_type": "stream",
          "text": [
            "3.141527 is positive\n",
            "17 is positive\n",
            "-2 is negative\n",
            "0 is zero\n",
            "-15 is negative\n",
            "24 is positive\n",
            "-8 is negative\n",
            "0 is zero\n",
            "31 is positive\n",
            "-1 is negative\n"
          ]
        },
        {
          "ename": "TypeError",
          "evalue": "'>' not supported between instances of 'str' and 'int'",
          "output_type": "error",
          "traceback": [
            "\u001b[0;31m---------------------------------------------------------------------------\u001b[0m",
            "\u001b[0;31mTypeError\u001b[0m                                 Traceback (most recent call last)",
            "\u001b[0;32m<ipython-input-17-2dd473b83b45>\u001b[0m in \u001b[0;36m<module>\u001b[0;34m\u001b[0m\n\u001b[1;32m      2\u001b[0m \u001b[0;34m\u001b[0m\u001b[0m\n\u001b[1;32m      3\u001b[0m \u001b[0;32mfor\u001b[0m \u001b[0mitem\u001b[0m \u001b[0;32min\u001b[0m \u001b[0mdataset\u001b[0m\u001b[0;34m:\u001b[0m\u001b[0;34m\u001b[0m\u001b[0;34m\u001b[0m\u001b[0m\n\u001b[0;32m----> 4\u001b[0;31m     \u001b[0manswer\u001b[0m \u001b[0;34m=\u001b[0m \u001b[0mis_positive\u001b[0m\u001b[0;34m(\u001b[0m\u001b[0mitem\u001b[0m\u001b[0;34m)\u001b[0m\u001b[0;34m\u001b[0m\u001b[0;34m\u001b[0m\u001b[0m\n\u001b[0m\u001b[1;32m      5\u001b[0m     \u001b[0mprint\u001b[0m\u001b[0;34m(\u001b[0m\u001b[0manswer\u001b[0m\u001b[0;34m)\u001b[0m\u001b[0;34m\u001b[0m\u001b[0;34m\u001b[0m\u001b[0m\n",
            "\u001b[0;32m<ipython-input-16-536d63f2e0c2>\u001b[0m in \u001b[0;36mis_positive\u001b[0;34m(number)\u001b[0m\n\u001b[1;32m      2\u001b[0m \u001b[0;32mdef\u001b[0m \u001b[0mis_positive\u001b[0m\u001b[0;34m(\u001b[0m\u001b[0mnumber\u001b[0m\u001b[0;34m)\u001b[0m\u001b[0;34m:\u001b[0m\u001b[0;34m\u001b[0m\u001b[0;34m\u001b[0m\u001b[0m\n\u001b[1;32m      3\u001b[0m     \u001b[0moutput\u001b[0m \u001b[0;34m=\u001b[0m \u001b[0;34m''\u001b[0m \u001b[0;31m# defines the output as a string\u001b[0m\u001b[0;34m\u001b[0m\u001b[0;34m\u001b[0m\u001b[0m\n\u001b[0;32m----> 4\u001b[0;31m     \u001b[0;32mif\u001b[0m \u001b[0mnumber\u001b[0m \u001b[0;34m>\u001b[0m \u001b[0;36m0\u001b[0m\u001b[0;34m:\u001b[0m\u001b[0;34m\u001b[0m\u001b[0;34m\u001b[0m\u001b[0m\n\u001b[0m\u001b[1;32m      5\u001b[0m         \u001b[0moutput\u001b[0m \u001b[0;34m=\u001b[0m \u001b[0;34mf\"{number} is positive\"\u001b[0m\u001b[0;34m\u001b[0m\u001b[0;34m\u001b[0m\u001b[0m\n\u001b[1;32m      6\u001b[0m     \u001b[0;32melif\u001b[0m \u001b[0mnumber\u001b[0m \u001b[0;34m==\u001b[0m \u001b[0;36m0\u001b[0m\u001b[0;34m:\u001b[0m\u001b[0;34m\u001b[0m\u001b[0;34m\u001b[0m\u001b[0m\n",
            "\u001b[0;31mTypeError\u001b[0m: '>' not supported between instances of 'str' and 'int'"
          ]
        }
      ],
      "source": [
        "dataset = [3.141527, 17, -2, 0, -15, 24, -8, 0, 31, -1, \"potato\"]\n",
        "\n",
        "for item in dataset:\n",
        "    answer = is_positive(item)\n",
        "    print(answer)"
      ]
    },
    {
      "cell_type": "code",
      "execution_count": null,
      "metadata": {
        "id": "Rg_Z3fCZdZ5X"
      },
      "outputs": [],
      "source": [
        "# The previous example crashed when the loop encountered an unforeseen circumstance (the presence of a string). A better way to do it would be:\n",
        "\n",
        "def better_is_positive(number) -> str:\n",
        "    if isinstance(number, (int, float)):\n",
        "        if number > 0:\n",
        "            return f\"{number} is positive\"\n",
        "        elif number == 0:\n",
        "            return f\"{number} is zero\"\n",
        "        elif number < 0:\n",
        "            return f\"{number} is negative\"\n",
        "\n",
        "    else:\n",
        "        return f\"{number} is not a number\""
      ]
    },
    {
      "cell_type": "code",
      "execution_count": null,
      "metadata": {
        "id": "Rj4OB4MkdZ5X",
        "outputId": "2f50b545-ed0f-4ecf-de1b-479071a610d8"
      },
      "outputs": [
        {
          "name": "stdout",
          "output_type": "stream",
          "text": [
            "3.141527 is positive\n",
            "17 is positive\n",
            "-2 is negative\n",
            "0 is zero\n",
            "-15 is negative\n",
            "24 is positive\n",
            "-8 is negative\n",
            "0 is zero\n",
            "31 is positive\n",
            "-1 is negative\n",
            "potato is not a number\n"
          ]
        }
      ],
      "source": [
        "for item in dataset:\n",
        "    print(better_is_positive(item))"
      ]
    },
    {
      "cell_type": "markdown",
      "metadata": {
        "id": "1hbz5tzvdZ5X"
      },
      "source": [
        "### Operations"
      ]
    },
    {
      "cell_type": "code",
      "execution_count": null,
      "metadata": {
        "id": "CyTyL85zdZ5X",
        "outputId": "fb5925d0-5ad0-4455-d801-c364c3c82ba1"
      },
      "outputs": [
        {
          "name": "stdout",
          "output_type": "stream",
          "text": [
            "JONAH LIVES IN CHAMPAIGN, IL\n",
            "jonah lives in champaign, il\n",
            "['Jonah', 'lives', 'in', 'Champaign,', 'IL']\n",
            "Jonah lives in Champaign, IL. He lives on 210 White St, between Second and Third streets\n",
            "Jonah lives in Urbana, IL\n",
            "This string has 28 characters.\n"
          ]
        }
      ],
      "source": [
        "# String operations\n",
        "sample_string = \"Jonah lives in Champaign, IL\"\n",
        "continuation = \"He lives on 210 White St, between Second and Third streets\"\n",
        "\n",
        "# make upper case\n",
        "print(sample_string.upper())\n",
        "\n",
        "# make lower case\n",
        "print(sample_string.lower())\n",
        "\n",
        "# split into a list\n",
        "print(sample_string.split())\n",
        "\n",
        "# join strings from a list\n",
        "print(\". \".join([sample_string,continuation]))\n",
        "\n",
        "# replacing text\n",
        "print(sample_string.replace(\"Champaign\",\"Urbana\"))\n",
        "\n",
        "# length of text\n",
        "print(f\"This string has {len(sample_string)} characters.\")\n"
      ]
    },
    {
      "cell_type": "code",
      "execution_count": null,
      "metadata": {
        "id": "wbSCFH5tdZ5X",
        "outputId": "e73235dd-5c73-41ae-b394-9622c29d15ff"
      },
      "outputs": [
        {
          "name": "stdout",
          "output_type": "stream",
          "text": [
            "[1, 1, 2, 2, 2, 2, 3, 4, 4, 5, 7, 9]\n",
            "[1, 1, 2, 2, 2, 2, 3, 4, 4, 5, 7, 9, 'nine']\n",
            "[1, 1, 2, 2, 2, 2, 3, 4, 5, 7, 9, 'nine']\n",
            "nine\n",
            "[1, 1, 2, 2, 2, 2, 3, 4, 5, 7, 9]\n",
            "[9, 7, 5, 4, 3, 2, 2, 2, 2, 1, 1]\n"
          ]
        }
      ],
      "source": [
        "# List operations\n",
        "list_example = [1,2,2,3,4,9,4,1,2,2,5,7]\n",
        "\n",
        "# Sort the list\n",
        "list_example.sort()\n",
        "print(list_example)\n",
        "\n",
        "# Append an item\n",
        "list_example.append(\"nine\") # adds the argument to the end of the list\n",
        "print(list_example)\n",
        "\n",
        "# Remove an item\n",
        "list_example.remove(4) #removes the first occurence of the argument\n",
        "print(list_example)\n",
        "\n",
        "# Remove and return an item from the list. If no argument is passed, the last item is removed\n",
        "print(list_example.pop()) # in this case, the pop function returns the removed number\n",
        "print(list_example)\n",
        "\n",
        "# Reverse the order of the list\n",
        "list_example.reverse()\n",
        "print(list_example)\n"
      ]
    },
    {
      "cell_type": "code",
      "execution_count": null,
      "metadata": {
        "id": "J4vqA3wsdZ5X",
        "outputId": "1b6e0ad7-6900-497e-83b4-7e130477b1ff"
      },
      "outputs": [
        {
          "name": "stdout",
          "output_type": "stream",
          "text": [
            "35\n",
            "dict_items([('name', 'Hans'), ('nationality', 'Brazilian'), ('age', 35)])\n",
            "dict_keys(['name', 'nationality', 'age'])\n",
            "dict_values(['Hans', 'Brazilian', 35])\n",
            "Hans is Brazilian and is currently 35 years old\n",
            "After his birthday, Hans will be 36 years old\n"
          ]
        }
      ],
      "source": [
        "# Dictionary Operations\n",
        "instructor = {\"name\":\"Hans\", \"nationality\":\"Brazilian\", \"age\":35}\n",
        "\n",
        "# Retrieve value associated with a specific key\n",
        "print(instructor[\"age\"])\n",
        "\n",
        "# Return the key:value pairs as a list of tuples\n",
        "print(instructor.items())\n",
        "\n",
        "# List the keys from the dictionary\n",
        "print(instructor.keys())\n",
        "\n",
        "# List the values from the dictionary\n",
        "print(instructor.values())\n",
        "\n",
        "# Leveraging dictionary data\n",
        "print(f'{instructor[\"name\"]} is {instructor[\"nationality\"]} and is currently {instructor[\"age\"]} years old')\n",
        "\n",
        "# Update an existing value\n",
        "instructor[\"age\"] = instructor[\"age\"] + 1\n",
        "print(f'After his birthday, {instructor[\"name\"]} will be {instructor[\"age\"]} years old')"
      ]
    },
    {
      "cell_type": "markdown",
      "metadata": {
        "id": "DWQsFWHLdZ5Y"
      },
      "source": [
        "### Useful Functions"
      ]
    },
    {
      "cell_type": "code",
      "execution_count": null,
      "metadata": {
        "id": "LOkJDO61dZ5Y",
        "outputId": "35dc7ec1-9a3c-4401-fb89-86363fa9f4b6"
      },
      "outputs": [
        {
          "name": "stdout",
          "output_type": "stream",
          "text": [
            "the list has 11 items\n",
            "Brazilian has 9 characters\n",
            "Brazilian is a <class 'str'>\n",
            "36 is a <class 'int'>\n",
            "[0, 1, 2, 3, 4, 5, 6, 7, 8, 9, 10, 11, 12, 13, 14]\n",
            "[5, 6, 7, 8, 9, 10, 11, 12, 13, 14]\n",
            "[5, 10]\n",
            "38\n",
            "1\n",
            "9\n"
          ]
        }
      ],
      "source": [
        "# To get the length of a string or list\n",
        "print(f'the list has {len(list_example)} items')\n",
        "print(f'{instructor[\"nationality\"]} has {len(instructor[\"nationality\"])} characters')\n",
        "\n",
        "# Getting data types\n",
        "print(f'{instructor[\"nationality\"]} is a {type(instructor[\"nationality\"])}')\n",
        "print(f'{instructor[\"age\"]} is a {type(instructor[\"age\"])}')\n"
      ]
    },
    {
      "cell_type": "code",
      "execution_count": null,
      "metadata": {
        "id": "J94E5QaOdZ5Y",
        "outputId": "e48327d1-acaf-4d58-c2f4-d7330119fd29"
      },
      "outputs": [
        {
          "name": "stdout",
          "output_type": "stream",
          "text": [
            "[0, 1, 2, 3, 4, 5, 6, 7, 8, 9, 10, 11, 12, 13, 14]\n",
            "[5, 6, 7, 8, 9, 10, 11, 12, 13, 14]\n",
            "[5, 10]\n"
          ]
        }
      ],
      "source": [
        "\n",
        "# Ranges require 1 argument, but can take 2 or 3\n",
        "# If only one argument is passed, that is the END\n",
        "print([number for number in range(15)])\n",
        "# If two arguments are passed, they are the START and END, respectively\n",
        "print([number for number in range(5, 15)])\n",
        "# If three arguments are passed, they are the START, END, and STEP SIZE, respectively\n",
        "print([number for number in range(5, 15, 5)])"
      ]
    },
    {
      "cell_type": "code",
      "execution_count": null,
      "metadata": {
        "id": "4C7TRiDmdZ5Y",
        "outputId": "7ef00977-fd95-4c5d-e295-42a921322dc1"
      },
      "outputs": [
        {
          "name": "stdout",
          "output_type": "stream",
          "text": [
            "[9, 7, 5, 4, 3, 2, 2, 2, 2, 1, 1]\n",
            "38\n",
            "1\n",
            "9\n"
          ]
        }
      ],
      "source": [
        "# Getting info from a numeric list\n",
        "print(list_example)\n",
        "\n",
        "# The sum of all elements\n",
        "print(sum(list_example))\n",
        "\n",
        "# The lowest value\n",
        "print(min(list_example))\n",
        "\n",
        "# The highest value\n",
        "print(max(list_example))\n"
      ]
    },
    {
      "cell_type": "code",
      "execution_count": null,
      "metadata": {
        "id": "nmNzNzkwdZ5Y",
        "outputId": "13aa3d60-4d90-42ee-efbc-9762670bc0e7"
      },
      "outputs": [
        {
          "name": "stdout",
          "output_type": "stream",
          "text": [
            "the output list is [0, 1, 4, 9, 16, 25, 36, 49, 64, 81]\n",
            "[0, 1, 4, 9, 16, 25, 36, 49, 64, 81]\n",
            "if we take the items from the list [9, 7, 5, 4, 3, 2, 2, 2, 2, 1, 1]\n",
            "we can multiply each item by 2 using list comprehension: [18, 14, 10, 8, 6, 4, 4, 4, 4, 2, 2]\n"
          ]
        }
      ],
      "source": [
        "# List comprehension enables you to shortcut iterating over lists\n",
        "squares = []\n",
        "for x in range(10):\n",
        "    squares.append(x**2)\n",
        "print(f'the output list is {squares}')\n",
        "\n",
        "# Using list comprehension:\n",
        "print([x**2 for x in range(10)])\n",
        "\n",
        "# the shortcut is creating a list and specifying which operation will be applied to each item on it. Additional examples:\n",
        "print(f'if we take the items from the list {list_example}')\n",
        "\n",
        "print(f'we can multiply each item by 2 using list comprehension: {[x*2 for x in list_example]}')"
      ]
    },
    {
      "cell_type": "markdown",
      "metadata": {
        "id": "9eXCJ5jBdZ5Y"
      },
      "source": [
        "### Importing modules and performing I/O operations\n",
        "\n",
        "(the following block is pasted as text to avoid importing unnecessary libraries)"
      ]
    },
    {
      "cell_type": "markdown",
      "metadata": {
        "id": "mJl0y1YCdZ5Y"
      },
      "source": [
        "```\n",
        "# import the entire module\n",
        "import math\n",
        "\n",
        "# import with an alias\n",
        "import pandas as pd\n",
        "\n",
        "# import parts of a module, recommended\n",
        "import scipy.stats as stats # or can also be done as\n",
        "from scipy import stats     # which is preferred\n",
        "\n",
        "# Open and close external files\n",
        "example_file = open(\"path_to_file.csv\", \"r\") # the second argument opens the file as read only\n",
        "contents_of_file = example_file.read()\n",
        "example_file.close() # if you don't close the file, it will remain in the system memory\n",
        "\n",
        "# Alternative method that automatically closes file when importing content\n",
        "with open(\"path_to_file.csv\") as example_file:\n",
        "    contents_of_file = example_file.read()\n",
        "\n",
        "```"
      ]
    },
    {
      "cell_type": "markdown",
      "metadata": {
        "id": "jeTVyWWGdZ5Y"
      },
      "source": [
        "## Data Visualization with Plotly"
      ]
    },
    {
      "cell_type": "markdown",
      "metadata": {
        "id": "x9m7cWp4dZ5Y"
      },
      "source": [
        "plotly.express is a module that enables the creation of interactive graphs for exploratory analysis.\n",
        "\n",
        "Its syntax is generally more user-friendly than MatPlotLib, and in this notebook we will explore some of its benefits.\n",
        "\n",
        "at the bottom of the example, you will find a cheat sheet with some of the useful commands."
      ]
    },
    {
      "cell_type": "code",
      "execution_count": null,
      "metadata": {
        "id": "jSUjwM_-dZ5Y",
        "outputId": "cae1137e-c452-4c68-9446-91acedbf3d5e"
      },
      "outputs": [
        {
          "data": {
            "text/html": [
              "<div>\n",
              "<style scoped>\n",
              "    .dataframe tbody tr th:only-of-type {\n",
              "        vertical-align: middle;\n",
              "    }\n",
              "\n",
              "    .dataframe tbody tr th {\n",
              "        vertical-align: top;\n",
              "    }\n",
              "\n",
              "    .dataframe thead th {\n",
              "        text-align: right;\n",
              "    }\n",
              "</style>\n",
              "<table border=\"1\" class=\"dataframe\">\n",
              "  <thead>\n",
              "    <tr style=\"text-align: right;\">\n",
              "      <th></th>\n",
              "      <th>sepal_length</th>\n",
              "      <th>sepal_width</th>\n",
              "      <th>petal_length</th>\n",
              "      <th>petal_width</th>\n",
              "      <th>species</th>\n",
              "      <th>species_id</th>\n",
              "    </tr>\n",
              "  </thead>\n",
              "  <tbody>\n",
              "    <tr>\n",
              "      <th>0</th>\n",
              "      <td>5.1</td>\n",
              "      <td>3.5</td>\n",
              "      <td>1.4</td>\n",
              "      <td>0.2</td>\n",
              "      <td>setosa</td>\n",
              "      <td>1</td>\n",
              "    </tr>\n",
              "    <tr>\n",
              "      <th>1</th>\n",
              "      <td>4.9</td>\n",
              "      <td>3.0</td>\n",
              "      <td>1.4</td>\n",
              "      <td>0.2</td>\n",
              "      <td>setosa</td>\n",
              "      <td>1</td>\n",
              "    </tr>\n",
              "    <tr>\n",
              "      <th>2</th>\n",
              "      <td>4.7</td>\n",
              "      <td>3.2</td>\n",
              "      <td>1.3</td>\n",
              "      <td>0.2</td>\n",
              "      <td>setosa</td>\n",
              "      <td>1</td>\n",
              "    </tr>\n",
              "    <tr>\n",
              "      <th>3</th>\n",
              "      <td>4.6</td>\n",
              "      <td>3.1</td>\n",
              "      <td>1.5</td>\n",
              "      <td>0.2</td>\n",
              "      <td>setosa</td>\n",
              "      <td>1</td>\n",
              "    </tr>\n",
              "    <tr>\n",
              "      <th>4</th>\n",
              "      <td>5.0</td>\n",
              "      <td>3.6</td>\n",
              "      <td>1.4</td>\n",
              "      <td>0.2</td>\n",
              "      <td>setosa</td>\n",
              "      <td>1</td>\n",
              "    </tr>\n",
              "    <tr>\n",
              "      <th>...</th>\n",
              "      <td>...</td>\n",
              "      <td>...</td>\n",
              "      <td>...</td>\n",
              "      <td>...</td>\n",
              "      <td>...</td>\n",
              "      <td>...</td>\n",
              "    </tr>\n",
              "    <tr>\n",
              "      <th>145</th>\n",
              "      <td>6.7</td>\n",
              "      <td>3.0</td>\n",
              "      <td>5.2</td>\n",
              "      <td>2.3</td>\n",
              "      <td>virginica</td>\n",
              "      <td>3</td>\n",
              "    </tr>\n",
              "    <tr>\n",
              "      <th>146</th>\n",
              "      <td>6.3</td>\n",
              "      <td>2.5</td>\n",
              "      <td>5.0</td>\n",
              "      <td>1.9</td>\n",
              "      <td>virginica</td>\n",
              "      <td>3</td>\n",
              "    </tr>\n",
              "    <tr>\n",
              "      <th>147</th>\n",
              "      <td>6.5</td>\n",
              "      <td>3.0</td>\n",
              "      <td>5.2</td>\n",
              "      <td>2.0</td>\n",
              "      <td>virginica</td>\n",
              "      <td>3</td>\n",
              "    </tr>\n",
              "    <tr>\n",
              "      <th>148</th>\n",
              "      <td>6.2</td>\n",
              "      <td>3.4</td>\n",
              "      <td>5.4</td>\n",
              "      <td>2.3</td>\n",
              "      <td>virginica</td>\n",
              "      <td>3</td>\n",
              "    </tr>\n",
              "    <tr>\n",
              "      <th>149</th>\n",
              "      <td>5.9</td>\n",
              "      <td>3.0</td>\n",
              "      <td>5.1</td>\n",
              "      <td>1.8</td>\n",
              "      <td>virginica</td>\n",
              "      <td>3</td>\n",
              "    </tr>\n",
              "  </tbody>\n",
              "</table>\n",
              "<p>150 rows × 6 columns</p>\n",
              "</div>"
            ],
            "text/plain": [
              "     sepal_length  sepal_width  petal_length  petal_width    species  \\\n",
              "0             5.1          3.5           1.4          0.2     setosa   \n",
              "1             4.9          3.0           1.4          0.2     setosa   \n",
              "2             4.7          3.2           1.3          0.2     setosa   \n",
              "3             4.6          3.1           1.5          0.2     setosa   \n",
              "4             5.0          3.6           1.4          0.2     setosa   \n",
              "..            ...          ...           ...          ...        ...   \n",
              "145           6.7          3.0           5.2          2.3  virginica   \n",
              "146           6.3          2.5           5.0          1.9  virginica   \n",
              "147           6.5          3.0           5.2          2.0  virginica   \n",
              "148           6.2          3.4           5.4          2.3  virginica   \n",
              "149           5.9          3.0           5.1          1.8  virginica   \n",
              "\n",
              "     species_id  \n",
              "0             1  \n",
              "1             1  \n",
              "2             1  \n",
              "3             1  \n",
              "4             1  \n",
              "..          ...  \n",
              "145           3  \n",
              "146           3  \n",
              "147           3  \n",
              "148           3  \n",
              "149           3  \n",
              "\n",
              "[150 rows x 6 columns]"
            ]
          },
          "execution_count": 185,
          "metadata": {},
          "output_type": "execute_result"
        }
      ],
      "source": [
        "from plotly import express as px\n",
        "\n",
        "iris = px.data.iris()\n",
        "iris"
      ]
    },
    {
      "cell_type": "code",
      "execution_count": null,
      "metadata": {
        "id": "7xNtEwMFdZ5Y",
        "outputId": "65a5190b-c67e-4942-aaeb-658ddcfe388a"
      },
      "outputs": [
        {
          "data": {
            "application/vnd.plotly.v1+json": {
              "config": {
                "plotlyServerURL": "https://plot.ly"
              },
              "data": [
                {
                  "hovertemplate": "species=setosa<br>sepal_width=%{x}<br>sepal_length=%{y}<br>petal_width=%{z}<br>petal_length=%{marker.size}<extra></extra>",
                  "legendgroup": "setosa",
                  "marker": {
                    "color": "#636efa",
                    "size": [
                      1.4,
                      1.4,
                      1.3,
                      1.5,
                      1.4,
                      1.7,
                      1.4,
                      1.5,
                      1.4,
                      1.5,
                      1.5,
                      1.6,
                      1.4,
                      1.1,
                      1.2,
                      1.5,
                      1.3,
                      1.4,
                      1.7,
                      1.5,
                      1.7,
                      1.5,
                      1,
                      1.7,
                      1.9,
                      1.6,
                      1.6,
                      1.5,
                      1.4,
                      1.6,
                      1.6,
                      1.5,
                      1.5,
                      1.4,
                      1.5,
                      1.2,
                      1.3,
                      1.5,
                      1.3,
                      1.5,
                      1.3,
                      1.3,
                      1.3,
                      1.6,
                      1.9,
                      1.4,
                      1.6,
                      1.4,
                      1.5,
                      1.4
                    ],
                    "sizemode": "area",
                    "sizeref": 0.01725,
                    "symbol": "circle"
                  },
                  "mode": "markers",
                  "name": "setosa",
                  "scene": "scene",
                  "showlegend": true,
                  "type": "scatter3d",
                  "x": [
                    3.5,
                    3,
                    3.2,
                    3.1,
                    3.6,
                    3.9,
                    3.4,
                    3.4,
                    2.9,
                    3.1,
                    3.7,
                    3.4,
                    3,
                    3,
                    4,
                    4.4,
                    3.9,
                    3.5,
                    3.8,
                    3.8,
                    3.4,
                    3.7,
                    3.6,
                    3.3,
                    3.4,
                    3,
                    3.4,
                    3.5,
                    3.4,
                    3.2,
                    3.1,
                    3.4,
                    4.1,
                    4.2,
                    3.1,
                    3.2,
                    3.5,
                    3.1,
                    3,
                    3.4,
                    3.5,
                    2.3,
                    3.2,
                    3.5,
                    3.8,
                    3,
                    3.8,
                    3.2,
                    3.7,
                    3.3
                  ],
                  "y": [
                    5.1,
                    4.9,
                    4.7,
                    4.6,
                    5,
                    5.4,
                    4.6,
                    5,
                    4.4,
                    4.9,
                    5.4,
                    4.8,
                    4.8,
                    4.3,
                    5.8,
                    5.7,
                    5.4,
                    5.1,
                    5.7,
                    5.1,
                    5.4,
                    5.1,
                    4.6,
                    5.1,
                    4.8,
                    5,
                    5,
                    5.2,
                    5.2,
                    4.7,
                    4.8,
                    5.4,
                    5.2,
                    5.5,
                    4.9,
                    5,
                    5.5,
                    4.9,
                    4.4,
                    5.1,
                    5,
                    4.5,
                    4.4,
                    5,
                    5.1,
                    4.8,
                    5.1,
                    4.6,
                    5.3,
                    5
                  ],
                  "z": [
                    0.2,
                    0.2,
                    0.2,
                    0.2,
                    0.2,
                    0.4,
                    0.3,
                    0.2,
                    0.2,
                    0.1,
                    0.2,
                    0.2,
                    0.1,
                    0.1,
                    0.2,
                    0.4,
                    0.4,
                    0.3,
                    0.3,
                    0.3,
                    0.2,
                    0.4,
                    0.2,
                    0.5,
                    0.2,
                    0.2,
                    0.4,
                    0.2,
                    0.2,
                    0.2,
                    0.2,
                    0.4,
                    0.1,
                    0.2,
                    0.1,
                    0.2,
                    0.2,
                    0.1,
                    0.2,
                    0.2,
                    0.3,
                    0.3,
                    0.2,
                    0.6,
                    0.4,
                    0.3,
                    0.2,
                    0.2,
                    0.2,
                    0.2
                  ]
                },
                {
                  "hovertemplate": "species=versicolor<br>sepal_width=%{x}<br>sepal_length=%{y}<br>petal_width=%{z}<br>petal_length=%{marker.size}<extra></extra>",
                  "legendgroup": "versicolor",
                  "marker": {
                    "color": "#EF553B",
                    "size": [
                      4.7,
                      4.5,
                      4.9,
                      4,
                      4.6,
                      4.5,
                      4.7,
                      3.3,
                      4.6,
                      3.9,
                      3.5,
                      4.2,
                      4,
                      4.7,
                      3.6,
                      4.4,
                      4.5,
                      4.1,
                      4.5,
                      3.9,
                      4.8,
                      4,
                      4.9,
                      4.7,
                      4.3,
                      4.4,
                      4.8,
                      5,
                      4.5,
                      3.5,
                      3.8,
                      3.7,
                      3.9,
                      5.1,
                      4.5,
                      4.5,
                      4.7,
                      4.4,
                      4.1,
                      4,
                      4.4,
                      4.6,
                      4,
                      3.3,
                      4.2,
                      4.2,
                      4.2,
                      4.3,
                      3,
                      4.1
                    ],
                    "sizemode": "area",
                    "sizeref": 0.01725,
                    "symbol": "circle"
                  },
                  "mode": "markers",
                  "name": "versicolor",
                  "scene": "scene",
                  "showlegend": true,
                  "type": "scatter3d",
                  "x": [
                    3.2,
                    3.2,
                    3.1,
                    2.3,
                    2.8,
                    2.8,
                    3.3,
                    2.4,
                    2.9,
                    2.7,
                    2,
                    3,
                    2.2,
                    2.9,
                    2.9,
                    3.1,
                    3,
                    2.7,
                    2.2,
                    2.5,
                    3.2,
                    2.8,
                    2.5,
                    2.8,
                    2.9,
                    3,
                    2.8,
                    3,
                    2.9,
                    2.6,
                    2.4,
                    2.4,
                    2.7,
                    2.7,
                    3,
                    3.4,
                    3.1,
                    2.3,
                    3,
                    2.5,
                    2.6,
                    3,
                    2.6,
                    2.3,
                    2.7,
                    3,
                    2.9,
                    2.9,
                    2.5,
                    2.8
                  ],
                  "y": [
                    7,
                    6.4,
                    6.9,
                    5.5,
                    6.5,
                    5.7,
                    6.3,
                    4.9,
                    6.6,
                    5.2,
                    5,
                    5.9,
                    6,
                    6.1,
                    5.6,
                    6.7,
                    5.6,
                    5.8,
                    6.2,
                    5.6,
                    5.9,
                    6.1,
                    6.3,
                    6.1,
                    6.4,
                    6.6,
                    6.8,
                    6.7,
                    6,
                    5.7,
                    5.5,
                    5.5,
                    5.8,
                    6,
                    5.4,
                    6,
                    6.7,
                    6.3,
                    5.6,
                    5.5,
                    5.5,
                    6.1,
                    5.8,
                    5,
                    5.6,
                    5.7,
                    5.7,
                    6.2,
                    5.1,
                    5.7
                  ],
                  "z": [
                    1.4,
                    1.5,
                    1.5,
                    1.3,
                    1.5,
                    1.3,
                    1.6,
                    1,
                    1.3,
                    1.4,
                    1,
                    1.5,
                    1,
                    1.4,
                    1.3,
                    1.4,
                    1.5,
                    1,
                    1.5,
                    1.1,
                    1.8,
                    1.3,
                    1.5,
                    1.2,
                    1.3,
                    1.4,
                    1.4,
                    1.7,
                    1.5,
                    1,
                    1.1,
                    1,
                    1.2,
                    1.6,
                    1.5,
                    1.6,
                    1.5,
                    1.3,
                    1.3,
                    1.3,
                    1.2,
                    1.4,
                    1.2,
                    1,
                    1.3,
                    1.2,
                    1.3,
                    1.3,
                    1.1,
                    1.3
                  ]
                },
                {
                  "hovertemplate": "species=virginica<br>sepal_width=%{x}<br>sepal_length=%{y}<br>petal_width=%{z}<br>petal_length=%{marker.size}<extra></extra>",
                  "legendgroup": "virginica",
                  "marker": {
                    "color": "#00cc96",
                    "size": [
                      6,
                      5.1,
                      5.9,
                      5.6,
                      5.8,
                      6.6,
                      4.5,
                      6.3,
                      5.8,
                      6.1,
                      5.1,
                      5.3,
                      5.5,
                      5,
                      5.1,
                      5.3,
                      5.5,
                      6.7,
                      6.9,
                      5,
                      5.7,
                      4.9,
                      6.7,
                      4.9,
                      5.7,
                      6,
                      4.8,
                      4.9,
                      5.6,
                      5.8,
                      6.1,
                      6.4,
                      5.6,
                      5.1,
                      5.6,
                      6.1,
                      5.6,
                      5.5,
                      4.8,
                      5.4,
                      5.6,
                      5.1,
                      5.1,
                      5.9,
                      5.7,
                      5.2,
                      5,
                      5.2,
                      5.4,
                      5.1
                    ],
                    "sizemode": "area",
                    "sizeref": 0.01725,
                    "symbol": "circle"
                  },
                  "mode": "markers",
                  "name": "virginica",
                  "scene": "scene",
                  "showlegend": true,
                  "type": "scatter3d",
                  "x": [
                    3.3,
                    2.7,
                    3,
                    2.9,
                    3,
                    3,
                    2.5,
                    2.9,
                    2.5,
                    3.6,
                    3.2,
                    2.7,
                    3,
                    2.5,
                    2.8,
                    3.2,
                    3,
                    3.8,
                    2.6,
                    2.2,
                    3.2,
                    2.8,
                    2.8,
                    2.7,
                    3.3,
                    3.2,
                    2.8,
                    3,
                    2.8,
                    3,
                    2.8,
                    3.8,
                    2.8,
                    2.8,
                    2.6,
                    3,
                    3.4,
                    3.1,
                    3,
                    3.1,
                    3.1,
                    3.1,
                    2.7,
                    3.2,
                    3.3,
                    3,
                    2.5,
                    3,
                    3.4,
                    3
                  ],
                  "y": [
                    6.3,
                    5.8,
                    7.1,
                    6.3,
                    6.5,
                    7.6,
                    4.9,
                    7.3,
                    6.7,
                    7.2,
                    6.5,
                    6.4,
                    6.8,
                    5.7,
                    5.8,
                    6.4,
                    6.5,
                    7.7,
                    7.7,
                    6,
                    6.9,
                    5.6,
                    7.7,
                    6.3,
                    6.7,
                    7.2,
                    6.2,
                    6.1,
                    6.4,
                    7.2,
                    7.4,
                    7.9,
                    6.4,
                    6.3,
                    6.1,
                    7.7,
                    6.3,
                    6.4,
                    6,
                    6.9,
                    6.7,
                    6.9,
                    5.8,
                    6.8,
                    6.7,
                    6.7,
                    6.3,
                    6.5,
                    6.2,
                    5.9
                  ],
                  "z": [
                    2.5,
                    1.9,
                    2.1,
                    1.8,
                    2.2,
                    2.1,
                    1.7,
                    1.8,
                    1.8,
                    2.5,
                    2,
                    1.9,
                    2.1,
                    2,
                    2.4,
                    2.3,
                    1.8,
                    2.2,
                    2.3,
                    1.5,
                    2.3,
                    2,
                    2,
                    1.8,
                    2.1,
                    1.8,
                    1.8,
                    1.8,
                    2.1,
                    1.6,
                    1.9,
                    2,
                    2.2,
                    1.5,
                    1.4,
                    2.3,
                    2.4,
                    1.8,
                    1.8,
                    2.1,
                    2.4,
                    2.3,
                    1.9,
                    2.3,
                    2.5,
                    2.3,
                    1.9,
                    2,
                    2.3,
                    1.8
                  ]
                }
              ],
              "layout": {
                "legend": {
                  "itemsizing": "constant",
                  "title": {
                    "text": "species"
                  },
                  "tracegroupgap": 0
                },
                "margin": {
                  "t": 60
                },
                "scene": {
                  "domain": {
                    "x": [
                      0,
                      1
                    ],
                    "y": [
                      0,
                      1
                    ]
                  },
                  "xaxis": {
                    "title": {
                      "text": "sepal_width"
                    }
                  },
                  "yaxis": {
                    "title": {
                      "text": "sepal_length"
                    }
                  },
                  "zaxis": {
                    "title": {
                      "text": "petal_width"
                    }
                  }
                },
                "template": {
                  "data": {
                    "bar": [
                      {
                        "error_x": {
                          "color": "#2a3f5f"
                        },
                        "error_y": {
                          "color": "#2a3f5f"
                        },
                        "marker": {
                          "line": {
                            "color": "#E5ECF6",
                            "width": 0.5
                          },
                          "pattern": {
                            "fillmode": "overlay",
                            "size": 10,
                            "solidity": 0.2
                          }
                        },
                        "type": "bar"
                      }
                    ],
                    "barpolar": [
                      {
                        "marker": {
                          "line": {
                            "color": "#E5ECF6",
                            "width": 0.5
                          },
                          "pattern": {
                            "fillmode": "overlay",
                            "size": 10,
                            "solidity": 0.2
                          }
                        },
                        "type": "barpolar"
                      }
                    ],
                    "carpet": [
                      {
                        "aaxis": {
                          "endlinecolor": "#2a3f5f",
                          "gridcolor": "white",
                          "linecolor": "white",
                          "minorgridcolor": "white",
                          "startlinecolor": "#2a3f5f"
                        },
                        "baxis": {
                          "endlinecolor": "#2a3f5f",
                          "gridcolor": "white",
                          "linecolor": "white",
                          "minorgridcolor": "white",
                          "startlinecolor": "#2a3f5f"
                        },
                        "type": "carpet"
                      }
                    ],
                    "choropleth": [
                      {
                        "colorbar": {
                          "outlinewidth": 0,
                          "ticks": ""
                        },
                        "type": "choropleth"
                      }
                    ],
                    "contour": [
                      {
                        "colorbar": {
                          "outlinewidth": 0,
                          "ticks": ""
                        },
                        "colorscale": [
                          [
                            0,
                            "#0d0887"
                          ],
                          [
                            0.1111111111111111,
                            "#46039f"
                          ],
                          [
                            0.2222222222222222,
                            "#7201a8"
                          ],
                          [
                            0.3333333333333333,
                            "#9c179e"
                          ],
                          [
                            0.4444444444444444,
                            "#bd3786"
                          ],
                          [
                            0.5555555555555556,
                            "#d8576b"
                          ],
                          [
                            0.6666666666666666,
                            "#ed7953"
                          ],
                          [
                            0.7777777777777778,
                            "#fb9f3a"
                          ],
                          [
                            0.8888888888888888,
                            "#fdca26"
                          ],
                          [
                            1,
                            "#f0f921"
                          ]
                        ],
                        "type": "contour"
                      }
                    ],
                    "contourcarpet": [
                      {
                        "colorbar": {
                          "outlinewidth": 0,
                          "ticks": ""
                        },
                        "type": "contourcarpet"
                      }
                    ],
                    "heatmap": [
                      {
                        "colorbar": {
                          "outlinewidth": 0,
                          "ticks": ""
                        },
                        "colorscale": [
                          [
                            0,
                            "#0d0887"
                          ],
                          [
                            0.1111111111111111,
                            "#46039f"
                          ],
                          [
                            0.2222222222222222,
                            "#7201a8"
                          ],
                          [
                            0.3333333333333333,
                            "#9c179e"
                          ],
                          [
                            0.4444444444444444,
                            "#bd3786"
                          ],
                          [
                            0.5555555555555556,
                            "#d8576b"
                          ],
                          [
                            0.6666666666666666,
                            "#ed7953"
                          ],
                          [
                            0.7777777777777778,
                            "#fb9f3a"
                          ],
                          [
                            0.8888888888888888,
                            "#fdca26"
                          ],
                          [
                            1,
                            "#f0f921"
                          ]
                        ],
                        "type": "heatmap"
                      }
                    ],
                    "heatmapgl": [
                      {
                        "colorbar": {
                          "outlinewidth": 0,
                          "ticks": ""
                        },
                        "colorscale": [
                          [
                            0,
                            "#0d0887"
                          ],
                          [
                            0.1111111111111111,
                            "#46039f"
                          ],
                          [
                            0.2222222222222222,
                            "#7201a8"
                          ],
                          [
                            0.3333333333333333,
                            "#9c179e"
                          ],
                          [
                            0.4444444444444444,
                            "#bd3786"
                          ],
                          [
                            0.5555555555555556,
                            "#d8576b"
                          ],
                          [
                            0.6666666666666666,
                            "#ed7953"
                          ],
                          [
                            0.7777777777777778,
                            "#fb9f3a"
                          ],
                          [
                            0.8888888888888888,
                            "#fdca26"
                          ],
                          [
                            1,
                            "#f0f921"
                          ]
                        ],
                        "type": "heatmapgl"
                      }
                    ],
                    "histogram": [
                      {
                        "marker": {
                          "pattern": {
                            "fillmode": "overlay",
                            "size": 10,
                            "solidity": 0.2
                          }
                        },
                        "type": "histogram"
                      }
                    ],
                    "histogram2d": [
                      {
                        "colorbar": {
                          "outlinewidth": 0,
                          "ticks": ""
                        },
                        "colorscale": [
                          [
                            0,
                            "#0d0887"
                          ],
                          [
                            0.1111111111111111,
                            "#46039f"
                          ],
                          [
                            0.2222222222222222,
                            "#7201a8"
                          ],
                          [
                            0.3333333333333333,
                            "#9c179e"
                          ],
                          [
                            0.4444444444444444,
                            "#bd3786"
                          ],
                          [
                            0.5555555555555556,
                            "#d8576b"
                          ],
                          [
                            0.6666666666666666,
                            "#ed7953"
                          ],
                          [
                            0.7777777777777778,
                            "#fb9f3a"
                          ],
                          [
                            0.8888888888888888,
                            "#fdca26"
                          ],
                          [
                            1,
                            "#f0f921"
                          ]
                        ],
                        "type": "histogram2d"
                      }
                    ],
                    "histogram2dcontour": [
                      {
                        "colorbar": {
                          "outlinewidth": 0,
                          "ticks": ""
                        },
                        "colorscale": [
                          [
                            0,
                            "#0d0887"
                          ],
                          [
                            0.1111111111111111,
                            "#46039f"
                          ],
                          [
                            0.2222222222222222,
                            "#7201a8"
                          ],
                          [
                            0.3333333333333333,
                            "#9c179e"
                          ],
                          [
                            0.4444444444444444,
                            "#bd3786"
                          ],
                          [
                            0.5555555555555556,
                            "#d8576b"
                          ],
                          [
                            0.6666666666666666,
                            "#ed7953"
                          ],
                          [
                            0.7777777777777778,
                            "#fb9f3a"
                          ],
                          [
                            0.8888888888888888,
                            "#fdca26"
                          ],
                          [
                            1,
                            "#f0f921"
                          ]
                        ],
                        "type": "histogram2dcontour"
                      }
                    ],
                    "mesh3d": [
                      {
                        "colorbar": {
                          "outlinewidth": 0,
                          "ticks": ""
                        },
                        "type": "mesh3d"
                      }
                    ],
                    "parcoords": [
                      {
                        "line": {
                          "colorbar": {
                            "outlinewidth": 0,
                            "ticks": ""
                          }
                        },
                        "type": "parcoords"
                      }
                    ],
                    "pie": [
                      {
                        "automargin": true,
                        "type": "pie"
                      }
                    ],
                    "scatter": [
                      {
                        "marker": {
                          "colorbar": {
                            "outlinewidth": 0,
                            "ticks": ""
                          }
                        },
                        "type": "scatter"
                      }
                    ],
                    "scatter3d": [
                      {
                        "line": {
                          "colorbar": {
                            "outlinewidth": 0,
                            "ticks": ""
                          }
                        },
                        "marker": {
                          "colorbar": {
                            "outlinewidth": 0,
                            "ticks": ""
                          }
                        },
                        "type": "scatter3d"
                      }
                    ],
                    "scattercarpet": [
                      {
                        "marker": {
                          "colorbar": {
                            "outlinewidth": 0,
                            "ticks": ""
                          }
                        },
                        "type": "scattercarpet"
                      }
                    ],
                    "scattergeo": [
                      {
                        "marker": {
                          "colorbar": {
                            "outlinewidth": 0,
                            "ticks": ""
                          }
                        },
                        "type": "scattergeo"
                      }
                    ],
                    "scattergl": [
                      {
                        "marker": {
                          "colorbar": {
                            "outlinewidth": 0,
                            "ticks": ""
                          }
                        },
                        "type": "scattergl"
                      }
                    ],
                    "scattermapbox": [
                      {
                        "marker": {
                          "colorbar": {
                            "outlinewidth": 0,
                            "ticks": ""
                          }
                        },
                        "type": "scattermapbox"
                      }
                    ],
                    "scatterpolar": [
                      {
                        "marker": {
                          "colorbar": {
                            "outlinewidth": 0,
                            "ticks": ""
                          }
                        },
                        "type": "scatterpolar"
                      }
                    ],
                    "scatterpolargl": [
                      {
                        "marker": {
                          "colorbar": {
                            "outlinewidth": 0,
                            "ticks": ""
                          }
                        },
                        "type": "scatterpolargl"
                      }
                    ],
                    "scatterternary": [
                      {
                        "marker": {
                          "colorbar": {
                            "outlinewidth": 0,
                            "ticks": ""
                          }
                        },
                        "type": "scatterternary"
                      }
                    ],
                    "surface": [
                      {
                        "colorbar": {
                          "outlinewidth": 0,
                          "ticks": ""
                        },
                        "colorscale": [
                          [
                            0,
                            "#0d0887"
                          ],
                          [
                            0.1111111111111111,
                            "#46039f"
                          ],
                          [
                            0.2222222222222222,
                            "#7201a8"
                          ],
                          [
                            0.3333333333333333,
                            "#9c179e"
                          ],
                          [
                            0.4444444444444444,
                            "#bd3786"
                          ],
                          [
                            0.5555555555555556,
                            "#d8576b"
                          ],
                          [
                            0.6666666666666666,
                            "#ed7953"
                          ],
                          [
                            0.7777777777777778,
                            "#fb9f3a"
                          ],
                          [
                            0.8888888888888888,
                            "#fdca26"
                          ],
                          [
                            1,
                            "#f0f921"
                          ]
                        ],
                        "type": "surface"
                      }
                    ],
                    "table": [
                      {
                        "cells": {
                          "fill": {
                            "color": "#EBF0F8"
                          },
                          "line": {
                            "color": "white"
                          }
                        },
                        "header": {
                          "fill": {
                            "color": "#C8D4E3"
                          },
                          "line": {
                            "color": "white"
                          }
                        },
                        "type": "table"
                      }
                    ]
                  },
                  "layout": {
                    "annotationdefaults": {
                      "arrowcolor": "#2a3f5f",
                      "arrowhead": 0,
                      "arrowwidth": 1
                    },
                    "autotypenumbers": "strict",
                    "coloraxis": {
                      "colorbar": {
                        "outlinewidth": 0,
                        "ticks": ""
                      }
                    },
                    "colorscale": {
                      "diverging": [
                        [
                          0,
                          "#8e0152"
                        ],
                        [
                          0.1,
                          "#c51b7d"
                        ],
                        [
                          0.2,
                          "#de77ae"
                        ],
                        [
                          0.3,
                          "#f1b6da"
                        ],
                        [
                          0.4,
                          "#fde0ef"
                        ],
                        [
                          0.5,
                          "#f7f7f7"
                        ],
                        [
                          0.6,
                          "#e6f5d0"
                        ],
                        [
                          0.7,
                          "#b8e186"
                        ],
                        [
                          0.8,
                          "#7fbc41"
                        ],
                        [
                          0.9,
                          "#4d9221"
                        ],
                        [
                          1,
                          "#276419"
                        ]
                      ],
                      "sequential": [
                        [
                          0,
                          "#0d0887"
                        ],
                        [
                          0.1111111111111111,
                          "#46039f"
                        ],
                        [
                          0.2222222222222222,
                          "#7201a8"
                        ],
                        [
                          0.3333333333333333,
                          "#9c179e"
                        ],
                        [
                          0.4444444444444444,
                          "#bd3786"
                        ],
                        [
                          0.5555555555555556,
                          "#d8576b"
                        ],
                        [
                          0.6666666666666666,
                          "#ed7953"
                        ],
                        [
                          0.7777777777777778,
                          "#fb9f3a"
                        ],
                        [
                          0.8888888888888888,
                          "#fdca26"
                        ],
                        [
                          1,
                          "#f0f921"
                        ]
                      ],
                      "sequentialminus": [
                        [
                          0,
                          "#0d0887"
                        ],
                        [
                          0.1111111111111111,
                          "#46039f"
                        ],
                        [
                          0.2222222222222222,
                          "#7201a8"
                        ],
                        [
                          0.3333333333333333,
                          "#9c179e"
                        ],
                        [
                          0.4444444444444444,
                          "#bd3786"
                        ],
                        [
                          0.5555555555555556,
                          "#d8576b"
                        ],
                        [
                          0.6666666666666666,
                          "#ed7953"
                        ],
                        [
                          0.7777777777777778,
                          "#fb9f3a"
                        ],
                        [
                          0.8888888888888888,
                          "#fdca26"
                        ],
                        [
                          1,
                          "#f0f921"
                        ]
                      ]
                    },
                    "colorway": [
                      "#636efa",
                      "#EF553B",
                      "#00cc96",
                      "#ab63fa",
                      "#FFA15A",
                      "#19d3f3",
                      "#FF6692",
                      "#B6E880",
                      "#FF97FF",
                      "#FECB52"
                    ],
                    "font": {
                      "color": "#2a3f5f"
                    },
                    "geo": {
                      "bgcolor": "white",
                      "lakecolor": "white",
                      "landcolor": "#E5ECF6",
                      "showlakes": true,
                      "showland": true,
                      "subunitcolor": "white"
                    },
                    "hoverlabel": {
                      "align": "left"
                    },
                    "hovermode": "closest",
                    "mapbox": {
                      "style": "light"
                    },
                    "paper_bgcolor": "white",
                    "plot_bgcolor": "#E5ECF6",
                    "polar": {
                      "angularaxis": {
                        "gridcolor": "white",
                        "linecolor": "white",
                        "ticks": ""
                      },
                      "bgcolor": "#E5ECF6",
                      "radialaxis": {
                        "gridcolor": "white",
                        "linecolor": "white",
                        "ticks": ""
                      }
                    },
                    "scene": {
                      "xaxis": {
                        "backgroundcolor": "#E5ECF6",
                        "gridcolor": "white",
                        "gridwidth": 2,
                        "linecolor": "white",
                        "showbackground": true,
                        "ticks": "",
                        "zerolinecolor": "white"
                      },
                      "yaxis": {
                        "backgroundcolor": "#E5ECF6",
                        "gridcolor": "white",
                        "gridwidth": 2,
                        "linecolor": "white",
                        "showbackground": true,
                        "ticks": "",
                        "zerolinecolor": "white"
                      },
                      "zaxis": {
                        "backgroundcolor": "#E5ECF6",
                        "gridcolor": "white",
                        "gridwidth": 2,
                        "linecolor": "white",
                        "showbackground": true,
                        "ticks": "",
                        "zerolinecolor": "white"
                      }
                    },
                    "shapedefaults": {
                      "line": {
                        "color": "#2a3f5f"
                      }
                    },
                    "ternary": {
                      "aaxis": {
                        "gridcolor": "white",
                        "linecolor": "white",
                        "ticks": ""
                      },
                      "baxis": {
                        "gridcolor": "white",
                        "linecolor": "white",
                        "ticks": ""
                      },
                      "bgcolor": "#E5ECF6",
                      "caxis": {
                        "gridcolor": "white",
                        "linecolor": "white",
                        "ticks": ""
                      }
                    },
                    "title": {
                      "x": 0.05
                    },
                    "xaxis": {
                      "automargin": true,
                      "gridcolor": "white",
                      "linecolor": "white",
                      "ticks": "",
                      "title": {
                        "standoff": 15
                      },
                      "zerolinecolor": "white",
                      "zerolinewidth": 2
                    },
                    "yaxis": {
                      "automargin": true,
                      "gridcolor": "white",
                      "linecolor": "white",
                      "ticks": "",
                      "title": {
                        "standoff": 15
                      },
                      "zerolinecolor": "white",
                      "zerolinewidth": 2
                    }
                  }
                }
              }
            }
          },
          "metadata": {},
          "output_type": "display_data"
        }
      ],
      "source": [
        "fig = px.strip(iris, x=)\n",
        "fig.show()"
      ]
    },
    {
      "cell_type": "markdown",
      "metadata": {
        "id": "b4rQKTltdZ5Z"
      },
      "source": [
        "### Additional Example"
      ]
    },
    {
      "cell_type": "code",
      "execution_count": null,
      "metadata": {
        "id": "_x9i0p64dZ5Z",
        "outputId": "5235f207-c92d-4dbc-d8df-9efa96896f29"
      },
      "outputs": [
        {
          "data": {
            "text/html": [
              "<div>\n",
              "<style scoped>\n",
              "    .dataframe tbody tr th:only-of-type {\n",
              "        vertical-align: middle;\n",
              "    }\n",
              "\n",
              "    .dataframe tbody tr th {\n",
              "        vertical-align: top;\n",
              "    }\n",
              "\n",
              "    .dataframe thead th {\n",
              "        text-align: right;\n",
              "    }\n",
              "</style>\n",
              "<table border=\"1\" class=\"dataframe\">\n",
              "  <thead>\n",
              "    <tr style=\"text-align: right;\">\n",
              "      <th></th>\n",
              "      <th>code</th>\n",
              "      <th>state</th>\n",
              "      <th>category</th>\n",
              "      <th>total exports</th>\n",
              "      <th>beef</th>\n",
              "      <th>pork</th>\n",
              "      <th>poultry</th>\n",
              "      <th>dairy</th>\n",
              "      <th>fruits fresh</th>\n",
              "      <th>fruits proc</th>\n",
              "      <th>total fruits</th>\n",
              "      <th>veggies fresh</th>\n",
              "      <th>veggies proc</th>\n",
              "      <th>total veggies</th>\n",
              "      <th>corn</th>\n",
              "      <th>wheat</th>\n",
              "      <th>cotton</th>\n",
              "      <th>total animal</th>\n",
              "      <th>total crops</th>\n",
              "    </tr>\n",
              "  </thead>\n",
              "  <tbody>\n",
              "    <tr>\n",
              "      <th>0</th>\n",
              "      <td>AL</td>\n",
              "      <td>Alabama</td>\n",
              "      <td>state</td>\n",
              "      <td>1390.63</td>\n",
              "      <td>34.4</td>\n",
              "      <td>10.6</td>\n",
              "      <td>481.0</td>\n",
              "      <td>4.06</td>\n",
              "      <td>8.0</td>\n",
              "      <td>17.1</td>\n",
              "      <td>25.11</td>\n",
              "      <td>5.5</td>\n",
              "      <td>8.9</td>\n",
              "      <td>14.33</td>\n",
              "      <td>34.9</td>\n",
              "      <td>70.0</td>\n",
              "      <td>317.61</td>\n",
              "      <td>526.0</td>\n",
              "      <td>422.51</td>\n",
              "    </tr>\n",
              "    <tr>\n",
              "      <th>1</th>\n",
              "      <td>AK</td>\n",
              "      <td>Alaska</td>\n",
              "      <td>state</td>\n",
              "      <td>13.31</td>\n",
              "      <td>0.2</td>\n",
              "      <td>0.1</td>\n",
              "      <td>0.0</td>\n",
              "      <td>0.19</td>\n",
              "      <td>0.0</td>\n",
              "      <td>0.0</td>\n",
              "      <td>0.00</td>\n",
              "      <td>0.6</td>\n",
              "      <td>1.0</td>\n",
              "      <td>1.56</td>\n",
              "      <td>0.0</td>\n",
              "      <td>0.0</td>\n",
              "      <td>0.00</td>\n",
              "      <td>0.3</td>\n",
              "      <td>0.00</td>\n",
              "    </tr>\n",
              "    <tr>\n",
              "      <th>2</th>\n",
              "      <td>AZ</td>\n",
              "      <td>Arizona</td>\n",
              "      <td>state</td>\n",
              "      <td>1463.17</td>\n",
              "      <td>71.3</td>\n",
              "      <td>17.9</td>\n",
              "      <td>0.0</td>\n",
              "      <td>105.48</td>\n",
              "      <td>19.3</td>\n",
              "      <td>41.0</td>\n",
              "      <td>60.27</td>\n",
              "      <td>147.5</td>\n",
              "      <td>239.4</td>\n",
              "      <td>386.91</td>\n",
              "      <td>7.3</td>\n",
              "      <td>48.7</td>\n",
              "      <td>423.95</td>\n",
              "      <td>89.2</td>\n",
              "      <td>479.95</td>\n",
              "    </tr>\n",
              "    <tr>\n",
              "      <th>3</th>\n",
              "      <td>AR</td>\n",
              "      <td>Arkansas</td>\n",
              "      <td>state</td>\n",
              "      <td>3586.02</td>\n",
              "      <td>53.2</td>\n",
              "      <td>29.4</td>\n",
              "      <td>562.9</td>\n",
              "      <td>3.53</td>\n",
              "      <td>2.2</td>\n",
              "      <td>4.7</td>\n",
              "      <td>6.88</td>\n",
              "      <td>4.4</td>\n",
              "      <td>7.1</td>\n",
              "      <td>11.45</td>\n",
              "      <td>69.5</td>\n",
              "      <td>114.5</td>\n",
              "      <td>665.44</td>\n",
              "      <td>645.5</td>\n",
              "      <td>849.44</td>\n",
              "    </tr>\n",
              "    <tr>\n",
              "      <th>4</th>\n",
              "      <td>CA</td>\n",
              "      <td>California</td>\n",
              "      <td>state</td>\n",
              "      <td>16472.88</td>\n",
              "      <td>228.7</td>\n",
              "      <td>11.1</td>\n",
              "      <td>225.4</td>\n",
              "      <td>929.95</td>\n",
              "      <td>2791.8</td>\n",
              "      <td>5944.6</td>\n",
              "      <td>8736.40</td>\n",
              "      <td>803.2</td>\n",
              "      <td>1303.5</td>\n",
              "      <td>2106.79</td>\n",
              "      <td>34.6</td>\n",
              "      <td>249.3</td>\n",
              "      <td>1064.95</td>\n",
              "      <td>465.2</td>\n",
              "      <td>1348.85</td>\n",
              "    </tr>\n",
              "    <tr>\n",
              "      <th>5</th>\n",
              "      <td>CO</td>\n",
              "      <td>Colorado</td>\n",
              "      <td>state</td>\n",
              "      <td>1851.33</td>\n",
              "      <td>261.4</td>\n",
              "      <td>66.0</td>\n",
              "      <td>14.0</td>\n",
              "      <td>71.94</td>\n",
              "      <td>5.7</td>\n",
              "      <td>12.2</td>\n",
              "      <td>17.99</td>\n",
              "      <td>45.1</td>\n",
              "      <td>73.2</td>\n",
              "      <td>118.27</td>\n",
              "      <td>183.2</td>\n",
              "      <td>400.5</td>\n",
              "      <td>0.00</td>\n",
              "      <td>341.4</td>\n",
              "      <td>583.70</td>\n",
              "    </tr>\n",
              "    <tr>\n",
              "      <th>6</th>\n",
              "      <td>CT</td>\n",
              "      <td>Connecticut</td>\n",
              "      <td>state</td>\n",
              "      <td>259.62</td>\n",
              "      <td>1.1</td>\n",
              "      <td>0.1</td>\n",
              "      <td>6.9</td>\n",
              "      <td>9.49</td>\n",
              "      <td>4.2</td>\n",
              "      <td>8.9</td>\n",
              "      <td>13.10</td>\n",
              "      <td>4.3</td>\n",
              "      <td>6.9</td>\n",
              "      <td>11.16</td>\n",
              "      <td>0.0</td>\n",
              "      <td>0.0</td>\n",
              "      <td>0.00</td>\n",
              "      <td>8.1</td>\n",
              "      <td>0.00</td>\n",
              "    </tr>\n",
              "    <tr>\n",
              "      <th>7</th>\n",
              "      <td>DE</td>\n",
              "      <td>Delaware</td>\n",
              "      <td>state</td>\n",
              "      <td>282.19</td>\n",
              "      <td>0.4</td>\n",
              "      <td>0.6</td>\n",
              "      <td>114.7</td>\n",
              "      <td>2.30</td>\n",
              "      <td>0.5</td>\n",
              "      <td>1.0</td>\n",
              "      <td>1.53</td>\n",
              "      <td>7.6</td>\n",
              "      <td>12.4</td>\n",
              "      <td>20.03</td>\n",
              "      <td>26.9</td>\n",
              "      <td>22.9</td>\n",
              "      <td>0.00</td>\n",
              "      <td>115.7</td>\n",
              "      <td>49.80</td>\n",
              "    </tr>\n",
              "    <tr>\n",
              "      <th>8</th>\n",
              "      <td>FL</td>\n",
              "      <td>Florida</td>\n",
              "      <td>state</td>\n",
              "      <td>3764.09</td>\n",
              "      <td>42.6</td>\n",
              "      <td>0.9</td>\n",
              "      <td>56.9</td>\n",
              "      <td>66.31</td>\n",
              "      <td>438.2</td>\n",
              "      <td>933.1</td>\n",
              "      <td>1371.36</td>\n",
              "      <td>171.9</td>\n",
              "      <td>279.0</td>\n",
              "      <td>450.86</td>\n",
              "      <td>3.5</td>\n",
              "      <td>1.8</td>\n",
              "      <td>78.24</td>\n",
              "      <td>100.4</td>\n",
              "      <td>83.54</td>\n",
              "    </tr>\n",
              "    <tr>\n",
              "      <th>9</th>\n",
              "      <td>GA</td>\n",
              "      <td>Georgia</td>\n",
              "      <td>state</td>\n",
              "      <td>2860.84</td>\n",
              "      <td>31.0</td>\n",
              "      <td>18.9</td>\n",
              "      <td>630.4</td>\n",
              "      <td>38.38</td>\n",
              "      <td>74.6</td>\n",
              "      <td>158.9</td>\n",
              "      <td>233.51</td>\n",
              "      <td>59.0</td>\n",
              "      <td>95.8</td>\n",
              "      <td>154.77</td>\n",
              "      <td>57.8</td>\n",
              "      <td>65.4</td>\n",
              "      <td>1154.07</td>\n",
              "      <td>680.3</td>\n",
              "      <td>1277.27</td>\n",
              "    </tr>\n",
              "    <tr>\n",
              "      <th>10</th>\n",
              "      <td>HI</td>\n",
              "      <td>Hawaii</td>\n",
              "      <td>state</td>\n",
              "      <td>401.84</td>\n",
              "      <td>4.0</td>\n",
              "      <td>0.7</td>\n",
              "      <td>1.3</td>\n",
              "      <td>1.16</td>\n",
              "      <td>17.7</td>\n",
              "      <td>37.8</td>\n",
              "      <td>55.51</td>\n",
              "      <td>9.5</td>\n",
              "      <td>15.4</td>\n",
              "      <td>24.83</td>\n",
              "      <td>0.0</td>\n",
              "      <td>0.0</td>\n",
              "      <td>0.00</td>\n",
              "      <td>6.0</td>\n",
              "      <td>0.00</td>\n",
              "    </tr>\n",
              "    <tr>\n",
              "      <th>11</th>\n",
              "      <td>ID</td>\n",
              "      <td>Idaho</td>\n",
              "      <td>state</td>\n",
              "      <td>2078.89</td>\n",
              "      <td>119.8</td>\n",
              "      <td>0.0</td>\n",
              "      <td>2.4</td>\n",
              "      <td>294.60</td>\n",
              "      <td>6.9</td>\n",
              "      <td>14.7</td>\n",
              "      <td>21.64</td>\n",
              "      <td>121.7</td>\n",
              "      <td>197.5</td>\n",
              "      <td>319.19</td>\n",
              "      <td>24.0</td>\n",
              "      <td>568.2</td>\n",
              "      <td>0.00</td>\n",
              "      <td>122.2</td>\n",
              "      <td>592.20</td>\n",
              "    </tr>\n",
              "    <tr>\n",
              "      <th>12</th>\n",
              "      <td>IL</td>\n",
              "      <td>Illinois</td>\n",
              "      <td>state</td>\n",
              "      <td>8709.48</td>\n",
              "      <td>53.7</td>\n",
              "      <td>394.0</td>\n",
              "      <td>14.0</td>\n",
              "      <td>45.82</td>\n",
              "      <td>4.0</td>\n",
              "      <td>8.5</td>\n",
              "      <td>12.53</td>\n",
              "      <td>15.2</td>\n",
              "      <td>24.7</td>\n",
              "      <td>39.95</td>\n",
              "      <td>2228.5</td>\n",
              "      <td>223.8</td>\n",
              "      <td>0.00</td>\n",
              "      <td>461.7</td>\n",
              "      <td>2452.30</td>\n",
              "    </tr>\n",
              "    <tr>\n",
              "      <th>13</th>\n",
              "      <td>IN</td>\n",
              "      <td>Indiana</td>\n",
              "      <td>state</td>\n",
              "      <td>5050.23</td>\n",
              "      <td>21.9</td>\n",
              "      <td>341.9</td>\n",
              "      <td>165.6</td>\n",
              "      <td>89.70</td>\n",
              "      <td>4.1</td>\n",
              "      <td>8.8</td>\n",
              "      <td>12.98</td>\n",
              "      <td>14.4</td>\n",
              "      <td>23.4</td>\n",
              "      <td>37.89</td>\n",
              "      <td>1123.2</td>\n",
              "      <td>114.0</td>\n",
              "      <td>0.00</td>\n",
              "      <td>529.4</td>\n",
              "      <td>1237.20</td>\n",
              "    </tr>\n",
              "    <tr>\n",
              "      <th>14</th>\n",
              "      <td>IA</td>\n",
              "      <td>Iowa</td>\n",
              "      <td>state</td>\n",
              "      <td>11273.76</td>\n",
              "      <td>289.8</td>\n",
              "      <td>1895.6</td>\n",
              "      <td>155.6</td>\n",
              "      <td>107.00</td>\n",
              "      <td>1.0</td>\n",
              "      <td>2.2</td>\n",
              "      <td>3.24</td>\n",
              "      <td>2.7</td>\n",
              "      <td>4.4</td>\n",
              "      <td>7.10</td>\n",
              "      <td>2529.8</td>\n",
              "      <td>3.1</td>\n",
              "      <td>0.00</td>\n",
              "      <td>2341.0</td>\n",
              "      <td>2532.90</td>\n",
              "    </tr>\n",
              "    <tr>\n",
              "      <th>15</th>\n",
              "      <td>KS</td>\n",
              "      <td>Kansas</td>\n",
              "      <td>state</td>\n",
              "      <td>4589.01</td>\n",
              "      <td>659.3</td>\n",
              "      <td>179.4</td>\n",
              "      <td>6.4</td>\n",
              "      <td>65.45</td>\n",
              "      <td>1.0</td>\n",
              "      <td>2.1</td>\n",
              "      <td>3.11</td>\n",
              "      <td>3.6</td>\n",
              "      <td>5.8</td>\n",
              "      <td>9.32</td>\n",
              "      <td>457.3</td>\n",
              "      <td>1426.5</td>\n",
              "      <td>43.98</td>\n",
              "      <td>845.1</td>\n",
              "      <td>1927.78</td>\n",
              "    </tr>\n",
              "    <tr>\n",
              "      <th>16</th>\n",
              "      <td>KY</td>\n",
              "      <td>Kentucky</td>\n",
              "      <td>state</td>\n",
              "      <td>1889.15</td>\n",
              "      <td>54.8</td>\n",
              "      <td>34.2</td>\n",
              "      <td>151.3</td>\n",
              "      <td>28.27</td>\n",
              "      <td>2.1</td>\n",
              "      <td>4.5</td>\n",
              "      <td>6.60</td>\n",
              "      <td>0.0</td>\n",
              "      <td>0.0</td>\n",
              "      <td>0.00</td>\n",
              "      <td>179.1</td>\n",
              "      <td>149.3</td>\n",
              "      <td>0.00</td>\n",
              "      <td>240.3</td>\n",
              "      <td>328.40</td>\n",
              "    </tr>\n",
              "    <tr>\n",
              "      <th>17</th>\n",
              "      <td>LA</td>\n",
              "      <td>Louisiana</td>\n",
              "      <td>state</td>\n",
              "      <td>1914.23</td>\n",
              "      <td>19.8</td>\n",
              "      <td>0.8</td>\n",
              "      <td>77.2</td>\n",
              "      <td>6.02</td>\n",
              "      <td>5.7</td>\n",
              "      <td>12.1</td>\n",
              "      <td>17.83</td>\n",
              "      <td>6.6</td>\n",
              "      <td>10.7</td>\n",
              "      <td>17.25</td>\n",
              "      <td>91.4</td>\n",
              "      <td>78.7</td>\n",
              "      <td>280.42</td>\n",
              "      <td>97.8</td>\n",
              "      <td>450.52</td>\n",
              "    </tr>\n",
              "    <tr>\n",
              "      <th>18</th>\n",
              "      <td>ME</td>\n",
              "      <td>Maine</td>\n",
              "      <td>state</td>\n",
              "      <td>278.37</td>\n",
              "      <td>1.4</td>\n",
              "      <td>0.5</td>\n",
              "      <td>10.4</td>\n",
              "      <td>16.18</td>\n",
              "      <td>16.6</td>\n",
              "      <td>35.4</td>\n",
              "      <td>52.01</td>\n",
              "      <td>24.0</td>\n",
              "      <td>38.9</td>\n",
              "      <td>62.90</td>\n",
              "      <td>0.0</td>\n",
              "      <td>0.0</td>\n",
              "      <td>0.00</td>\n",
              "      <td>12.3</td>\n",
              "      <td>0.00</td>\n",
              "    </tr>\n",
              "    <tr>\n",
              "      <th>19</th>\n",
              "      <td>MD</td>\n",
              "      <td>Maryland</td>\n",
              "      <td>state</td>\n",
              "      <td>692.75</td>\n",
              "      <td>5.6</td>\n",
              "      <td>3.1</td>\n",
              "      <td>127.0</td>\n",
              "      <td>24.81</td>\n",
              "      <td>4.1</td>\n",
              "      <td>8.8</td>\n",
              "      <td>12.90</td>\n",
              "      <td>7.8</td>\n",
              "      <td>12.6</td>\n",
              "      <td>20.43</td>\n",
              "      <td>54.1</td>\n",
              "      <td>55.8</td>\n",
              "      <td>0.00</td>\n",
              "      <td>135.7</td>\n",
              "      <td>109.90</td>\n",
              "    </tr>\n",
              "    <tr>\n",
              "      <th>20</th>\n",
              "      <td>MA</td>\n",
              "      <td>Massachusetts</td>\n",
              "      <td>state</td>\n",
              "      <td>248.65</td>\n",
              "      <td>0.6</td>\n",
              "      <td>0.5</td>\n",
              "      <td>0.6</td>\n",
              "      <td>5.81</td>\n",
              "      <td>25.8</td>\n",
              "      <td>55.0</td>\n",
              "      <td>80.83</td>\n",
              "      <td>8.1</td>\n",
              "      <td>13.1</td>\n",
              "      <td>21.13</td>\n",
              "      <td>0.0</td>\n",
              "      <td>0.0</td>\n",
              "      <td>0.00</td>\n",
              "      <td>1.7</td>\n",
              "      <td>0.00</td>\n",
              "    </tr>\n",
              "    <tr>\n",
              "      <th>21</th>\n",
              "      <td>MI</td>\n",
              "      <td>Michigan</td>\n",
              "      <td>state</td>\n",
              "      <td>3164.16</td>\n",
              "      <td>37.7</td>\n",
              "      <td>118.1</td>\n",
              "      <td>32.6</td>\n",
              "      <td>214.82</td>\n",
              "      <td>82.3</td>\n",
              "      <td>175.3</td>\n",
              "      <td>257.69</td>\n",
              "      <td>72.4</td>\n",
              "      <td>117.5</td>\n",
              "      <td>189.96</td>\n",
              "      <td>381.5</td>\n",
              "      <td>247.0</td>\n",
              "      <td>0.00</td>\n",
              "      <td>188.4</td>\n",
              "      <td>628.50</td>\n",
              "    </tr>\n",
              "    <tr>\n",
              "      <th>22</th>\n",
              "      <td>MN</td>\n",
              "      <td>Minnesota</td>\n",
              "      <td>state</td>\n",
              "      <td>7192.33</td>\n",
              "      <td>112.3</td>\n",
              "      <td>740.4</td>\n",
              "      <td>189.2</td>\n",
              "      <td>218.05</td>\n",
              "      <td>2.5</td>\n",
              "      <td>5.4</td>\n",
              "      <td>7.91</td>\n",
              "      <td>45.9</td>\n",
              "      <td>74.5</td>\n",
              "      <td>120.37</td>\n",
              "      <td>1264.3</td>\n",
              "      <td>538.1</td>\n",
              "      <td>0.00</td>\n",
              "      <td>1041.9</td>\n",
              "      <td>1802.40</td>\n",
              "    </tr>\n",
              "    <tr>\n",
              "      <th>23</th>\n",
              "      <td>MS</td>\n",
              "      <td>Mississippi</td>\n",
              "      <td>state</td>\n",
              "      <td>2170.80</td>\n",
              "      <td>12.8</td>\n",
              "      <td>30.4</td>\n",
              "      <td>370.8</td>\n",
              "      <td>5.45</td>\n",
              "      <td>5.4</td>\n",
              "      <td>11.6</td>\n",
              "      <td>17.04</td>\n",
              "      <td>10.6</td>\n",
              "      <td>17.2</td>\n",
              "      <td>27.87</td>\n",
              "      <td>110.0</td>\n",
              "      <td>102.2</td>\n",
              "      <td>494.75</td>\n",
              "      <td>414.0</td>\n",
              "      <td>706.95</td>\n",
              "    </tr>\n",
              "    <tr>\n",
              "      <th>24</th>\n",
              "      <td>MO</td>\n",
              "      <td>Missouri</td>\n",
              "      <td>state</td>\n",
              "      <td>3933.42</td>\n",
              "      <td>137.2</td>\n",
              "      <td>277.3</td>\n",
              "      <td>196.1</td>\n",
              "      <td>34.26</td>\n",
              "      <td>4.2</td>\n",
              "      <td>9.0</td>\n",
              "      <td>13.18</td>\n",
              "      <td>6.8</td>\n",
              "      <td>11.1</td>\n",
              "      <td>17.90</td>\n",
              "      <td>428.8</td>\n",
              "      <td>161.7</td>\n",
              "      <td>345.29</td>\n",
              "      <td>610.6</td>\n",
              "      <td>935.79</td>\n",
              "    </tr>\n",
              "    <tr>\n",
              "      <th>25</th>\n",
              "      <td>MT</td>\n",
              "      <td>Montana</td>\n",
              "      <td>state</td>\n",
              "      <td>1718.00</td>\n",
              "      <td>105.0</td>\n",
              "      <td>16.7</td>\n",
              "      <td>1.7</td>\n",
              "      <td>6.82</td>\n",
              "      <td>1.1</td>\n",
              "      <td>2.2</td>\n",
              "      <td>3.30</td>\n",
              "      <td>17.3</td>\n",
              "      <td>28.0</td>\n",
              "      <td>45.27</td>\n",
              "      <td>5.4</td>\n",
              "      <td>1198.1</td>\n",
              "      <td>0.00</td>\n",
              "      <td>123.4</td>\n",
              "      <td>1203.50</td>\n",
              "    </tr>\n",
              "    <tr>\n",
              "      <th>26</th>\n",
              "      <td>NE</td>\n",
              "      <td>Nebraska</td>\n",
              "      <td>state</td>\n",
              "      <td>7114.13</td>\n",
              "      <td>762.2</td>\n",
              "      <td>262.5</td>\n",
              "      <td>31.4</td>\n",
              "      <td>30.07</td>\n",
              "      <td>0.7</td>\n",
              "      <td>1.5</td>\n",
              "      <td>2.16</td>\n",
              "      <td>20.4</td>\n",
              "      <td>33.1</td>\n",
              "      <td>53.50</td>\n",
              "      <td>1735.9</td>\n",
              "      <td>292.3</td>\n",
              "      <td>0.00</td>\n",
              "      <td>1056.1</td>\n",
              "      <td>2028.20</td>\n",
              "    </tr>\n",
              "    <tr>\n",
              "      <th>27</th>\n",
              "      <td>NV</td>\n",
              "      <td>Nevada</td>\n",
              "      <td>state</td>\n",
              "      <td>139.89</td>\n",
              "      <td>21.8</td>\n",
              "      <td>0.2</td>\n",
              "      <td>0.0</td>\n",
              "      <td>16.57</td>\n",
              "      <td>0.4</td>\n",
              "      <td>0.8</td>\n",
              "      <td>1.19</td>\n",
              "      <td>10.6</td>\n",
              "      <td>17.3</td>\n",
              "      <td>27.93</td>\n",
              "      <td>0.0</td>\n",
              "      <td>5.4</td>\n",
              "      <td>0.00</td>\n",
              "      <td>22.0</td>\n",
              "      <td>5.40</td>\n",
              "    </tr>\n",
              "    <tr>\n",
              "      <th>28</th>\n",
              "      <td>NH</td>\n",
              "      <td>New Hampshire</td>\n",
              "      <td>state</td>\n",
              "      <td>73.06</td>\n",
              "      <td>0.6</td>\n",
              "      <td>0.2</td>\n",
              "      <td>0.8</td>\n",
              "      <td>7.46</td>\n",
              "      <td>2.6</td>\n",
              "      <td>5.4</td>\n",
              "      <td>7.98</td>\n",
              "      <td>1.7</td>\n",
              "      <td>2.8</td>\n",
              "      <td>4.50</td>\n",
              "      <td>0.0</td>\n",
              "      <td>0.0</td>\n",
              "      <td>0.00</td>\n",
              "      <td>1.6</td>\n",
              "      <td>0.00</td>\n",
              "    </tr>\n",
              "    <tr>\n",
              "      <th>29</th>\n",
              "      <td>NJ</td>\n",
              "      <td>New Jersey</td>\n",
              "      <td>state</td>\n",
              "      <td>500.40</td>\n",
              "      <td>0.8</td>\n",
              "      <td>0.4</td>\n",
              "      <td>4.6</td>\n",
              "      <td>3.37</td>\n",
              "      <td>35.0</td>\n",
              "      <td>74.5</td>\n",
              "      <td>109.45</td>\n",
              "      <td>21.6</td>\n",
              "      <td>35.0</td>\n",
              "      <td>56.54</td>\n",
              "      <td>10.1</td>\n",
              "      <td>6.7</td>\n",
              "      <td>0.00</td>\n",
              "      <td>5.8</td>\n",
              "      <td>16.80</td>\n",
              "    </tr>\n",
              "    <tr>\n",
              "      <th>30</th>\n",
              "      <td>NM</td>\n",
              "      <td>New Mexico</td>\n",
              "      <td>state</td>\n",
              "      <td>751.58</td>\n",
              "      <td>117.2</td>\n",
              "      <td>0.1</td>\n",
              "      <td>0.3</td>\n",
              "      <td>191.01</td>\n",
              "      <td>32.6</td>\n",
              "      <td>69.3</td>\n",
              "      <td>101.90</td>\n",
              "      <td>16.7</td>\n",
              "      <td>27.1</td>\n",
              "      <td>43.88</td>\n",
              "      <td>11.2</td>\n",
              "      <td>13.9</td>\n",
              "      <td>72.62</td>\n",
              "      <td>117.6</td>\n",
              "      <td>97.72</td>\n",
              "    </tr>\n",
              "    <tr>\n",
              "      <th>31</th>\n",
              "      <td>NY</td>\n",
              "      <td>New York</td>\n",
              "      <td>state</td>\n",
              "      <td>1488.90</td>\n",
              "      <td>22.2</td>\n",
              "      <td>5.8</td>\n",
              "      <td>17.7</td>\n",
              "      <td>331.80</td>\n",
              "      <td>64.7</td>\n",
              "      <td>137.8</td>\n",
              "      <td>202.56</td>\n",
              "      <td>54.7</td>\n",
              "      <td>88.7</td>\n",
              "      <td>143.37</td>\n",
              "      <td>106.1</td>\n",
              "      <td>29.9</td>\n",
              "      <td>0.00</td>\n",
              "      <td>45.7</td>\n",
              "      <td>136.00</td>\n",
              "    </tr>\n",
              "    <tr>\n",
              "      <th>32</th>\n",
              "      <td>NC</td>\n",
              "      <td>North Carolina</td>\n",
              "      <td>state</td>\n",
              "      <td>3806.05</td>\n",
              "      <td>24.8</td>\n",
              "      <td>702.8</td>\n",
              "      <td>598.4</td>\n",
              "      <td>24.90</td>\n",
              "      <td>23.8</td>\n",
              "      <td>50.7</td>\n",
              "      <td>74.47</td>\n",
              "      <td>57.4</td>\n",
              "      <td>93.1</td>\n",
              "      <td>150.45</td>\n",
              "      <td>92.2</td>\n",
              "      <td>200.3</td>\n",
              "      <td>470.86</td>\n",
              "      <td>1326.0</td>\n",
              "      <td>763.36</td>\n",
              "    </tr>\n",
              "    <tr>\n",
              "      <th>33</th>\n",
              "      <td>ND</td>\n",
              "      <td>North Dakota</td>\n",
              "      <td>state</td>\n",
              "      <td>3761.96</td>\n",
              "      <td>78.5</td>\n",
              "      <td>16.1</td>\n",
              "      <td>0.5</td>\n",
              "      <td>8.14</td>\n",
              "      <td>0.1</td>\n",
              "      <td>0.2</td>\n",
              "      <td>0.25</td>\n",
              "      <td>49.9</td>\n",
              "      <td>80.9</td>\n",
              "      <td>130.79</td>\n",
              "      <td>236.1</td>\n",
              "      <td>1664.5</td>\n",
              "      <td>0.00</td>\n",
              "      <td>95.1</td>\n",
              "      <td>1900.60</td>\n",
              "    </tr>\n",
              "    <tr>\n",
              "      <th>34</th>\n",
              "      <td>OH</td>\n",
              "      <td>Ohio</td>\n",
              "      <td>state</td>\n",
              "      <td>3979.79</td>\n",
              "      <td>36.2</td>\n",
              "      <td>199.1</td>\n",
              "      <td>129.9</td>\n",
              "      <td>134.57</td>\n",
              "      <td>8.7</td>\n",
              "      <td>18.5</td>\n",
              "      <td>27.21</td>\n",
              "      <td>20.4</td>\n",
              "      <td>33.1</td>\n",
              "      <td>53.53</td>\n",
              "      <td>535.1</td>\n",
              "      <td>207.4</td>\n",
              "      <td>0.00</td>\n",
              "      <td>365.2</td>\n",
              "      <td>742.50</td>\n",
              "    </tr>\n",
              "    <tr>\n",
              "      <th>35</th>\n",
              "      <td>OK</td>\n",
              "      <td>Oklahoma</td>\n",
              "      <td>state</td>\n",
              "      <td>1646.41</td>\n",
              "      <td>337.6</td>\n",
              "      <td>265.3</td>\n",
              "      <td>131.1</td>\n",
              "      <td>24.35</td>\n",
              "      <td>3.0</td>\n",
              "      <td>6.3</td>\n",
              "      <td>9.24</td>\n",
              "      <td>3.4</td>\n",
              "      <td>5.5</td>\n",
              "      <td>8.90</td>\n",
              "      <td>27.5</td>\n",
              "      <td>324.8</td>\n",
              "      <td>110.54</td>\n",
              "      <td>734.0</td>\n",
              "      <td>462.84</td>\n",
              "    </tr>\n",
              "    <tr>\n",
              "      <th>36</th>\n",
              "      <td>OR</td>\n",
              "      <td>Oregon</td>\n",
              "      <td>state</td>\n",
              "      <td>1794.57</td>\n",
              "      <td>58.8</td>\n",
              "      <td>1.4</td>\n",
              "      <td>14.2</td>\n",
              "      <td>63.66</td>\n",
              "      <td>100.7</td>\n",
              "      <td>214.4</td>\n",
              "      <td>315.04</td>\n",
              "      <td>48.2</td>\n",
              "      <td>78.3</td>\n",
              "      <td>126.50</td>\n",
              "      <td>11.7</td>\n",
              "      <td>320.3</td>\n",
              "      <td>0.00</td>\n",
              "      <td>74.4</td>\n",
              "      <td>332.00</td>\n",
              "    </tr>\n",
              "    <tr>\n",
              "      <th>37</th>\n",
              "      <td>PA</td>\n",
              "      <td>Pennsylvania</td>\n",
              "      <td>state</td>\n",
              "      <td>1969.87</td>\n",
              "      <td>50.9</td>\n",
              "      <td>91.3</td>\n",
              "      <td>169.8</td>\n",
              "      <td>280.87</td>\n",
              "      <td>28.6</td>\n",
              "      <td>60.9</td>\n",
              "      <td>89.48</td>\n",
              "      <td>14.6</td>\n",
              "      <td>23.7</td>\n",
              "      <td>38.26</td>\n",
              "      <td>112.1</td>\n",
              "      <td>41.0</td>\n",
              "      <td>0.00</td>\n",
              "      <td>312.0</td>\n",
              "      <td>153.10</td>\n",
              "    </tr>\n",
              "    <tr>\n",
              "      <th>38</th>\n",
              "      <td>RI</td>\n",
              "      <td>Rhode Island</td>\n",
              "      <td>state</td>\n",
              "      <td>31.59</td>\n",
              "      <td>0.1</td>\n",
              "      <td>0.1</td>\n",
              "      <td>0.2</td>\n",
              "      <td>0.52</td>\n",
              "      <td>0.9</td>\n",
              "      <td>1.9</td>\n",
              "      <td>2.83</td>\n",
              "      <td>1.2</td>\n",
              "      <td>1.9</td>\n",
              "      <td>3.02</td>\n",
              "      <td>0.0</td>\n",
              "      <td>0.0</td>\n",
              "      <td>0.00</td>\n",
              "      <td>0.4</td>\n",
              "      <td>0.00</td>\n",
              "    </tr>\n",
              "    <tr>\n",
              "      <th>39</th>\n",
              "      <td>SC</td>\n",
              "      <td>South Carolina</td>\n",
              "      <td>state</td>\n",
              "      <td>929.93</td>\n",
              "      <td>15.2</td>\n",
              "      <td>10.9</td>\n",
              "      <td>186.5</td>\n",
              "      <td>7.62</td>\n",
              "      <td>17.1</td>\n",
              "      <td>36.4</td>\n",
              "      <td>53.45</td>\n",
              "      <td>16.3</td>\n",
              "      <td>26.4</td>\n",
              "      <td>42.66</td>\n",
              "      <td>32.1</td>\n",
              "      <td>55.3</td>\n",
              "      <td>206.10</td>\n",
              "      <td>212.6</td>\n",
              "      <td>293.50</td>\n",
              "    </tr>\n",
              "    <tr>\n",
              "      <th>40</th>\n",
              "      <td>SD</td>\n",
              "      <td>South Dakota</td>\n",
              "      <td>state</td>\n",
              "      <td>3770.19</td>\n",
              "      <td>193.5</td>\n",
              "      <td>160.2</td>\n",
              "      <td>29.3</td>\n",
              "      <td>46.77</td>\n",
              "      <td>0.3</td>\n",
              "      <td>0.5</td>\n",
              "      <td>0.80</td>\n",
              "      <td>1.5</td>\n",
              "      <td>2.5</td>\n",
              "      <td>4.06</td>\n",
              "      <td>643.6</td>\n",
              "      <td>704.5</td>\n",
              "      <td>0.00</td>\n",
              "      <td>383.0</td>\n",
              "      <td>1348.10</td>\n",
              "    </tr>\n",
              "    <tr>\n",
              "      <th>41</th>\n",
              "      <td>TN</td>\n",
              "      <td>Tennessee</td>\n",
              "      <td>state</td>\n",
              "      <td>1535.13</td>\n",
              "      <td>51.1</td>\n",
              "      <td>17.6</td>\n",
              "      <td>82.4</td>\n",
              "      <td>21.18</td>\n",
              "      <td>2.0</td>\n",
              "      <td>4.2</td>\n",
              "      <td>6.23</td>\n",
              "      <td>9.4</td>\n",
              "      <td>15.3</td>\n",
              "      <td>24.67</td>\n",
              "      <td>88.8</td>\n",
              "      <td>100.0</td>\n",
              "      <td>363.83</td>\n",
              "      <td>151.1</td>\n",
              "      <td>552.63</td>\n",
              "    </tr>\n",
              "    <tr>\n",
              "      <th>42</th>\n",
              "      <td>TX</td>\n",
              "      <td>Texas</td>\n",
              "      <td>state</td>\n",
              "      <td>6648.22</td>\n",
              "      <td>961.0</td>\n",
              "      <td>42.7</td>\n",
              "      <td>339.2</td>\n",
              "      <td>240.55</td>\n",
              "      <td>31.9</td>\n",
              "      <td>68.0</td>\n",
              "      <td>99.90</td>\n",
              "      <td>43.9</td>\n",
              "      <td>71.3</td>\n",
              "      <td>115.23</td>\n",
              "      <td>167.2</td>\n",
              "      <td>309.7</td>\n",
              "      <td>2308.76</td>\n",
              "      <td>1342.9</td>\n",
              "      <td>2785.66</td>\n",
              "    </tr>\n",
              "    <tr>\n",
              "      <th>43</th>\n",
              "      <td>UT</td>\n",
              "      <td>Utah</td>\n",
              "      <td>state</td>\n",
              "      <td>453.39</td>\n",
              "      <td>27.9</td>\n",
              "      <td>59.0</td>\n",
              "      <td>23.1</td>\n",
              "      <td>48.60</td>\n",
              "      <td>3.9</td>\n",
              "      <td>8.4</td>\n",
              "      <td>12.34</td>\n",
              "      <td>2.5</td>\n",
              "      <td>4.1</td>\n",
              "      <td>6.60</td>\n",
              "      <td>5.3</td>\n",
              "      <td>42.8</td>\n",
              "      <td>0.00</td>\n",
              "      <td>110.0</td>\n",
              "      <td>48.10</td>\n",
              "    </tr>\n",
              "    <tr>\n",
              "      <th>44</th>\n",
              "      <td>VT</td>\n",
              "      <td>Vermont</td>\n",
              "      <td>state</td>\n",
              "      <td>180.14</td>\n",
              "      <td>6.2</td>\n",
              "      <td>0.2</td>\n",
              "      <td>0.9</td>\n",
              "      <td>65.98</td>\n",
              "      <td>2.6</td>\n",
              "      <td>5.4</td>\n",
              "      <td>8.01</td>\n",
              "      <td>1.5</td>\n",
              "      <td>2.5</td>\n",
              "      <td>4.05</td>\n",
              "      <td>0.0</td>\n",
              "      <td>0.0</td>\n",
              "      <td>0.00</td>\n",
              "      <td>7.3</td>\n",
              "      <td>0.00</td>\n",
              "    </tr>\n",
              "    <tr>\n",
              "      <th>45</th>\n",
              "      <td>VA</td>\n",
              "      <td>Virginia</td>\n",
              "      <td>state</td>\n",
              "      <td>1146.48</td>\n",
              "      <td>39.5</td>\n",
              "      <td>16.9</td>\n",
              "      <td>164.7</td>\n",
              "      <td>47.85</td>\n",
              "      <td>11.7</td>\n",
              "      <td>24.8</td>\n",
              "      <td>36.48</td>\n",
              "      <td>10.4</td>\n",
              "      <td>16.9</td>\n",
              "      <td>27.25</td>\n",
              "      <td>39.5</td>\n",
              "      <td>77.5</td>\n",
              "      <td>64.84</td>\n",
              "      <td>221.1</td>\n",
              "      <td>181.84</td>\n",
              "    </tr>\n",
              "    <tr>\n",
              "      <th>46</th>\n",
              "      <td>WA</td>\n",
              "      <td>Washington</td>\n",
              "      <td>state</td>\n",
              "      <td>3894.81</td>\n",
              "      <td>59.2</td>\n",
              "      <td>0.0</td>\n",
              "      <td>35.6</td>\n",
              "      <td>154.18</td>\n",
              "      <td>555.6</td>\n",
              "      <td>1183.0</td>\n",
              "      <td>1738.57</td>\n",
              "      <td>138.7</td>\n",
              "      <td>225.1</td>\n",
              "      <td>363.79</td>\n",
              "      <td>29.5</td>\n",
              "      <td>786.3</td>\n",
              "      <td>0.00</td>\n",
              "      <td>94.8</td>\n",
              "      <td>815.80</td>\n",
              "    </tr>\n",
              "    <tr>\n",
              "      <th>47</th>\n",
              "      <td>WV</td>\n",
              "      <td>West Virginia</td>\n",
              "      <td>state</td>\n",
              "      <td>138.89</td>\n",
              "      <td>12.0</td>\n",
              "      <td>0.3</td>\n",
              "      <td>45.4</td>\n",
              "      <td>3.90</td>\n",
              "      <td>3.7</td>\n",
              "      <td>7.9</td>\n",
              "      <td>11.54</td>\n",
              "      <td>0.0</td>\n",
              "      <td>0.0</td>\n",
              "      <td>0.00</td>\n",
              "      <td>3.5</td>\n",
              "      <td>1.6</td>\n",
              "      <td>0.00</td>\n",
              "      <td>57.7</td>\n",
              "      <td>5.10</td>\n",
              "    </tr>\n",
              "    <tr>\n",
              "      <th>48</th>\n",
              "      <td>WI</td>\n",
              "      <td>Wisconsin</td>\n",
              "      <td>state</td>\n",
              "      <td>3090.23</td>\n",
              "      <td>107.3</td>\n",
              "      <td>38.6</td>\n",
              "      <td>34.5</td>\n",
              "      <td>633.60</td>\n",
              "      <td>42.8</td>\n",
              "      <td>91.0</td>\n",
              "      <td>133.80</td>\n",
              "      <td>56.8</td>\n",
              "      <td>92.2</td>\n",
              "      <td>148.99</td>\n",
              "      <td>460.5</td>\n",
              "      <td>96.7</td>\n",
              "      <td>0.00</td>\n",
              "      <td>180.4</td>\n",
              "      <td>557.20</td>\n",
              "    </tr>\n",
              "    <tr>\n",
              "      <th>49</th>\n",
              "      <td>WY</td>\n",
              "      <td>Wyoming</td>\n",
              "      <td>state</td>\n",
              "      <td>349.69</td>\n",
              "      <td>75.1</td>\n",
              "      <td>33.2</td>\n",
              "      <td>0.1</td>\n",
              "      <td>2.89</td>\n",
              "      <td>0.1</td>\n",
              "      <td>0.1</td>\n",
              "      <td>0.17</td>\n",
              "      <td>3.9</td>\n",
              "      <td>6.3</td>\n",
              "      <td>10.23</td>\n",
              "      <td>9.0</td>\n",
              "      <td>20.7</td>\n",
              "      <td>0.00</td>\n",
              "      <td>108.4</td>\n",
              "      <td>29.70</td>\n",
              "    </tr>\n",
              "  </tbody>\n",
              "</table>\n",
              "</div>"
            ],
            "text/plain": [
              "   code           state category  total exports   beef    pork  poultry  \\\n",
              "0    AL         Alabama    state        1390.63   34.4    10.6    481.0   \n",
              "1    AK          Alaska    state          13.31    0.2     0.1      0.0   \n",
              "2    AZ         Arizona    state        1463.17   71.3    17.9      0.0   \n",
              "3    AR        Arkansas    state        3586.02   53.2    29.4    562.9   \n",
              "4    CA      California    state       16472.88  228.7    11.1    225.4   \n",
              "5    CO        Colorado    state        1851.33  261.4    66.0     14.0   \n",
              "6    CT     Connecticut    state         259.62    1.1     0.1      6.9   \n",
              "7    DE        Delaware    state         282.19    0.4     0.6    114.7   \n",
              "8    FL         Florida    state        3764.09   42.6     0.9     56.9   \n",
              "9    GA         Georgia    state        2860.84   31.0    18.9    630.4   \n",
              "10   HI          Hawaii    state         401.84    4.0     0.7      1.3   \n",
              "11   ID           Idaho    state        2078.89  119.8     0.0      2.4   \n",
              "12   IL        Illinois    state        8709.48   53.7   394.0     14.0   \n",
              "13   IN         Indiana    state        5050.23   21.9   341.9    165.6   \n",
              "14   IA            Iowa    state       11273.76  289.8  1895.6    155.6   \n",
              "15   KS          Kansas    state        4589.01  659.3   179.4      6.4   \n",
              "16   KY        Kentucky    state        1889.15   54.8    34.2    151.3   \n",
              "17   LA       Louisiana    state        1914.23   19.8     0.8     77.2   \n",
              "18   ME           Maine    state         278.37    1.4     0.5     10.4   \n",
              "19   MD        Maryland    state         692.75    5.6     3.1    127.0   \n",
              "20   MA   Massachusetts    state         248.65    0.6     0.5      0.6   \n",
              "21   MI        Michigan    state        3164.16   37.7   118.1     32.6   \n",
              "22   MN       Minnesota    state        7192.33  112.3   740.4    189.2   \n",
              "23   MS     Mississippi    state        2170.80   12.8    30.4    370.8   \n",
              "24   MO        Missouri    state        3933.42  137.2   277.3    196.1   \n",
              "25   MT         Montana    state        1718.00  105.0    16.7      1.7   \n",
              "26   NE        Nebraska    state        7114.13  762.2   262.5     31.4   \n",
              "27   NV          Nevada    state         139.89   21.8     0.2      0.0   \n",
              "28   NH   New Hampshire    state          73.06    0.6     0.2      0.8   \n",
              "29   NJ      New Jersey    state         500.40    0.8     0.4      4.6   \n",
              "30   NM      New Mexico    state         751.58  117.2     0.1      0.3   \n",
              "31   NY        New York    state        1488.90   22.2     5.8     17.7   \n",
              "32   NC  North Carolina    state        3806.05   24.8   702.8    598.4   \n",
              "33   ND    North Dakota    state        3761.96   78.5    16.1      0.5   \n",
              "34   OH            Ohio    state        3979.79   36.2   199.1    129.9   \n",
              "35   OK        Oklahoma    state        1646.41  337.6   265.3    131.1   \n",
              "36   OR          Oregon    state        1794.57   58.8     1.4     14.2   \n",
              "37   PA    Pennsylvania    state        1969.87   50.9    91.3    169.8   \n",
              "38   RI    Rhode Island    state          31.59    0.1     0.1      0.2   \n",
              "39   SC  South Carolina    state         929.93   15.2    10.9    186.5   \n",
              "40   SD    South Dakota    state        3770.19  193.5   160.2     29.3   \n",
              "41   TN       Tennessee    state        1535.13   51.1    17.6     82.4   \n",
              "42   TX           Texas    state        6648.22  961.0    42.7    339.2   \n",
              "43   UT            Utah    state         453.39   27.9    59.0     23.1   \n",
              "44   VT         Vermont    state         180.14    6.2     0.2      0.9   \n",
              "45   VA        Virginia    state        1146.48   39.5    16.9    164.7   \n",
              "46   WA      Washington    state        3894.81   59.2     0.0     35.6   \n",
              "47   WV   West Virginia    state         138.89   12.0     0.3     45.4   \n",
              "48   WI       Wisconsin    state        3090.23  107.3    38.6     34.5   \n",
              "49   WY         Wyoming    state         349.69   75.1    33.2      0.1   \n",
              "\n",
              "     dairy  fruits fresh  fruits proc  total fruits  veggies fresh  \\\n",
              "0     4.06           8.0         17.1         25.11            5.5   \n",
              "1     0.19           0.0          0.0          0.00            0.6   \n",
              "2   105.48          19.3         41.0         60.27          147.5   \n",
              "3     3.53           2.2          4.7          6.88            4.4   \n",
              "4   929.95        2791.8       5944.6       8736.40          803.2   \n",
              "5    71.94           5.7         12.2         17.99           45.1   \n",
              "6     9.49           4.2          8.9         13.10            4.3   \n",
              "7     2.30           0.5          1.0          1.53            7.6   \n",
              "8    66.31         438.2        933.1       1371.36          171.9   \n",
              "9    38.38          74.6        158.9        233.51           59.0   \n",
              "10    1.16          17.7         37.8         55.51            9.5   \n",
              "11  294.60           6.9         14.7         21.64          121.7   \n",
              "12   45.82           4.0          8.5         12.53           15.2   \n",
              "13   89.70           4.1          8.8         12.98           14.4   \n",
              "14  107.00           1.0          2.2          3.24            2.7   \n",
              "15   65.45           1.0          2.1          3.11            3.6   \n",
              "16   28.27           2.1          4.5          6.60            0.0   \n",
              "17    6.02           5.7         12.1         17.83            6.6   \n",
              "18   16.18          16.6         35.4         52.01           24.0   \n",
              "19   24.81           4.1          8.8         12.90            7.8   \n",
              "20    5.81          25.8         55.0         80.83            8.1   \n",
              "21  214.82          82.3        175.3        257.69           72.4   \n",
              "22  218.05           2.5          5.4          7.91           45.9   \n",
              "23    5.45           5.4         11.6         17.04           10.6   \n",
              "24   34.26           4.2          9.0         13.18            6.8   \n",
              "25    6.82           1.1          2.2          3.30           17.3   \n",
              "26   30.07           0.7          1.5          2.16           20.4   \n",
              "27   16.57           0.4          0.8          1.19           10.6   \n",
              "28    7.46           2.6          5.4          7.98            1.7   \n",
              "29    3.37          35.0         74.5        109.45           21.6   \n",
              "30  191.01          32.6         69.3        101.90           16.7   \n",
              "31  331.80          64.7        137.8        202.56           54.7   \n",
              "32   24.90          23.8         50.7         74.47           57.4   \n",
              "33    8.14           0.1          0.2          0.25           49.9   \n",
              "34  134.57           8.7         18.5         27.21           20.4   \n",
              "35   24.35           3.0          6.3          9.24            3.4   \n",
              "36   63.66         100.7        214.4        315.04           48.2   \n",
              "37  280.87          28.6         60.9         89.48           14.6   \n",
              "38    0.52           0.9          1.9          2.83            1.2   \n",
              "39    7.62          17.1         36.4         53.45           16.3   \n",
              "40   46.77           0.3          0.5          0.80            1.5   \n",
              "41   21.18           2.0          4.2          6.23            9.4   \n",
              "42  240.55          31.9         68.0         99.90           43.9   \n",
              "43   48.60           3.9          8.4         12.34            2.5   \n",
              "44   65.98           2.6          5.4          8.01            1.5   \n",
              "45   47.85          11.7         24.8         36.48           10.4   \n",
              "46  154.18         555.6       1183.0       1738.57          138.7   \n",
              "47    3.90           3.7          7.9         11.54            0.0   \n",
              "48  633.60          42.8         91.0        133.80           56.8   \n",
              "49    2.89           0.1          0.1          0.17            3.9   \n",
              "\n",
              "    veggies proc  total veggies    corn   wheat   cotton  total animal  \\\n",
              "0            8.9          14.33    34.9    70.0   317.61         526.0   \n",
              "1            1.0           1.56     0.0     0.0     0.00           0.3   \n",
              "2          239.4         386.91     7.3    48.7   423.95          89.2   \n",
              "3            7.1          11.45    69.5   114.5   665.44         645.5   \n",
              "4         1303.5        2106.79    34.6   249.3  1064.95         465.2   \n",
              "5           73.2         118.27   183.2   400.5     0.00         341.4   \n",
              "6            6.9          11.16     0.0     0.0     0.00           8.1   \n",
              "7           12.4          20.03    26.9    22.9     0.00         115.7   \n",
              "8          279.0         450.86     3.5     1.8    78.24         100.4   \n",
              "9           95.8         154.77    57.8    65.4  1154.07         680.3   \n",
              "10          15.4          24.83     0.0     0.0     0.00           6.0   \n",
              "11         197.5         319.19    24.0   568.2     0.00         122.2   \n",
              "12          24.7          39.95  2228.5   223.8     0.00         461.7   \n",
              "13          23.4          37.89  1123.2   114.0     0.00         529.4   \n",
              "14           4.4           7.10  2529.8     3.1     0.00        2341.0   \n",
              "15           5.8           9.32   457.3  1426.5    43.98         845.1   \n",
              "16           0.0           0.00   179.1   149.3     0.00         240.3   \n",
              "17          10.7          17.25    91.4    78.7   280.42          97.8   \n",
              "18          38.9          62.90     0.0     0.0     0.00          12.3   \n",
              "19          12.6          20.43    54.1    55.8     0.00         135.7   \n",
              "20          13.1          21.13     0.0     0.0     0.00           1.7   \n",
              "21         117.5         189.96   381.5   247.0     0.00         188.4   \n",
              "22          74.5         120.37  1264.3   538.1     0.00        1041.9   \n",
              "23          17.2          27.87   110.0   102.2   494.75         414.0   \n",
              "24          11.1          17.90   428.8   161.7   345.29         610.6   \n",
              "25          28.0          45.27     5.4  1198.1     0.00         123.4   \n",
              "26          33.1          53.50  1735.9   292.3     0.00        1056.1   \n",
              "27          17.3          27.93     0.0     5.4     0.00          22.0   \n",
              "28           2.8           4.50     0.0     0.0     0.00           1.6   \n",
              "29          35.0          56.54    10.1     6.7     0.00           5.8   \n",
              "30          27.1          43.88    11.2    13.9    72.62         117.6   \n",
              "31          88.7         143.37   106.1    29.9     0.00          45.7   \n",
              "32          93.1         150.45    92.2   200.3   470.86        1326.0   \n",
              "33          80.9         130.79   236.1  1664.5     0.00          95.1   \n",
              "34          33.1          53.53   535.1   207.4     0.00         365.2   \n",
              "35           5.5           8.90    27.5   324.8   110.54         734.0   \n",
              "36          78.3         126.50    11.7   320.3     0.00          74.4   \n",
              "37          23.7          38.26   112.1    41.0     0.00         312.0   \n",
              "38           1.9           3.02     0.0     0.0     0.00           0.4   \n",
              "39          26.4          42.66    32.1    55.3   206.10         212.6   \n",
              "40           2.5           4.06   643.6   704.5     0.00         383.0   \n",
              "41          15.3          24.67    88.8   100.0   363.83         151.1   \n",
              "42          71.3         115.23   167.2   309.7  2308.76        1342.9   \n",
              "43           4.1           6.60     5.3    42.8     0.00         110.0   \n",
              "44           2.5           4.05     0.0     0.0     0.00           7.3   \n",
              "45          16.9          27.25    39.5    77.5    64.84         221.1   \n",
              "46         225.1         363.79    29.5   786.3     0.00          94.8   \n",
              "47           0.0           0.00     3.5     1.6     0.00          57.7   \n",
              "48          92.2         148.99   460.5    96.7     0.00         180.4   \n",
              "49           6.3          10.23     9.0    20.7     0.00         108.4   \n",
              "\n",
              "    total crops  \n",
              "0        422.51  \n",
              "1          0.00  \n",
              "2        479.95  \n",
              "3        849.44  \n",
              "4       1348.85  \n",
              "5        583.70  \n",
              "6          0.00  \n",
              "7         49.80  \n",
              "8         83.54  \n",
              "9       1277.27  \n",
              "10         0.00  \n",
              "11       592.20  \n",
              "12      2452.30  \n",
              "13      1237.20  \n",
              "14      2532.90  \n",
              "15      1927.78  \n",
              "16       328.40  \n",
              "17       450.52  \n",
              "18         0.00  \n",
              "19       109.90  \n",
              "20         0.00  \n",
              "21       628.50  \n",
              "22      1802.40  \n",
              "23       706.95  \n",
              "24       935.79  \n",
              "25      1203.50  \n",
              "26      2028.20  \n",
              "27         5.40  \n",
              "28         0.00  \n",
              "29        16.80  \n",
              "30        97.72  \n",
              "31       136.00  \n",
              "32       763.36  \n",
              "33      1900.60  \n",
              "34       742.50  \n",
              "35       462.84  \n",
              "36       332.00  \n",
              "37       153.10  \n",
              "38         0.00  \n",
              "39       293.50  \n",
              "40      1348.10  \n",
              "41       552.63  \n",
              "42      2785.66  \n",
              "43        48.10  \n",
              "44         0.00  \n",
              "45       181.84  \n",
              "46       815.80  \n",
              "47         5.10  \n",
              "48       557.20  \n",
              "49        29.70  "
            ]
          },
          "execution_count": 315,
          "metadata": {},
          "output_type": "execute_result"
        }
      ],
      "source": [
        "from plotly import graph_objects as go\n",
        "import pandas as pd\n",
        "\n",
        "df = pd.read_csv('2011_us_ag_exports.csv')\n",
        "df['total animal'] = df['beef'] + df['poultry'] + df['pork']\n",
        "df['total crops'] = df['cotton'] + df['corn'] + df['wheat']\n",
        "\n",
        "df\n"
      ]
    },
    {
      "cell_type": "code",
      "execution_count": null,
      "metadata": {
        "id": "RphXEMNwdZ5Z",
        "outputId": "48252f2e-b894-4936-b84b-c0b651628395"
      },
      "outputs": [
        {
          "data": {
            "application/vnd.plotly.v1+json": {
              "config": {
                "plotlyServerURL": "https://plot.ly"
              },
              "data": [
                {
                  "coloraxis": "coloraxis",
                  "customdata": [
                    [
                      34.4,
                      4.06,
                      25.11,
                      14.33,
                      70,
                      34.9
                    ],
                    [
                      0.2,
                      0.19,
                      0,
                      1.56,
                      0,
                      0
                    ],
                    [
                      71.3,
                      105.48,
                      60.27,
                      386.91,
                      48.7,
                      7.3
                    ],
                    [
                      53.2,
                      3.53,
                      6.88,
                      11.45,
                      114.5,
                      69.5
                    ],
                    [
                      228.7,
                      929.95,
                      8736.4,
                      2106.79,
                      249.3,
                      34.6
                    ],
                    [
                      261.4,
                      71.94,
                      17.99,
                      118.27,
                      400.5,
                      183.2
                    ],
                    [
                      1.1,
                      9.49,
                      13.1,
                      11.16,
                      0,
                      0
                    ],
                    [
                      0.4,
                      2.3,
                      1.53,
                      20.03,
                      22.9,
                      26.9
                    ],
                    [
                      42.6,
                      66.31,
                      1371.36,
                      450.86,
                      1.8,
                      3.5
                    ],
                    [
                      31,
                      38.38,
                      233.51,
                      154.77,
                      65.4,
                      57.8
                    ],
                    [
                      4,
                      1.16,
                      55.51,
                      24.83,
                      0,
                      0
                    ],
                    [
                      119.8,
                      294.6,
                      21.64,
                      319.19,
                      568.2,
                      24
                    ],
                    [
                      53.7,
                      45.82,
                      12.53,
                      39.95,
                      223.8,
                      2228.5
                    ],
                    [
                      21.9,
                      89.7,
                      12.98,
                      37.89,
                      114,
                      1123.2
                    ],
                    [
                      289.8,
                      107,
                      3.24,
                      7.1,
                      3.1,
                      2529.8
                    ],
                    [
                      659.3,
                      65.45,
                      3.11,
                      9.32,
                      1426.5,
                      457.3
                    ],
                    [
                      54.8,
                      28.27,
                      6.6,
                      0,
                      149.3,
                      179.1
                    ],
                    [
                      19.8,
                      6.02,
                      17.83,
                      17.25,
                      78.7,
                      91.4
                    ],
                    [
                      1.4,
                      16.18,
                      52.01,
                      62.9,
                      0,
                      0
                    ],
                    [
                      5.6,
                      24.81,
                      12.9,
                      20.43,
                      55.8,
                      54.1
                    ],
                    [
                      0.6,
                      5.81,
                      80.83,
                      21.13,
                      0,
                      0
                    ],
                    [
                      37.7,
                      214.82,
                      257.69,
                      189.96,
                      247,
                      381.5
                    ],
                    [
                      112.3,
                      218.05,
                      7.91,
                      120.37,
                      538.1,
                      1264.3
                    ],
                    [
                      12.8,
                      5.45,
                      17.04,
                      27.87,
                      102.2,
                      110
                    ],
                    [
                      137.2,
                      34.26,
                      13.18,
                      17.9,
                      161.7,
                      428.8
                    ],
                    [
                      105,
                      6.82,
                      3.3,
                      45.27,
                      1198.1,
                      5.4
                    ],
                    [
                      762.2,
                      30.07,
                      2.16,
                      53.5,
                      292.3,
                      1735.9
                    ],
                    [
                      21.8,
                      16.57,
                      1.19,
                      27.93,
                      5.4,
                      0
                    ],
                    [
                      0.6,
                      7.46,
                      7.98,
                      4.5,
                      0,
                      0
                    ],
                    [
                      0.8,
                      3.37,
                      109.45,
                      56.54,
                      6.7,
                      10.1
                    ],
                    [
                      117.2,
                      191.01,
                      101.9,
                      43.88,
                      13.9,
                      11.2
                    ],
                    [
                      22.2,
                      331.8,
                      202.56,
                      143.37,
                      29.9,
                      106.1
                    ],
                    [
                      24.8,
                      24.9,
                      74.47,
                      150.45,
                      200.3,
                      92.2
                    ],
                    [
                      78.5,
                      8.14,
                      0.25,
                      130.79,
                      1664.5,
                      236.1
                    ],
                    [
                      36.2,
                      134.57,
                      27.21,
                      53.53,
                      207.4,
                      535.1
                    ],
                    [
                      337.6,
                      24.35,
                      9.24,
                      8.9,
                      324.8,
                      27.5
                    ],
                    [
                      58.8,
                      63.66,
                      315.04,
                      126.5,
                      320.3,
                      11.7
                    ],
                    [
                      50.9,
                      280.87,
                      89.48,
                      38.26,
                      41,
                      112.1
                    ],
                    [
                      0.1,
                      0.52,
                      2.83,
                      3.02,
                      0,
                      0
                    ],
                    [
                      15.2,
                      7.62,
                      53.45,
                      42.66,
                      55.3,
                      32.1
                    ],
                    [
                      193.5,
                      46.77,
                      0.8,
                      4.06,
                      704.5,
                      643.6
                    ],
                    [
                      51.1,
                      21.18,
                      6.23,
                      24.67,
                      100,
                      88.8
                    ],
                    [
                      961,
                      240.55,
                      99.9,
                      115.23,
                      309.7,
                      167.2
                    ],
                    [
                      27.9,
                      48.6,
                      12.34,
                      6.6,
                      42.8,
                      5.3
                    ],
                    [
                      6.2,
                      65.98,
                      8.01,
                      4.05,
                      0,
                      0
                    ],
                    [
                      39.5,
                      47.85,
                      36.48,
                      27.25,
                      77.5,
                      39.5
                    ],
                    [
                      59.2,
                      154.18,
                      1738.57,
                      363.79,
                      786.3,
                      29.5
                    ],
                    [
                      12,
                      3.9,
                      11.54,
                      0,
                      1.6,
                      3.5
                    ],
                    [
                      107.3,
                      633.6,
                      133.8,
                      148.99,
                      96.7,
                      460.5
                    ],
                    [
                      75.1,
                      2.89,
                      0.17,
                      10.23,
                      20.7,
                      9
                    ]
                  ],
                  "geo": "geo",
                  "hovertemplate": "<b>%{hovertext}</b><br><br>FIPS Code=%{location}<br>Beef=%{customdata[0]}<br>Dairy=%{customdata[1]}<br>Total Fruits=%{customdata[2]}<br>Total Veggies=%{customdata[3]}<br>Wheat=%{customdata[4]}<br>Corn=%{customdata[5]}<br>Total Exports=%{z}<extra></extra>",
                  "hovertext": [
                    "Alabama",
                    "Alaska",
                    "Arizona",
                    "Arkansas",
                    "California",
                    "Colorado",
                    "Connecticut",
                    "Delaware",
                    "Florida",
                    "Georgia",
                    "Hawaii",
                    "Idaho",
                    "Illinois",
                    "Indiana",
                    "Iowa",
                    "Kansas",
                    "Kentucky",
                    "Louisiana",
                    "Maine",
                    "Maryland",
                    "Massachusetts",
                    "Michigan",
                    "Minnesota",
                    "Mississippi",
                    "Missouri",
                    "Montana",
                    "Nebraska",
                    "Nevada",
                    "New Hampshire",
                    "New Jersey",
                    "New Mexico",
                    "New York",
                    "North Carolina",
                    "North Dakota",
                    "Ohio",
                    "Oklahoma",
                    "Oregon",
                    "Pennsylvania",
                    "Rhode Island",
                    "South Carolina",
                    "South Dakota",
                    "Tennessee",
                    "Texas",
                    "Utah",
                    "Vermont",
                    "Virginia",
                    "Washington",
                    "West Virginia",
                    "Wisconsin",
                    "Wyoming"
                  ],
                  "locationmode": "USA-states",
                  "locations": [
                    "AL",
                    "AK",
                    "AZ",
                    "AR",
                    "CA",
                    "CO",
                    "CT",
                    "DE",
                    "FL",
                    "GA",
                    "HI",
                    "ID",
                    "IL",
                    "IN",
                    "IA",
                    "KS",
                    "KY",
                    "LA",
                    "ME",
                    "MD",
                    "MA",
                    "MI",
                    "MN",
                    "MS",
                    "MO",
                    "MT",
                    "NE",
                    "NV",
                    "NH",
                    "NJ",
                    "NM",
                    "NY",
                    "NC",
                    "ND",
                    "OH",
                    "OK",
                    "OR",
                    "PA",
                    "RI",
                    "SC",
                    "SD",
                    "TN",
                    "TX",
                    "UT",
                    "VT",
                    "VA",
                    "WA",
                    "WV",
                    "WI",
                    "WY"
                  ],
                  "name": "",
                  "type": "choropleth",
                  "z": [
                    1390.63,
                    13.31,
                    1463.17,
                    3586.02,
                    16472.88,
                    1851.33,
                    259.62,
                    282.19,
                    3764.09,
                    2860.84,
                    401.84,
                    2078.89,
                    8709.48,
                    5050.23,
                    11273.76,
                    4589.01,
                    1889.15,
                    1914.23,
                    278.37,
                    692.75,
                    248.65,
                    3164.16,
                    7192.33,
                    2170.8,
                    3933.42,
                    1718,
                    7114.13,
                    139.89,
                    73.06,
                    500.4,
                    751.58,
                    1488.9,
                    3806.05,
                    3761.96,
                    3979.79,
                    1646.41,
                    1794.57,
                    1969.87,
                    31.59,
                    929.93,
                    3770.19,
                    1535.13,
                    6648.22,
                    453.39,
                    180.14,
                    1146.48,
                    3894.81,
                    138.89,
                    3090.23,
                    349.69
                  ]
                }
              ],
              "layout": {
                "coloraxis": {
                  "colorbar": {
                    "title": {
                      "text": "Total Exports"
                    }
                  },
                  "colorscale": [
                    [
                      0,
                      "rgb(255,245,240)"
                    ],
                    [
                      0.125,
                      "rgb(254,224,210)"
                    ],
                    [
                      0.25,
                      "rgb(252,187,161)"
                    ],
                    [
                      0.375,
                      "rgb(252,146,114)"
                    ],
                    [
                      0.5,
                      "rgb(251,106,74)"
                    ],
                    [
                      0.625,
                      "rgb(239,59,44)"
                    ],
                    [
                      0.75,
                      "rgb(203,24,29)"
                    ],
                    [
                      0.875,
                      "rgb(165,15,21)"
                    ],
                    [
                      1,
                      "rgb(103,0,13)"
                    ]
                  ]
                },
                "font": {
                  "family": "Rockwell"
                },
                "geo": {
                  "center": {},
                  "domain": {
                    "x": [
                      0,
                      1
                    ],
                    "y": [
                      0,
                      1
                    ]
                  },
                  "lakecolor": "rgb(255, 255, 255)",
                  "projection": {
                    "type": "albers usa"
                  },
                  "scope": "usa",
                  "showlakes": true
                },
                "height": 900,
                "legend": {
                  "orientation": "h",
                  "title": {
                    "text": "Millions USD"
                  },
                  "tracegroupgap": 0,
                  "x": 1,
                  "xanchor": "right",
                  "y": 1.1,
                  "yanchor": "bottom"
                },
                "template": {
                  "data": {
                    "bar": [
                      {
                        "error_x": {
                          "color": "#2a3f5f"
                        },
                        "error_y": {
                          "color": "#2a3f5f"
                        },
                        "marker": {
                          "line": {
                            "color": "#E5ECF6",
                            "width": 0.5
                          },
                          "pattern": {
                            "fillmode": "overlay",
                            "size": 10,
                            "solidity": 0.2
                          }
                        },
                        "type": "bar"
                      }
                    ],
                    "barpolar": [
                      {
                        "marker": {
                          "line": {
                            "color": "#E5ECF6",
                            "width": 0.5
                          },
                          "pattern": {
                            "fillmode": "overlay",
                            "size": 10,
                            "solidity": 0.2
                          }
                        },
                        "type": "barpolar"
                      }
                    ],
                    "carpet": [
                      {
                        "aaxis": {
                          "endlinecolor": "#2a3f5f",
                          "gridcolor": "white",
                          "linecolor": "white",
                          "minorgridcolor": "white",
                          "startlinecolor": "#2a3f5f"
                        },
                        "baxis": {
                          "endlinecolor": "#2a3f5f",
                          "gridcolor": "white",
                          "linecolor": "white",
                          "minorgridcolor": "white",
                          "startlinecolor": "#2a3f5f"
                        },
                        "type": "carpet"
                      }
                    ],
                    "choropleth": [
                      {
                        "colorbar": {
                          "outlinewidth": 0,
                          "ticks": ""
                        },
                        "type": "choropleth"
                      }
                    ],
                    "contour": [
                      {
                        "colorbar": {
                          "outlinewidth": 0,
                          "ticks": ""
                        },
                        "colorscale": [
                          [
                            0,
                            "#0d0887"
                          ],
                          [
                            0.1111111111111111,
                            "#46039f"
                          ],
                          [
                            0.2222222222222222,
                            "#7201a8"
                          ],
                          [
                            0.3333333333333333,
                            "#9c179e"
                          ],
                          [
                            0.4444444444444444,
                            "#bd3786"
                          ],
                          [
                            0.5555555555555556,
                            "#d8576b"
                          ],
                          [
                            0.6666666666666666,
                            "#ed7953"
                          ],
                          [
                            0.7777777777777778,
                            "#fb9f3a"
                          ],
                          [
                            0.8888888888888888,
                            "#fdca26"
                          ],
                          [
                            1,
                            "#f0f921"
                          ]
                        ],
                        "type": "contour"
                      }
                    ],
                    "contourcarpet": [
                      {
                        "colorbar": {
                          "outlinewidth": 0,
                          "ticks": ""
                        },
                        "type": "contourcarpet"
                      }
                    ],
                    "heatmap": [
                      {
                        "colorbar": {
                          "outlinewidth": 0,
                          "ticks": ""
                        },
                        "colorscale": [
                          [
                            0,
                            "#0d0887"
                          ],
                          [
                            0.1111111111111111,
                            "#46039f"
                          ],
                          [
                            0.2222222222222222,
                            "#7201a8"
                          ],
                          [
                            0.3333333333333333,
                            "#9c179e"
                          ],
                          [
                            0.4444444444444444,
                            "#bd3786"
                          ],
                          [
                            0.5555555555555556,
                            "#d8576b"
                          ],
                          [
                            0.6666666666666666,
                            "#ed7953"
                          ],
                          [
                            0.7777777777777778,
                            "#fb9f3a"
                          ],
                          [
                            0.8888888888888888,
                            "#fdca26"
                          ],
                          [
                            1,
                            "#f0f921"
                          ]
                        ],
                        "type": "heatmap"
                      }
                    ],
                    "heatmapgl": [
                      {
                        "colorbar": {
                          "outlinewidth": 0,
                          "ticks": ""
                        },
                        "colorscale": [
                          [
                            0,
                            "#0d0887"
                          ],
                          [
                            0.1111111111111111,
                            "#46039f"
                          ],
                          [
                            0.2222222222222222,
                            "#7201a8"
                          ],
                          [
                            0.3333333333333333,
                            "#9c179e"
                          ],
                          [
                            0.4444444444444444,
                            "#bd3786"
                          ],
                          [
                            0.5555555555555556,
                            "#d8576b"
                          ],
                          [
                            0.6666666666666666,
                            "#ed7953"
                          ],
                          [
                            0.7777777777777778,
                            "#fb9f3a"
                          ],
                          [
                            0.8888888888888888,
                            "#fdca26"
                          ],
                          [
                            1,
                            "#f0f921"
                          ]
                        ],
                        "type": "heatmapgl"
                      }
                    ],
                    "histogram": [
                      {
                        "marker": {
                          "pattern": {
                            "fillmode": "overlay",
                            "size": 10,
                            "solidity": 0.2
                          }
                        },
                        "type": "histogram"
                      }
                    ],
                    "histogram2d": [
                      {
                        "colorbar": {
                          "outlinewidth": 0,
                          "ticks": ""
                        },
                        "colorscale": [
                          [
                            0,
                            "#0d0887"
                          ],
                          [
                            0.1111111111111111,
                            "#46039f"
                          ],
                          [
                            0.2222222222222222,
                            "#7201a8"
                          ],
                          [
                            0.3333333333333333,
                            "#9c179e"
                          ],
                          [
                            0.4444444444444444,
                            "#bd3786"
                          ],
                          [
                            0.5555555555555556,
                            "#d8576b"
                          ],
                          [
                            0.6666666666666666,
                            "#ed7953"
                          ],
                          [
                            0.7777777777777778,
                            "#fb9f3a"
                          ],
                          [
                            0.8888888888888888,
                            "#fdca26"
                          ],
                          [
                            1,
                            "#f0f921"
                          ]
                        ],
                        "type": "histogram2d"
                      }
                    ],
                    "histogram2dcontour": [
                      {
                        "colorbar": {
                          "outlinewidth": 0,
                          "ticks": ""
                        },
                        "colorscale": [
                          [
                            0,
                            "#0d0887"
                          ],
                          [
                            0.1111111111111111,
                            "#46039f"
                          ],
                          [
                            0.2222222222222222,
                            "#7201a8"
                          ],
                          [
                            0.3333333333333333,
                            "#9c179e"
                          ],
                          [
                            0.4444444444444444,
                            "#bd3786"
                          ],
                          [
                            0.5555555555555556,
                            "#d8576b"
                          ],
                          [
                            0.6666666666666666,
                            "#ed7953"
                          ],
                          [
                            0.7777777777777778,
                            "#fb9f3a"
                          ],
                          [
                            0.8888888888888888,
                            "#fdca26"
                          ],
                          [
                            1,
                            "#f0f921"
                          ]
                        ],
                        "type": "histogram2dcontour"
                      }
                    ],
                    "mesh3d": [
                      {
                        "colorbar": {
                          "outlinewidth": 0,
                          "ticks": ""
                        },
                        "type": "mesh3d"
                      }
                    ],
                    "parcoords": [
                      {
                        "line": {
                          "colorbar": {
                            "outlinewidth": 0,
                            "ticks": ""
                          }
                        },
                        "type": "parcoords"
                      }
                    ],
                    "pie": [
                      {
                        "automargin": true,
                        "type": "pie"
                      }
                    ],
                    "scatter": [
                      {
                        "marker": {
                          "colorbar": {
                            "outlinewidth": 0,
                            "ticks": ""
                          }
                        },
                        "type": "scatter"
                      }
                    ],
                    "scatter3d": [
                      {
                        "line": {
                          "colorbar": {
                            "outlinewidth": 0,
                            "ticks": ""
                          }
                        },
                        "marker": {
                          "colorbar": {
                            "outlinewidth": 0,
                            "ticks": ""
                          }
                        },
                        "type": "scatter3d"
                      }
                    ],
                    "scattercarpet": [
                      {
                        "marker": {
                          "colorbar": {
                            "outlinewidth": 0,
                            "ticks": ""
                          }
                        },
                        "type": "scattercarpet"
                      }
                    ],
                    "scattergeo": [
                      {
                        "marker": {
                          "colorbar": {
                            "outlinewidth": 0,
                            "ticks": ""
                          }
                        },
                        "type": "scattergeo"
                      }
                    ],
                    "scattergl": [
                      {
                        "marker": {
                          "colorbar": {
                            "outlinewidth": 0,
                            "ticks": ""
                          }
                        },
                        "type": "scattergl"
                      }
                    ],
                    "scattermapbox": [
                      {
                        "marker": {
                          "colorbar": {
                            "outlinewidth": 0,
                            "ticks": ""
                          }
                        },
                        "type": "scattermapbox"
                      }
                    ],
                    "scatterpolar": [
                      {
                        "marker": {
                          "colorbar": {
                            "outlinewidth": 0,
                            "ticks": ""
                          }
                        },
                        "type": "scatterpolar"
                      }
                    ],
                    "scatterpolargl": [
                      {
                        "marker": {
                          "colorbar": {
                            "outlinewidth": 0,
                            "ticks": ""
                          }
                        },
                        "type": "scatterpolargl"
                      }
                    ],
                    "scatterternary": [
                      {
                        "marker": {
                          "colorbar": {
                            "outlinewidth": 0,
                            "ticks": ""
                          }
                        },
                        "type": "scatterternary"
                      }
                    ],
                    "surface": [
                      {
                        "colorbar": {
                          "outlinewidth": 0,
                          "ticks": ""
                        },
                        "colorscale": [
                          [
                            0,
                            "#0d0887"
                          ],
                          [
                            0.1111111111111111,
                            "#46039f"
                          ],
                          [
                            0.2222222222222222,
                            "#7201a8"
                          ],
                          [
                            0.3333333333333333,
                            "#9c179e"
                          ],
                          [
                            0.4444444444444444,
                            "#bd3786"
                          ],
                          [
                            0.5555555555555556,
                            "#d8576b"
                          ],
                          [
                            0.6666666666666666,
                            "#ed7953"
                          ],
                          [
                            0.7777777777777778,
                            "#fb9f3a"
                          ],
                          [
                            0.8888888888888888,
                            "#fdca26"
                          ],
                          [
                            1,
                            "#f0f921"
                          ]
                        ],
                        "type": "surface"
                      }
                    ],
                    "table": [
                      {
                        "cells": {
                          "fill": {
                            "color": "#EBF0F8"
                          },
                          "line": {
                            "color": "white"
                          }
                        },
                        "header": {
                          "fill": {
                            "color": "#C8D4E3"
                          },
                          "line": {
                            "color": "white"
                          }
                        },
                        "type": "table"
                      }
                    ]
                  },
                  "layout": {
                    "annotationdefaults": {
                      "arrowcolor": "#2a3f5f",
                      "arrowhead": 0,
                      "arrowwidth": 1
                    },
                    "autotypenumbers": "strict",
                    "coloraxis": {
                      "colorbar": {
                        "outlinewidth": 0,
                        "ticks": ""
                      }
                    },
                    "colorscale": {
                      "diverging": [
                        [
                          0,
                          "#8e0152"
                        ],
                        [
                          0.1,
                          "#c51b7d"
                        ],
                        [
                          0.2,
                          "#de77ae"
                        ],
                        [
                          0.3,
                          "#f1b6da"
                        ],
                        [
                          0.4,
                          "#fde0ef"
                        ],
                        [
                          0.5,
                          "#f7f7f7"
                        ],
                        [
                          0.6,
                          "#e6f5d0"
                        ],
                        [
                          0.7,
                          "#b8e186"
                        ],
                        [
                          0.8,
                          "#7fbc41"
                        ],
                        [
                          0.9,
                          "#4d9221"
                        ],
                        [
                          1,
                          "#276419"
                        ]
                      ],
                      "sequential": [
                        [
                          0,
                          "#0d0887"
                        ],
                        [
                          0.1111111111111111,
                          "#46039f"
                        ],
                        [
                          0.2222222222222222,
                          "#7201a8"
                        ],
                        [
                          0.3333333333333333,
                          "#9c179e"
                        ],
                        [
                          0.4444444444444444,
                          "#bd3786"
                        ],
                        [
                          0.5555555555555556,
                          "#d8576b"
                        ],
                        [
                          0.6666666666666666,
                          "#ed7953"
                        ],
                        [
                          0.7777777777777778,
                          "#fb9f3a"
                        ],
                        [
                          0.8888888888888888,
                          "#fdca26"
                        ],
                        [
                          1,
                          "#f0f921"
                        ]
                      ],
                      "sequentialminus": [
                        [
                          0,
                          "#0d0887"
                        ],
                        [
                          0.1111111111111111,
                          "#46039f"
                        ],
                        [
                          0.2222222222222222,
                          "#7201a8"
                        ],
                        [
                          0.3333333333333333,
                          "#9c179e"
                        ],
                        [
                          0.4444444444444444,
                          "#bd3786"
                        ],
                        [
                          0.5555555555555556,
                          "#d8576b"
                        ],
                        [
                          0.6666666666666666,
                          "#ed7953"
                        ],
                        [
                          0.7777777777777778,
                          "#fb9f3a"
                        ],
                        [
                          0.8888888888888888,
                          "#fdca26"
                        ],
                        [
                          1,
                          "#f0f921"
                        ]
                      ]
                    },
                    "colorway": [
                      "#636efa",
                      "#EF553B",
                      "#00cc96",
                      "#ab63fa",
                      "#FFA15A",
                      "#19d3f3",
                      "#FF6692",
                      "#B6E880",
                      "#FF97FF",
                      "#FECB52"
                    ],
                    "font": {
                      "color": "#2a3f5f"
                    },
                    "geo": {
                      "bgcolor": "white",
                      "lakecolor": "white",
                      "landcolor": "#E5ECF6",
                      "showlakes": true,
                      "showland": true,
                      "subunitcolor": "white"
                    },
                    "hoverlabel": {
                      "align": "left"
                    },
                    "hovermode": "closest",
                    "mapbox": {
                      "style": "light"
                    },
                    "paper_bgcolor": "white",
                    "plot_bgcolor": "#E5ECF6",
                    "polar": {
                      "angularaxis": {
                        "gridcolor": "white",
                        "linecolor": "white",
                        "ticks": ""
                      },
                      "bgcolor": "#E5ECF6",
                      "radialaxis": {
                        "gridcolor": "white",
                        "linecolor": "white",
                        "ticks": ""
                      }
                    },
                    "scene": {
                      "xaxis": {
                        "backgroundcolor": "#E5ECF6",
                        "gridcolor": "white",
                        "gridwidth": 2,
                        "linecolor": "white",
                        "showbackground": true,
                        "ticks": "",
                        "zerolinecolor": "white"
                      },
                      "yaxis": {
                        "backgroundcolor": "#E5ECF6",
                        "gridcolor": "white",
                        "gridwidth": 2,
                        "linecolor": "white",
                        "showbackground": true,
                        "ticks": "",
                        "zerolinecolor": "white"
                      },
                      "zaxis": {
                        "backgroundcolor": "#E5ECF6",
                        "gridcolor": "white",
                        "gridwidth": 2,
                        "linecolor": "white",
                        "showbackground": true,
                        "ticks": "",
                        "zerolinecolor": "white"
                      }
                    },
                    "shapedefaults": {
                      "line": {
                        "color": "#2a3f5f"
                      }
                    },
                    "ternary": {
                      "aaxis": {
                        "gridcolor": "white",
                        "linecolor": "white",
                        "ticks": ""
                      },
                      "baxis": {
                        "gridcolor": "white",
                        "linecolor": "white",
                        "ticks": ""
                      },
                      "bgcolor": "#E5ECF6",
                      "caxis": {
                        "gridcolor": "white",
                        "linecolor": "white",
                        "ticks": ""
                      }
                    },
                    "title": {
                      "x": 0.05
                    },
                    "xaxis": {
                      "automargin": true,
                      "gridcolor": "white",
                      "linecolor": "white",
                      "ticks": "",
                      "title": {
                        "standoff": 15
                      },
                      "zerolinecolor": "white",
                      "zerolinewidth": 2
                    },
                    "yaxis": {
                      "automargin": true,
                      "gridcolor": "white",
                      "linecolor": "white",
                      "ticks": "",
                      "title": {
                        "standoff": 15
                      },
                      "zerolinecolor": "white",
                      "zerolinewidth": 2
                    }
                  }
                },
                "title": {
                  "text": "2011 US Agriculture Exports by State<br>(Hover for breakdown)"
                },
                "width": 1600
              }
            }
          },
          "metadata": {},
          "output_type": "display_data"
        }
      ],
      "source": [
        "\n",
        "fig = px.choropleth(df,\n",
        "                    locations='code',\n",
        "                    locationmode=\"USA-states\",\n",
        "                    color='total exports',\n",
        "                    # color='corn',\n",
        "                    color_continuous_scale=\"Reds\",\n",
        "                    height=900,\n",
        "                    width=1600,\n",
        "                    hover_name='state',\n",
        "                    hover_data=['beef','dairy','total fruits','total veggies','wheat','corn'],\n",
        "                    labels={'beef':\"Beef\",\n",
        "                            'pork':\"Pork\",\n",
        "                            'poultry':\"Poultry\",\n",
        "                            'dairy':\"Dairy\",\n",
        "                            'fruits fresh':\"Fresh Fruits\",\n",
        "                            'fruits proc':\"Processed Fruits\",\n",
        "                            'total fruits':\"Total Fruits\",\n",
        "                            'veggies fresh':\"Fresh Veggies\",\n",
        "                            'veggies proc':\"Processed Veggies\",\n",
        "                            'total veggies':\"Total Veggies\",\n",
        "                            'corn':\"Corn\",\n",
        "                            'wheat':\"Wheat\",\n",
        "                            'cotton':\"Cotton\",\n",
        "                            'total animal':\"Total Animal\",\n",
        "                            'total crops':\"Total Crops\",\n",
        "                            'state':'State',\n",
        "                            'code':'FIPS Code',\n",
        "                            'total exports':\"Total Exports\"},\n",
        "                    title=\"2011 US Agriculture Exports by State<br>(Hover for breakdown)\",\n",
        "                    scope=\"usa\"\n",
        "                    )\n",
        "\n",
        "fig.update_layout(\n",
        "        font_family=\"Rockwell\",\n",
        "        legend=dict(orientation=\"h\", title=\"Millions USD\", y=1.1, x=1, xanchor=\"right\", yanchor=\"bottom\"),\n",
        "        geo = dict(\n",
        "                projection=go.layout.geo.Projection(type = 'albers usa'),\n",
        "                showlakes=True, # lakes\n",
        "                lakecolor='rgb(255, 255, 255)'),\n",
        "\n",
        ")\n",
        "\n",
        "\n",
        "\n",
        "fig.show()"
      ]
    },
    {
      "cell_type": "code",
      "execution_count": null,
      "metadata": {
        "id": "2h8hjtuUdZ5Z"
      },
      "outputs": [],
      "source": []
    }
  ],
  "metadata": {
    "kernelspec": {
      "display_name": "Python 3",
      "language": "python",
      "name": "python3"
    },
    "language_info": {
      "codemirror_mode": {
        "name": "ipython",
        "version": 3
      },
      "file_extension": ".py",
      "mimetype": "text/x-python",
      "name": "python",
      "nbconvert_exporter": "python",
      "pygments_lexer": "ipython3",
      "version": "3.7.1"
    },
    "colab": {
      "provenance": [],
      "include_colab_link": true
    }
  },
  "nbformat": 4,
  "nbformat_minor": 0
}