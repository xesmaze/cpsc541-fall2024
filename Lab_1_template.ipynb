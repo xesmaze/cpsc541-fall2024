{
  "cells": [
    {
      "cell_type": "markdown",
      "metadata": {
        "id": "view-in-github",
        "colab_type": "text"
      },
      "source": [
        "<a href=\"https://colab.research.google.com/github/xesmaze/cpsc541-fall2024/blob/main/Lab_1_template.ipynb\" target=\"_parent\"><img src=\"https://colab.research.google.com/assets/colab-badge.svg\" alt=\"Open In Colab\"/></a>"
      ]
    },
    {
      "cell_type": "markdown",
      "id": "cb54f2240690566d",
      "metadata": {
        "id": "cb54f2240690566d"
      },
      "source": [
        "# Lab One\n",
        "\n",
        "## Setting Up\n",
        "### Downloading Python\n",
        "Go to https://www.python.org/downloads/ and download the latest version of python.\n",
        "Open the installer. If you're on Windows, check the box that says \"Add Python 3.x to PATH\". Step through the installer until the newest version of Python is downloaded.\n",
        "### Downloading PyCharm\n",
        "Go to https://www.jetbrains.com/pycharm/ and click the teal Download button. Scroll down to where it says \"PyCharm Community Edition\" and download the free version of PyCharm.\n",
        "### Installing packages\n",
        "For this lab, we will need the `pandas` package. In the terminal window, paste the following:\n",
        "\n",
        "```\n",
        "python3 -m pip install pandas\n",
        "\n",
        "```\n",
        "Alternatively, you can use the Python Packages window, search for the `pandas` package, and install it through there. This process can be followed to download any of the necessary packages for this lab. If you attempt to import a package without having it installed, PyCharm will raise an error, indicated by a exclamation point within a red circle. You can click this to view a dropdown box where you can choose to download the missing package directly."
      ]
    },
    {
      "cell_type": "markdown",
      "id": "294bd75194b42b33",
      "metadata": {
        "id": "294bd75194b42b33"
      },
      "source": [
        "\n",
        "## Simulating Regression Data\n",
        "\n",
        "For linear regression, we can look at a statistical model as being made from two components:\n",
        "1. A functional relationship between two variables.\n",
        "\n",
        "\n",
        "$$ y_i = f(x_i)$$\n",
        "This component is deterministic. That means that there's no randomness, for every $x_i$ we produce only 1 value for $y_i$.\n",
        "\n",
        "2. A probability distribution to describe error. We'll use the normal distribution to start.\n",
        "\n",
        "\n",
        "$$\\epsilon_i \\sim \\mathcal{N}(0,\\sigma^2)$$\n",
        "The component is stochastic. That means it's random.\n",
        "\n",
        "The true statistical model is:\n",
        "$$ y_i \\sim f(x_i) +\\epsilon_i $$\n",
        "or, for simple linear regression\n",
        "$$\\underbrace{y_i}_{DV} \\sim \\underbrace{\\beta_0}_{Intercept} + \\underbrace{\\beta_1}_{slope}\\underbrace{x_i}_{IV}+\\underbrace{\\epsilon_i}_{error}$$\n",
        "\n",
        "where DV is dependent variable, and IV is independent variable.\n",
        "\n",
        "### Create a functional relationship\n",
        "\n",
        "Let's create a data frame of $x$ and $y$ values linked by a functional relationship.\n",
        "We'll say that the slope is 5, and the intercept is 2."
      ]
    },
    {
      "cell_type": "code",
      "id": "adfacef275e27708",
      "metadata": {
        "ExecuteTime": {
          "end_time": "2024-08-26T18:47:35.654068Z",
          "start_time": "2024-08-26T18:47:35.645741Z"
        },
        "id": "adfacef275e27708"
      },
      "source": [
        "# Load the pandas Python package, which we can use for data manipulation.\n",
        "import pandas as pd\n",
        "\n",
        "# Create a DataFrame with 50 rows and 1 column (xvar).\n",
        "# The values of xvar are sequential integers from 1 to 50. They are stored as \"numeric\" (integers in this case).\n",
        "df = pd.DataFrame({'xvar': range(1, 51)})\n",
        "\n",
        "# Check the DataFrame to make sure it is what we think it is."
      ],
      "outputs": [],
      "execution_count": null
    },
    {
      "cell_type": "code",
      "id": "b0a2aa5e0d3cdc59",
      "metadata": {
        "ExecuteTime": {
          "end_time": "2024-08-26T18:47:35.691660Z",
          "start_time": "2024-08-26T18:47:35.671451Z"
        },
        "colab": {
          "base_uri": "https://localhost:8080/"
        },
        "id": "b0a2aa5e0d3cdc59",
        "outputId": "1df61bde-67b5-4583-8184-ea644b2b49a9"
      },
      "source": [
        "# Check the data structure (is it a DataFrame?) and the variable types (numeric?)\n",
        "print(df.info())"
      ],
      "outputs": [
        {
          "output_type": "stream",
          "name": "stdout",
          "text": [
            "<class 'pandas.core.frame.DataFrame'>\n",
            "RangeIndex: 50 entries, 0 to 49\n",
            "Data columns (total 3 columns):\n",
            " #   Column  Non-Null Count  Dtype  \n",
            "---  ------  --------------  -----  \n",
            " 0   xvar    50 non-null     int64  \n",
            " 1   e       50 non-null     float64\n",
            " 2   yvar    50 non-null     float64\n",
            "dtypes: float64(2), int64(1)\n",
            "memory usage: 1.3 KB\n",
            "None\n"
          ]
        }
      ],
      "execution_count": null
    },
    {
      "cell_type": "code",
      "id": "a803fa04ea6399d",
      "metadata": {
        "ExecuteTime": {
          "end_time": "2024-08-26T18:47:36.807184Z",
          "start_time": "2024-08-26T18:47:36.795760Z"
        },
        "colab": {
          "base_uri": "https://localhost:8080/"
        },
        "id": "a803fa04ea6399d",
        "outputId": "ecfd24c9-cc98-4224-cb7a-3be6e6fd7175"
      },
      "source": [
        "# How do the first rows look?\n",
        "print(df.head())"
      ],
      "outputs": [
        {
          "output_type": "stream",
          "name": "stdout",
          "text": [
            "   xvar\n",
            "0     1\n",
            "1     2\n",
            "2     3\n",
            "3     4\n",
            "4     5\n"
          ]
        }
      ],
      "execution_count": null
    },
    {
      "cell_type": "code",
      "id": "ccaf49ef449f414d",
      "metadata": {
        "ExecuteTime": {
          "end_time": "2024-08-26T18:47:36.921724Z",
          "start_time": "2024-08-26T18:47:36.897138Z"
        },
        "colab": {
          "base_uri": "https://localhost:8080/"
        },
        "id": "ccaf49ef449f414d",
        "outputId": "c7770ee0-4bce-457d-ee14-e99e333b6843"
      },
      "source": [
        "# Great!\n",
        "# Let's modify our data frame to create a new variable.\n",
        "\n",
        "df['yvar'] = 5 + 2 * df['xvar']\n",
        "\n",
        "# Inspect the new DataFrame\n",
        "# Are the variables still both numeric?\n",
        "# Is it still a DataFrame?\n",
        "print(df.info())"
      ],
      "outputs": [
        {
          "output_type": "stream",
          "name": "stdout",
          "text": [
            "<class 'pandas.core.frame.DataFrame'>\n",
            "RangeIndex: 50 entries, 0 to 49\n",
            "Data columns (total 2 columns):\n",
            " #   Column  Non-Null Count  Dtype\n",
            "---  ------  --------------  -----\n",
            " 0   xvar    50 non-null     int64\n",
            " 1   yvar    50 non-null     int64\n",
            "dtypes: int64(2)\n",
            "memory usage: 928.0 bytes\n",
            "None\n"
          ]
        }
      ],
      "execution_count": null
    },
    {
      "cell_type": "code",
      "id": "e8cbeeb84bd14e9f",
      "metadata": {
        "ExecuteTime": {
          "end_time": "2024-08-26T18:47:37.123122Z",
          "start_time": "2024-08-26T18:47:37.109687Z"
        },
        "colab": {
          "base_uri": "https://localhost:8080/"
        },
        "id": "e8cbeeb84bd14e9f",
        "outputId": "8f02a62d-91a1-413b-b037-00ec219b2759"
      },
      "source": [
        "# Check the head of the DataFrame.\n",
        "print(df.head())"
      ],
      "outputs": [
        {
          "output_type": "stream",
          "name": "stdout",
          "text": [
            "   xvar  yvar\n",
            "0     1     7\n",
            "1     2     9\n",
            "2     3    11\n",
            "3     4    13\n",
            "4     5    15\n"
          ]
        }
      ],
      "execution_count": null
    },
    {
      "cell_type": "markdown",
      "id": "4dcabfc7f271d866",
      "metadata": {
        "id": "4dcabfc7f271d866"
      },
      "source": [
        "### Plot the functional relationship\n"
      ]
    },
    {
      "cell_type": "code",
      "id": "a7a08b2ec0429b05",
      "metadata": {
        "ExecuteTime": {
          "end_time": "2024-08-26T18:47:37.778779Z",
          "start_time": "2024-08-26T18:47:37.279692Z"
        },
        "colab": {
          "base_uri": "https://localhost:8080/",
          "height": 430
        },
        "id": "a7a08b2ec0429b05",
        "outputId": "b7ad608a-6c90-4c72-d4e1-b6f901aed654"
      },
      "source": [
        "import matplotlib.pyplot as plt\n",
        "import seaborn as sns\n",
        "\n",
        "plt.scatter(df['xvar'], df['yvar'])\n",
        "plt.show()"
      ],
      "outputs": [
        {
          "output_type": "display_data",
          "data": {
            "text/plain": [
              "<Figure size 640x480 with 1 Axes>"
            ],
            "image/png": "[encoded data removed]"
          },
          "metadata": {}
        }
      ],
      "execution_count": null
    },
    {
      "cell_type": "markdown",
      "id": "ff6c7a92d4eebe81",
      "metadata": {
        "id": "ff6c7a92d4eebe81"
      },
      "source": [
        "### Create the error\n",
        "\n",
        "We need to generate error if we want to mimic a real statistical relationship.\n",
        "We can do that using the random number generators in R."
      ]
    },
    {
      "cell_type": "code",
      "id": "541bc0cf241d3424",
      "metadata": {
        "ExecuteTime": {
          "end_time": "2024-08-26T18:47:37.816738Z",
          "start_time": "2024-08-26T18:47:37.806430Z"
        },
        "id": "541bc0cf241d3424"
      },
      "source": [
        "import numpy as np\n",
        "\n",
        "np.random.seed(90210)\n",
        "e = pd.DataFrame({'error': np.random.normal(loc=0, scale=10, size=50)})"
      ],
      "outputs": [],
      "execution_count": null
    },
    {
      "cell_type": "markdown",
      "id": "d042a3f8c799fdf0",
      "metadata": {
        "id": "d042a3f8c799fdf0"
      },
      "source": [
        "A quick and dirty way to make histograms is to use the `hist()` function.\n",
        "Let's do that now to confirm that our data are normal-ish.\n",
        "\n",
        "### Plot the error\n",
        "We can visualize the error we have created using a few different kinds of plots."
      ]
    },
    {
      "cell_type": "code",
      "id": "6c9a931ec96e0cd0",
      "metadata": {
        "ExecuteTime": {
          "end_time": "2024-08-26T18:47:38.268768Z",
          "start_time": "2024-08-26T18:47:37.883291Z"
        },
        "colab": {
          "base_uri": "https://localhost:8080/",
          "height": 430
        },
        "id": "6c9a931ec96e0cd0",
        "outputId": "0dd803c6-9c53-455d-cc86-8ffbb6749387"
      },
      "source": [
        "# Histogram\n",
        "\n",
        "plt.hist(e)\n",
        "plt.show()"
      ],
      "outputs": [
        {
          "output_type": "display_data",
          "data": {
            "text/plain": [
              "<Figure size 640x480 with 1 Axes>"
            ],
            "image/png": "[encoded data removed]"
          },
          "metadata": {}
        }
      ],
      "execution_count": null
    },
    {
      "cell_type": "code",
      "id": "b2c25116bb571024",
      "metadata": {
        "ExecuteTime": {
          "end_time": "2024-08-26T18:47:38.815526Z",
          "start_time": "2024-08-26T18:47:38.304178Z"
        },
        "colab": {
          "base_uri": "https://localhost:8080/",
          "height": 430
        },
        "id": "b2c25116bb571024",
        "outputId": "2a5fe7a9-1bcd-4e14-eddc-6c80d51b8a78"
      },
      "source": [
        "# Density plot\n",
        "\n",
        "sns.kdeplot(e)\n",
        "plt.show()"
      ],
      "outputs": [
        {
          "output_type": "display_data",
          "data": {
            "text/plain": [
              "<Figure size 640x480 with 1 Axes>"
            ],
            "image/png": "[encoded data removed]"
          },
          "metadata": {}
        }
      ],
      "execution_count": null
    },
    {
      "cell_type": "code",
      "id": "4968f028ff7fc13c",
      "metadata": {
        "ExecuteTime": {
          "end_time": "2024-08-26T18:47:39.198711Z",
          "start_time": "2024-08-26T18:47:38.855473Z"
        },
        "colab": {
          "base_uri": "https://localhost:8080/",
          "height": 430
        },
        "id": "4968f028ff7fc13c",
        "outputId": "da7960ae-6398-47f2-f883-410c6bab1729"
      },
      "source": [
        "# Boxplot\n",
        "\n",
        "plt.boxplot(e)\n",
        "plt.show()"
      ],
      "outputs": [
        {
          "output_type": "display_data",
          "data": {
            "text/plain": [
              "<Figure size 640x480 with 1 Axes>"
            ],
            "image/png": "[encoded data removed]"
          },
          "metadata": {}
        }
      ],
      "execution_count": null
    },
    {
      "cell_type": "markdown",
      "id": "fbf69b24f99dfe47",
      "metadata": {
        "id": "fbf69b24f99dfe47"
      },
      "source": [
        "We generated our error from a normal distribution, and, as we'd expect, it appears to be normally distributed. This meets our assumptions for fitting a linear regression model.\n",
        "\n",
        "### Create the statistical relationship\n",
        "\n",
        "OK!\n",
        "Let's combine these components to simulate some regression data."
      ]
    },
    {
      "cell_type": "code",
      "id": "dc208f5c97672741",
      "metadata": {
        "ExecuteTime": {
          "end_time": "2024-08-26T18:47:39.260606Z",
          "start_time": "2024-08-26T18:47:39.241637Z"
        },
        "id": "dc208f5c97672741"
      },
      "source": [
        "np.random.seed(90210)\n",
        "\n",
        "# Create the data frame\n",
        "df = pd.DataFrame({\n",
        "    'xvar': np.arange(1, 51),  # Equivalent to 1:50 in R\n",
        "    'e': np.random.normal(loc=0, scale=10, size=50)  # rnorm(n = 50, mean = 0, sd = 10)\n",
        "})\n",
        "\n",
        "df['yvar'] = 5 + 2*df['xvar'] + df['e']"
      ],
      "outputs": [],
      "execution_count": null
    },
    {
      "cell_type": "markdown",
      "id": "e894e8d2520a589d",
      "metadata": {
        "id": "e894e8d2520a589d"
      },
      "source": [
        "### Plot the statistical relationship"
      ]
    },
    {
      "cell_type": "code",
      "id": "a7361ca8965c0b26",
      "metadata": {
        "ExecuteTime": {
          "end_time": "2024-08-26T18:47:39.949669Z",
          "start_time": "2024-08-26T18:47:39.353385Z"
        },
        "id": "a7361ca8965c0b26"
      },
      "source": [
        "# Create the plot\n",
        "plt.figure(figsize=(10, 6))\n",
        "p2 = sns.regplot(x='xvar', y='yvar', data=df, ci=95, scatter_kws={'s': 25, \"color\":\"black\"}, line_kws={\"color\":\"blue\"})\n",
        "\n",
        "# Add labels and title\n",
        "p2.set_xlabel('xvar')\n",
        "p2.set_ylabel('yvar')\n",
        "p2.set_title('Scatter plot with linear regression line')\n",
        "\n",
        "# Show the plot\n",
        "plt.show()\n"
      ],
      "outputs": [],
      "execution_count": null
    },
    {
      "metadata": {
        "id": "6cd50c4583881b0f"
      },
      "cell_type": "markdown",
      "source": [
        "Looks like regression data!"
      ],
      "id": "6cd50c4583881b0f"
    },
    {
      "cell_type": "markdown",
      "id": "6a06f5c4f7e16426",
      "metadata": {
        "id": "6a06f5c4f7e16426"
      },
      "source": [
        "## Regression with Example Data\n",
        "\n",
        "In the real world, you won't be performing regression from data that you generated yourself.\n",
        "With a regression model we're trying to estimate 3 parameters:\n",
        "\n",
        "1. Intercept\n",
        "1. Slope\n",
        "1. Error variance\n",
        "\n",
        "Essentially, the statistical puzzle we're faced with in the real world is:\n",
        "\n",
        "$$y_i \\sim \\underbrace{?}_{Int} + \\underbrace{?}_{slope}\\cdot x_i + \\epsilon_i$$\n",
        "where\n",
        "$$\\epsilon_i\\sim \\mathcal{N}(0,\\underbrace{?}_{Var})$$"
      ]
    },
    {
      "cell_type": "markdown",
      "source": [
        "##Uploading Files to google colab\n",
        "\n",
        "1."
      ],
      "metadata": {
        "id": "yVk2BvvGXwUW"
      },
      "id": "yVk2BvvGXwUW"
    },
    {
      "cell_type": "code",
      "id": "4fb422f7b9f9f508",
      "metadata": {
        "ExecuteTime": {
          "end_time": "2024-08-26T18:47:40.029439Z",
          "start_time": "2024-08-26T18:47:40.000202Z"
        },
        "colab": {
          "base_uri": "https://localhost:8080/",
          "height": 262
        },
        "id": "4fb422f7b9f9f508",
        "outputId": "6aee644d-e47b-4a14-ed7d-4f185f9aa576"
      },
      "source": [
        "# Load the pandas Python package, which we can use for data manipulation.\n",
        "import pandas as pd\n",
        "from google.colab import files\n",
        "uploaded = files.upload()\n",
        "# pd.read_csv() can be used to read a .csv file from a path.\n",
        "df2 = pd.read_csv(\"Iris.csv\")\n",
        "\n",
        "\n",
        "\n",
        "# df.head() can be used to glance at the first few rows of the DataFrame, to make sure our data looks as we expect.\n",
        "df2.head()"
      ],
      "outputs": [
        {
          "output_type": "display_data",
          "data": {
            "text/plain": [
              "<IPython.core.display.HTML object>"
            ],
            "text/html": [
              "\n",
              "     <input type=\"file\" id=\"files-d62dbf57-956a-477c-be26-9126c07a0290\" name=\"files[]\" multiple disabled\n",
              "        style=\"border:none\" />\n",
              "     <output id=\"result-d62dbf57-956a-477c-be26-9126c07a0290\">\n",
              "      Upload widget is only available when the cell has been executed in the\n",
              "      current browser session. Please rerun this cell to enable.\n",
              "      </output>\n",
              "      <script>// Copyright 2017 Google LLC\n",
              "//\n",
              "// Licensed under the Apache License, Version 2.0 (the \"License\");\n",
              "// you may not use this file except in compliance with the License.\n",
              "// You may obtain a copy of the License at\n",
              "//\n",
              "//      http://www.apache.org/licenses/LICENSE-2.0\n",
              "//\n",
              "// Unless required by applicable law or agreed to in writing, software\n",
              "// distributed under the License is distributed on an \"AS IS\" BASIS,\n",
              "// WITHOUT WARRANTIES OR CONDITIONS OF ANY KIND, either express or implied.\n",
              "// See the License for the specific language governing permissions and\n",
              "// limitations under the License.\n",
              "\n",
              "/**\n",
              " * @fileoverview Helpers for google.colab Python module.\n",
              " */\n",
              "(function(scope) {\n",
              "function span(text, styleAttributes = {}) {\n",
              "  const element = document.createElement('span');\n",
              "  element.textContent = text;\n",
              "  for (const key of Object.keys(styleAttributes)) {\n",
              "    element.style[key] = styleAttributes[key];\n",
              "  }\n",
              "  return element;\n",
              "}\n",
              "\n",
              "// Max number of bytes which will be uploaded at a time.\n",
              "const MAX_PAYLOAD_SIZE = 100 * 1024;\n",
              "\n",
              "function _uploadFiles(inputId, outputId) {\n",
              "  const steps = uploadFilesStep(inputId, outputId);\n",
              "  const outputElement = document.getElementById(outputId);\n",
              "  // Cache steps on the outputElement to make it available for the next call\n",
              "  // to uploadFilesContinue from Python.\n",
              "  outputElement.steps = steps;\n",
              "\n",
              "  return _uploadFilesContinue(outputId);\n",
              "}\n",
              "\n",
              "// This is roughly an async generator (not supported in the browser yet),\n",
              "// where there are multiple asynchronous steps and the Python side is going\n",
              "// to poll for completion of each step.\n",
              "// This uses a Promise to block the python side on completion of each step,\n",
              "// then passes the result of the previous step as the input to the next step.\n",
              "function _uploadFilesContinue(outputId) {\n",
              "  const outputElement = document.getElementById(outputId);\n",
              "  const steps = outputElement.steps;\n",
              "\n",
              "  const next = steps.next(outputElement.lastPromiseValue);\n",
              "  return Promise.resolve(next.value.promise).then((value) => {\n",
              "    // Cache the last promise value to make it available to the next\n",
              "    // step of the generator.\n",
              "    outputElement.lastPromiseValue = value;\n",
              "    return next.value.response;\n",
              "  });\n",
              "}\n",
              "\n",
              "/**\n",
              " * Generator function which is called between each async step of the upload\n",
              " * process.\n",
              " * @param {string} inputId Element ID of the input file picker element.\n",
              " * @param {string} outputId Element ID of the output display.\n",
              " * @return {!Iterable<!Object>} Iterable of next steps.\n",
              " */\n",
              "function* uploadFilesStep(inputId, outputId) {\n",
              "  const inputElement = document.getElementById(inputId);\n",
              "  inputElement.disabled = false;\n",
              "\n",
              "  const outputElement = document.getElementById(outputId);\n",
              "  outputElement.innerHTML = '';\n",
              "\n",
              "  const pickedPromise = new Promise((resolve) => {\n",
              "    inputElement.addEventListener('change', (e) => {\n",
              "      resolve(e.target.files);\n",
              "    });\n",
              "  });\n",
              "\n",
              "  const cancel = document.createElement('button');\n",
              "  inputElement.parentElement.appendChild(cancel);\n",
              "  cancel.textContent = 'Cancel upload';\n",
              "  const cancelPromise = new Promise((resolve) => {\n",
              "    cancel.onclick = () => {\n",
              "      resolve(null);\n",
              "    };\n",
              "  });\n",
              "\n",
              "  // Wait for the user to pick the files.\n",
              "  const files = yield {\n",
              "    promise: Promise.race([pickedPromise, cancelPromise]),\n",
              "    response: {\n",
              "      action: 'starting',\n",
              "    }\n",
              "  };\n",
              "\n",
              "  cancel.remove();\n",
              "\n",
              "  // Disable the input element since further picks are not allowed.\n",
              "  inputElement.disabled = true;\n",
              "\n",
              "  if (!files) {\n",
              "    return {\n",
              "      response: {\n",
              "        action: 'complete',\n",
              "      }\n",
              "    };\n",
              "  }\n",
              "\n",
              "  for (const file of files) {\n",
              "    const li = document.createElement('li');\n",
              "    li.append(span(file.name, {fontWeight: 'bold'}));\n",
              "    li.append(span(\n",
              "        `(${file.type || 'n/a'}) - ${file.size} bytes, ` +\n",
              "        `last modified: ${\n",
              "            file.lastModifiedDate ? file.lastModifiedDate.toLocaleDateString() :\n",
              "                                    'n/a'} - `));\n",
              "    const percent = span('0% done');\n",
              "    li.appendChild(percent);\n",
              "\n",
              "    outputElement.appendChild(li);\n",
              "\n",
              "    const fileDataPromise = new Promise((resolve) => {\n",
              "      const reader = new FileReader();\n",
              "      reader.onload = (e) => {\n",
              "        resolve(e.target.result);\n",
              "      };\n",
              "      reader.readAsArrayBuffer(file);\n",
              "    });\n",
              "    // Wait for the data to be ready.\n",
              "    let fileData = yield {\n",
              "      promise: fileDataPromise,\n",
              "      response: {\n",
              "        action: 'continue',\n",
              "      }\n",
              "    };\n",
              "\n",
              "    // Use a chunked sending to avoid message size limits. See b/62115660.\n",
              "    let position = 0;\n",
              "    do {\n",
              "      const length = Math.min(fileData.byteLength - position, MAX_PAYLOAD_SIZE);\n",
              "      const chunk = new Uint8Array(fileData, position, length);\n",
              "      position += length;\n",
              "\n",
              "      const base64 = btoa(String.fromCharCode.apply(null, chunk));\n",
              "      yield {\n",
              "        response: {\n",
              "          action: 'append',\n",
              "          file: file.name,\n",
              "          data: base64,\n",
              "        },\n",
              "      };\n",
              "\n",
              "      let percentDone = fileData.byteLength === 0 ?\n",
              "          100 :\n",
              "          Math.round((position / fileData.byteLength) * 100);\n",
              "      percent.textContent = `${percentDone}% done`;\n",
              "\n",
              "    } while (position < fileData.byteLength);\n",
              "  }\n",
              "\n",
              "  // All done.\n",
              "  yield {\n",
              "    response: {\n",
              "      action: 'complete',\n",
              "    }\n",
              "  };\n",
              "}\n",
              "\n",
              "scope.google = scope.google || {};\n",
              "scope.google.colab = scope.google.colab || {};\n",
              "scope.google.colab._files = {\n",
              "  _uploadFiles,\n",
              "  _uploadFilesContinue,\n",
              "};\n",
              "})(self);\n",
              "</script> "
            ]
          },
          "metadata": {}
        },
        {
          "output_type": "stream",
          "name": "stdout",
          "text": [
            "Saving Iris.csv to Iris.csv\n"
          ]
        },
        {
          "output_type": "execute_result",
          "data": {
            "text/plain": [
              "   Id  SepalLengthCm  SepalWidthCm  PetalLengthCm  PetalWidthCm      Species\n",
              "0   1            5.1           3.5            1.4           0.2  Iris-setosa\n",
              "1   2            4.9           3.0            1.4           0.2  Iris-setosa\n",
              "2   3            4.7           3.2            1.3           0.2  Iris-setosa\n",
              "3   4            4.6           3.1            1.5           0.2  Iris-setosa\n",
              "4   5            5.0           3.6            1.4           0.2  Iris-setosa"
            ],
            "text/html": [
              "\n",
              "  <div id=\"df-e92d6df5-c99d-4576-825c-3ae5b3da17f3\" class=\"colab-df-container\">\n",
              "    <div>\n",
              "<style scoped>\n",
              "    .dataframe tbody tr th:only-of-type {\n",
              "        vertical-align: middle;\n",
              "    }\n",
              "\n",
              "    .dataframe tbody tr th {\n",
              "        vertical-align: top;\n",
              "    }\n",
              "\n",
              "    .dataframe thead th {\n",
              "        text-align: right;\n",
              "    }\n",
              "</style>\n",
              "<table border=\"1\" class=\"dataframe\">\n",
              "  <thead>\n",
              "    <tr style=\"text-align: right;\">\n",
              "      <th></th>\n",
              "      <th>Id</th>\n",
              "      <th>SepalLengthCm</th>\n",
              "      <th>SepalWidthCm</th>\n",
              "      <th>PetalLengthCm</th>\n",
              "      <th>PetalWidthCm</th>\n",
              "      <th>Species</th>\n",
              "    </tr>\n",
              "  </thead>\n",
              "  <tbody>\n",
              "    <tr>\n",
              "      <th>0</th>\n",
              "      <td>1</td>\n",
              "      <td>5.1</td>\n",
              "      <td>3.5</td>\n",
              "      <td>1.4</td>\n",
              "      <td>0.2</td>\n",
              "      <td>Iris-setosa</td>\n",
              "    </tr>\n",
              "    <tr>\n",
              "      <th>1</th>\n",
              "      <td>2</td>\n",
              "      <td>4.9</td>\n",
              "      <td>3.0</td>\n",
              "      <td>1.4</td>\n",
              "      <td>0.2</td>\n",
              "      <td>Iris-setosa</td>\n",
              "    </tr>\n",
              "    <tr>\n",
              "      <th>2</th>\n",
              "      <td>3</td>\n",
              "      <td>4.7</td>\n",
              "      <td>3.2</td>\n",
              "      <td>1.3</td>\n",
              "      <td>0.2</td>\n",
              "      <td>Iris-setosa</td>\n",
              "    </tr>\n",
              "    <tr>\n",
              "      <th>3</th>\n",
              "      <td>4</td>\n",
              "      <td>4.6</td>\n",
              "      <td>3.1</td>\n",
              "      <td>1.5</td>\n",
              "      <td>0.2</td>\n",
              "      <td>Iris-setosa</td>\n",
              "    </tr>\n",
              "    <tr>\n",
              "      <th>4</th>\n",
              "      <td>5</td>\n",
              "      <td>5.0</td>\n",
              "      <td>3.6</td>\n",
              "      <td>1.4</td>\n",
              "      <td>0.2</td>\n",
              "      <td>Iris-setosa</td>\n",
              "    </tr>\n",
              "  </tbody>\n",
              "</table>\n",
              "</div>\n",
              "    <div class=\"colab-df-buttons\">\n",
              "\n",
              "  <div class=\"colab-df-container\">\n",
              "    <button class=\"colab-df-convert\" onclick=\"convertToInteractive('df-e92d6df5-c99d-4576-825c-3ae5b3da17f3')\"\n",
              "            title=\"Convert this dataframe to an interactive table.\"\n",
              "            style=\"display:none;\">\n",
              "\n",
              "  <svg xmlns=\"http://www.w3.org/2000/svg\" height=\"24px\" viewBox=\"0 -960 960 960\">\n",
              "    <path d=\"M120-120v-720h720v720H120Zm60-500h600v-160H180v160Zm220 220h160v-160H400v160Zm0 220h160v-160H400v160ZM180-400h160v-160H180v160Zm440 0h160v-160H620v160ZM180-180h160v-160H180v160Zm440 0h160v-160H620v160Z\"/>\n",
              "  </svg>\n",
              "    </button>\n",
              "\n",
              "  <style>\n",
              "    .colab-df-container {\n",
              "      display:flex;\n",
              "      gap: 12px;\n",
              "    }\n",
              "\n",
              "    .colab-df-convert {\n",
              "      background-color: #E8F0FE;\n",
              "      border: none;\n",
              "      border-radius: 50%;\n",
              "      cursor: pointer;\n",
              "      display: none;\n",
              "      fill: #1967D2;\n",
              "      height: 32px;\n",
              "      padding: 0 0 0 0;\n",
              "      width: 32px;\n",
              "    }\n",
              "\n",
              "    .colab-df-convert:hover {\n",
              "      background-color: #E2EBFA;\n",
              "      box-shadow: 0px 1px 2px rgba(60, 64, 67, 0.3), 0px 1px 3px 1px rgba(60, 64, 67, 0.15);\n",
              "      fill: #174EA6;\n",
              "    }\n",
              "\n",
              "    .colab-df-buttons div {\n",
              "      margin-bottom: 4px;\n",
              "    }\n",
              "\n",
              "    [theme=dark] .colab-df-convert {\n",
              "      background-color: #3B4455;\n",
              "      fill: #D2E3FC;\n",
              "    }\n",
              "\n",
              "    [theme=dark] .colab-df-convert:hover {\n",
              "      background-color: #434B5C;\n",
              "      box-shadow: 0px 1px 3px 1px rgba(0, 0, 0, 0.15);\n",
              "      filter: drop-shadow(0px 1px 2px rgba(0, 0, 0, 0.3));\n",
              "      fill: #FFFFFF;\n",
              "    }\n",
              "  </style>\n",
              "\n",
              "    <script>\n",
              "      const buttonEl =\n",
              "        document.querySelector('#df-e92d6df5-c99d-4576-825c-3ae5b3da17f3 button.colab-df-convert');\n",
              "      buttonEl.style.display =\n",
              "        google.colab.kernel.accessAllowed ? 'block' : 'none';\n",
              "\n",
              "      async function convertToInteractive(key) {\n",
              "        const element = document.querySelector('#df-e92d6df5-c99d-4576-825c-3ae5b3da17f3');\n",
              "        const dataTable =\n",
              "          await google.colab.kernel.invokeFunction('convertToInteractive',\n",
              "                                                    [key], {});\n",
              "        if (!dataTable) return;\n",
              "\n",
              "        const docLinkHtml = 'Like what you see? Visit the ' +\n",
              "          '<a target=\"_blank\" href=https://colab.research.google.com/notebooks/data_table.ipynb>data table notebook</a>'\n",
              "          + ' to learn more about interactive tables.';\n",
              "        element.innerHTML = '';\n",
              "        dataTable['output_type'] = 'display_data';\n",
              "        await google.colab.output.renderOutput(dataTable, element);\n",
              "        const docLink = document.createElement('div');\n",
              "        docLink.innerHTML = docLinkHtml;\n",
              "        element.appendChild(docLink);\n",
              "      }\n",
              "    </script>\n",
              "  </div>\n",
              "\n",
              "\n",
              "<div id=\"df-cf424b48-5e2d-4217-9fd3-72751b1ff91b\">\n",
              "  <button class=\"colab-df-quickchart\" onclick=\"quickchart('df-cf424b48-5e2d-4217-9fd3-72751b1ff91b')\"\n",
              "            title=\"Suggest charts\"\n",
              "            style=\"display:none;\">\n",
              "\n",
              "<svg xmlns=\"http://www.w3.org/2000/svg\" height=\"24px\"viewBox=\"0 0 24 24\"\n",
              "     width=\"24px\">\n",
              "    <g>\n",
              "        <path d=\"M19 3H5c-1.1 0-2 .9-2 2v14c0 1.1.9 2 2 2h14c1.1 0 2-.9 2-2V5c0-1.1-.9-2-2-2zM9 17H7v-7h2v7zm4 0h-2V7h2v10zm4 0h-2v-4h2v4z\"/>\n",
              "    </g>\n",
              "</svg>\n",
              "  </button>\n",
              "\n",
              "<style>\n",
              "  .colab-df-quickchart {\n",
              "      --bg-color: #E8F0FE;\n",
              "      --fill-color: #1967D2;\n",
              "      --hover-bg-color: #E2EBFA;\n",
              "      --hover-fill-color: #174EA6;\n",
              "      --disabled-fill-color: #AAA;\n",
              "      --disabled-bg-color: #DDD;\n",
              "  }\n",
              "\n",
              "  [theme=dark] .colab-df-quickchart {\n",
              "      --bg-color: #3B4455;\n",
              "      --fill-color: #D2E3FC;\n",
              "      --hover-bg-color: #434B5C;\n",
              "      --hover-fill-color: #FFFFFF;\n",
              "      --disabled-bg-color: #3B4455;\n",
              "      --disabled-fill-color: #666;\n",
              "  }\n",
              "\n",
              "  .colab-df-quickchart {\n",
              "    background-color: var(--bg-color);\n",
              "    border: none;\n",
              "    border-radius: 50%;\n",
              "    cursor: pointer;\n",
              "    display: none;\n",
              "    fill: var(--fill-color);\n",
              "    height: 32px;\n",
              "    padding: 0;\n",
              "    width: 32px;\n",
              "  }\n",
              "\n",
              "  .colab-df-quickchart:hover {\n",
              "    background-color: var(--hover-bg-color);\n",
              "    box-shadow: 0 1px 2px rgba(60, 64, 67, 0.3), 0 1px 3px 1px rgba(60, 64, 67, 0.15);\n",
              "    fill: var(--button-hover-fill-color);\n",
              "  }\n",
              "\n",
              "  .colab-df-quickchart-complete:disabled,\n",
              "  .colab-df-quickchart-complete:disabled:hover {\n",
              "    background-color: var(--disabled-bg-color);\n",
              "    fill: var(--disabled-fill-color);\n",
              "    box-shadow: none;\n",
              "  }\n",
              "\n",
              "  .colab-df-spinner {\n",
              "    border: 2px solid var(--fill-color);\n",
              "    border-color: transparent;\n",
              "    border-bottom-color: var(--fill-color);\n",
              "    animation:\n",
              "      spin 1s steps(1) infinite;\n",
              "  }\n",
              "\n",
              "  @keyframes spin {\n",
              "    0% {\n",
              "      border-color: transparent;\n",
              "      border-bottom-color: var(--fill-color);\n",
              "      border-left-color: var(--fill-color);\n",
              "    }\n",
              "    20% {\n",
              "      border-color: transparent;\n",
              "      border-left-color: var(--fill-color);\n",
              "      border-top-color: var(--fill-color);\n",
              "    }\n",
              "    30% {\n",
              "      border-color: transparent;\n",
              "      border-left-color: var(--fill-color);\n",
              "      border-top-color: var(--fill-color);\n",
              "      border-right-color: var(--fill-color);\n",
              "    }\n",
              "    40% {\n",
              "      border-color: transparent;\n",
              "      border-right-color: var(--fill-color);\n",
              "      border-top-color: var(--fill-color);\n",
              "    }\n",
              "    60% {\n",
              "      border-color: transparent;\n",
              "      border-right-color: var(--fill-color);\n",
              "    }\n",
              "    80% {\n",
              "      border-color: transparent;\n",
              "      border-right-color: var(--fill-color);\n",
              "      border-bottom-color: var(--fill-color);\n",
              "    }\n",
              "    90% {\n",
              "      border-color: transparent;\n",
              "      border-bottom-color: var(--fill-color);\n",
              "    }\n",
              "  }\n",
              "</style>\n",
              "\n",
              "  <script>\n",
              "    async function quickchart(key) {\n",
              "      const quickchartButtonEl =\n",
              "        document.querySelector('#' + key + ' button');\n",
              "      quickchartButtonEl.disabled = true;  // To prevent multiple clicks.\n",
              "      quickchartButtonEl.classList.add('colab-df-spinner');\n",
              "      try {\n",
              "        const charts = await google.colab.kernel.invokeFunction(\n",
              "            'suggestCharts', [key], {});\n",
              "      } catch (error) {\n",
              "        console.error('Error during call to suggestCharts:', error);\n",
              "      }\n",
              "      quickchartButtonEl.classList.remove('colab-df-spinner');\n",
              "      quickchartButtonEl.classList.add('colab-df-quickchart-complete');\n",
              "    }\n",
              "    (() => {\n",
              "      let quickchartButtonEl =\n",
              "        document.querySelector('#df-cf424b48-5e2d-4217-9fd3-72751b1ff91b button');\n",
              "      quickchartButtonEl.style.display =\n",
              "        google.colab.kernel.accessAllowed ? 'block' : 'none';\n",
              "    })();\n",
              "  </script>\n",
              "</div>\n",
              "\n",
              "    </div>\n",
              "  </div>\n"
            ],
            "application/vnd.google.colaboratory.intrinsic+json": {
              "type": "dataframe",
              "variable_name": "df2",
              "summary": "{\n  \"name\": \"df2\",\n  \"rows\": 150,\n  \"fields\": [\n    {\n      \"column\": \"Id\",\n      \"properties\": {\n        \"dtype\": \"number\",\n        \"std\": 43,\n        \"min\": 1,\n        \"max\": 150,\n        \"num_unique_values\": 150,\n        \"samples\": [\n          74,\n          19,\n          119\n        ],\n        \"semantic_type\": \"\",\n        \"description\": \"\"\n      }\n    },\n    {\n      \"column\": \"SepalLengthCm\",\n      \"properties\": {\n        \"dtype\": \"number\",\n        \"std\": 0.828066127977863,\n        \"min\": 4.3,\n        \"max\": 7.9,\n        \"num_unique_values\": 35,\n        \"samples\": [\n          6.2,\n          4.5,\n          5.6\n        ],\n        \"semantic_type\": \"\",\n        \"description\": \"\"\n      }\n    },\n    {\n      \"column\": \"SepalWidthCm\",\n      \"properties\": {\n        \"dtype\": \"number\",\n        \"std\": 0.4335943113621737,\n        \"min\": 2.0,\n        \"max\": 4.4,\n        \"num_unique_values\": 23,\n        \"samples\": [\n          2.3,\n          4.0,\n          3.5\n        ],\n        \"semantic_type\": \"\",\n        \"description\": \"\"\n      }\n    },\n    {\n      \"column\": \"PetalLengthCm\",\n      \"properties\": {\n        \"dtype\": \"number\",\n        \"std\": 1.7644204199522626,\n        \"min\": 1.0,\n        \"max\": 6.9,\n        \"num_unique_values\": 43,\n        \"samples\": [\n          6.7,\n          3.8,\n          3.7\n        ],\n        \"semantic_type\": \"\",\n        \"description\": \"\"\n      }\n    },\n    {\n      \"column\": \"PetalWidthCm\",\n      \"properties\": {\n        \"dtype\": \"number\",\n        \"std\": 0.7631607417008411,\n        \"min\": 0.1,\n        \"max\": 2.5,\n        \"num_unique_values\": 22,\n        \"samples\": [\n          0.2,\n          1.2,\n          1.3\n        ],\n        \"semantic_type\": \"\",\n        \"description\": \"\"\n      }\n    },\n    {\n      \"column\": \"Species\",\n      \"properties\": {\n        \"dtype\": \"category\",\n        \"num_unique_values\": 3,\n        \"samples\": [\n          \"Iris-setosa\",\n          \"Iris-versicolor\",\n          \"Iris-virginica\"\n        ],\n        \"semantic_type\": \"\",\n        \"description\": \"\"\n      }\n    }\n  ]\n}"
            }
          },
          "metadata": {},
          "execution_count": 19
        }
      ],
      "execution_count": null
    },
    {
      "cell_type": "code",
      "id": "e4e3f665cd34c04e",
      "metadata": {
        "ExecuteTime": {
          "end_time": "2024-08-26T18:47:40.171919Z",
          "start_time": "2024-08-26T18:47:40.156804Z"
        },
        "colab": {
          "base_uri": "https://localhost:8080/"
        },
        "id": "e4e3f665cd34c04e",
        "outputId": "97949a0b-adb8-4c0d-ab96-f76e4a9eb242"
      },
      "source": [
        "# df.columns.tolist() will give the names of the columns,\n",
        "df2.columns.tolist()"
      ],
      "outputs": [
        {
          "output_type": "execute_result",
          "data": {
            "text/plain": [
              "['Id',\n",
              " 'SepalLengthCm',\n",
              " 'SepalWidthCm',\n",
              " 'PetalLengthCm',\n",
              " 'PetalWidthCm',\n",
              " 'Species']"
            ]
          },
          "metadata": {},
          "execution_count": 24
        }
      ],
      "execution_count": null
    },
    {
      "cell_type": "code",
      "id": "73fd421cfe194a08",
      "metadata": {
        "ExecuteTime": {
          "end_time": "2024-08-26T18:47:40.257351Z",
          "start_time": "2024-08-26T18:47:40.213876Z"
        },
        "colab": {
          "base_uri": "https://localhost:8080/",
          "height": 300
        },
        "id": "73fd421cfe194a08",
        "outputId": "41dfd225-b817-474c-c059-f947e7b89420"
      },
      "source": [
        "#df.describe() is a helpful function to return summary statistics of our columns.\n",
        "df2.describe()"
      ],
      "outputs": [
        {
          "output_type": "execute_result",
          "data": {
            "text/plain": [
              "               Id  SepalLengthCm  SepalWidthCm  PetalLengthCm  PetalWidthCm\n",
              "count  150.000000     150.000000    150.000000     150.000000    150.000000\n",
              "mean    75.500000       5.843333      3.054000       3.758667      1.198667\n",
              "std     43.445368       0.828066      0.433594       1.764420      0.763161\n",
              "min      1.000000       4.300000      2.000000       1.000000      0.100000\n",
              "25%     38.250000       5.100000      2.800000       1.600000      0.300000\n",
              "50%     75.500000       5.800000      3.000000       4.350000      1.300000\n",
              "75%    112.750000       6.400000      3.300000       5.100000      1.800000\n",
              "max    150.000000       7.900000      4.400000       6.900000      2.500000"
            ],
            "text/html": [
              "\n",
              "  <div id=\"df-a53aaaf2-8197-44d2-9373-e4ddfe93cb05\" class=\"colab-df-container\">\n",
              "    <div>\n",
              "<style scoped>\n",
              "    .dataframe tbody tr th:only-of-type {\n",
              "        vertical-align: middle;\n",
              "    }\n",
              "\n",
              "    .dataframe tbody tr th {\n",
              "        vertical-align: top;\n",
              "    }\n",
              "\n",
              "    .dataframe thead th {\n",
              "        text-align: right;\n",
              "    }\n",
              "</style>\n",
              "<table border=\"1\" class=\"dataframe\">\n",
              "  <thead>\n",
              "    <tr style=\"text-align: right;\">\n",
              "      <th></th>\n",
              "      <th>Id</th>\n",
              "      <th>SepalLengthCm</th>\n",
              "      <th>SepalWidthCm</th>\n",
              "      <th>PetalLengthCm</th>\n",
              "      <th>PetalWidthCm</th>\n",
              "    </tr>\n",
              "  </thead>\n",
              "  <tbody>\n",
              "    <tr>\n",
              "      <th>count</th>\n",
              "      <td>150.000000</td>\n",
              "      <td>150.000000</td>\n",
              "      <td>150.000000</td>\n",
              "      <td>150.000000</td>\n",
              "      <td>150.000000</td>\n",
              "    </tr>\n",
              "    <tr>\n",
              "      <th>mean</th>\n",
              "      <td>75.500000</td>\n",
              "      <td>5.843333</td>\n",
              "      <td>3.054000</td>\n",
              "      <td>3.758667</td>\n",
              "      <td>1.198667</td>\n",
              "    </tr>\n",
              "    <tr>\n",
              "      <th>std</th>\n",
              "      <td>43.445368</td>\n",
              "      <td>0.828066</td>\n",
              "      <td>0.433594</td>\n",
              "      <td>1.764420</td>\n",
              "      <td>0.763161</td>\n",
              "    </tr>\n",
              "    <tr>\n",
              "      <th>min</th>\n",
              "      <td>1.000000</td>\n",
              "      <td>4.300000</td>\n",
              "      <td>2.000000</td>\n",
              "      <td>1.000000</td>\n",
              "      <td>0.100000</td>\n",
              "    </tr>\n",
              "    <tr>\n",
              "      <th>25%</th>\n",
              "      <td>38.250000</td>\n",
              "      <td>5.100000</td>\n",
              "      <td>2.800000</td>\n",
              "      <td>1.600000</td>\n",
              "      <td>0.300000</td>\n",
              "    </tr>\n",
              "    <tr>\n",
              "      <th>50%</th>\n",
              "      <td>75.500000</td>\n",
              "      <td>5.800000</td>\n",
              "      <td>3.000000</td>\n",
              "      <td>4.350000</td>\n",
              "      <td>1.300000</td>\n",
              "    </tr>\n",
              "    <tr>\n",
              "      <th>75%</th>\n",
              "      <td>112.750000</td>\n",
              "      <td>6.400000</td>\n",
              "      <td>3.300000</td>\n",
              "      <td>5.100000</td>\n",
              "      <td>1.800000</td>\n",
              "    </tr>\n",
              "    <tr>\n",
              "      <th>max</th>\n",
              "      <td>150.000000</td>\n",
              "      <td>7.900000</td>\n",
              "      <td>4.400000</td>\n",
              "      <td>6.900000</td>\n",
              "      <td>2.500000</td>\n",
              "    </tr>\n",
              "  </tbody>\n",
              "</table>\n",
              "</div>\n",
              "    <div class=\"colab-df-buttons\">\n",
              "\n",
              "  <div class=\"colab-df-container\">\n",
              "    <button class=\"colab-df-convert\" onclick=\"convertToInteractive('df-a53aaaf2-8197-44d2-9373-e4ddfe93cb05')\"\n",
              "            title=\"Convert this dataframe to an interactive table.\"\n",
              "            style=\"display:none;\">\n",
              "\n",
              "  <svg xmlns=\"http://www.w3.org/2000/svg\" height=\"24px\" viewBox=\"0 -960 960 960\">\n",
              "    <path d=\"M120-120v-720h720v720H120Zm60-500h600v-160H180v160Zm220 220h160v-160H400v160Zm0 220h160v-160H400v160ZM180-400h160v-160H180v160Zm440 0h160v-160H620v160ZM180-180h160v-160H180v160Zm440 0h160v-160H620v160Z\"/>\n",
              "  </svg>\n",
              "    </button>\n",
              "\n",
              "  <style>\n",
              "    .colab-df-container {\n",
              "      display:flex;\n",
              "      gap: 12px;\n",
              "    }\n",
              "\n",
              "    .colab-df-convert {\n",
              "      background-color: #E8F0FE;\n",
              "      border: none;\n",
              "      border-radius: 50%;\n",
              "      cursor: pointer;\n",
              "      display: none;\n",
              "      fill: #1967D2;\n",
              "      height: 32px;\n",
              "      padding: 0 0 0 0;\n",
              "      width: 32px;\n",
              "    }\n",
              "\n",
              "    .colab-df-convert:hover {\n",
              "      background-color: #E2EBFA;\n",
              "      box-shadow: 0px 1px 2px rgba(60, 64, 67, 0.3), 0px 1px 3px 1px rgba(60, 64, 67, 0.15);\n",
              "      fill: #174EA6;\n",
              "    }\n",
              "\n",
              "    .colab-df-buttons div {\n",
              "      margin-bottom: 4px;\n",
              "    }\n",
              "\n",
              "    [theme=dark] .colab-df-convert {\n",
              "      background-color: #3B4455;\n",
              "      fill: #D2E3FC;\n",
              "    }\n",
              "\n",
              "    [theme=dark] .colab-df-convert:hover {\n",
              "      background-color: #434B5C;\n",
              "      box-shadow: 0px 1px 3px 1px rgba(0, 0, 0, 0.15);\n",
              "      filter: drop-shadow(0px 1px 2px rgba(0, 0, 0, 0.3));\n",
              "      fill: #FFFFFF;\n",
              "    }\n",
              "  </style>\n",
              "\n",
              "    <script>\n",
              "      const buttonEl =\n",
              "        document.querySelector('#df-a53aaaf2-8197-44d2-9373-e4ddfe93cb05 button.colab-df-convert');\n",
              "      buttonEl.style.display =\n",
              "        google.colab.kernel.accessAllowed ? 'block' : 'none';\n",
              "\n",
              "      async function convertToInteractive(key) {\n",
              "        const element = document.querySelector('#df-a53aaaf2-8197-44d2-9373-e4ddfe93cb05');\n",
              "        const dataTable =\n",
              "          await google.colab.kernel.invokeFunction('convertToInteractive',\n",
              "                                                    [key], {});\n",
              "        if (!dataTable) return;\n",
              "\n",
              "        const docLinkHtml = 'Like what you see? Visit the ' +\n",
              "          '<a target=\"_blank\" href=https://colab.research.google.com/notebooks/data_table.ipynb>data table notebook</a>'\n",
              "          + ' to learn more about interactive tables.';\n",
              "        element.innerHTML = '';\n",
              "        dataTable['output_type'] = 'display_data';\n",
              "        await google.colab.output.renderOutput(dataTable, element);\n",
              "        const docLink = document.createElement('div');\n",
              "        docLink.innerHTML = docLinkHtml;\n",
              "        element.appendChild(docLink);\n",
              "      }\n",
              "    </script>\n",
              "  </div>\n",
              "\n",
              "\n",
              "<div id=\"df-b465a06e-452f-4152-9892-4ee9b4ed23ed\">\n",
              "  <button class=\"colab-df-quickchart\" onclick=\"quickchart('df-b465a06e-452f-4152-9892-4ee9b4ed23ed')\"\n",
              "            title=\"Suggest charts\"\n",
              "            style=\"display:none;\">\n",
              "\n",
              "<svg xmlns=\"http://www.w3.org/2000/svg\" height=\"24px\"viewBox=\"0 0 24 24\"\n",
              "     width=\"24px\">\n",
              "    <g>\n",
              "        <path d=\"M19 3H5c-1.1 0-2 .9-2 2v14c0 1.1.9 2 2 2h14c1.1 0 2-.9 2-2V5c0-1.1-.9-2-2-2zM9 17H7v-7h2v7zm4 0h-2V7h2v10zm4 0h-2v-4h2v4z\"/>\n",
              "    </g>\n",
              "</svg>\n",
              "  </button>\n",
              "\n",
              "<style>\n",
              "  .colab-df-quickchart {\n",
              "      --bg-color: #E8F0FE;\n",
              "      --fill-color: #1967D2;\n",
              "      --hover-bg-color: #E2EBFA;\n",
              "      --hover-fill-color: #174EA6;\n",
              "      --disabled-fill-color: #AAA;\n",
              "      --disabled-bg-color: #DDD;\n",
              "  }\n",
              "\n",
              "  [theme=dark] .colab-df-quickchart {\n",
              "      --bg-color: #3B4455;\n",
              "      --fill-color: #D2E3FC;\n",
              "      --hover-bg-color: #434B5C;\n",
              "      --hover-fill-color: #FFFFFF;\n",
              "      --disabled-bg-color: #3B4455;\n",
              "      --disabled-fill-color: #666;\n",
              "  }\n",
              "\n",
              "  .colab-df-quickchart {\n",
              "    background-color: var(--bg-color);\n",
              "    border: none;\n",
              "    border-radius: 50%;\n",
              "    cursor: pointer;\n",
              "    display: none;\n",
              "    fill: var(--fill-color);\n",
              "    height: 32px;\n",
              "    padding: 0;\n",
              "    width: 32px;\n",
              "  }\n",
              "\n",
              "  .colab-df-quickchart:hover {\n",
              "    background-color: var(--hover-bg-color);\n",
              "    box-shadow: 0 1px 2px rgba(60, 64, 67, 0.3), 0 1px 3px 1px rgba(60, 64, 67, 0.15);\n",
              "    fill: var(--button-hover-fill-color);\n",
              "  }\n",
              "\n",
              "  .colab-df-quickchart-complete:disabled,\n",
              "  .colab-df-quickchart-complete:disabled:hover {\n",
              "    background-color: var(--disabled-bg-color);\n",
              "    fill: var(--disabled-fill-color);\n",
              "    box-shadow: none;\n",
              "  }\n",
              "\n",
              "  .colab-df-spinner {\n",
              "    border: 2px solid var(--fill-color);\n",
              "    border-color: transparent;\n",
              "    border-bottom-color: var(--fill-color);\n",
              "    animation:\n",
              "      spin 1s steps(1) infinite;\n",
              "  }\n",
              "\n",
              "  @keyframes spin {\n",
              "    0% {\n",
              "      border-color: transparent;\n",
              "      border-bottom-color: var(--fill-color);\n",
              "      border-left-color: var(--fill-color);\n",
              "    }\n",
              "    20% {\n",
              "      border-color: transparent;\n",
              "      border-left-color: var(--fill-color);\n",
              "      border-top-color: var(--fill-color);\n",
              "    }\n",
              "    30% {\n",
              "      border-color: transparent;\n",
              "      border-left-color: var(--fill-color);\n",
              "      border-top-color: var(--fill-color);\n",
              "      border-right-color: var(--fill-color);\n",
              "    }\n",
              "    40% {\n",
              "      border-color: transparent;\n",
              "      border-right-color: var(--fill-color);\n",
              "      border-top-color: var(--fill-color);\n",
              "    }\n",
              "    60% {\n",
              "      border-color: transparent;\n",
              "      border-right-color: var(--fill-color);\n",
              "    }\n",
              "    80% {\n",
              "      border-color: transparent;\n",
              "      border-right-color: var(--fill-color);\n",
              "      border-bottom-color: var(--fill-color);\n",
              "    }\n",
              "    90% {\n",
              "      border-color: transparent;\n",
              "      border-bottom-color: var(--fill-color);\n",
              "    }\n",
              "  }\n",
              "</style>\n",
              "\n",
              "  <script>\n",
              "    async function quickchart(key) {\n",
              "      const quickchartButtonEl =\n",
              "        document.querySelector('#' + key + ' button');\n",
              "      quickchartButtonEl.disabled = true;  // To prevent multiple clicks.\n",
              "      quickchartButtonEl.classList.add('colab-df-spinner');\n",
              "      try {\n",
              "        const charts = await google.colab.kernel.invokeFunction(\n",
              "            'suggestCharts', [key], {});\n",
              "      } catch (error) {\n",
              "        console.error('Error during call to suggestCharts:', error);\n",
              "      }\n",
              "      quickchartButtonEl.classList.remove('colab-df-spinner');\n",
              "      quickchartButtonEl.classList.add('colab-df-quickchart-complete');\n",
              "    }\n",
              "    (() => {\n",
              "      let quickchartButtonEl =\n",
              "        document.querySelector('#df-b465a06e-452f-4152-9892-4ee9b4ed23ed button');\n",
              "      quickchartButtonEl.style.display =\n",
              "        google.colab.kernel.accessAllowed ? 'block' : 'none';\n",
              "    })();\n",
              "  </script>\n",
              "</div>\n",
              "\n",
              "    </div>\n",
              "  </div>\n"
            ],
            "application/vnd.google.colaboratory.intrinsic+json": {
              "type": "dataframe",
              "summary": "{\n  \"name\": \"df2\",\n  \"rows\": 8,\n  \"fields\": [\n    {\n      \"column\": \"Id\",\n      \"properties\": {\n        \"dtype\": \"number\",\n        \"std\": 53.756293020494844,\n        \"min\": 1.0,\n        \"max\": 150.0,\n        \"num_unique_values\": 6,\n        \"samples\": [\n          150.0,\n          75.5,\n          112.75\n        ],\n        \"semantic_type\": \"\",\n        \"description\": \"\"\n      }\n    },\n    {\n      \"column\": \"SepalLengthCm\",\n      \"properties\": {\n        \"dtype\": \"number\",\n        \"std\": 51.24711349471842,\n        \"min\": 0.828066127977863,\n        \"max\": 150.0,\n        \"num_unique_values\": 8,\n        \"samples\": [\n          5.843333333333334,\n          5.8,\n          150.0\n        ],\n        \"semantic_type\": \"\",\n        \"description\": \"\"\n      }\n    },\n    {\n      \"column\": \"SepalWidthCm\",\n      \"properties\": {\n        \"dtype\": \"number\",\n        \"std\": 52.08647211421483,\n        \"min\": 0.4335943113621737,\n        \"max\": 150.0,\n        \"num_unique_values\": 8,\n        \"samples\": [\n          3.0540000000000003,\n          3.0,\n          150.0\n        ],\n        \"semantic_type\": \"\",\n        \"description\": \"\"\n      }\n    },\n    {\n      \"column\": \"PetalLengthCm\",\n      \"properties\": {\n        \"dtype\": \"number\",\n        \"std\": 51.835227940958106,\n        \"min\": 1.0,\n        \"max\": 150.0,\n        \"num_unique_values\": 8,\n        \"samples\": [\n          3.758666666666666,\n          4.35,\n          150.0\n        ],\n        \"semantic_type\": \"\",\n        \"description\": \"\"\n      }\n    },\n    {\n      \"column\": \"PetalWidthCm\",\n      \"properties\": {\n        \"dtype\": \"number\",\n        \"std\": 52.636634243409915,\n        \"min\": 0.1,\n        \"max\": 150.0,\n        \"num_unique_values\": 8,\n        \"samples\": [\n          1.1986666666666668,\n          1.3,\n          150.0\n        ],\n        \"semantic_type\": \"\",\n        \"description\": \"\"\n      }\n    }\n  ]\n}"
            }
          },
          "metadata": {},
          "execution_count": 25
        }
      ],
      "execution_count": null
    },
    {
      "cell_type": "code",
      "id": "9413111e40d8f304",
      "metadata": {
        "ExecuteTime": {
          "end_time": "2024-08-26T18:47:42.478921Z",
          "start_time": "2024-08-26T18:47:40.422754Z"
        },
        "colab": {
          "base_uri": "https://localhost:8080/",
          "height": 564
        },
        "id": "9413111e40d8f304",
        "outputId": "64f4fb57-bb00-44d1-b7c6-a0117cbb0806"
      },
      "source": [
        "# Create the plot\n",
        "plt.figure(figsize=(10, 6))\n",
        "p2 = sns.regplot(x='SepalLengthCm', y='PetalLengthCm', data=df2, ci=95, scatter_kws={'s': 25, \"color\":\"black\"}, line_kws={\"color\":\"blue\"})\n",
        "\n",
        "# Add labels and title\n",
        "p2.set_xlabel('SepalLengthCm')\n",
        "p2.set_ylabel('PetalLengthCm')\n",
        "p2.set_title('Scatter plot with linear regression line')\n",
        "\n",
        "# Show the plot\n",
        "plt.show()"
      ],
      "outputs": [
        {
          "output_type": "display_data",
          "data": {
            "text/plain": [
              "<Figure size 1000x600 with 1 Axes>"
            ],
            "image/png": "[encoded data removed]"
          },
          "metadata": {}
        }
      ],
      "execution_count": null
    },
    {
      "metadata": {
        "ExecuteTime": {
          "end_time": "2024-08-26T18:47:46.148336Z",
          "start_time": "2024-08-26T18:47:42.733105Z"
        },
        "colab": {
          "base_uri": "https://localhost:8080/"
        },
        "id": "8ad90eaa423a6299",
        "outputId": "de19e67d-6867-4983-a28d-85f945298b4c"
      },
      "cell_type": "code",
      "source": [
        "import statsmodels.api as sm\n",
        "\n",
        "X = df2['SepalLengthCm']\n",
        "y = df2['PetalLengthCm']\n",
        "\n",
        "# Add a constant (intercept term) to the independent variable\n",
        "X = sm.add_constant(X)\n",
        "\n",
        "# Fit the linear regression model (Ordinary Least Squares)\n",
        "model = sm.OLS(y, X).fit()\n",
        "\n",
        "# Print the summary\n",
        "print(model.summary())\n"
      ],
      "id": "8ad90eaa423a6299",
      "outputs": [
        {
          "output_type": "stream",
          "name": "stdout",
          "text": [
            "                            OLS Regression Results                            \n",
            "==============================================================================\n",
            "Dep. Variable:          PetalLengthCm   R-squared:                       0.760\n",
            "Model:                            OLS   Adj. R-squared:                  0.758\n",
            "Method:                 Least Squares   F-statistic:                     468.6\n",
            "Date:                Tue, 27 Aug 2024   Prob (F-statistic):           1.04e-47\n",
            "Time:                        19:26:20   Log-Likelihood:                -190.49\n",
            "No. Observations:                 150   AIC:                             385.0\n",
            "Df Residuals:                     148   BIC:                             391.0\n",
            "Df Model:                           1                                         \n",
            "Covariance Type:            nonrobust                                         \n",
            "=================================================================================\n",
            "                    coef    std err          t      P>|t|      [0.025      0.975]\n",
            "---------------------------------------------------------------------------------\n",
            "const            -7.0954      0.506    -14.011      0.000      -8.096      -6.095\n",
            "SepalLengthCm     1.8575      0.086     21.646      0.000       1.688       2.027\n",
            "==============================================================================\n",
            "Omnibus:                        0.255   Durbin-Watson:                   1.204\n",
            "Prob(Omnibus):                  0.880   Jarque-Bera (JB):                0.384\n",
            "Skew:                          -0.084   Prob(JB):                        0.825\n",
            "Kurtosis:                       2.817   Cond. No.                         43.4\n",
            "==============================================================================\n",
            "\n",
            "Notes:\n",
            "[1] Standard Errors assume that the covariance matrix of the errors is correctly specified.\n"
          ]
        }
      ],
      "execution_count": null
    },
    {
      "metadata": {
        "id": "24065339a8eaaed4"
      },
      "cell_type": "markdown",
      "source": [
        "From this summary, we can pull our slope, intercept, and R-squared values. Our slope is the coefficient (`coef`) of `SepalLengthCm`, 1.8575; our intercept is the coefficient of `const`, -7.0954; and the R-squared value is 0.760.\n",
        "\n",
        "This summary shows that our slope estimate is significantly different from zero. This is important, this is a major point of simple linear regression. It means that there is a positive relationship between `SepalLengthCm` and `PetalLengthCm`. From our graphs, we suspect that it's a linear relationship.\n",
        "If you see the $R^2$ value, you'll may also be able to recognize that it's a strong relationship. We hope to get to that later in the course.\n",
        "\n",
        "The summary output also shows that the intercept is not significantly different from zero. We often don't care too much about the intercept, it just helps the model fit nicely. There are cases where the intercept will matter, however a lot of the time the value $x=0$ isn't within our inference space.\n",
        "\n",
        "Now, let's check if the errors from the model are normally distributed. One way to do this, as we saw before, is with a box plot."
      ],
      "id": "24065339a8eaaed4"
    },
    {
      "cell_type": "code",
      "id": "1f18c0fe7b53bca6",
      "metadata": {
        "ExecuteTime": {
          "end_time": "2024-08-26T18:47:46.733797Z",
          "start_time": "2024-08-26T18:47:46.425765Z"
        },
        "colab": {
          "base_uri": "https://localhost:8080/",
          "height": 430
        },
        "id": "1f18c0fe7b53bca6",
        "outputId": "4cc5a9e2-f411-4e32-f7e8-e69b7e672afa"
      },
      "source": [
        "error = model.resid\n",
        "\n",
        "plt.boxplot(error)\n",
        "plt.show()"
      ],
      "outputs": [
        {
          "output_type": "display_data",
          "data": {
            "text/plain": [
              "<Figure size 640x480 with 1 Axes>"
            ],
            "image/png": "[encoded data removed]"
          },
          "metadata": {}
        }
      ],
      "execution_count": null
    },
    {
      "metadata": {
        "id": "f98d295f4a367d34"
      },
      "cell_type": "markdown",
      "source": [
        "Another way to do this, however, is with a Q-Q plot. Q-Q, or quantile-quantile plots, are used to assess the normality of a distribution: the closer the data fits to the straight diagonal line, the closer it follows a normal distribution."
      ],
      "id": "f98d295f4a367d34"
    },
    {
      "metadata": {
        "ExecuteTime": {
          "end_time": "2024-08-26T18:47:47.600866Z",
          "start_time": "2024-08-26T18:47:46.802588Z"
        },
        "colab": {
          "base_uri": "https://localhost:8080/",
          "height": 564
        },
        "id": "757762d1d47b437a",
        "outputId": "f0f6d60d-5f3b-40e8-9d82-228e04f5e74f"
      },
      "cell_type": "code",
      "source": [
        "import matplotlib.pyplot as plt\n",
        "import scipy.stats as stats\n",
        "\n",
        "plt.figure(figsize=(8, 6))\n",
        "stats.probplot(error, dist=\"norm\", plot=plt)\n",
        "\n",
        "plt.xlabel('Theoretical Quantiles')\n",
        "plt.ylabel('Sample Quantiles')\n",
        "plt.title('Q-Q Plot of Residuals')\n",
        "\n",
        "plt.show()\n"
      ],
      "id": "757762d1d47b437a",
      "outputs": [
        {
          "output_type": "display_data",
          "data": {
            "text/plain": [
              "<Figure size 800x600 with 1 Axes>"
            ],
            "image/png": "[encoded data removed]"
          },
          "metadata": {}
        }
      ],
      "execution_count": null
    },
    {
      "metadata": {
        "id": "64b5ac46f3ce5c4a"
      },
      "cell_type": "markdown",
      "source": [
        "Well, the residuals certainly look normally distributed, but how can we tell for sure? The answer is to run the Shapiro-Wilk test, which is a statistical test for normality."
      ],
      "id": "64b5ac46f3ce5c4a"
    },
    {
      "metadata": {
        "ExecuteTime": {
          "end_time": "2024-08-26T18:47:47.683696Z",
          "start_time": "2024-08-26T18:47:47.667698Z"
        },
        "colab": {
          "base_uri": "https://localhost:8080/"
        },
        "id": "8002fffef535c458",
        "outputId": "8f3254c5-99de-4567-be05-ead478dfa86f"
      },
      "cell_type": "code",
      "source": [
        "shapiro_test = stats.shapiro(error)\n",
        "print(f\"Shapiro-Wilk Test Statistic: {shapiro_test.statistic}\")\n",
        "print(f\"p-value: {shapiro_test.pvalue}\")\n",
        "\n",
        "# If the p-value of the test are > 0.05, the residuals appear to be normally distributed."
      ],
      "id": "8002fffef535c458",
      "outputs": [
        {
          "output_type": "stream",
          "name": "stdout",
          "text": [
            "Shapiro-Wilk Test Statistic: 0.9944087306957963\n",
            "p-value: 0.8351222634393064\n"
          ]
        }
      ],
      "execution_count": null
    },
    {
      "metadata": {
        "id": "8e2edef00b8d223b"
      },
      "cell_type": "markdown",
      "source": [
        "Because we have a p-value of 0.835, which is higher than our alpha value of 0.05, we can say for sure that our residuals are normally distributed, and regression model meets our assumptions."
      ],
      "id": "8e2edef00b8d223b"
    },
    {
      "cell_type": "markdown",
      "id": "3df103e2f0ca1e1a",
      "metadata": {
        "id": "3df103e2f0ca1e1a"
      },
      "source": [
        "\n",
        "## Distribution Functions in Python\n",
        "\n",
        "The scipy package contains many distributions and functions for working with them. We will go over these in more detail in future lectures."
      ]
    },
    {
      "metadata": {
        "ExecuteTime": {
          "end_time": "2024-08-26T18:47:47.796950Z",
          "start_time": "2024-08-26T18:47:47.781494Z"
        },
        "colab": {
          "base_uri": "https://localhost:8080/"
        },
        "id": "85943aa511203bd8",
        "outputId": "3784b75b-acc9-4469-a1cc-8bed991cd1ed"
      },
      "cell_type": "code",
      "source": [
        "import scipy.stats as stats\n",
        "\n",
        "# Continuous distributions\n",
        "stats.expon # Exponential distribution\n",
        "stats.lognorm # Log-Normal distribution\n",
        "stats.weibull_min # Weibull distribution\n",
        "stats.gamma # Gamma distribution\n",
        "stats.beta # Beta distribution\n",
        "stats.cauchy # Cauchy distribution\n",
        "stats.triang # Triangular distribution\n",
        "\n",
        "# Discrete distributions\n",
        "stats.binom # Binomial distribution\n",
        "stats.hypergeom # Hyper-geometric distribution\n",
        "stats.geom # Geometric distribution\n",
        "stats.poisson # Poisson distribution\n",
        "stats.bernoulli # Bernoulli distribution\n",
        "stats.norm # Normal distribution"
      ],
      "id": "85943aa511203bd8",
      "outputs": [
        {
          "output_type": "execute_result",
          "data": {
            "text/plain": [
              "<scipy.stats._continuous_distns.norm_gen at 0x7884be1cb0d0>"
            ]
          },
          "metadata": {},
          "execution_count": 31
        }
      ],
      "execution_count": null
    },
    {
      "metadata": {
        "id": "c33410bf68550121"
      },
      "cell_type": "markdown",
      "source": [
        "We can use these functions to generate probability distributions. For example, let's generate a probability distribution for the number of heads you would get after flipping ten coins."
      ],
      "id": "c33410bf68550121"
    },
    {
      "metadata": {
        "ExecuteTime": {
          "end_time": "2024-08-26T18:47:47.937035Z",
          "start_time": "2024-08-26T18:47:47.919986Z"
        },
        "id": "28b5dac973b1633f"
      },
      "cell_type": "code",
      "source": [
        "coin = stats.binom(n = 10, p= 0.5)   # Binomial Distribution with p=0.5"
      ],
      "id": "28b5dac973b1633f",
      "outputs": [],
      "execution_count": null
    },
    {
      "metadata": {
        "id": "799c2d09e6f41fde"
      },
      "cell_type": "markdown",
      "source": [
        "#### Expected Value (EV)\n",
        "`.expect()`: the expected value, or mean, of the distribution."
      ],
      "id": "799c2d09e6f41fde"
    },
    {
      "metadata": {
        "ExecuteTime": {
          "end_time": "2024-08-26T18:47:48.053162Z",
          "start_time": "2024-08-26T18:47:48.032743Z"
        },
        "colab": {
          "base_uri": "https://localhost:8080/"
        },
        "id": "3826ddc2726c708c",
        "outputId": "a87653f8-716a-4e83-f3df-d972ebd9470a"
      },
      "cell_type": "code",
      "source": [
        "print(coin.expect()) # What is the number of heads you would expect from flipping ten coins?"
      ],
      "id": "3826ddc2726c708c",
      "outputs": [
        {
          "output_type": "stream",
          "name": "stdout",
          "text": [
            "4.999999999999999\n"
          ]
        }
      ],
      "execution_count": null
    },
    {
      "cell_type": "markdown",
      "id": "2d80579e1687cd06",
      "metadata": {
        "id": "2d80579e1687cd06"
      },
      "source": [
        "#### Cumulative Distribution Function (CDF)\n",
        "`.cdf()`: get the probability of all outcomes less than or equal to a given value x. When creating a density plot for the probability distribution, this is the total area of everything less than or equal to x.\n",
        "\n",
        "\n",
        "This is equivalent to using a *z-score* to find a probability. Be careful with discrete distributions."
      ]
    },
    {
      "cell_type": "code",
      "id": "e311e1c6ea842fdc",
      "metadata": {
        "ExecuteTime": {
          "end_time": "2024-08-26T18:47:48.296266Z",
          "start_time": "2024-08-26T18:47:48.268739Z"
        },
        "colab": {
          "base_uri": "https://localhost:8080/"
        },
        "id": "e311e1c6ea842fdc",
        "outputId": "af866244-b210-4148-a74a-34c93790d49b"
      },
      "source": [
        "print(coin.cdf(3)) # What percentage of results have 3 or fewer heads?\n",
        "print(1-coin.cdf(5)) # What percentage of results have 6 or more heads?\n",
        "print(coin.cdf(0.2)) # What percentage of results have 0.2 or fewer heads?"
      ],
      "outputs": [
        {
          "output_type": "stream",
          "name": "stdout",
          "text": [
            "0.171875\n",
            "0.376953125\n",
            "0.0009765625\n"
          ]
        }
      ],
      "execution_count": null
    },
    {
      "cell_type": "markdown",
      "id": "f2cf219519633976",
      "metadata": {
        "id": "f2cf219519633976"
      },
      "source": [
        "Even though you can receive a value for that last function, it doesn't actually make any sense.\n",
        "\n",
        "#### Probability Point Function (PPF)\n",
        "\n",
        "`.ppf()`: the exact point where the probability of everything to left is equal to y, also known as the percentile function."
      ]
    },
    {
      "cell_type": "code",
      "id": "f8747f232511332",
      "metadata": {
        "ExecuteTime": {
          "end_time": "2024-08-26T18:47:48.430816Z",
          "start_time": "2024-08-26T18:47:48.403816Z"
        },
        "colab": {
          "base_uri": "https://localhost:8080/"
        },
        "id": "f8747f232511332",
        "outputId": "3b7ec14b-b1ce-4826-aa00-f851ec1f4e1d"
      },
      "source": [
        "print(coin.ppf(0.2)) # What is the 20%-tile of heads?\n",
        "print(coin.ppf(0.5)) # What is the 50%-tile of heads?\n",
        "print(coin.ppf(0.99)) # What is the 99%-tile of heads?"
      ],
      "outputs": [
        {
          "output_type": "stream",
          "name": "stdout",
          "text": [
            "4.0\n",
            "5.0\n",
            "9.0\n"
          ]
        }
      ],
      "execution_count": null
    },
    {
      "metadata": {
        "id": "ec9b172d87e1bb8a"
      },
      "cell_type": "markdown",
      "source": [
        "#### Probability Mass Function (PMF)\n",
        "\n",
        "`.pmf()`: the percentage chance of *exactly* x successes occuring."
      ],
      "id": "ec9b172d87e1bb8a"
    },
    {
      "cell_type": "code",
      "id": "ddaedae04306e667",
      "metadata": {
        "ExecuteTime": {
          "end_time": "2024-08-26T18:47:48.593678Z",
          "start_time": "2024-08-26T18:47:48.572039Z"
        },
        "colab": {
          "base_uri": "https://localhost:8080/"
        },
        "id": "ddaedae04306e667",
        "outputId": "aaebdef7-c48b-4db8-a593-41a6154279f9"
      },
      "source": [
        "print(coin.pmf(5))  # What percentage of results have exactly five coins land on heads?\n",
        "print(coin.pmf(1))  # What is the chance that exactly one coin lands on heads?"
      ],
      "outputs": [
        {
          "output_type": "stream",
          "name": "stdout",
          "text": [
            "0.24609375000000003\n",
            "0.009765625000000002\n"
          ]
        }
      ],
      "execution_count": null
    }
  ],
  "metadata": {
    "kernelspec": {
      "display_name": "Python 3 (ipykernel)",
      "language": "python",
      "name": "python3"
    },
    "language_info": {
      "codemirror_mode": {
        "name": "ipython",
        "version": 3
      },
      "file_extension": ".py",
      "mimetype": "text/x-python",
      "name": "python",
      "nbconvert_exporter": "python",
      "pygments_lexer": "ipython3",
      "version": "3.12.5"
    },
    "colab": {
      "provenance": [],
      "include_colab_link": true
    }
  },
  "nbformat": 4,
  "nbformat_minor": 5
}